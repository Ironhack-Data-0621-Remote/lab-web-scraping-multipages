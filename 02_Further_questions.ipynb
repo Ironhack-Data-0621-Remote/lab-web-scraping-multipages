{
 "cells": [
  {
   "cell_type": "markdown",
   "id": "classified-start",
   "metadata": {
    "toc": true
   },
   "source": [
    "<h1>Table of Contents<span class=\"tocSkip\"></span></h1>\n",
    "<div class=\"toc\"><ul class=\"toc-item\"><li><span><a href=\"#Retrieve-an-arbitrary-Wikipedia-page-of-&quot;Python&quot;-and-create-a-list-of-links-on-that-page\" data-toc-modified-id=\"Retrieve-an-arbitrary-Wikipedia-page-of-&quot;Python&quot;-and-create-a-list-of-links-on-that-page-1\"><span class=\"toc-item-num\">1&nbsp;&nbsp;</span>Retrieve an arbitrary Wikipedia page of \"Python\" and create a list of links on that page</a></span></li><li><span><a href=\"#Find-the-number-of-titles-that-have-changed-in-the-United-States-Code-since-its-last-release-point\" data-toc-modified-id=\"Find-the-number-of-titles-that-have-changed-in-the-United-States-Code-since-its-last-release-point-2\"><span class=\"toc-item-num\">2&nbsp;&nbsp;</span>Find the number of titles that have changed in the United States Code since its last release point</a></span></li><li><span><a href=\"#Create-a-Python-list-with-the-top-ten-FBI's-Most-Wanted-names\" data-toc-modified-id=\"Create-a-Python-list-with-the-top-ten-FBI's-Most-Wanted-names-3\"><span class=\"toc-item-num\">3&nbsp;&nbsp;</span>Create a Python list with the top ten FBI's Most Wanted names</a></span></li><li><span><a href=\"#Display-the-20-latest-earthquakes-info-(date,-time,-latitude,-longitude-and-region-name)-by-the-EMSC-as-a-pandas-dataframe\" data-toc-modified-id=\"Display-the-20-latest-earthquakes-info-(date,-time,-latitude,-longitude-and-region-name)-by-the-EMSC-as-a-pandas-dataframe-4\"><span class=\"toc-item-num\">4&nbsp;&nbsp;</span>Display the 20 latest earthquakes info (date, time, latitude, longitude and region name) by the EMSC as a pandas dataframe</a></span></li><li><span><a href=\"#List-all-language-names-and-number-of-related-articles-in-the-order-they-appear-in-wikipedia.org\" data-toc-modified-id=\"List-all-language-names-and-number-of-related-articles-in-the-order-they-appear-in-wikipedia.org-5\"><span class=\"toc-item-num\">5&nbsp;&nbsp;</span>List all language names and number of related articles in the order they appear in <a href=\"wikipedia.org\" target=\"_blank\">wikipedia.org</a></a></span></li><li><span><a href=\"#A-list-with-the-different-kind-of-datasets-available-in-data.gov.uk\" data-toc-modified-id=\"A-list-with-the-different-kind-of-datasets-available-in-data.gov.uk-6\"><span class=\"toc-item-num\">6&nbsp;&nbsp;</span>A list with the different kind of datasets available in <a href=\"data.gov.uk\" target=\"_blank\">data.gov.uk</a></a></span></li><li><span><a href=\"#Display-the-top-10-languages-by-number-of-native-speakers-stored-in-a-pandas-dataframe\" data-toc-modified-id=\"Display-the-top-10-languages-by-number-of-native-speakers-stored-in-a-pandas-dataframe-7\"><span class=\"toc-item-num\">7&nbsp;&nbsp;</span>Display the top 10 languages by number of native speakers stored in a pandas dataframe</a></span></li></ul></div>"
   ]
  },
  {
   "cell_type": "markdown",
   "id": "cellular-poster",
   "metadata": {},
   "source": [
    "As you've seen, scraping the internet is a skill that can get you all sorts of information. Here are some little challenges to gain more experience in the field"
   ]
  },
  {
   "cell_type": "code",
   "execution_count": 1,
   "id": "0e75fc52",
   "metadata": {},
   "outputs": [],
   "source": [
    "# import libraries\n",
    "from bs4 import BeautifulSoup\n",
    "import requests\n",
    "import pandas as pd"
   ]
  },
  {
   "cell_type": "markdown",
   "id": "express-introduction",
   "metadata": {},
   "source": [
    "### Retrieve an arbitrary Wikipedia page of \"Python\" and create a list of links on that page"
   ]
  },
  {
   "cell_type": "code",
   "execution_count": 2,
   "id": "appreciated-bubble",
   "metadata": {},
   "outputs": [],
   "source": [
    "url ='https://en.wikipedia.org/wiki/Python'"
   ]
  },
  {
   "cell_type": "code",
   "execution_count": 6,
   "id": "b0df395a",
   "metadata": {},
   "outputs": [
    {
     "data": {
      "text/plain": [
       "200"
      ]
     },
     "execution_count": 6,
     "metadata": {},
     "output_type": "execute_result"
    }
   ],
   "source": [
    "wiki = requests.get(url)\n",
    "wiki.status_code"
   ]
  },
  {
   "cell_type": "code",
   "execution_count": 7,
   "id": "6fc61db3",
   "metadata": {},
   "outputs": [],
   "source": [
    "soup = BeautifulSoup(wiki.content, \"html.parser\")"
   ]
  },
  {
   "cell_type": "code",
   "execution_count": 10,
   "id": "ece8ba2e",
   "metadata": {},
   "outputs": [
    {
     "data": {
      "text/plain": [
       "[<a id=\"top\"></a>,\n",
       " <a class=\"mw-jump-link\" href=\"#mw-head\">Jump to navigation</a>,\n",
       " <a class=\"mw-jump-link\" href=\"#searchInput\">Jump to search</a>,\n",
       " <a class=\"extiw\" href=\"https://en.wiktionary.org/wiki/Python\" title=\"wiktionary:Python\">Python</a>,\n",
       " <a class=\"extiw\" href=\"https://en.wiktionary.org/wiki/python\" title=\"wiktionary:python\">python</a>,\n",
       " <a href=\"/wiki/Pythonidae\" title=\"Pythonidae\">Pythonidae</a>,\n",
       " <a href=\"/wiki/Python_(genus)\" title=\"Python (genus)\"><i>Python</i> (genus)</a>,\n",
       " <a href=\"#Computing\"><span class=\"tocnumber\">1</span> <span class=\"toctext\">Computing</span></a>,\n",
       " <a href=\"#People\"><span class=\"tocnumber\">2</span> <span class=\"toctext\">People</span></a>,\n",
       " <a href=\"#Roller_coasters\"><span class=\"tocnumber\">3</span> <span class=\"toctext\">Roller coasters</span></a>,\n",
       " <a href=\"#Vehicles\"><span class=\"tocnumber\">4</span> <span class=\"toctext\">Vehicles</span></a>,\n",
       " <a href=\"#Weaponry\"><span class=\"tocnumber\">5</span> <span class=\"toctext\">Weaponry</span></a>,\n",
       " <a href=\"#Other_uses\"><span class=\"tocnumber\">6</span> <span class=\"toctext\">Other uses</span></a>,\n",
       " <a href=\"#See_also\"><span class=\"tocnumber\">7</span> <span class=\"toctext\">See also</span></a>,\n",
       " <a href=\"/w/index.php?title=Python&amp;action=edit&amp;section=1\" title=\"Edit section: Computing\">edit</a>,\n",
       " <a href=\"/wiki/Python_(programming_language)\" title=\"Python (programming language)\">Python (programming language)</a>,\n",
       " <a href=\"/wiki/CMU_Common_Lisp\" title=\"CMU Common Lisp\">CMU Common Lisp</a>,\n",
       " <a href=\"/wiki/PERQ#PERQ_3\" title=\"PERQ\">PERQ 3</a>,\n",
       " <a href=\"/w/index.php?title=Python&amp;action=edit&amp;section=2\" title=\"Edit section: People\">edit</a>,\n",
       " <a href=\"/wiki/Python_of_Aenus\" title=\"Python of Aenus\">Python of Aenus</a>,\n",
       " <a href=\"/wiki/Python_(painter)\" title=\"Python (painter)\">Python (painter)</a>,\n",
       " <a href=\"/wiki/Python_of_Byzantium\" title=\"Python of Byzantium\">Python of Byzantium</a>,\n",
       " <a href=\"/wiki/Python_of_Catana\" title=\"Python of Catana\">Python of Catana</a>,\n",
       " <a href=\"/wiki/Python_Anghelo\" title=\"Python Anghelo\">Python Anghelo</a>,\n",
       " <a href=\"/w/index.php?title=Python&amp;action=edit&amp;section=3\" title=\"Edit section: Roller coasters\">edit</a>,\n",
       " <a href=\"/wiki/Python_(Efteling)\" title=\"Python (Efteling)\">Python (Efteling)</a>,\n",
       " <a href=\"/wiki/Python_(Busch_Gardens_Tampa_Bay)\" title=\"Python (Busch Gardens Tampa Bay)\">Python (Busch Gardens Tampa Bay)</a>,\n",
       " <a href=\"/wiki/Python_(Coney_Island,_Cincinnati,_Ohio)\" title=\"Python (Coney Island, Cincinnati, Ohio)\">Python (Coney Island, Cincinnati, Ohio)</a>,\n",
       " <a href=\"/w/index.php?title=Python&amp;action=edit&amp;section=4\" title=\"Edit section: Vehicles\">edit</a>,\n",
       " <a href=\"/wiki/Python_(automobile_maker)\" title=\"Python (automobile maker)\">Python (automobile maker)</a>,\n",
       " <a href=\"/wiki/Python_(Ford_prototype)\" title=\"Python (Ford prototype)\">Python (Ford prototype)</a>,\n",
       " <a href=\"/w/index.php?title=Python&amp;action=edit&amp;section=5\" title=\"Edit section: Weaponry\">edit</a>,\n",
       " <a href=\"/wiki/Python_(missile)\" title=\"Python (missile)\">Python (missile)</a>,\n",
       " <a href=\"/wiki/Python_(nuclear_primary)\" title=\"Python (nuclear primary)\">Python (nuclear primary)</a>,\n",
       " <a href=\"/wiki/Colt_Python\" title=\"Colt Python\">Colt Python</a>,\n",
       " <a href=\"/w/index.php?title=Python&amp;action=edit&amp;section=6\" title=\"Edit section: Other uses\">edit</a>,\n",
       " <a href=\"/wiki/PYTHON\" title=\"PYTHON\">PYTHON</a>,\n",
       " <a href=\"/wiki/Python_(film)\" title=\"Python (film)\"><i>Python</i> (film)</a>,\n",
       " <a href=\"/wiki/Python_(mythology)\" title=\"Python (mythology)\">Python (mythology)</a>,\n",
       " <a href=\"/wiki/Monty_Python\" title=\"Monty Python\">Monty Python</a>,\n",
       " <a href=\"/wiki/Python_(Monty)_Pictures\" title=\"Python (Monty) Pictures\">Python (Monty) Pictures</a>,\n",
       " <a href=\"/w/index.php?title=Python&amp;action=edit&amp;section=7\" title=\"Edit section: See also\">edit</a>,\n",
       " <a href=\"/wiki/Cython\" title=\"Cython\">Cython</a>,\n",
       " <a href=\"/wiki/Pyton\" title=\"Pyton\">Pyton</a>,\n",
       " <a href=\"/wiki/Pithon\" title=\"Pithon\">Pithon</a>,\n",
       " <a class=\"image\" href=\"/wiki/File:Disambig_gray.svg\"><img alt=\"Disambiguation icon\" data-file-height=\"168\" data-file-width=\"220\" decoding=\"async\" height=\"23\" src=\"//upload.wikimedia.org/wikipedia/en/thumb/5/5f/Disambig_gray.svg/30px-Disambig_gray.svg.png\" srcset=\"//upload.wikimedia.org/wikipedia/en/thumb/5/5f/Disambig_gray.svg/45px-Disambig_gray.svg.png 1.5x, //upload.wikimedia.org/wikipedia/en/thumb/5/5f/Disambig_gray.svg/60px-Disambig_gray.svg.png 2x\" width=\"30\"/></a>,\n",
       " <a href=\"/wiki/Help:Disambiguation\" title=\"Help:Disambiguation\">disambiguation</a>,\n",
       " <a class=\"external text\" href=\"https://en.wikipedia.org/w/index.php?title=Special:WhatLinksHere/Python&amp;namespace=0\">internal link</a>,\n",
       " <a dir=\"ltr\" href=\"https://en.wikipedia.org/w/index.php?title=Python&amp;oldid=1048703433\">https://en.wikipedia.org/w/index.php?title=Python&amp;oldid=1048703433</a>,\n",
       " <a href=\"/wiki/Help:Category\" title=\"Help:Category\">Categories</a>,\n",
       " <a href=\"/wiki/Category:Disambiguation_pages\" title=\"Category:Disambiguation pages\">Disambiguation pages</a>,\n",
       " <a href=\"/wiki/Category:Human_name_disambiguation_pages\" title=\"Category:Human name disambiguation pages\">Human name disambiguation pages</a>,\n",
       " <a href=\"/wiki/Category:Disambiguation_pages_with_given-name-holder_lists\" title=\"Category:Disambiguation pages with given-name-holder lists\">Disambiguation pages with given-name-holder lists</a>,\n",
       " <a href=\"/wiki/Category:Disambiguation_pages_with_short_descriptions\" title=\"Category:Disambiguation pages with short descriptions\">Disambiguation pages with short descriptions</a>,\n",
       " <a href=\"/wiki/Category:Short_description_is_different_from_Wikidata\" title=\"Category:Short description is different from Wikidata\">Short description is different from Wikidata</a>,\n",
       " <a href=\"/wiki/Category:All_article_disambiguation_pages\" title=\"Category:All article disambiguation pages\">All article disambiguation pages</a>,\n",
       " <a href=\"/wiki/Category:All_disambiguation_pages\" title=\"Category:All disambiguation pages\">All disambiguation pages</a>,\n",
       " <a href=\"/wiki/Category:Animal_common_name_disambiguation_pages\" title=\"Category:Animal common name disambiguation pages\">Animal common name disambiguation pages</a>,\n",
       " <a accesskey=\"n\" href=\"/wiki/Special:MyTalk\" title=\"Discussion about edits from this IP address [n]\"><span>Talk</span></a>,\n",
       " <a accesskey=\"y\" href=\"/wiki/Special:MyContributions\" title=\"A list of edits made from this IP address [y]\"><span>Contributions</span></a>,\n",
       " <a href=\"/w/index.php?title=Special:CreateAccount&amp;returnto=Python\" title=\"You are encouraged to create an account and log in; however, it is not mandatory\"><span>Create account</span></a>,\n",
       " <a accesskey=\"o\" href=\"/w/index.php?title=Special:UserLogin&amp;returnto=Python\" title=\"You're encouraged to log in; however, it's not mandatory. [o]\"><span>Log in</span></a>,\n",
       " <a accesskey=\"c\" href=\"/wiki/Python\" title=\"View the content page [c]\"><span>Article</span></a>,\n",
       " <a accesskey=\"t\" href=\"/wiki/Talk:Python\" rel=\"discussion\" title=\"Discuss improvements to the content page [t]\"><span>Talk</span></a>,\n",
       " <a href=\"/wiki/Python\"><span>Read</span></a>,\n",
       " <a accesskey=\"e\" href=\"/w/index.php?title=Python&amp;action=edit\" title=\"Edit this page [e]\"><span>Edit</span></a>,\n",
       " <a accesskey=\"h\" href=\"/w/index.php?title=Python&amp;action=history\" title=\"Past revisions of this page [h]\"><span>View history</span></a>,\n",
       " <a class=\"mw-wiki-logo\" href=\"/wiki/Main_Page\" title=\"Visit the main page\"></a>,\n",
       " <a accesskey=\"z\" href=\"/wiki/Main_Page\" title=\"Visit the main page [z]\"><span>Main page</span></a>,\n",
       " <a href=\"/wiki/Wikipedia:Contents\" title=\"Guides to browsing Wikipedia\"><span>Contents</span></a>,\n",
       " <a href=\"/wiki/Portal:Current_events\" title=\"Articles related to current events\"><span>Current events</span></a>,\n",
       " <a accesskey=\"x\" href=\"/wiki/Special:Random\" title=\"Visit a randomly selected article [x]\"><span>Random article</span></a>,\n",
       " <a href=\"/wiki/Wikipedia:About\" title=\"Learn about Wikipedia and how it works\"><span>About Wikipedia</span></a>,\n",
       " <a href=\"//en.wikipedia.org/wiki/Wikipedia:Contact_us\" title=\"How to contact Wikipedia\"><span>Contact us</span></a>,\n",
       " <a href=\"https://donate.wikimedia.org/wiki/Special:FundraiserRedirector?utm_source=donate&amp;utm_medium=sidebar&amp;utm_campaign=C13_en.wikipedia.org&amp;uselang=en\" title=\"Support us by donating to the Wikimedia Foundation\"><span>Donate</span></a>,\n",
       " <a href=\"/wiki/Help:Contents\" title=\"Guidance on how to use and edit Wikipedia\"><span>Help</span></a>,\n",
       " <a href=\"/wiki/Help:Introduction\" title=\"Learn how to edit Wikipedia\"><span>Learn to edit</span></a>,\n",
       " <a href=\"/wiki/Wikipedia:Community_portal\" title=\"The hub for editors\"><span>Community portal</span></a>,\n",
       " <a accesskey=\"r\" href=\"/wiki/Special:RecentChanges\" title=\"A list of recent changes to Wikipedia [r]\"><span>Recent changes</span></a>,\n",
       " <a href=\"/wiki/Wikipedia:File_Upload_Wizard\" title=\"Add images or other media for use on Wikipedia\"><span>Upload file</span></a>,\n",
       " <a accesskey=\"j\" href=\"/wiki/Special:WhatLinksHere/Python\" title=\"List of all English Wikipedia pages containing links to this page [j]\"><span>What links here</span></a>,\n",
       " <a accesskey=\"k\" href=\"/wiki/Special:RecentChangesLinked/Python\" rel=\"nofollow\" title=\"Recent changes in pages linked from this page [k]\"><span>Related changes</span></a>,\n",
       " <a accesskey=\"u\" href=\"/wiki/Wikipedia:File_Upload_Wizard\" title=\"Upload files [u]\"><span>Upload file</span></a>,\n",
       " <a accesskey=\"q\" href=\"/wiki/Special:SpecialPages\" title=\"A list of all special pages [q]\"><span>Special pages</span></a>,\n",
       " <a href=\"/w/index.php?title=Python&amp;oldid=1048703433\" title=\"Permanent link to this revision of this page\"><span>Permanent link</span></a>,\n",
       " <a href=\"/w/index.php?title=Python&amp;action=info\" title=\"More information about this page\"><span>Page information</span></a>,\n",
       " <a href=\"/w/index.php?title=Special:CiteThisPage&amp;page=Python&amp;id=1048703433&amp;wpFormIdentifier=titleform\" title=\"Information on how to cite this page\"><span>Cite this page</span></a>,\n",
       " <a accesskey=\"g\" href=\"https://www.wikidata.org/wiki/Special:EntityPage/Q747452\" title=\"Structured data on this page hosted by Wikidata [g]\"><span>Wikidata item</span></a>,\n",
       " <a href=\"/w/index.php?title=Special:DownloadAsPdf&amp;page=Python&amp;action=show-download-screen\" title=\"Download this page as a PDF file\"><span>Download as PDF</span></a>,\n",
       " <a accesskey=\"p\" href=\"/w/index.php?title=Python&amp;printable=yes\" title=\"Printable version of this page [p]\"><span>Printable version</span></a>,\n",
       " <a href=\"https://commons.wikimedia.org/wiki/Category:Python\" hreflang=\"en\"><span>Wikimedia Commons</span></a>,\n",
       " <a class=\"interlanguage-link-target\" href=\"https://af.wikipedia.org/wiki/Python\" hreflang=\"af\" lang=\"af\" title=\"Python – Afrikaans\"><span>Afrikaans</span></a>,\n",
       " <a class=\"interlanguage-link-target\" href=\"https://als.wikipedia.org/wiki/Python\" hreflang=\"gsw\" lang=\"gsw\" title=\"Python – Alemannisch\"><span>Alemannisch</span></a>,\n",
       " <a class=\"interlanguage-link-target\" href=\"https://ar.wikipedia.org/wiki/%D8%A8%D8%A7%D9%8A%D8%AB%D9%88%D9%86_(%D8%AA%D9%88%D8%B6%D9%8A%D8%AD)\" hreflang=\"ar\" lang=\"ar\" title=\"بايثون (توضيح) – Arabic\"><span>العربية</span></a>,\n",
       " <a class=\"interlanguage-link-target\" href=\"https://az.wikipedia.org/wiki/Python\" hreflang=\"az\" lang=\"az\" title=\"Python – Azerbaijani\"><span>Azərbaycanca</span></a>,\n",
       " <a class=\"interlanguage-link-target\" href=\"https://bn.wikipedia.org/wiki/%E0%A6%AA%E0%A6%BE%E0%A6%87%E0%A6%A5%E0%A6%A8_(%E0%A6%A6%E0%A7%8D%E0%A6%AC%E0%A7%8D%E0%A6%AF%E0%A6%B0%E0%A7%8D%E0%A6%A5%E0%A6%A4%E0%A6%BE_%E0%A6%A8%E0%A6%BF%E0%A6%B0%E0%A6%B8%E0%A6%A8)\" hreflang=\"bn\" lang=\"bn\" title=\"পাইথন (দ্ব্যর্থতা নিরসন) – Bangla\"><span>বাংলা</span></a>,\n",
       " <a class=\"interlanguage-link-target\" href=\"https://be.wikipedia.org/wiki/Python\" hreflang=\"be\" lang=\"be\" title=\"Python – Belarusian\"><span>Беларуская</span></a>,\n",
       " <a class=\"interlanguage-link-target\" href=\"https://bg.wikipedia.org/wiki/%D0%9F%D0%B8%D1%82%D0%BE%D0%BD_(%D0%BF%D0%BE%D1%8F%D1%81%D0%BD%D0%B5%D0%BD%D0%B8%D0%B5)\" hreflang=\"bg\" lang=\"bg\" title=\"Питон (пояснение) – Bulgarian\"><span>Български</span></a>,\n",
       " <a class=\"interlanguage-link-target\" href=\"https://cs.wikipedia.org/wiki/Python_(rozcestn%C3%ADk)\" hreflang=\"cs\" lang=\"cs\" title=\"Python (rozcestník) – Czech\"><span>Čeština</span></a>,\n",
       " <a class=\"interlanguage-link-target\" href=\"https://da.wikipedia.org/wiki/Python\" hreflang=\"da\" lang=\"da\" title=\"Python – Danish\"><span>Dansk</span></a>,\n",
       " <a class=\"interlanguage-link-target\" href=\"https://de.wikipedia.org/wiki/Python\" hreflang=\"de\" lang=\"de\" title=\"Python – German\"><span>Deutsch</span></a>,\n",
       " <a class=\"interlanguage-link-target\" href=\"https://eo.wikipedia.org/wiki/Pitono_(apartigilo)\" hreflang=\"eo\" lang=\"eo\" title=\"Pitono (apartigilo) – Esperanto\"><span>Esperanto</span></a>,\n",
       " <a class=\"interlanguage-link-target\" href=\"https://eu.wikipedia.org/wiki/Python_(argipena)\" hreflang=\"eu\" lang=\"eu\" title=\"Python (argipena) – Basque\"><span>Euskara</span></a>,\n",
       " <a class=\"interlanguage-link-target\" href=\"https://fa.wikipedia.org/wiki/%D9%BE%D8%A7%DB%8C%D8%AA%D9%88%D9%86\" hreflang=\"fa\" lang=\"fa\" title=\"پایتون – Persian\"><span>فارسی</span></a>,\n",
       " <a class=\"interlanguage-link-target\" href=\"https://fr.wikipedia.org/wiki/Python\" hreflang=\"fr\" lang=\"fr\" title=\"Python – French\"><span>Français</span></a>,\n",
       " <a class=\"interlanguage-link-target\" href=\"https://ko.wikipedia.org/wiki/%ED%8C%8C%EC%9D%B4%EC%84%A0\" hreflang=\"ko\" lang=\"ko\" title=\"파이선 – Korean\"><span>한국어</span></a>,\n",
       " <a class=\"interlanguage-link-target\" href=\"https://hr.wikipedia.org/wiki/Python_(razdvojba)\" hreflang=\"hr\" lang=\"hr\" title=\"Python (razdvojba) – Croatian\"><span>Hrvatski</span></a>,\n",
       " <a class=\"interlanguage-link-target\" href=\"https://io.wikipedia.org/wiki/Pitono\" hreflang=\"io\" lang=\"io\" title=\"Pitono – Ido\"><span>Ido</span></a>,\n",
       " <a class=\"interlanguage-link-target\" href=\"https://id.wikipedia.org/wiki/Python\" hreflang=\"id\" lang=\"id\" title=\"Python – Indonesian\"><span>Bahasa Indonesia</span></a>,\n",
       " <a class=\"interlanguage-link-target\" href=\"https://ia.wikipedia.org/wiki/Python_(disambiguation)\" hreflang=\"ia\" lang=\"ia\" title=\"Python (disambiguation) – Interlingua\"><span>Interlingua</span></a>,\n",
       " <a class=\"interlanguage-link-target\" href=\"https://is.wikipedia.org/wiki/Python_(a%C3%B0greining)\" hreflang=\"is\" lang=\"is\" title=\"Python (aðgreining) – Icelandic\"><span>Íslenska</span></a>,\n",
       " <a class=\"interlanguage-link-target\" href=\"https://it.wikipedia.org/wiki/Python_(disambigua)\" hreflang=\"it\" lang=\"it\" title=\"Python (disambigua) – Italian\"><span>Italiano</span></a>,\n",
       " <a class=\"interlanguage-link-target\" href=\"https://he.wikipedia.org/wiki/%D7%A4%D7%99%D7%AA%D7%95%D7%9F\" hreflang=\"he\" lang=\"he\" title=\"פיתון – Hebrew\"><span>עברית</span></a>,\n",
       " <a class=\"interlanguage-link-target\" href=\"https://ka.wikipedia.org/wiki/%E1%83%9E%E1%83%98%E1%83%97%E1%83%9D%E1%83%9C%E1%83%98_(%E1%83%9B%E1%83%A0%E1%83%90%E1%83%95%E1%83%90%E1%83%9A%E1%83%9B%E1%83%9C%E1%83%98%E1%83%A8%E1%83%95%E1%83%9C%E1%83%94%E1%83%9A%E1%83%9D%E1%83%95%E1%83%90%E1%83%9C%E1%83%98)\" hreflang=\"ka\" lang=\"ka\" title=\"პითონი (მრავალმნიშვნელოვანი) – Georgian\"><span>ქართული</span></a>,\n",
       " <a class=\"interlanguage-link-target\" href=\"https://kg.wikipedia.org/wiki/Mboma_(nyoka)\" hreflang=\"kg\" lang=\"kg\" title=\"Mboma (nyoka) – Kongo\"><span>Kongo</span></a>,\n",
       " <a class=\"interlanguage-link-target\" href=\"https://la.wikipedia.org/wiki/Python_(discretiva)\" hreflang=\"la\" lang=\"la\" title=\"Python (discretiva) – Latin\"><span>Latina</span></a>,\n",
       " <a class=\"interlanguage-link-target\" href=\"https://lb.wikipedia.org/wiki/Python\" hreflang=\"lb\" lang=\"lb\" title=\"Python – Luxembourgish\"><span>Lëtzebuergesch</span></a>,\n",
       " <a class=\"interlanguage-link-target\" href=\"https://hu.wikipedia.org/wiki/Python_(egy%C3%A9rtelm%C5%B1s%C3%ADt%C5%91_lap)\" hreflang=\"hu\" lang=\"hu\" title=\"Python (egyértelműsítő lap) – Hungarian\"><span>Magyar</span></a>,\n",
       " <a class=\"interlanguage-link-target\" href=\"https://mr.wikipedia.org/wiki/%E0%A4%AA%E0%A4%BE%E0%A4%AF%E0%A4%A5%E0%A5%89%E0%A4%A8_(%E0%A4%86%E0%A4%9C%E0%A5%8D%E0%A4%9E%E0%A4%BE%E0%A4%B5%E0%A4%B2%E0%A5%80_%E0%A4%AD%E0%A4%BE%E0%A4%B7%E0%A4%BE)\" hreflang=\"mr\" lang=\"mr\" title=\"पायथॉन (आज्ञावली भाषा) – Marathi\"><span>मराठी</span></a>,\n",
       " <a class=\"interlanguage-link-target\" href=\"https://nl.wikipedia.org/wiki/Python\" hreflang=\"nl\" lang=\"nl\" title=\"Python – Dutch\"><span>Nederlands</span></a>,\n",
       " <a class=\"interlanguage-link-target\" href=\"https://ja.wikipedia.org/wiki/%E3%83%91%E3%82%A4%E3%82%BD%E3%83%B3\" hreflang=\"ja\" lang=\"ja\" title=\"パイソン – Japanese\"><span>日本語</span></a>,\n",
       " <a class=\"interlanguage-link-target\" href=\"https://no.wikipedia.org/wiki/Pyton\" hreflang=\"nb\" lang=\"nb\" title=\"Pyton – Norwegian Bokmål\"><span>Norsk bokmål</span></a>,\n",
       " <a class=\"interlanguage-link-target\" href=\"https://pl.wikipedia.org/wiki/Pyton\" hreflang=\"pl\" lang=\"pl\" title=\"Pyton – Polish\"><span>Polski</span></a>,\n",
       " <a class=\"interlanguage-link-target\" href=\"https://pt.wikipedia.org/wiki/Python_(desambigua%C3%A7%C3%A3o)\" hreflang=\"pt\" lang=\"pt\" title=\"Python (desambiguação) – Portuguese\"><span>Português</span></a>,\n",
       " <a class=\"interlanguage-link-target\" href=\"https://ru.wikipedia.org/wiki/Python_(%D0%B7%D0%BD%D0%B0%D1%87%D0%B5%D0%BD%D0%B8%D1%8F)\" hreflang=\"ru\" lang=\"ru\" title=\"Python (значения) – Russian\"><span>Русский</span></a>,\n",
       " <a class=\"interlanguage-link-target\" href=\"https://sk.wikipedia.org/wiki/Python\" hreflang=\"sk\" lang=\"sk\" title=\"Python – Slovak\"><span>Slovenčina</span></a>,\n",
       " <a class=\"interlanguage-link-target\" href=\"https://sr.wikipedia.org/wiki/%D0%9F%D0%B8%D1%82%D0%BE%D0%BD_(%D0%B2%D0%B8%D1%88%D0%B5%D0%B7%D0%BD%D0%B0%D1%87%D0%BD%D0%B0_%D0%BE%D0%B4%D1%80%D0%B5%D0%B4%D0%BD%D0%B8%D1%86%D0%B0)\" hreflang=\"sr\" lang=\"sr\" title=\"Питон (вишезначна одредница) – Serbian\"><span>Српски / srpski</span></a>,\n",
       " <a class=\"interlanguage-link-target\" href=\"https://sh.wikipedia.org/wiki/Python\" hreflang=\"sh\" lang=\"sh\" title=\"Python – Serbo-Croatian\"><span>Srpskohrvatski / српскохрватски</span></a>,\n",
       " <a class=\"interlanguage-link-target\" href=\"https://fi.wikipedia.org/wiki/Python\" hreflang=\"fi\" lang=\"fi\" title=\"Python – Finnish\"><span>Suomi</span></a>,\n",
       " <a class=\"interlanguage-link-target\" href=\"https://sv.wikipedia.org/wiki/Pyton\" hreflang=\"sv\" lang=\"sv\" title=\"Pyton – Swedish\"><span>Svenska</span></a>,\n",
       " <a class=\"interlanguage-link-target\" href=\"https://th.wikipedia.org/wiki/%E0%B9%84%E0%B8%9E%E0%B8%97%E0%B8%AD%E0%B8%99\" hreflang=\"th\" lang=\"th\" title=\"ไพทอน – Thai\"><span>ไทย</span></a>,\n",
       " <a class=\"interlanguage-link-target\" href=\"https://tr.wikipedia.org/wiki/Python\" hreflang=\"tr\" lang=\"tr\" title=\"Python – Turkish\"><span>Türkçe</span></a>,\n",
       " <a class=\"interlanguage-link-target\" href=\"https://uk.wikipedia.org/wiki/%D0%9F%D1%96%D1%84%D0%BE%D0%BD\" hreflang=\"uk\" lang=\"uk\" title=\"Піфон – Ukrainian\"><span>Українська</span></a>,\n",
       " <a class=\"interlanguage-link-target\" href=\"https://ur.wikipedia.org/wiki/%D9%BE%D8%A7%D8%A6%DB%8C%D8%AA%DA%BE%D9%88%D9%86\" hreflang=\"ur\" lang=\"ur\" title=\"پائیتھون – Urdu\"><span>اردو</span></a>,\n",
       " <a class=\"interlanguage-link-target\" href=\"https://vi.wikipedia.org/wiki/Python\" hreflang=\"vi\" lang=\"vi\" title=\"Python – Vietnamese\"><span>Tiếng Việt</span></a>,\n",
       " <a class=\"interlanguage-link-target\" href=\"https://zh.wikipedia.org/wiki/Python_(%E6%B6%88%E6%AD%A7%E4%B9%89)\" hreflang=\"zh\" lang=\"zh\" title=\"Python (消歧义) – Chinese\"><span>中文</span></a>,\n",
       " <a class=\"wbc-editpage\" href=\"https://www.wikidata.org/wiki/Special:EntityPage/Q747452#sitelinks-wikipedia\" title=\"Edit interlanguage links\">Edit links</a>,\n",
       " <a href=\"//en.wikipedia.org/wiki/Wikipedia:Text_of_Creative_Commons_Attribution-ShareAlike_3.0_Unported_License\" rel=\"license\">Creative Commons Attribution-ShareAlike License</a>,\n",
       " <a href=\"//creativecommons.org/licenses/by-sa/3.0/\" rel=\"license\" style=\"display:none;\"></a>,\n",
       " <a href=\"//foundation.wikimedia.org/wiki/Terms_of_Use\">Terms of Use</a>,\n",
       " <a href=\"//foundation.wikimedia.org/wiki/Privacy_policy\">Privacy Policy</a>,\n",
       " <a href=\"//www.wikimediafoundation.org/\">Wikimedia Foundation, Inc.</a>,\n",
       " <a class=\"extiw\" href=\"https://foundation.wikimedia.org/wiki/Privacy_policy\" title=\"wmf:Privacy policy\">Privacy policy</a>,\n",
       " <a href=\"/wiki/Wikipedia:About\" title=\"Wikipedia:About\">About Wikipedia</a>,\n",
       " <a href=\"/wiki/Wikipedia:General_disclaimer\" title=\"Wikipedia:General disclaimer\">Disclaimers</a>,\n",
       " <a href=\"//en.wikipedia.org/wiki/Wikipedia:Contact_us\">Contact Wikipedia</a>,\n",
       " <a class=\"noprint stopMobileRedirectToggle\" href=\"//en.m.wikipedia.org/w/index.php?title=Python&amp;mobileaction=toggle_view_mobile\">Mobile view</a>,\n",
       " <a href=\"https://www.mediawiki.org/wiki/Special:MyLanguage/How_to_contribute\">Developers</a>,\n",
       " <a href=\"https://stats.wikimedia.org/#/en.wikipedia.org\">Statistics</a>,\n",
       " <a href=\"https://foundation.wikimedia.org/wiki/Cookie_statement\">Cookie statement</a>,\n",
       " <a href=\"https://wikimediafoundation.org/\"><img alt=\"Wikimedia Foundation\" height=\"31\" loading=\"lazy\" src=\"/static/images/footer/wikimedia-button.png\" srcset=\"/static/images/footer/wikimedia-button-1.5x.png 1.5x, /static/images/footer/wikimedia-button-2x.png 2x\" width=\"88\"/></a>,\n",
       " <a href=\"https://www.mediawiki.org/\"><img alt=\"Powered by MediaWiki\" height=\"31\" loading=\"lazy\" src=\"/static/images/footer/poweredby_mediawiki_88x31.png\" srcset=\"/static/images/footer/poweredby_mediawiki_132x47.png 1.5x, /static/images/footer/poweredby_mediawiki_176x62.png 2x\" width=\"88\"/></a>]"
      ]
     },
     "execution_count": 10,
     "metadata": {},
     "output_type": "execute_result"
    }
   ],
   "source": [
    "wiki_links = soup.find_all(\"a\")\n",
    "wiki_links"
   ]
  },
  {
   "cell_type": "code",
   "execution_count": 16,
   "id": "9f9cb890",
   "metadata": {},
   "outputs": [],
   "source": [
    "link_title = []\n",
    "link_url = []\n",
    "\n",
    "for i in soup.find_all('a', href = True):\n",
    "    link_title.append(i.text)\n",
    "    link_url.append(i['href'])\n"
   ]
  },
  {
   "cell_type": "code",
   "execution_count": 17,
   "id": "00d38d3b",
   "metadata": {},
   "outputs": [
    {
     "data": {
      "text/plain": [
       "['Jump to navigation',\n",
       " 'Jump to search',\n",
       " 'Python',\n",
       " 'python',\n",
       " 'Pythonidae',\n",
       " 'Python (genus)',\n",
       " '1 Computing',\n",
       " '2 People',\n",
       " '3 Roller coasters',\n",
       " '4 Vehicles',\n",
       " '5 Weaponry',\n",
       " '6 Other uses',\n",
       " '7 See also',\n",
       " 'edit',\n",
       " 'Python (programming language)',\n",
       " 'CMU Common Lisp',\n",
       " 'PERQ 3',\n",
       " 'edit',\n",
       " 'Python of Aenus',\n",
       " 'Python (painter)',\n",
       " 'Python of Byzantium',\n",
       " 'Python of Catana',\n",
       " 'Python Anghelo',\n",
       " 'edit',\n",
       " 'Python (Efteling)',\n",
       " 'Python (Busch Gardens Tampa Bay)',\n",
       " 'Python (Coney Island, Cincinnati, Ohio)',\n",
       " 'edit',\n",
       " 'Python (automobile maker)',\n",
       " 'Python (Ford prototype)',\n",
       " 'edit',\n",
       " 'Python (missile)',\n",
       " 'Python (nuclear primary)',\n",
       " 'Colt Python',\n",
       " 'edit',\n",
       " 'PYTHON',\n",
       " 'Python (film)',\n",
       " 'Python (mythology)',\n",
       " 'Monty Python',\n",
       " 'Python (Monty) Pictures',\n",
       " 'edit',\n",
       " 'Cython',\n",
       " 'Pyton',\n",
       " 'Pithon',\n",
       " '',\n",
       " 'disambiguation',\n",
       " 'internal link',\n",
       " 'https://en.wikipedia.org/w/index.php?title=Python&oldid=1048703433',\n",
       " 'Categories',\n",
       " 'Disambiguation pages',\n",
       " 'Human name disambiguation pages',\n",
       " 'Disambiguation pages with given-name-holder lists',\n",
       " 'Disambiguation pages with short descriptions',\n",
       " 'Short description is different from Wikidata',\n",
       " 'All article disambiguation pages',\n",
       " 'All disambiguation pages',\n",
       " 'Animal common name disambiguation pages',\n",
       " 'Talk',\n",
       " 'Contributions',\n",
       " 'Create account',\n",
       " 'Log in',\n",
       " 'Article',\n",
       " 'Talk',\n",
       " 'Read',\n",
       " 'Edit',\n",
       " 'View history',\n",
       " '',\n",
       " 'Main page',\n",
       " 'Contents',\n",
       " 'Current events',\n",
       " 'Random article',\n",
       " 'About Wikipedia',\n",
       " 'Contact us',\n",
       " 'Donate',\n",
       " 'Help',\n",
       " 'Learn to edit',\n",
       " 'Community portal',\n",
       " 'Recent changes',\n",
       " 'Upload file',\n",
       " 'What links here',\n",
       " 'Related changes',\n",
       " 'Upload file',\n",
       " 'Special pages',\n",
       " 'Permanent link',\n",
       " 'Page information',\n",
       " 'Cite this page',\n",
       " 'Wikidata item',\n",
       " 'Download as PDF',\n",
       " 'Printable version',\n",
       " 'Wikimedia Commons',\n",
       " 'Afrikaans',\n",
       " 'Alemannisch',\n",
       " 'العربية',\n",
       " 'Azərbaycanca',\n",
       " 'বাংলা',\n",
       " 'Беларуская',\n",
       " 'Български',\n",
       " 'Čeština',\n",
       " 'Dansk',\n",
       " 'Deutsch',\n",
       " 'Esperanto',\n",
       " 'Euskara',\n",
       " 'فارسی',\n",
       " 'Français',\n",
       " '한국어',\n",
       " 'Hrvatski',\n",
       " 'Ido',\n",
       " 'Bahasa Indonesia',\n",
       " 'Interlingua',\n",
       " 'Íslenska',\n",
       " 'Italiano',\n",
       " 'עברית',\n",
       " 'ქართული',\n",
       " 'Kongo',\n",
       " 'Latina',\n",
       " 'Lëtzebuergesch',\n",
       " 'Magyar',\n",
       " 'मराठी',\n",
       " 'Nederlands',\n",
       " '日本語',\n",
       " 'Norsk bokmål',\n",
       " 'Polski',\n",
       " 'Português',\n",
       " 'Русский',\n",
       " 'Slovenčina',\n",
       " 'Српски / srpski',\n",
       " 'Srpskohrvatski / српскохрватски',\n",
       " 'Suomi',\n",
       " 'Svenska',\n",
       " 'ไทย',\n",
       " 'Türkçe',\n",
       " 'Українська',\n",
       " 'اردو',\n",
       " 'Tiếng Việt',\n",
       " '中文',\n",
       " 'Edit links',\n",
       " 'Creative Commons Attribution-ShareAlike License',\n",
       " '',\n",
       " 'Terms of Use',\n",
       " 'Privacy Policy',\n",
       " 'Wikimedia Foundation, Inc.',\n",
       " 'Privacy policy',\n",
       " 'About Wikipedia',\n",
       " 'Disclaimers',\n",
       " 'Contact Wikipedia',\n",
       " 'Mobile view',\n",
       " 'Developers',\n",
       " 'Statistics',\n",
       " 'Cookie statement',\n",
       " '',\n",
       " '']"
      ]
     },
     "execution_count": 17,
     "metadata": {},
     "output_type": "execute_result"
    }
   ],
   "source": [
    "link_title"
   ]
  },
  {
   "cell_type": "code",
   "execution_count": 18,
   "id": "ff77a27d",
   "metadata": {},
   "outputs": [],
   "source": [
    "wiki_df = pd.DataFrame(\n",
    "{\"title\": link_title,\n",
    "\"link\": link_url})"
   ]
  },
  {
   "cell_type": "code",
   "execution_count": 19,
   "id": "31f6236e",
   "metadata": {},
   "outputs": [
    {
     "data": {
      "text/html": [
       "<div>\n",
       "<style scoped>\n",
       "    .dataframe tbody tr th:only-of-type {\n",
       "        vertical-align: middle;\n",
       "    }\n",
       "\n",
       "    .dataframe tbody tr th {\n",
       "        vertical-align: top;\n",
       "    }\n",
       "\n",
       "    .dataframe thead th {\n",
       "        text-align: right;\n",
       "    }\n",
       "</style>\n",
       "<table border=\"1\" class=\"dataframe\">\n",
       "  <thead>\n",
       "    <tr style=\"text-align: right;\">\n",
       "      <th></th>\n",
       "      <th>title</th>\n",
       "      <th>link</th>\n",
       "    </tr>\n",
       "  </thead>\n",
       "  <tbody>\n",
       "    <tr>\n",
       "      <th>0</th>\n",
       "      <td>Jump to navigation</td>\n",
       "      <td>#mw-head</td>\n",
       "    </tr>\n",
       "    <tr>\n",
       "      <th>1</th>\n",
       "      <td>Jump to search</td>\n",
       "      <td>#searchInput</td>\n",
       "    </tr>\n",
       "    <tr>\n",
       "      <th>2</th>\n",
       "      <td>Python</td>\n",
       "      <td>https://en.wiktionary.org/wiki/Python</td>\n",
       "    </tr>\n",
       "    <tr>\n",
       "      <th>3</th>\n",
       "      <td>python</td>\n",
       "      <td>https://en.wiktionary.org/wiki/python</td>\n",
       "    </tr>\n",
       "    <tr>\n",
       "      <th>4</th>\n",
       "      <td>Pythonidae</td>\n",
       "      <td>/wiki/Pythonidae</td>\n",
       "    </tr>\n",
       "    <tr>\n",
       "      <th>...</th>\n",
       "      <td>...</td>\n",
       "      <td>...</td>\n",
       "    </tr>\n",
       "    <tr>\n",
       "      <th>146</th>\n",
       "      <td>Developers</td>\n",
       "      <td>https://www.mediawiki.org/wiki/Special:MyLangu...</td>\n",
       "    </tr>\n",
       "    <tr>\n",
       "      <th>147</th>\n",
       "      <td>Statistics</td>\n",
       "      <td>https://stats.wikimedia.org/#/en.wikipedia.org</td>\n",
       "    </tr>\n",
       "    <tr>\n",
       "      <th>148</th>\n",
       "      <td>Cookie statement</td>\n",
       "      <td>https://foundation.wikimedia.org/wiki/Cookie_s...</td>\n",
       "    </tr>\n",
       "    <tr>\n",
       "      <th>149</th>\n",
       "      <td></td>\n",
       "      <td>https://wikimediafoundation.org/</td>\n",
       "    </tr>\n",
       "    <tr>\n",
       "      <th>150</th>\n",
       "      <td></td>\n",
       "      <td>https://www.mediawiki.org/</td>\n",
       "    </tr>\n",
       "  </tbody>\n",
       "</table>\n",
       "<p>151 rows × 2 columns</p>\n",
       "</div>"
      ],
      "text/plain": [
       "                  title                                               link\n",
       "0    Jump to navigation                                           #mw-head\n",
       "1        Jump to search                                       #searchInput\n",
       "2                Python              https://en.wiktionary.org/wiki/Python\n",
       "3                python              https://en.wiktionary.org/wiki/python\n",
       "4            Pythonidae                                   /wiki/Pythonidae\n",
       "..                  ...                                                ...\n",
       "146          Developers  https://www.mediawiki.org/wiki/Special:MyLangu...\n",
       "147          Statistics     https://stats.wikimedia.org/#/en.wikipedia.org\n",
       "148    Cookie statement  https://foundation.wikimedia.org/wiki/Cookie_s...\n",
       "149                                       https://wikimediafoundation.org/\n",
       "150                                             https://www.mediawiki.org/\n",
       "\n",
       "[151 rows x 2 columns]"
      ]
     },
     "execution_count": 19,
     "metadata": {},
     "output_type": "execute_result"
    }
   ],
   "source": [
    "wiki_df"
   ]
  },
  {
   "cell_type": "markdown",
   "id": "relevant-performer",
   "metadata": {},
   "source": [
    "### Find the number of titles that have changed in the United States Code since its last release point"
   ]
  },
  {
   "cell_type": "code",
   "execution_count": 20,
   "id": "scenic-surgeon",
   "metadata": {},
   "outputs": [],
   "source": [
    "url = 'http://uscode.house.gov/download/download.shtml'"
   ]
  },
  {
   "cell_type": "code",
   "execution_count": 21,
   "id": "80fe9886",
   "metadata": {},
   "outputs": [
    {
     "data": {
      "text/plain": [
       "200"
      ]
     },
     "execution_count": 21,
     "metadata": {},
     "output_type": "execute_result"
    }
   ],
   "source": [
    "us_code = requests.get(url)\n",
    "us_code.status_code"
   ]
  },
  {
   "cell_type": "code",
   "execution_count": 34,
   "id": "1cdc640c",
   "metadata": {},
   "outputs": [],
   "source": [
    "soup = BeautifulSoup(us_code.content, \"html.parser\")"
   ]
  },
  {
   "cell_type": "code",
   "execution_count": 38,
   "id": "0e186d8f",
   "metadata": {},
   "outputs": [
    {
     "data": {
      "text/plain": [
       "[<div class=\"usctitlechanged\" id=\"us/usc/t1\">\n",
       " \n",
       "           Title 1 - General Provisions <span class=\"footnote\"><a class=\"fn\" href=\"#fn\">٭</a></span>\n",
       " </div>,\n",
       " <div class=\"usctitlechanged\" id=\"us/usc/t5\">\n",
       " \n",
       "           Title 5 - Government Organization and Employees <span class=\"footnote\"><a class=\"fn\" href=\"#fn\">٭</a></span>\n",
       " </div>,\n",
       " <div class=\"usctitlechanged\" id=\"us/usc/t8\">\n",
       " \n",
       "           Title 8 - Aliens and Nationality\n",
       " \n",
       "         </div>,\n",
       " <div class=\"usctitlechanged\" id=\"us/usc/t11\">\n",
       " \n",
       "           Title 11 - Bankruptcy <span class=\"footnote\"><a class=\"fn\" href=\"#fn\">٭</a></span>\n",
       " </div>,\n",
       " <div class=\"usctitlechanged\" id=\"us/usc/t18\">\n",
       " \n",
       "           Title 18 - Crimes and Criminal Procedure <span class=\"footnote\"><a class=\"fn\" href=\"#fn\">٭</a></span>\n",
       " </div>,\n",
       " <div class=\"usctitlechanged\" id=\"us/usc/t23\">\n",
       " \n",
       "           Title 23 - Highways <span class=\"footnote\"><a class=\"fn\" href=\"#fn\">٭</a></span>\n",
       " </div>,\n",
       " <div class=\"usctitlechanged\" id=\"us/usc/t26\">\n",
       " \n",
       "           Title 26 - Internal Revenue Code\n",
       " \n",
       "         </div>,\n",
       " <div class=\"usctitlechanged\" id=\"us/usc/t42\">\n",
       " \n",
       "           Title 42 - The Public Health and Welfare\n",
       " \n",
       "         </div>]"
      ]
     },
     "execution_count": 38,
     "metadata": {},
     "output_type": "execute_result"
    }
   ],
   "source": [
    "us_title = soup.find_all('div', attrs={'class': 'usctitlechanged'})\n",
    "us_title"
   ]
  },
  {
   "cell_type": "code",
   "execution_count": 39,
   "id": "f22236a3",
   "metadata": {},
   "outputs": [
    {
     "name": "stdout",
     "output_type": "stream",
     "text": [
      "8\n"
     ]
    }
   ],
   "source": [
    "print(len(us_title))"
   ]
  },
  {
   "cell_type": "markdown",
   "id": "acute-necessity",
   "metadata": {},
   "source": [
    "### Create a Python list with the top ten FBI's Most Wanted names"
   ]
  },
  {
   "cell_type": "code",
   "execution_count": 43,
   "id": "starting-blackberry",
   "metadata": {},
   "outputs": [],
   "source": [
    "url = 'https://www.fbi.gov/wanted/topten'"
   ]
  },
  {
   "cell_type": "code",
   "execution_count": 44,
   "id": "28562d26",
   "metadata": {},
   "outputs": [],
   "source": [
    "fbi = requests.get(url)"
   ]
  },
  {
   "cell_type": "code",
   "execution_count": 45,
   "id": "15e340dc",
   "metadata": {},
   "outputs": [
    {
     "data": {
      "text/plain": [
       "200"
      ]
     },
     "execution_count": 45,
     "metadata": {},
     "output_type": "execute_result"
    }
   ],
   "source": [
    "fbi.status_code"
   ]
  },
  {
   "cell_type": "code",
   "execution_count": 46,
   "id": "d40745dc",
   "metadata": {},
   "outputs": [],
   "source": [
    "soup = BeautifulSoup(fbi.content, \"html.parser\")"
   ]
  },
  {
   "cell_type": "code",
   "execution_count": 50,
   "id": "c6d3f3d6",
   "metadata": {},
   "outputs": [
    {
     "data": {
      "text/plain": [
       "[<h3 class=\"title\">\n",
       " <a href=\"https://www.fbi.gov/wanted/topten/jason-derek-brown\">JASON DEREK BROWN</a>\n",
       " </h3>,\n",
       " <h3 class=\"title\">\n",
       " <a href=\"https://www.fbi.gov/wanted/topten/alexis-flores\">ALEXIS FLORES</a>\n",
       " </h3>,\n",
       " <h3 class=\"title\">\n",
       " <a href=\"https://www.fbi.gov/wanted/topten/jose-rodolfo-villarreal-hernandez\">JOSE RODOLFO VILLARREAL-HERNANDEZ</a>\n",
       " </h3>,\n",
       " <h3 class=\"title\">\n",
       " <a href=\"https://www.fbi.gov/wanted/topten/octaviano-juarez-corro\">OCTAVIANO JUAREZ-CORRO</a>\n",
       " </h3>,\n",
       " <h3 class=\"title\">\n",
       " <a href=\"https://www.fbi.gov/wanted/topten/eugene-palmer\">EUGENE PALMER</a>\n",
       " </h3>,\n",
       " <h3 class=\"title\">\n",
       " <a href=\"https://www.fbi.gov/wanted/topten/rafael-caro-quintero\">RAFAEL CARO-QUINTERO</a>\n",
       " </h3>,\n",
       " <h3 class=\"title\">\n",
       " <a href=\"https://www.fbi.gov/wanted/topten/bhadreshkumar-chetanbhai-patel\">BHADRESHKUMAR CHETANBHAI PATEL</a>\n",
       " </h3>,\n",
       " <h3 class=\"title\">\n",
       " <a href=\"https://www.fbi.gov/wanted/topten/alejandro-castillo\">ALEJANDRO ROSALES CASTILLO</a>\n",
       " </h3>,\n",
       " <h3 class=\"title\">\n",
       " <a href=\"https://www.fbi.gov/wanted/topten/robert-william-fisher\">ROBERT WILLIAM FISHER</a>\n",
       " </h3>,\n",
       " <h3 class=\"title\">\n",
       " <a href=\"https://www.fbi.gov/wanted/topten/arnoldo-jimenez\">ARNOLDO JIMENEZ</a>\n",
       " </h3>,\n",
       " <h3>federal bureau of investigation</h3>,\n",
       " <h3>\n",
       " FBI.gov Contact Center\n",
       " </h3>]"
      ]
     },
     "execution_count": 50,
     "metadata": {},
     "output_type": "execute_result"
    }
   ],
   "source": [
    "fbi_wanted = soup.find_all('h3')\n",
    "fbi_wanted"
   ]
  },
  {
   "cell_type": "code",
   "execution_count": 52,
   "id": "4a53627e",
   "metadata": {},
   "outputs": [],
   "source": [
    "most_wanted = []\n",
    "for i in fbi_wanted:\n",
    "    most_wanted.append(i.text)"
   ]
  },
  {
   "cell_type": "code",
   "execution_count": 54,
   "id": "962982f4",
   "metadata": {},
   "outputs": [
    {
     "data": {
      "text/plain": [
       "['\\nJASON DEREK BROWN\\n',\n",
       " '\\nALEXIS FLORES\\n',\n",
       " '\\nJOSE RODOLFO VILLARREAL-HERNANDEZ\\n',\n",
       " '\\nOCTAVIANO JUAREZ-CORRO\\n',\n",
       " '\\nEUGENE PALMER\\n',\n",
       " '\\nRAFAEL CARO-QUINTERO\\n',\n",
       " '\\nBHADRESHKUMAR CHETANBHAI PATEL\\n',\n",
       " '\\nALEJANDRO ROSALES CASTILLO\\n',\n",
       " '\\nROBERT WILLIAM FISHER\\n']"
      ]
     },
     "execution_count": 54,
     "metadata": {},
     "output_type": "execute_result"
    }
   ],
   "source": [
    "most_wanted[:9]"
   ]
  },
  {
   "cell_type": "markdown",
   "id": "joined-induction",
   "metadata": {},
   "source": [
    "### Display the 20 latest earthquakes info (date, time, latitude, longitude and region name) by the EMSC as a pandas dataframe"
   ]
  },
  {
   "cell_type": "code",
   "execution_count": 55,
   "id": "copyrighted-taiwan",
   "metadata": {},
   "outputs": [],
   "source": [
    "url = 'https://www.emsc-csem.org/Earthquake/'"
   ]
  },
  {
   "cell_type": "code",
   "execution_count": 56,
   "id": "94814ab7",
   "metadata": {},
   "outputs": [],
   "source": [
    "earthquake = requests.get(url)"
   ]
  },
  {
   "cell_type": "code",
   "execution_count": 58,
   "id": "2e4fc1ec",
   "metadata": {},
   "outputs": [
    {
     "data": {
      "text/plain": [
       "200"
      ]
     },
     "execution_count": 58,
     "metadata": {},
     "output_type": "execute_result"
    }
   ],
   "source": [
    "earthquake.status_code"
   ]
  },
  {
   "cell_type": "code",
   "execution_count": 60,
   "id": "40479422",
   "metadata": {},
   "outputs": [],
   "source": [
    "soup = BeautifulSoup(earthquake.content, \"html.parser\")"
   ]
  },
  {
   "cell_type": "code",
   "execution_count": 75,
   "id": "8f780c21",
   "metadata": {},
   "outputs": [],
   "source": [
    "# date and time\n",
    "date_time = soup.find_all(\"a\")"
   ]
  },
  {
   "cell_type": "code",
   "execution_count": 80,
   "id": "aae07738",
   "metadata": {},
   "outputs": [
    {
     "data": {
      "text/plain": [
       "[<a href=\"https://www.emsc-csem.org/Earthquake/info.php\">Earthquake information</a>,\n",
       " <a href=\"https://www.emsc-csem.org/Earthquake/\">List of latest earthquakes</a>,\n",
       " <a href=\"https://www.emsc-csem.org/Earthquake/significant_earthquakes.php\">Significant earthquakes</a>,\n",
       " <a href=\"https://www.emsc-csem.org/Earthquake/?filter=yes\">Search earthquakes</a>,\n",
       " <a href=\"https://www.emsc-csem.org/Earthquake/Map/gmap.php\">Earthquakes interactive map</a>,\n",
       " <a href=\"https://www.emsc-csem.org/Earthquake/near_you.php\">Earthquakes near you</a>,\n",
       " <a href=\"https://www.emsc-csem.org/Earthquake/felt.php\">Felt earthquakes</a>,\n",
       " <a href=\"https://www.emsc-csem.org/Earthquake/News/\">Special reports</a>,\n",
       " <a href=\"https://www.emsc-csem.org/Earthquake/seismicity/real_time.php\">How it works</a>,\n",
       " <a href=\"https://www.emsc-csem.org/Earthquake/Contribute/?lang=ru\" onmouseout=\"info_b('notshow','','');\" onmouseover=\"info_b('show','The flag is the visible language that seems to be the most appropriate to respond to our questionnaire.','Language');\"><img id=\"flag\" src=\"https://static2.emsc.eu/Images/flag/flag_ru.png\" style=\"vertical-align:middle;height:12px;width:18px;\"/>  Testimonies, photos</a>,\n",
       " <a href=\"https://www.emsc-csem.org/Earthquake/Gallery/\">Photos</a>,\n",
       " <a href=\"https://www.emsc-csem.org/Earthquake/Testimonies/\">Testimonies</a>,\n",
       " <a href=\"https://www.emsc-csem.org/service/\">Information services</a>,\n",
       " <a href=\"https://www.emsc-csem.org/service/lastquakers/\"><span style=\"display:inline-block;background:url(https://static3.emsc.eu/Css/img/lastquakers_16px.png) no-repeat;width:16px;height:16px;vertical-align:middle;\"></span> LastQuakers community (NEW)</a>,\n",
       " <a href=\"https://www.emsc-csem.org/service/real_time/\"><span class=\"spriteorig sp_phone\" style=\"vertical-align:middle;\"></span> For smartphones</a>,\n",
       " <a href=\"https://www.emsc-csem.org/service/application/\"><span class=\"spriteorig sp_phone\" style=\"vertical-align:middle;\"></span> Android &amp; iOS App</a>,\n",
       " <a href=\"https://www.emsc-csem.org/service/Browser-extension/\"><span style=\"display:inline-block;background:url(https://static3.emsc.eu/Css/img/extension-icon.png) no-repeat;width:16px;height:16px;vertical-align:middle;\"></span> Browser extensions</a>,\n",
       " <a href=\"https://www.seismicportal.eu/webservices.html\"><span class=\"spriteorig sp_feed-icon14\" style=\"vertical-align:middle;\"></span> Webservices</a>,\n",
       " <a href=\"https://www.emsc-csem.org/service/rss/\"><span class=\"spriteorig sp_feed-icon14\" style=\"vertical-align:middle;\"></span> RSS feeds</a>,\n",
       " <a href=\"https://www.emsc-csem.org/Earthquake/Map/earth/\"><span class=\"spriteorig sp_ge2\" style=\"vertical-align:middle;\"></span> Seismicity on Google Earth</a>,\n",
       " <a href=\"https://www.emsc-csem.org/service/register.php\"><span class=\"spriteorig sp_alert1\" style=\"vertical-align:middle;\"></span> Email notification service</a>,\n",
       " <a href=\"https://www.emsc-csem.org/Earthquake/for_seismologist.php\">For seismologists</a>,\n",
       " <a href=\"https://www.emsc-csem.org/Earthquake/seismologist.php\">Latest data contributions</a>,\n",
       " <a href=\"https://www.emsc-csem.org/Earthquake/index_tensors.php\">Moment tensors</a>,\n",
       " <a href=\"https://www.emsc-csem.org/Bulletin/\">Euro-Med bulletin</a>,\n",
       " <a href=\"https://www.seismicportal.eu/\" target=\"_blank\">Seismic Portal</a>,\n",
       " <a href=\"https://www.emsc-csem.org/News/\">News</a>,\n",
       " <a href=\"https://www.emsc-csem.org/job/\">Jobs</a>,\n",
       " <a href=\"https://www.emsc-csem.org/Project/\">Projects</a>,\n",
       " <a href=\"https://www.emsc-csem.org/Project/#aristotle\">ARISTOTLE</a>,\n",
       " <a href=\"https://www.emsc-csem.org/Project/#carismand\">CARISMAND</a>,\n",
       " <a href=\"https://www.emsc-csem.org/Project/#improver\">IMPROVER</a>,\n",
       " <a href=\"https://www.emsc-csem.org/Project/#seismic\">Seismic portal</a>,\n",
       " <a href=\"https://www.emsc-csem.org/Project/#citizen\">Citizen seismology</a>,\n",
       " <a href=\"https://www.emsc-csem.org/Project/#qcn\">Quake Catcher Network</a>,\n",
       " <a href=\"https://www.emsc-csem.org/Project/#sigma\">Sigma</a>,\n",
       " <a href=\"https://www.emsc-csem.org/Project/#verce\">Verce</a>,\n",
       " <a href=\"https://www.emsc-csem.org/Project/#marsite\">MARsite</a>,\n",
       " <a href=\"https://www.emsc-csem.org/Project/#nera\">NERA</a>,\n",
       " <a href=\"https://www.emsc-csem.org/Project/#EPOS\">EPOS</a>,\n",
       " <a href=\"https://www.emsc-csem.org/Project/#REAKT\">REAKT</a>,\n",
       " <a href=\"https://www.emsc-csem.org/Documents/\">Publications &amp; docs</a>,\n",
       " <a href=\"https://www.emsc-csem.org\">EMSC</a>,\n",
       " <a href=\"http://www.digitalelement.com/\" target=\"_blank\">digitalelement<div id=\"sponimg\"><img src=\"https://static3.emsc.eu/Images/sites/p_netacuity_01.gif\"/></div></a>,\n",
       " <a href=\"/Donate/\"><span class=\"spriteorig sp_btn_donate_SM\" style=\"vertical-align:middle;margin-top:-2px;\"></span></a>,\n",
       " <a href=\"/about/\">About EMSC</a>,\n",
       " <a href=\"/disclaimer.php\">Disclaimer</a>,\n",
       " <a href=\"/Earthquake/?filter=yes\"><span class=\"spriteorig sp_Icon_tools_th\" style=\"margin-right:3px;\"></span>Define your criteria</a>,\n",
       " <a href=\"/Earthquake/world/M3/\"> mag≥3 </a>,\n",
       " <a href=\"/Earthquake/world/M4/\"> mag≥4 </a>,\n",
       " <a href=\"/Earthquake/world/M5/\"> mag≥5 </a>,\n",
       " <a href=\"/glossary.php\">Glossary</a>,\n",
       " <a href=\"javascript:hide_magni();\" id=\"magplus\" style=\"color:white;\">[+]</a>,\n",
       " <a href=\"javascript:hide_upd();\" style=\"color:white;\">[+]</a>,\n",
       " <a href=\"javascript:hide_upd();\" style=\"color:white;\">[-]</a>,\n",
       " <a class=\"sublink sublinka\" href=\"javascript:void()\" rel=\"nofollow\">1</a>,\n",
       " <a class=\"sublink\" href=\"/Earthquake/?view=2\">2</a>,\n",
       " <a class=\"sublink\" href=\"/Earthquake/?view=3\">3</a>,\n",
       " <a class=\"sublink\" href=\"/Earthquake/?view=4\">4</a>,\n",
       " <a class=\"sublink\" href=\"/Earthquake/?view=5\">5</a>,\n",
       " <a class=\"sublink\" href=\"/Earthquake/?view=6\">6</a>,\n",
       " <a class=\"sublink\" href=\"/Earthquake/?view=7\">7</a>,\n",
       " <a class=\"sublink\" href=\"/Earthquake/?view=8\">8</a>,\n",
       " <a class=\"sublink\" href=\"/Earthquake/?view=9\">9</a>,\n",
       " <a class=\"sublink\" href=\"/Earthquake/?view=10\">10</a>,\n",
       " <a alt=\"Next page\" class=\"sublink\" href=\"/Earthquake/?view=2\">›</a>,\n",
       " <a alt=\"Next 10 pages\" class=\"sublink\" href=\"/Earthquake/?view=11\">»</a>,\n",
       " <a href=\"/Earthquake/earthquake.php?id=1045779\">2021-10-08   21:00:04.0</a>,\n",
       " <a href=\"/Earthquake/earthquake.php?id=1045777\">2021-10-08   20:46:35.0</a>,\n",
       " <a href=\"/Earthquake/earthquake.php?id=1045775\">2021-10-08   20:45:26.9</a>,\n",
       " <a href=\"/Earthquake/earthquake.php?id=1045776\">2021-10-08   20:40:36.0</a>,\n",
       " <a href=\"/Earthquake/earthquake.php?id=1045773\">2021-10-08   20:35:10.7</a>,\n",
       " <a href=\"https://www.emsc-csem.org/Earthquake/Testimonies/comments.php?id=1045772\" onmouseout=\"info_b2('notshow','');\" onmouseover=\"info_b2('show','See the &lt;b&gt;testimony&lt;/b&gt; for this earthquake');\"><span class=\"\" style=\"vertical-align:middle;\">1</span></a>,\n",
       " <a href=\"/Earthquake/earthquake.php?id=1045772\">2021-10-08   20:22:30.5</a>,\n",
       " <a href=\"/Earthquake/earthquake.php?id=1045771\">2021-10-08   20:19:15.7</a>,\n",
       " <a href=\"/Earthquake/earthquake.php?id=1045769\">2021-10-08   20:11:57.0</a>,\n",
       " <a href=\"/Earthquake/earthquake.php?id=1045770\">2021-10-08   20:11:09.6</a>,\n",
       " <a href=\"/Earthquake/earthquake.php?id=1045766\">2021-10-08   20:11:01.8</a>,\n",
       " <a href=\"/Earthquake/earthquake.php?id=1045767\">2021-10-08   20:00:09.0</a>,\n",
       " <a href=\"/Earthquake/earthquake.php?id=1045768\">2021-10-08   19:58:41.8</a>,\n",
       " <a href=\"/Earthquake/earthquake.php?id=1045762\">2021-10-08   19:54:33.0</a>,\n",
       " <a href=\"/Earthquake/earthquake.php?id=1045759\">2021-10-08   19:43:27.7</a>,\n",
       " <a href=\"/Earthquake/earthquake.php?id=1045760\">2021-10-08   19:43:18.0</a>,\n",
       " <a href=\"/Earthquake/earthquake.php?id=1045757\">2021-10-08   19:38:21.7</a>,\n",
       " <a href=\"/Earthquake/earthquake.php?id=1045761\">2021-10-08   19:37:05.0</a>,\n",
       " <a href=\"/Earthquake/earthquake.php?id=1045758\">2021-10-08   19:28:50.0</a>,\n",
       " <a href=\"/Earthquake/earthquake.php?id=1045765\">2021-10-08   19:10:36.6</a>,\n",
       " <a href=\"/Earthquake/earthquake.php?id=1045752\">2021-10-08   19:03:32.0</a>,\n",
       " <a href=\"/Earthquake/earthquake.php?id=1045751\">2021-10-08   18:59:57.3</a>,\n",
       " <a href=\"/Earthquake/earthquake.php?id=1045756\">2021-10-08   18:59:39.8</a>,\n",
       " <a href=\"/Earthquake/earthquake.php?id=1045753\">2021-10-08   18:45:17.3</a>,\n",
       " <a href=\"https://www.emsc-csem.org/Earthquake/Testimonies/comments.php?id=1045746\" onmouseout=\"info_b2('notshow','');\" onmouseover=\"info_b2('show','See the &lt;b&gt;62 testimonies&lt;/b&gt; for this earthquake');\"><span class=\"\" style=\"vertical-align:middle;\">62</span></a>,\n",
       " <a href=\"/Earthquake/earthquake.php?id=1045746\">2021-10-08   18:28:23.1</a>,\n",
       " <a href=\"https://www.emsc-csem.org/Earthquake/Testimonies/comments.php?id=1045745\" onmouseout=\"info_b2('notshow','');\" onmouseover=\"info_b2('show','See the &lt;b&gt;2 testimonies&lt;/b&gt; for this earthquake');\"><span class=\"\" style=\"vertical-align:middle;\">2</span></a>,\n",
       " <a href=\"/Earthquake/earthquake.php?id=1045745\">2021-10-08   18:23:03.0</a>,\n",
       " <a href=\"/Earthquake/earthquake.php?id=1045750\">2021-10-08   18:23:01.0</a>,\n",
       " <a href=\"/Earthquake/earthquake.php?id=1045747\">2021-10-08   18:16:20.6</a>,\n",
       " <a href=\"/Earthquake/earthquake.php?id=1045743\">2021-10-08   18:12:08.7</a>,\n",
       " <a href=\"/Earthquake/earthquake.php?id=1045737\">2021-10-08   18:12:01.9</a>,\n",
       " <a href=\"/Earthquake/earthquake.php?id=1045740\">2021-10-08   18:08:15.0</a>,\n",
       " <a href=\"/Earthquake/earthquake.php?id=1045744\">2021-10-08   18:06:13.9</a>,\n",
       " <a href=\"/Earthquake/earthquake.php?id=1045739\">2021-10-08   18:03:26.0</a>,\n",
       " <a href=\"/Earthquake/earthquake.php?id=1045741\">2021-10-08   18:01:49.6</a>,\n",
       " <a href=\"/Earthquake/earthquake.php?id=1045742\">2021-10-08   17:58:49.0</a>,\n",
       " <a href=\"/Earthquake/earthquake.php?id=1045755\">2021-10-08   17:57:26.8</a>,\n",
       " <a href=\"/Earthquake/earthquake.php?id=1045733\">2021-10-08   17:54:56.5</a>,\n",
       " <a href=\"/Earthquake/earthquake.php?id=1045730\">2021-10-08   17:32:04.0</a>,\n",
       " <a href=\"/Earthquake/earthquake.php?id=1045728\">2021-10-08   17:30:02.8</a>,\n",
       " <a href=\"/Earthquake/earthquake.php?id=1045727\">2021-10-08   17:20:40.7</a>,\n",
       " <a href=\"/Earthquake/earthquake.php?id=1045724\">2021-10-08   17:19:14.1</a>,\n",
       " <a href=\"/Earthquake/earthquake.php?id=1045725\">2021-10-08   17:02:25.1</a>,\n",
       " <a href=\"/Earthquake/earthquake.php?id=1045722\">2021-10-08   16:56:13.1</a>,\n",
       " <a href=\"https://www.emsc-csem.org/Earthquake/Testimonies/comments.php?id=1045723\" onmouseout=\"info_b2('notshow','');\" onmouseover=\"info_b2('show','See the &lt;b&gt;testimony&lt;/b&gt; for this earthquake');\"><span class=\"\" style=\"vertical-align:middle;\">1</span></a>,\n",
       " <a href=\"/Earthquake/earthquake.php?id=1045723\">2021-10-08   16:47:27.0</a>,\n",
       " <a href=\"/Earthquake/earthquake.php?id=1045748\">2021-10-08   16:34:53.3</a>,\n",
       " <a href=\"/Earthquake/earthquake.php?id=1045717\">2021-10-08   16:33:54.0</a>,\n",
       " <a href=\"/Earthquake/earthquake.php?id=1045716\">2021-10-08   16:28:46.0</a>,\n",
       " <a href=\"/Earthquake/earthquake.php?id=1045715\">2021-10-08   16:26:54.6</a>,\n",
       " <a href=\"/Earthquake/earthquake.php?id=1045719\">2021-10-08   16:26:03.7</a>,\n",
       " <a href=\"/Earthquake/earthquake.php?id=1045718\">2021-10-08   16:23:52.0</a>,\n",
       " <a href=\"/Earthquake/earthquake.php?id=1045708\">2021-10-08   16:09:44.3</a>,\n",
       " <a class=\"sublink sublinka\" href=\"javascript:void()\" rel=\"nofollow\">1</a>,\n",
       " <a class=\"sublink\" href=\"/Earthquake/?view=2\">2</a>,\n",
       " <a class=\"sublink\" href=\"/Earthquake/?view=3\">3</a>,\n",
       " <a class=\"sublink\" href=\"/Earthquake/?view=4\">4</a>,\n",
       " <a class=\"sublink\" href=\"/Earthquake/?view=5\">5</a>,\n",
       " <a class=\"sublink\" href=\"/Earthquake/?view=6\">6</a>,\n",
       " <a class=\"sublink\" href=\"/Earthquake/?view=7\">7</a>,\n",
       " <a class=\"sublink\" href=\"/Earthquake/?view=8\">8</a>,\n",
       " <a class=\"sublink\" href=\"/Earthquake/?view=9\">9</a>,\n",
       " <a class=\"sublink\" href=\"/Earthquake/?view=10\">10</a>,\n",
       " <a alt=\"Next page\" class=\"sublink\" href=\"/Earthquake/?view=2\">›</a>,\n",
       " <a alt=\"Next 10 pages\" class=\"sublink\" href=\"/Earthquake/?view=11\">»</a>,\n",
       " <a href=\"/Earthquake/?disclam=yes\">Disclaimer</a>,\n",
       " <a href=\"https://www.emsc-csem.org/faq.php\"><b>FAQ</b></a>,\n",
       " <a href=\"https://www.emsc-csem.org/about/\"><b>About EMSC</b></a>,\n",
       " <a href=\"https://www.emsc-csem.org/sitemap.php\"><b>Site Map</b></a>,\n",
       " <a href=\"https://www.emsc-csem.org/Search/\"><b>Search</b></a>,\n",
       " <a href=\"http://twitter.com/lastquake\" target=\"_blank\"><span class=\"spriteorig sp_twitter\" title=\"twitter: @lastquake\"></span></a>,\n",
       " <a href=\"http://twitter.com/EMSC\" target=\"_blank\"><span class=\"spriteorig sp_twitter\" title=\"twitter: @EMSC\"></span></a>,\n",
       " <a href=\"http://www.facebook.com/pages/EMSC-CSEM/207151812690551?sk=wall\" target=\"_blank\"><span class=\"spriteorig sp_facebook\" title=\"facebook: EMSC-CSEM\"></span></a>,\n",
       " <a href=\"https://t.me/LastQuake2\" target=\"_blank\"><span style=\"display:inline-block;background:url(https://static3.emsc.eu/Css/img/telegram-24.png) no-repeat;width:24px;height:24px;\" title=\"Telegram: LastQuake2\"></span></a>,\n",
       " <a href=\"https://t.me/AllQuakes2\" target=\"_blank\"><span style=\"display:inline-block;background:url(https://static3.emsc.eu/Css/img/telegram-24.png) no-repeat;width:24px;height:24px;\" title=\"Telegram: AllQuakes2\"></span></a>,\n",
       " <a href=\"http://www.youtube.com/user/EuroMSC\" target=\"_blank\"><span class=\"spriteorig sp_youtube\" title=\"youtube: EuroMSC\"></span></a>,\n",
       " <a href=\"/policy.php\">Privacy</a>,\n",
       " <a href=\"http://www.statcounter.com/\" target=\"_blank\" title=\"hit counter\"><img alt=\"hit counter\" class=\"statcounter\" src=\"https://c.statcounter.com/217829/0//1/\" style=\"width:1px;height:1px;\"/></a>]"
      ]
     },
     "execution_count": 80,
     "metadata": {},
     "output_type": "execute_result"
    }
   ],
   "source": [
    "date_time"
   ]
  },
  {
   "cell_type": "code",
   "execution_count": 133,
   "id": "160c7e00",
   "metadata": {},
   "outputs": [],
   "source": [
    "#latitude\n",
    "latitude = [x.get_text().replace('\\xa0', '') for x in soup.find_all(\"td\", class_ = 'tabev1')]\n",
    "\n"
   ]
  },
  {
   "cell_type": "code",
   "execution_count": 141,
   "id": "163800f8",
   "metadata": {},
   "outputs": [],
   "source": [
    "#region_name\n",
    "region_name = [x.get_text().replace('\\xa0', '') for x in soup.find_all(\"td\", class_ =\"tb_region\")]"
   ]
  },
  {
   "cell_type": "code",
   "execution_count": 142,
   "id": "497c259e",
   "metadata": {},
   "outputs": [
    {
     "data": {
      "text/plain": [
       "['NEAR COAST OF CENTRAL PERU',\n",
       " 'FRANCE',\n",
       " 'CANARY ISLANDS, SPAIN REGION',\n",
       " 'SALTA, ARGENTINA',\n",
       " 'CANARY ISLANDS, SPAIN REGION',\n",
       " 'PUERTO RICO REGION',\n",
       " 'OFF E. COAST OF N. ISLAND, N.Z.',\n",
       " 'JAVA, INDONESIA',\n",
       " 'KEP. TANIMBAR REGION, INDONESIA',\n",
       " 'OKLAHOMA',\n",
       " 'MINDORO, PHILIPPINES',\n",
       " 'STRAIT OF GIBRALTAR',\n",
       " 'ARUNACHAL PRADESH, INDIA',\n",
       " 'ISLAND OF HAWAII, HAWAII',\n",
       " 'OFFSHORE COQUIMBO, CHILE',\n",
       " 'CANARY ISLANDS, SPAIN REGION',\n",
       " 'MOLUCCA SEA',\n",
       " 'BIO-BIO, CHILE',\n",
       " 'PUERTO RICO REGION',\n",
       " 'STRAIT OF GIBRALTAR',\n",
       " 'CANARY ISLANDS, SPAIN REGION',\n",
       " 'WESTERN AUSTRALIA',\n",
       " 'EASTERN TURKEY',\n",
       " 'PUERTO RICO REGION',\n",
       " 'CROATIA',\n",
       " 'MINDANAO, PHILIPPINES',\n",
       " 'STRAIT OF GIBRALTAR',\n",
       " 'VICTORIA, AUSTRALIA',\n",
       " 'OKLAHOMA',\n",
       " 'ANTOFAGASTA, CHILE',\n",
       " 'DRAKE PASSAGE',\n",
       " 'TARAPACA, CHILE',\n",
       " 'VICTORIA, AUSTRALIA',\n",
       " 'LUZON, PHILIPPINES',\n",
       " 'PUERTO RICO',\n",
       " 'STRAIT OF GIBRALTAR',\n",
       " 'KASHMIR-XINJIANG BORDER REGION',\n",
       " 'CANARY ISLANDS, SPAIN REGION',\n",
       " 'VICTORIA, AUSTRALIA',\n",
       " 'CRETE, GREECE',\n",
       " 'VICTORIA, AUSTRALIA',\n",
       " 'ISLAND OF HAWAII, HAWAII',\n",
       " 'VICTORIA, AUSTRALIA',\n",
       " 'NEW IRELAND REGION, P.N.G.',\n",
       " 'SWITZERLAND',\n",
       " 'MOLUCCA SEA',\n",
       " 'SALTA, ARGENTINA',\n",
       " 'CANARY ISLANDS, SPAIN REGION',\n",
       " 'MINAHASA, SULAWESI, INDONESIA',\n",
       " 'CANARY ISLANDS, SPAIN REGION']"
      ]
     },
     "execution_count": 142,
     "metadata": {},
     "output_type": "execute_result"
    }
   ],
   "source": [
    "region_name"
   ]
  },
  {
   "cell_type": "code",
   "execution_count": null,
   "id": "4b7cb34d",
   "metadata": {},
   "outputs": [],
   "source": []
  },
  {
   "cell_type": "markdown",
   "id": "dominican-defeat",
   "metadata": {},
   "source": [
    "### List all language names and number of related articles in the order they appear in [wikipedia.org](wikipedia.org)"
   ]
  },
  {
   "cell_type": "code",
   "execution_count": 144,
   "id": "metric-vertex",
   "metadata": {},
   "outputs": [],
   "source": [
    "url = 'https://www.wikipedia.org/'"
   ]
  },
  {
   "cell_type": "code",
   "execution_count": 146,
   "id": "d04fbbbf",
   "metadata": {},
   "outputs": [],
   "source": [
    "language = requests.get(url)"
   ]
  },
  {
   "cell_type": "code",
   "execution_count": 147,
   "id": "f63cf0c6",
   "metadata": {},
   "outputs": [
    {
     "data": {
      "text/plain": [
       "200"
      ]
     },
     "execution_count": 147,
     "metadata": {},
     "output_type": "execute_result"
    }
   ],
   "source": [
    "language.status_code"
   ]
  },
  {
   "cell_type": "code",
   "execution_count": 148,
   "id": "9737cc1a",
   "metadata": {},
   "outputs": [],
   "source": [
    "soup = BeautifulSoup(language.content, \"html.parser\")"
   ]
  },
  {
   "cell_type": "code",
   "execution_count": 153,
   "id": "5f019c63",
   "metadata": {},
   "outputs": [
    {
     "data": {
      "text/plain": [
       "['The Free Encyclopedia',\n",
       " 'English',\n",
       " '日本語',\n",
       " 'Español',\n",
       " 'Deutsch',\n",
       " 'Русский',\n",
       " 'Français',\n",
       " '中文',\n",
       " 'Italiano',\n",
       " 'Português',\n",
       " 'Polski',\n",
       " '\\n\\nDownload Wikipedia for Android or iOS\\n\\n']"
      ]
     },
     "execution_count": 153,
     "metadata": {},
     "output_type": "execute_result"
    }
   ],
   "source": [
    "lang_names = [x.get_text() for x in soup.find_all(\"strong\")]\n",
    "lang_names"
   ]
  },
  {
   "cell_type": "code",
   "execution_count": null,
   "id": "a982c8fd",
   "metadata": {},
   "outputs": [],
   "source": []
  },
  {
   "cell_type": "markdown",
   "id": "split-cartridge",
   "metadata": {},
   "source": [
    "### A list with the different kind of datasets available in [data.gov.uk](data.gov.uk)\n"
   ]
  },
  {
   "cell_type": "code",
   "execution_count": null,
   "id": "actual-parallel",
   "metadata": {},
   "outputs": [],
   "source": [
    "url = 'https://data.gov.uk/"
   ]
  },
  {
   "cell_type": "markdown",
   "id": "potential-malpractice",
   "metadata": {},
   "source": [
    "### Display the top 10 languages by number of native speakers stored in a pandas dataframe"
   ]
  },
  {
   "cell_type": "code",
   "execution_count": null,
   "id": "adaptive-calculator",
   "metadata": {},
   "outputs": [],
   "source": [
    "url = 'https://en.wikipedia.org/wiki/List_of_languages_by_number_of_native_speakers'"
   ]
  }
 ],
 "metadata": {
  "kernelspec": {
   "display_name": "Python 3",
   "language": "python",
   "name": "python3"
  },
  "language_info": {
   "codemirror_mode": {
    "name": "ipython",
    "version": 3
   },
   "file_extension": ".py",
   "mimetype": "text/x-python",
   "name": "python",
   "nbconvert_exporter": "python",
   "pygments_lexer": "ipython3",
   "version": "3.8.8"
  },
  "toc": {
   "base_numbering": 1,
   "nav_menu": {},
   "number_sections": true,
   "sideBar": true,
   "skip_h1_title": false,
   "title_cell": "Table of Contents",
   "title_sidebar": "Contents",
   "toc_cell": true,
   "toc_position": {},
   "toc_section_display": true,
   "toc_window_display": true
  },
  "varInspector": {
   "cols": {
    "lenName": 16,
    "lenType": 16,
    "lenVar": 40
   },
   "kernels_config": {
    "python": {
     "delete_cmd_postfix": "",
     "delete_cmd_prefix": "del ",
     "library": "var_list.py",
     "varRefreshCmd": "print(var_dic_list())"
    },
    "r": {
     "delete_cmd_postfix": ") ",
     "delete_cmd_prefix": "rm(",
     "library": "var_list.r",
     "varRefreshCmd": "cat(var_dic_list()) "
    }
   },
   "types_to_exclude": [
    "module",
    "function",
    "builtin_function_or_method",
    "instance",
    "_Feature"
   ],
   "window_display": false
  }
 },
 "nbformat": 4,
 "nbformat_minor": 5
}
