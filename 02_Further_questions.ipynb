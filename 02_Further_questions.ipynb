{
 "cells": [
  {
   "cell_type": "markdown",
   "id": "classified-start",
   "metadata": {
    "toc": true
   },
   "source": [
    "<h1>Table of Contents<span class=\"tocSkip\"></span></h1>\n",
    "<div class=\"toc\"><ul class=\"toc-item\"><li><span><a href=\"#Retrieve-an-arbitrary-Wikipedia-page-of-&quot;Python&quot;-and-create-a-list-of-links-on-that-page\" data-toc-modified-id=\"Retrieve-an-arbitrary-Wikipedia-page-of-&quot;Python&quot;-and-create-a-list-of-links-on-that-page-1\"><span class=\"toc-item-num\">1&nbsp;&nbsp;</span>Retrieve an arbitrary Wikipedia page of \"Python\" and create a list of links on that page</a></span></li><li><span><a href=\"#Find-the-number-of-titles-that-have-changed-in-the-United-States-Code-since-its-last-release-point\" data-toc-modified-id=\"Find-the-number-of-titles-that-have-changed-in-the-United-States-Code-since-its-last-release-point-2\"><span class=\"toc-item-num\">2&nbsp;&nbsp;</span>Find the number of titles that have changed in the United States Code since its last release point</a></span></li><li><span><a href=\"#Create-a-Python-list-with-the-top-ten-FBI's-Most-Wanted-names\" data-toc-modified-id=\"Create-a-Python-list-with-the-top-ten-FBI's-Most-Wanted-names-3\"><span class=\"toc-item-num\">3&nbsp;&nbsp;</span>Create a Python list with the top ten FBI's Most Wanted names</a></span></li><li><span><a href=\"#Display-the-20-latest-earthquakes-info-(date,-time,-latitude,-longitude-and-region-name)-by-the-EMSC-as-a-pandas-dataframe\" data-toc-modified-id=\"Display-the-20-latest-earthquakes-info-(date,-time,-latitude,-longitude-and-region-name)-by-the-EMSC-as-a-pandas-dataframe-4\"><span class=\"toc-item-num\">4&nbsp;&nbsp;</span>Display the 20 latest earthquakes info (date, time, latitude, longitude and region name) by the EMSC as a pandas dataframe</a></span></li><li><span><a href=\"#List-all-language-names-and-number-of-related-articles-in-the-order-they-appear-in-wikipedia.org\" data-toc-modified-id=\"List-all-language-names-and-number-of-related-articles-in-the-order-they-appear-in-wikipedia.org-5\"><span class=\"toc-item-num\">5&nbsp;&nbsp;</span>List all language names and number of related articles in the order they appear in <a href=\"wikipedia.org\" target=\"_blank\">wikipedia.org</a></a></span></li><li><span><a href=\"#A-list-with-the-different-kind-of-datasets-available-in-data.gov.uk\" data-toc-modified-id=\"A-list-with-the-different-kind-of-datasets-available-in-data.gov.uk-6\"><span class=\"toc-item-num\">6&nbsp;&nbsp;</span>A list with the different kind of datasets available in <a href=\"data.gov.uk\" target=\"_blank\">data.gov.uk</a></a></span></li><li><span><a href=\"#Display-the-top-10-languages-by-number-of-native-speakers-stored-in-a-pandas-dataframe\" data-toc-modified-id=\"Display-the-top-10-languages-by-number-of-native-speakers-stored-in-a-pandas-dataframe-7\"><span class=\"toc-item-num\">7&nbsp;&nbsp;</span>Display the top 10 languages by number of native speakers stored in a pandas dataframe</a></span></li></ul></div>"
   ]
  },
  {
   "cell_type": "markdown",
   "id": "cellular-poster",
   "metadata": {},
   "source": [
    "As you've seen, scraping the internet is a skill that can get you all sorts of information. Here are some little challenges to gain more experience in the field"
   ]
  },
  {
   "cell_type": "code",
   "execution_count": 43,
   "id": "58319523-03d5-4e5c-8601-8d78cbc7bc50",
   "metadata": {},
   "outputs": [],
   "source": [
    "from bs4 import BeautifulSoup\n",
    "import pandas as pd\n",
    "import requests\n",
    "import math"
   ]
  },
  {
   "cell_type": "markdown",
   "id": "express-introduction",
   "metadata": {},
   "source": [
    "### Retrieve an arbitrary Wikipedia page of \"Python\" and create a list of links on that page"
   ]
  },
  {
   "cell_type": "code",
   "execution_count": 3,
   "id": "appreciated-bubble",
   "metadata": {},
   "outputs": [],
   "source": [
    "url_python ='https://en.wikipedia.org/wiki/Python'"
   ]
  },
  {
   "cell_type": "code",
   "execution_count": 4,
   "id": "23860818-ef11-452b-a53f-af9fe383a392",
   "metadata": {},
   "outputs": [
    {
     "name": "stdout",
     "output_type": "stream",
     "text": [
      "Python: 200\n"
     ]
    }
   ],
   "source": [
    "python = requests.get(url_python)\n",
    "print(\"Python:\", python.status_code)"
   ]
  },
  {
   "cell_type": "code",
   "execution_count": 8,
   "id": "b1c51a36-67ee-4a60-9ce9-08988f0cdfad",
   "metadata": {},
   "outputs": [],
   "source": [
    "python_soup = BeautifulSoup(python.content, 'html.parser')\n",
    "\n",
    "python_list = python_soup.find('div', attrs={'class': 'mw-parser-output'}).find_all('a')"
   ]
  },
  {
   "cell_type": "code",
   "execution_count": 9,
   "id": "23793993-ad66-4af5-83e7-794e1b29de7f",
   "metadata": {},
   "outputs": [],
   "source": [
    "url_name = []\n",
    "link = []\n",
    "\n",
    "for i in python_list:\n",
    "    url_name.append(i.get_text())\n",
    "    link.append(i.get('href'))"
   ]
  },
  {
   "cell_type": "code",
   "execution_count": 10,
   "id": "072158bd-4f3f-4ccd-a555-4ca1a95285cc",
   "metadata": {},
   "outputs": [
    {
     "data": {
      "text/html": [
       "<div>\n",
       "<style scoped>\n",
       "    .dataframe tbody tr th:only-of-type {\n",
       "        vertical-align: middle;\n",
       "    }\n",
       "\n",
       "    .dataframe tbody tr th {\n",
       "        vertical-align: top;\n",
       "    }\n",
       "\n",
       "    .dataframe thead th {\n",
       "        text-align: right;\n",
       "    }\n",
       "</style>\n",
       "<table border=\"1\" class=\"dataframe\">\n",
       "  <thead>\n",
       "    <tr style=\"text-align: right;\">\n",
       "      <th></th>\n",
       "      <th>url_name</th>\n",
       "      <th>link</th>\n",
       "    </tr>\n",
       "  </thead>\n",
       "  <tbody>\n",
       "    <tr>\n",
       "      <th>0</th>\n",
       "      <td>Python</td>\n",
       "      <td>https://en.wiktionary.org/wiki/Python</td>\n",
       "    </tr>\n",
       "    <tr>\n",
       "      <th>1</th>\n",
       "      <td>python</td>\n",
       "      <td>https://en.wiktionary.org/wiki/python</td>\n",
       "    </tr>\n",
       "    <tr>\n",
       "      <th>2</th>\n",
       "      <td>Pythonidae</td>\n",
       "      <td>/wiki/Pythonidae</td>\n",
       "    </tr>\n",
       "    <tr>\n",
       "      <th>3</th>\n",
       "      <td>Python (genus)</td>\n",
       "      <td>/wiki/Python_(genus)</td>\n",
       "    </tr>\n",
       "    <tr>\n",
       "      <th>4</th>\n",
       "      <td>1 Computing</td>\n",
       "      <td>#Computing</td>\n",
       "    </tr>\n",
       "  </tbody>\n",
       "</table>\n",
       "</div>"
      ],
      "text/plain": [
       "         url_name                                   link\n",
       "0          Python  https://en.wiktionary.org/wiki/Python\n",
       "1          python  https://en.wiktionary.org/wiki/python\n",
       "2      Pythonidae                       /wiki/Pythonidae\n",
       "3  Python (genus)                   /wiki/Python_(genus)\n",
       "4     1 Computing                             #Computing"
      ]
     },
     "execution_count": 10,
     "metadata": {},
     "output_type": "execute_result"
    }
   ],
   "source": [
    "python_wiki = pd.DataFrame({'url_name': url_name, 'link': link})\n",
    "python_wiki.head()"
   ]
  },
  {
   "cell_type": "markdown",
   "id": "relevant-performer",
   "metadata": {},
   "source": [
    "### Find the number of titles that have changed in the United States Code since its last release point"
   ]
  },
  {
   "cell_type": "code",
   "execution_count": 13,
   "id": "scenic-surgeon",
   "metadata": {},
   "outputs": [],
   "source": [
    "url_uscode = 'http://uscode.house.gov/download/download.shtml'"
   ]
  },
  {
   "cell_type": "code",
   "execution_count": 14,
   "id": "8b1fc16b-025c-4372-8eac-5be06ae3a69c",
   "metadata": {},
   "outputs": [
    {
     "name": "stdout",
     "output_type": "stream",
     "text": [
      "US Code: 200\n"
     ]
    }
   ],
   "source": [
    "uscode = requests.get(url_uscode)\n",
    "print(\"US Code:\", uscode.status_code)"
   ]
  },
  {
   "cell_type": "code",
   "execution_count": 15,
   "id": "dc30a9cd-b821-46cd-8c4d-82df6550a0eb",
   "metadata": {},
   "outputs": [],
   "source": [
    "uscode_soup = BeautifulSoup(uscode.content, 'html.parser')\n",
    "\n",
    "uscode_list = uscode_soup.find_all('div', attrs={'class': 'usctitlechanged'})"
   ]
  },
  {
   "cell_type": "code",
   "execution_count": 16,
   "id": "47fe5931-1c77-46ef-b90a-3d547a357c4d",
   "metadata": {},
   "outputs": [
    {
     "data": {
      "text/plain": [
       "['Title 1 - General Provisions٭',\n",
       " 'Title 5 - Government Organization and Employees٭',\n",
       " 'Title 8 - Aliens and Nationality',\n",
       " 'Title 11 - Bankruptcy٭',\n",
       " 'Title 18 - Crimes and Criminal Procedure٭',\n",
       " 'Title 23 - Highways٭',\n",
       " 'Title 26 - Internal Revenue Code',\n",
       " 'Title 42 - The Public Health and Welfare']"
      ]
     },
     "execution_count": 16,
     "metadata": {},
     "output_type": "execute_result"
    }
   ],
   "source": [
    "ustitle =[]\n",
    "\n",
    "for title in uscode_list:\n",
    "    ustitle.append(title.get_text(strip=True))\n",
    "    \n",
    "ustitle"
   ]
  },
  {
   "cell_type": "code",
   "execution_count": 17,
   "id": "9e09eb4b-4b1b-4feb-a236-7390a272e5c3",
   "metadata": {},
   "outputs": [
    {
     "data": {
      "text/html": [
       "<div>\n",
       "<style scoped>\n",
       "    .dataframe tbody tr th:only-of-type {\n",
       "        vertical-align: middle;\n",
       "    }\n",
       "\n",
       "    .dataframe tbody tr th {\n",
       "        vertical-align: top;\n",
       "    }\n",
       "\n",
       "    .dataframe thead th {\n",
       "        text-align: right;\n",
       "    }\n",
       "</style>\n",
       "<table border=\"1\" class=\"dataframe\">\n",
       "  <thead>\n",
       "    <tr style=\"text-align: right;\">\n",
       "      <th></th>\n",
       "      <th>US Code titles changed</th>\n",
       "    </tr>\n",
       "  </thead>\n",
       "  <tbody>\n",
       "    <tr>\n",
       "      <th>0</th>\n",
       "      <td>Title 1 - General Provisions٭</td>\n",
       "    </tr>\n",
       "    <tr>\n",
       "      <th>1</th>\n",
       "      <td>Title 5 - Government Organization and Employees٭</td>\n",
       "    </tr>\n",
       "    <tr>\n",
       "      <th>2</th>\n",
       "      <td>Title 8 - Aliens and Nationality</td>\n",
       "    </tr>\n",
       "    <tr>\n",
       "      <th>3</th>\n",
       "      <td>Title 11 - Bankruptcy٭</td>\n",
       "    </tr>\n",
       "    <tr>\n",
       "      <th>4</th>\n",
       "      <td>Title 18 - Crimes and Criminal Procedure٭</td>\n",
       "    </tr>\n",
       "    <tr>\n",
       "      <th>5</th>\n",
       "      <td>Title 23 - Highways٭</td>\n",
       "    </tr>\n",
       "    <tr>\n",
       "      <th>6</th>\n",
       "      <td>Title 26 - Internal Revenue Code</td>\n",
       "    </tr>\n",
       "    <tr>\n",
       "      <th>7</th>\n",
       "      <td>Title 42 - The Public Health and Welfare</td>\n",
       "    </tr>\n",
       "  </tbody>\n",
       "</table>\n",
       "</div>"
      ],
      "text/plain": [
       "                             US Code titles changed\n",
       "0                     Title 1 - General Provisions٭\n",
       "1  Title 5 - Government Organization and Employees٭\n",
       "2                  Title 8 - Aliens and Nationality\n",
       "3                            Title 11 - Bankruptcy٭\n",
       "4         Title 18 - Crimes and Criminal Procedure٭\n",
       "5                              Title 23 - Highways٭\n",
       "6                  Title 26 - Internal Revenue Code\n",
       "7          Title 42 - The Public Health and Welfare"
      ]
     },
     "execution_count": 17,
     "metadata": {},
     "output_type": "execute_result"
    }
   ],
   "source": [
    "ustitlechg = pd.DataFrame({'US Code titles changed': ustitle})\n",
    "ustitlechg"
   ]
  },
  {
   "cell_type": "markdown",
   "id": "acute-necessity",
   "metadata": {},
   "source": [
    "### Create a Python list with the top ten FBI's Most Wanted names"
   ]
  },
  {
   "cell_type": "code",
   "execution_count": 18,
   "id": "starting-blackberry",
   "metadata": {},
   "outputs": [],
   "source": [
    "url_fbi = 'https://www.fbi.gov/wanted/topten'"
   ]
  },
  {
   "cell_type": "code",
   "execution_count": 19,
   "id": "8399b92c-b7a8-410e-8eb1-05dd7ab12ba4",
   "metadata": {},
   "outputs": [
    {
     "name": "stdout",
     "output_type": "stream",
     "text": [
      "FBI: 200\n"
     ]
    }
   ],
   "source": [
    "fbi = requests.get(url_fbi)\n",
    "print(\"FBI:\", fbi.status_code)"
   ]
  },
  {
   "cell_type": "code",
   "execution_count": 20,
   "id": "5596eb23-e63e-4085-9ee5-1501940c2515",
   "metadata": {},
   "outputs": [],
   "source": [
    "fbi_soup = BeautifulSoup(fbi.content, 'html.parser')\n",
    "\n",
    "fbi_list = fbi_soup.find_all('li', attrs={'class': 'portal-type-person castle-grid-block-item'})"
   ]
  },
  {
   "cell_type": "code",
   "execution_count": 22,
   "id": "5a1bbc95-f478-405d-9d0a-041737c4ef97",
   "metadata": {},
   "outputs": [
    {
     "data": {
      "text/plain": [
       "['JASON DEREK BROWN',\n",
       " 'ALEXIS FLORES',\n",
       " 'JOSE RODOLFO VILLARREAL-HERNANDEZ',\n",
       " 'OCTAVIANO JUAREZ-CORRO',\n",
       " 'EUGENE PALMER',\n",
       " 'RAFAEL CARO-QUINTERO',\n",
       " 'BHADRESHKUMAR CHETANBHAI PATEL',\n",
       " 'ALEJANDRO ROSALES CASTILLO',\n",
       " 'ROBERT WILLIAM FISHER',\n",
       " 'ARNOLDO JIMENEZ']"
      ]
     },
     "execution_count": 22,
     "metadata": {},
     "output_type": "execute_result"
    }
   ],
   "source": [
    "listmwtop10 =[]\n",
    "\n",
    "for j in fbi_list:\n",
    "    listmwtop10.append(j.find('h3').find('a').get_text())\n",
    "\n",
    "listmwtop10"
   ]
  },
  {
   "cell_type": "markdown",
   "id": "joined-induction",
   "metadata": {},
   "source": [
    "### Display the 20 latest earthquakes info (date, time, latitude, longitude and region name) by the EMSC as a pandas dataframe"
   ]
  },
  {
   "cell_type": "code",
   "execution_count": 96,
   "id": "copyrighted-taiwan",
   "metadata": {},
   "outputs": [],
   "source": [
    "url_earthquake = 'https://www.emsc-csem.org/Earthquake/'"
   ]
  },
  {
   "cell_type": "code",
   "execution_count": 97,
   "id": "c3be31e8-7406-4c01-bf10-6bfaa08e870a",
   "metadata": {},
   "outputs": [
    {
     "name": "stdout",
     "output_type": "stream",
     "text": [
      "Earthquake: 200\n"
     ]
    }
   ],
   "source": [
    "earthquake = requests.get(url_earthquake)\n",
    "print(\"Earthquake:\", earthquake.status_code)"
   ]
  },
  {
   "cell_type": "code",
   "execution_count": 98,
   "id": "7e266390-2357-4c64-a633-ac1eb0da95f4",
   "metadata": {},
   "outputs": [],
   "source": [
    "earthquake_soup = BeautifulSoup(earthquake.content, 'html.parser')\n",
    "\n",
    "earthquake_list1 = earthquake_soup.find_all('tr', attrs={'class': 'ligne1 normal'})\n",
    "earthquake_list2 = earthquake_soup.find_all('tr', attrs={'class': 'ligne2 normal'})"
   ]
  },
  {
   "cell_type": "code",
   "execution_count": 99,
   "id": "39296a3f-012c-402b-8cb2-2317c05a8c63",
   "metadata": {},
   "outputs": [
    {
     "data": {
      "text/plain": [
       "[<tr class=\"ligne1 normal\" id=\"1046147\" onclick=\"go_details(event,1046147);\"><td class=\"tabev0\"></td><td class=\"tabev0\"></td><td class=\"tabev0\"></td><td class=\"tabev6\"><b><i style=\"display:none;\">earthquake</i><a href=\"/Earthquake/earthquake.php?id=1046147\">2021-10-09   13:16:00.0</a></b><i class=\"ago\" id=\"ago0\">15min ago</i></td><td class=\"tabev1\">46.27 </td><td class=\"tabev2\">N  </td><td class=\"tabev1\">14.65 </td><td class=\"tabev2\">E  </td><td class=\"tabev3\">19</td><td class=\"tabev5\" id=\"magtyp0\">ML</td><td class=\"tabev2\">1.1</td><td class=\"tb_region\" id=\"reg0\"> SLOVENIA</td><td class=\"comment updatetimeno\" id=\"upd0\" style=\"text-align:right;\">2021-10-09 13:19</td></tr>,\n",
       " <tr class=\"ligne2 normal\" id=\"1046146\" onclick=\"go_details(event,1046146);\"><td class=\"tabev0\" style=\"text-align:center;\"><a href=\"https://www.emsc-csem.org/Earthquake/Testimonies/comments.php?id=1046146\" onmouseout=\"info_b2('notshow','');\" onmouseover=\"info_b2('show','See the &lt;b&gt;testimony&lt;/b&gt; for this earthquake');\"><span class=\"\" style=\"vertical-align:middle;\">1</span></a></td><td class=\"tabev0\"></td><td class=\"tabev0\"><span class=\"intensity\" onclick=\"go_details(event,null,'https://www.emsc-csem.org/Earthquake/popup_intensmap.php?id=1046146&amp;f=/FELTREPORTS/104/1046146/IntensityMap.png');\" onmouseout=\"info_b2('notshow','');\" onmouseover=\"info_b2('show','See the &lt;b&gt; Intensity map&lt;/b&gt;');\" style=\"background-color:#FFFFFF;\">F</span></td><td class=\"tabev6\"><b><i style=\"display:none;\">earthquake</i><a href=\"/Earthquake/earthquake.php?id=1046146\">2021-10-09   13:10:50.3</a></b><i class=\"ago\" id=\"ago1\">20min ago</i></td><td class=\"tabev1\">46.28 </td><td class=\"tabev2\">N  </td><td class=\"tabev1\">14.65 </td><td class=\"tabev2\">E  </td><td class=\"tabev3\">5</td><td class=\"tabev5\" id=\"magtyp1\">ML</td><td class=\"tabev2\">2.6</td><td class=\"tb_region\" id=\"reg1\"> SLOVENIA</td><td class=\"comment updatetimeno\" id=\"upd1\" style=\"text-align:right;\">2021-10-09 13:28</td></tr>]"
      ]
     },
     "execution_count": 99,
     "metadata": {},
     "output_type": "execute_result"
    }
   ],
   "source": [
    "earthquake_list = []\n",
    "\n",
    "for k in range(len(earthquake_list1)):\n",
    "    earthquake_list.append(earthquake_list1[k])\n",
    "    earthquake_list.append(earthquake_list2[k])\n",
    "    \n",
    "earthquake_list[:2]"
   ]
  },
  {
   "cell_type": "code",
   "execution_count": 100,
   "id": "0bdd1b4f-efaa-409a-9450-13c407279af9",
   "metadata": {},
   "outputs": [],
   "source": [
    "earthquake_dt = []\n",
    "earthquake_lat = []\n",
    "earthquake_ltd = []\n",
    "earthquake_reg = []\n",
    "\n",
    "for eq in earthquake_list:\n",
    "    earthquake_dt.append(eq.find('td', attrs={'class': 'tabev6'}).find('a').get_text().replace('\\xa0\\xa0\\xa0', ' '))\n",
    "    lat_value = eq.find_all('td', attrs={'class': 'tabev1'})[0].get_text(strip=True)\n",
    "    lat_ns = eq.find_all('td', attrs={'class': 'tabev2'})[0].get_text(strip=True)\n",
    "    earthquake_lat.append(lat_value + lat_ns)\n",
    "    ltd_value = eq.find_all('td', attrs={'class': 'tabev1'})[1].get_text(strip=True)\n",
    "    ltd_ns = eq.find_all('td', attrs={'class': 'tabev2'})[1].get_text(strip=True)\n",
    "    earthquake_ltd.append(ltd_value + ltd_ns)\n",
    "    earthquake_reg.append(eq.find('td', attrs={'class': 'tb_region'}).get_text(strip=True))"
   ]
  },
  {
   "cell_type": "code",
   "execution_count": 101,
   "id": "499ef865-8f63-4719-9800-c0bd619a1af1",
   "metadata": {},
   "outputs": [
    {
     "data": {
      "text/html": [
       "<div>\n",
       "<style scoped>\n",
       "    .dataframe tbody tr th:only-of-type {\n",
       "        vertical-align: middle;\n",
       "    }\n",
       "\n",
       "    .dataframe tbody tr th {\n",
       "        vertical-align: top;\n",
       "    }\n",
       "\n",
       "    .dataframe thead th {\n",
       "        text-align: right;\n",
       "    }\n",
       "</style>\n",
       "<table border=\"1\" class=\"dataframe\">\n",
       "  <thead>\n",
       "    <tr style=\"text-align: right;\">\n",
       "      <th></th>\n",
       "      <th>Dates &amp; time</th>\n",
       "      <th>Latitude</th>\n",
       "      <th>Longitude</th>\n",
       "      <th>Region</th>\n",
       "    </tr>\n",
       "  </thead>\n",
       "  <tbody>\n",
       "    <tr>\n",
       "      <th>0</th>\n",
       "      <td>2021-10-09 13:16:00.0</td>\n",
       "      <td>46.27N</td>\n",
       "      <td>14.65E</td>\n",
       "      <td>SLOVENIA</td>\n",
       "    </tr>\n",
       "    <tr>\n",
       "      <th>1</th>\n",
       "      <td>2021-10-09 13:10:50.3</td>\n",
       "      <td>46.28N</td>\n",
       "      <td>14.65E</td>\n",
       "      <td>SLOVENIA</td>\n",
       "    </tr>\n",
       "    <tr>\n",
       "      <th>2</th>\n",
       "      <td>2021-10-09 13:02:04.7</td>\n",
       "      <td>28.56N</td>\n",
       "      <td>17.82W</td>\n",
       "      <td>CANARY ISLANDS, SPAIN REGION</td>\n",
       "    </tr>\n",
       "    <tr>\n",
       "      <th>3</th>\n",
       "      <td>2021-10-09 12:49:28.3</td>\n",
       "      <td>28.55N</td>\n",
       "      <td>17.84W</td>\n",
       "      <td>CANARY ISLANDS, SPAIN REGION</td>\n",
       "    </tr>\n",
       "    <tr>\n",
       "      <th>4</th>\n",
       "      <td>2021-10-09 12:29:58.0</td>\n",
       "      <td>10.02S</td>\n",
       "      <td>118.35E</td>\n",
       "      <td>SOUTH OF SUMBAWA, INDONESIA</td>\n",
       "    </tr>\n",
       "  </tbody>\n",
       "</table>\n",
       "</div>"
      ],
      "text/plain": [
       "            Dates & time Latitude Longitude                        Region\n",
       "0  2021-10-09 13:16:00.0   46.27N    14.65E                      SLOVENIA\n",
       "1  2021-10-09 13:10:50.3   46.28N    14.65E                      SLOVENIA\n",
       "2  2021-10-09 13:02:04.7   28.56N    17.82W  CANARY ISLANDS, SPAIN REGION\n",
       "3  2021-10-09 12:49:28.3   28.55N    17.84W  CANARY ISLANDS, SPAIN REGION\n",
       "4  2021-10-09 12:29:58.0   10.02S   118.35E   SOUTH OF SUMBAWA, INDONESIA"
      ]
     },
     "execution_count": 101,
     "metadata": {},
     "output_type": "execute_result"
    }
   ],
   "source": [
    "list_eq = pd.DataFrame({'Dates & time': earthquake_dt, 'Latitude': earthquake_lat, 'Longitude': earthquake_ltd, 'Region': earthquake_reg})\n",
    "list_eq.head()"
   ]
  },
  {
   "cell_type": "code",
   "execution_count": 105,
   "id": "6c00a6b3-7cd4-4faa-8966-5b3e2b8401d0",
   "metadata": {},
   "outputs": [],
   "source": [
    "list_eq['Dates'] = pd.to_datetime(list_eq['Dates & time']).dt.date\n",
    "list_eq['Time'] = pd.to_datetime(list_eq['Dates & time']).dt.time"
   ]
  },
  {
   "cell_type": "code",
   "execution_count": 108,
   "id": "c0cd7346-660a-4214-904d-e49985c7d1a0",
   "metadata": {},
   "outputs": [
    {
     "data": {
      "text/plain": [
       "Index(['Dates', 'Time', 'Latitude', 'Longitude', 'Region'], dtype='object')"
      ]
     },
     "execution_count": 108,
     "metadata": {},
     "output_type": "execute_result"
    }
   ],
   "source": [
    "#list_eq.dtypes\n",
    "list_eq.columns"
   ]
  },
  {
   "cell_type": "code",
   "execution_count": 106,
   "id": "6a9aa842-2bc0-4822-a28b-ce77185d5109",
   "metadata": {},
   "outputs": [
    {
     "data": {
      "text/html": [
       "<div>\n",
       "<style scoped>\n",
       "    .dataframe tbody tr th:only-of-type {\n",
       "        vertical-align: middle;\n",
       "    }\n",
       "\n",
       "    .dataframe tbody tr th {\n",
       "        vertical-align: top;\n",
       "    }\n",
       "\n",
       "    .dataframe thead th {\n",
       "        text-align: right;\n",
       "    }\n",
       "</style>\n",
       "<table border=\"1\" class=\"dataframe\">\n",
       "  <thead>\n",
       "    <tr style=\"text-align: right;\">\n",
       "      <th></th>\n",
       "      <th>Dates</th>\n",
       "      <th>Time</th>\n",
       "      <th>Latitude</th>\n",
       "      <th>Longitude</th>\n",
       "      <th>Region</th>\n",
       "    </tr>\n",
       "  </thead>\n",
       "  <tbody>\n",
       "    <tr>\n",
       "      <th>0</th>\n",
       "      <td>2021-10-09</td>\n",
       "      <td>13:16:00</td>\n",
       "      <td>46.27N</td>\n",
       "      <td>14.65E</td>\n",
       "      <td>SLOVENIA</td>\n",
       "    </tr>\n",
       "    <tr>\n",
       "      <th>1</th>\n",
       "      <td>2021-10-09</td>\n",
       "      <td>13:10:50.300000</td>\n",
       "      <td>46.28N</td>\n",
       "      <td>14.65E</td>\n",
       "      <td>SLOVENIA</td>\n",
       "    </tr>\n",
       "    <tr>\n",
       "      <th>2</th>\n",
       "      <td>2021-10-09</td>\n",
       "      <td>13:02:04.700000</td>\n",
       "      <td>28.56N</td>\n",
       "      <td>17.82W</td>\n",
       "      <td>CANARY ISLANDS, SPAIN REGION</td>\n",
       "    </tr>\n",
       "    <tr>\n",
       "      <th>3</th>\n",
       "      <td>2021-10-09</td>\n",
       "      <td>12:49:28.300000</td>\n",
       "      <td>28.55N</td>\n",
       "      <td>17.84W</td>\n",
       "      <td>CANARY ISLANDS, SPAIN REGION</td>\n",
       "    </tr>\n",
       "    <tr>\n",
       "      <th>4</th>\n",
       "      <td>2021-10-09</td>\n",
       "      <td>12:29:58</td>\n",
       "      <td>10.02S</td>\n",
       "      <td>118.35E</td>\n",
       "      <td>SOUTH OF SUMBAWA, INDONESIA</td>\n",
       "    </tr>\n",
       "  </tbody>\n",
       "</table>\n",
       "</div>"
      ],
      "text/plain": [
       "        Dates             Time Latitude Longitude  \\\n",
       "0  2021-10-09         13:16:00   46.27N    14.65E   \n",
       "1  2021-10-09  13:10:50.300000   46.28N    14.65E   \n",
       "2  2021-10-09  13:02:04.700000   28.56N    17.82W   \n",
       "3  2021-10-09  12:49:28.300000   28.55N    17.84W   \n",
       "4  2021-10-09         12:29:58   10.02S   118.35E   \n",
       "\n",
       "                         Region  \n",
       "0                      SLOVENIA  \n",
       "1                      SLOVENIA  \n",
       "2  CANARY ISLANDS, SPAIN REGION  \n",
       "3  CANARY ISLANDS, SPAIN REGION  \n",
       "4   SOUTH OF SUMBAWA, INDONESIA  "
      ]
     },
     "execution_count": 106,
     "metadata": {},
     "output_type": "execute_result"
    }
   ],
   "source": [
    "list_eq = pd.DataFrame({'Dates': list_eq['Dates'], 'Time': list_eq['Time'], 'Latitude': earthquake_lat, 'Longitude': earthquake_ltd, 'Region': earthquake_reg})\n",
    "list_eq.head()"
   ]
  },
  {
   "cell_type": "markdown",
   "id": "dominican-defeat",
   "metadata": {},
   "source": [
    "### List all language names and number of related articles in the order they appear in [wikipedia.org](wikipedia.org)"
   ]
  },
  {
   "cell_type": "code",
   "execution_count": 2,
   "id": "metric-vertex",
   "metadata": {},
   "outputs": [],
   "source": [
    "url_wiki = 'https://www.wikipedia.org/'"
   ]
  },
  {
   "cell_type": "code",
   "execution_count": 3,
   "id": "60d4c89d-8ea1-4449-8ff7-1af392a9a59c",
   "metadata": {},
   "outputs": [
    {
     "name": "stdout",
     "output_type": "stream",
     "text": [
      "Wiki: 200\n"
     ]
    }
   ],
   "source": [
    "wiki = requests.get(url_wiki)\n",
    "print(\"Wiki:\", wiki.status_code)"
   ]
  },
  {
   "cell_type": "code",
   "execution_count": 4,
   "id": "db6aaa2d-9aab-497f-b24c-a2105ae711d5",
   "metadata": {},
   "outputs": [],
   "source": [
    "wiki_soup = BeautifulSoup(wiki.content, 'html.parser')\n",
    "\n",
    "wiki_list = wiki_soup.find('div', attrs={'class': 'lang-list-content'}).find_all('a')"
   ]
  },
  {
   "cell_type": "code",
   "execution_count": 5,
   "id": "d9477a18-f89e-4bd9-af08-984293938d38",
   "metadata": {},
   "outputs": [
    {
     "data": {
      "text/plain": [
       "'https://meta.wikimedia.org/wiki/Special:MyLanguage/List_of_Wikipedias'"
      ]
     },
     "execution_count": 5,
     "metadata": {},
     "output_type": "execute_result"
    }
   ],
   "source": [
    "lng = []\n",
    "lnk = []\n",
    "\n",
    "for l in wiki_list:\n",
    "    lng.append(l.get_text())\n",
    "    lnk.append(l.get('href'))\n",
    "\n",
    "lng.pop()\n",
    "lnk.pop()"
   ]
  },
  {
   "cell_type": "code",
   "execution_count": 6,
   "id": "345cb8db-1ab7-4bdc-ba84-f1fa02bec662",
   "metadata": {},
   "outputs": [],
   "source": [
    "lst_art = []\n",
    "\n",
    "for k in lnk:\n",
    "    stats_page = 'https:' + k + 'wiki/Special:Statistics'\n",
    "    response = requests.get(stats_page)\n",
    "    soup_stats = BeautifulSoup(response.content, \"html.parser\")\n",
    "    lst_art.append(soup_stats.find('tr', attrs={'class': 'mw-statistics-articles'}).find('td', attrs={'class': 'mw-statistics-numbers'}).get_text().replace('\\xa0', '').replace(',', '').replace('.', '').replace('٬', ''))"
   ]
  },
  {
   "cell_type": "code",
   "execution_count": 7,
   "id": "e33c31a1-001a-4792-ade2-f9c026aa0e3a",
   "metadata": {},
   "outputs": [
    {
     "data": {
      "text/html": [
       "<div>\n",
       "<style scoped>\n",
       "    .dataframe tbody tr th:only-of-type {\n",
       "        vertical-align: middle;\n",
       "    }\n",
       "\n",
       "    .dataframe tbody tr th {\n",
       "        vertical-align: top;\n",
       "    }\n",
       "\n",
       "    .dataframe thead th {\n",
       "        text-align: right;\n",
       "    }\n",
       "</style>\n",
       "<table border=\"1\" class=\"dataframe\">\n",
       "  <thead>\n",
       "    <tr style=\"text-align: right;\">\n",
       "      <th></th>\n",
       "      <th>Language</th>\n",
       "      <th>Number of Articles</th>\n",
       "    </tr>\n",
       "  </thead>\n",
       "  <tbody>\n",
       "    <tr>\n",
       "      <th>0</th>\n",
       "      <td>Polski</td>\n",
       "      <td>1492391</td>\n",
       "    </tr>\n",
       "    <tr>\n",
       "      <th>1</th>\n",
       "      <td>العربية</td>\n",
       "      <td>1139381</td>\n",
       "    </tr>\n",
       "    <tr>\n",
       "      <th>2</th>\n",
       "      <td>Deutsch</td>\n",
       "      <td>2621204</td>\n",
       "    </tr>\n",
       "    <tr>\n",
       "      <th>3</th>\n",
       "      <td>English</td>\n",
       "      <td>6390798</td>\n",
       "    </tr>\n",
       "    <tr>\n",
       "      <th>4</th>\n",
       "      <td>Español</td>\n",
       "      <td>1720776</td>\n",
       "    </tr>\n",
       "  </tbody>\n",
       "</table>\n",
       "</div>"
      ],
      "text/plain": [
       "  Language Number of Articles\n",
       "0   Polski            1492391\n",
       "1  العربية            1139381\n",
       "2  Deutsch            2621204\n",
       "3  English            6390798\n",
       "4  Español            1720776"
      ]
     },
     "execution_count": 7,
     "metadata": {},
     "output_type": "execute_result"
    }
   ],
   "source": [
    "wiki_languages = pd.DataFrame({'Language': lng, 'Number of Articles': lst_art})\n",
    "wiki_languages.head()"
   ]
  },
  {
   "cell_type": "markdown",
   "id": "split-cartridge",
   "metadata": {},
   "source": [
    "### A list with the different kind of datasets available in [data.gov.uk](data.gov.uk)\n"
   ]
  },
  {
   "cell_type": "code",
   "execution_count": 9,
   "id": "actual-parallel",
   "metadata": {},
   "outputs": [],
   "source": [
    "url_uk = 'https://data.gov.uk/'"
   ]
  },
  {
   "cell_type": "code",
   "execution_count": 10,
   "id": "869bc183-aa2c-46dd-b949-b55547ac9a21",
   "metadata": {},
   "outputs": [
    {
     "name": "stdout",
     "output_type": "stream",
     "text": [
      "UK: 200\n"
     ]
    }
   ],
   "source": [
    "uk = requests.get(url_uk)\n",
    "print(\"UK:\", uk.status_code)"
   ]
  },
  {
   "cell_type": "code",
   "execution_count": 11,
   "id": "af0a6ce6-d6ee-4e4c-95c5-6b923005722d",
   "metadata": {},
   "outputs": [],
   "source": [
    "uk_soup = BeautifulSoup(uk.content, 'html.parser')\n",
    "\n",
    "uk_cat = uk_soup.find('ul', attrs={'class': 'govuk-list dgu-topics__list'}).find_all('a', attrs={'class': 'govuk-link'})\n",
    "uk_inf = uk_soup.find('ul', attrs={'class': 'govuk-list dgu-topics__list'}).find_all('p', attrs={'class': 'govuk-body'})"
   ]
  },
  {
   "cell_type": "code",
   "execution_count": 12,
   "id": "aeeb1705-6943-4d54-8b7d-fd6b07b7fad6",
   "metadata": {},
   "outputs": [],
   "source": [
    "for m in range(len(uk_cat)):\n",
    "    uk_cat[m] = uk_cat[m].get_text()\n",
    "    uk_inf[m] = uk_inf[m].get_text()"
   ]
  },
  {
   "cell_type": "code",
   "execution_count": 13,
   "id": "2e614b0c-cc4a-498c-88b4-4d7b62447606",
   "metadata": {},
   "outputs": [
    {
     "data": {
      "text/html": [
       "<div>\n",
       "<style scoped>\n",
       "    .dataframe tbody tr th:only-of-type {\n",
       "        vertical-align: middle;\n",
       "    }\n",
       "\n",
       "    .dataframe tbody tr th {\n",
       "        vertical-align: top;\n",
       "    }\n",
       "\n",
       "    .dataframe thead th {\n",
       "        text-align: right;\n",
       "    }\n",
       "</style>\n",
       "<table border=\"1\" class=\"dataframe\">\n",
       "  <thead>\n",
       "    <tr style=\"text-align: right;\">\n",
       "      <th></th>\n",
       "      <th>Category</th>\n",
       "      <th>Sub Category</th>\n",
       "    </tr>\n",
       "  </thead>\n",
       "  <tbody>\n",
       "    <tr>\n",
       "      <th>0</th>\n",
       "      <td>Business and economy</td>\n",
       "      <td>Small businesses, industry, imports, exports a...</td>\n",
       "    </tr>\n",
       "    <tr>\n",
       "      <th>1</th>\n",
       "      <td>Crime and justice</td>\n",
       "      <td>Courts, police, prison, offenders, borders and...</td>\n",
       "    </tr>\n",
       "    <tr>\n",
       "      <th>2</th>\n",
       "      <td>Defence</td>\n",
       "      <td>Armed forces, health and safety, search and re...</td>\n",
       "    </tr>\n",
       "    <tr>\n",
       "      <th>3</th>\n",
       "      <td>Education</td>\n",
       "      <td>Students, training, qualifications and the Nat...</td>\n",
       "    </tr>\n",
       "    <tr>\n",
       "      <th>4</th>\n",
       "      <td>Environment</td>\n",
       "      <td>Weather, flooding, rivers, air quality, geolog...</td>\n",
       "    </tr>\n",
       "  </tbody>\n",
       "</table>\n",
       "</div>"
      ],
      "text/plain": [
       "               Category                                       Sub Category\n",
       "0  Business and economy  Small businesses, industry, imports, exports a...\n",
       "1     Crime and justice  Courts, police, prison, offenders, borders and...\n",
       "2               Defence  Armed forces, health and safety, search and re...\n",
       "3             Education  Students, training, qualifications and the Nat...\n",
       "4           Environment  Weather, flooding, rivers, air quality, geolog..."
      ]
     },
     "execution_count": 13,
     "metadata": {},
     "output_type": "execute_result"
    }
   ],
   "source": [
    "ukgvdt = pd.DataFrame({'Category': uk_cat, 'Sub Category': uk_inf})\n",
    "ukgvdt.head()"
   ]
  },
  {
   "cell_type": "markdown",
   "id": "potential-malpractice",
   "metadata": {},
   "source": [
    "### Display the top 10 languages by number of native speakers stored in a pandas dataframe"
   ]
  },
  {
   "cell_type": "code",
   "execution_count": 31,
   "id": "adaptive-calculator",
   "metadata": {},
   "outputs": [],
   "source": [
    "url_wkspek = 'https://en.wikipedia.org/wiki/List_of_languages_by_number_of_native_speakers'"
   ]
  },
  {
   "cell_type": "code",
   "execution_count": 32,
   "id": "33b56ec5-901b-457a-82ad-bcf4bcd05d31",
   "metadata": {},
   "outputs": [
    {
     "name": "stdout",
     "output_type": "stream",
     "text": [
      "Languages: 200\n"
     ]
    }
   ],
   "source": [
    "wkspek = requests.get(url_wkspek)\n",
    "print(\"Languages:\", wkspek.status_code)"
   ]
  },
  {
   "cell_type": "code",
   "execution_count": 33,
   "id": "c02eb7fa-e70d-4682-9b02-50fe4895e7f3",
   "metadata": {},
   "outputs": [],
   "source": [
    "lang_soup = BeautifulSoup(wkspek.content, 'html.parser')\n",
    "\n",
    "lang_list = lang_soup.find_all(\"td\", class_=False)"
   ]
  },
  {
   "cell_type": "code",
   "execution_count": 34,
   "id": "6dbd9e3d-9c6b-42e1-b838-d9658813215c",
   "metadata": {},
   "outputs": [],
   "source": [
    "lng_lst = []\n",
    "\n",
    "for n in range(1,len(lang_list), 6):\n",
    "    lng_lst.append(lang_list[n].get_text().strip())"
   ]
  },
  {
   "cell_type": "code",
   "execution_count": 35,
   "id": "2d2c8134-15fc-4a60-a4a8-e2a5b589e20e",
   "metadata": {},
   "outputs": [],
   "source": [
    "spek_lst = []\n",
    "\n",
    "for m in range(2,len(lang_list), 6):\n",
    "    spek_lst.append(lang_list[m].get_text().strip())"
   ]
  },
  {
   "cell_type": "code",
   "execution_count": 36,
   "id": "84691fc3-78a1-4c70-ab2c-c2e15a6d6daa",
   "metadata": {},
   "outputs": [
    {
     "data": {
      "text/html": [
       "<div>\n",
       "<style scoped>\n",
       "    .dataframe tbody tr th:only-of-type {\n",
       "        vertical-align: middle;\n",
       "    }\n",
       "\n",
       "    .dataframe tbody tr th {\n",
       "        vertical-align: top;\n",
       "    }\n",
       "\n",
       "    .dataframe thead th {\n",
       "        text-align: right;\n",
       "    }\n",
       "</style>\n",
       "<table border=\"1\" class=\"dataframe\">\n",
       "  <thead>\n",
       "    <tr style=\"text-align: right;\">\n",
       "      <th></th>\n",
       "      <th>Language</th>\n",
       "      <th>Speakers(in millions)</th>\n",
       "    </tr>\n",
       "  </thead>\n",
       "  <tbody>\n",
       "    <tr>\n",
       "      <th>0</th>\n",
       "      <td>Mandarin Chinese</td>\n",
       "      <td>918</td>\n",
       "    </tr>\n",
       "    <tr>\n",
       "      <th>1</th>\n",
       "      <td>Spanish</td>\n",
       "      <td>480</td>\n",
       "    </tr>\n",
       "    <tr>\n",
       "      <th>2</th>\n",
       "      <td>English</td>\n",
       "      <td>379</td>\n",
       "    </tr>\n",
       "    <tr>\n",
       "      <th>3</th>\n",
       "      <td>Hindi (sanskritised Hindustani)[9]</td>\n",
       "      <td>341</td>\n",
       "    </tr>\n",
       "    <tr>\n",
       "      <th>4</th>\n",
       "      <td>Bengali</td>\n",
       "      <td>300</td>\n",
       "    </tr>\n",
       "  </tbody>\n",
       "</table>\n",
       "</div>"
      ],
      "text/plain": [
       "                             Language Speakers(in millions)\n",
       "0                    Mandarin Chinese                   918\n",
       "1                             Spanish                   480\n",
       "2                             English                   379\n",
       "3  Hindi (sanskritised Hindustani)[9]                   341\n",
       "4                             Bengali                   300"
      ]
     },
     "execution_count": 36,
     "metadata": {},
     "output_type": "execute_result"
    }
   ],
   "source": [
    "top_10 = pd.DataFrame({\"Language\": lng_lst, \"Speakers(in millions)\": spek_lst})\n",
    "\n",
    "top_10.head()"
   ]
  }
 ],
 "metadata": {
  "kernelspec": {
   "display_name": "Python 3",
   "language": "python",
   "name": "python3"
  },
  "language_info": {
   "codemirror_mode": {
    "name": "ipython",
    "version": 3
   },
   "file_extension": ".py",
   "mimetype": "text/x-python",
   "name": "python",
   "nbconvert_exporter": "python",
   "pygments_lexer": "ipython3",
   "version": "3.8.8"
  },
  "toc": {
   "base_numbering": 1,
   "nav_menu": {},
   "number_sections": true,
   "sideBar": true,
   "skip_h1_title": false,
   "title_cell": "Table of Contents",
   "title_sidebar": "Contents",
   "toc_cell": true,
   "toc_position": {},
   "toc_section_display": true,
   "toc_window_display": false
  },
  "varInspector": {
   "cols": {
    "lenName": 16,
    "lenType": 16,
    "lenVar": 40
   },
   "kernels_config": {
    "python": {
     "delete_cmd_postfix": "",
     "delete_cmd_prefix": "del ",
     "library": "var_list.py",
     "varRefreshCmd": "print(var_dic_list())"
    },
    "r": {
     "delete_cmd_postfix": ") ",
     "delete_cmd_prefix": "rm(",
     "library": "var_list.r",
     "varRefreshCmd": "cat(var_dic_list()) "
    }
   },
   "types_to_exclude": [
    "module",
    "function",
    "builtin_function_or_method",
    "instance",
    "_Feature"
   ],
   "window_display": false
  }
 },
 "nbformat": 4,
 "nbformat_minor": 5
}
