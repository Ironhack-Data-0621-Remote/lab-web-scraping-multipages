{
 "cells": [
  {
   "cell_type": "markdown",
   "metadata": {
    "toc": true
   },
   "source": [
    "<h1>Table of Contents<span class=\"tocSkip\"></span></h1>\n",
    "<div class=\"toc\"><ul class=\"toc-item\"><li><span><a href=\"#Import-Libraries\" data-toc-modified-id=\"Import-Libraries-1\"><span class=\"toc-item-num\">1&nbsp;&nbsp;</span>Import Libraries</a></span></li><li><span><a href=\"#Retrieve-an-arbitrary-Wikipedia-page-of-&quot;Python&quot;-and-create-a-list-of-links-on-that-page\" data-toc-modified-id=\"Retrieve-an-arbitrary-Wikipedia-page-of-&quot;Python&quot;-and-create-a-list-of-links-on-that-page-2\"><span class=\"toc-item-num\">2&nbsp;&nbsp;</span>Retrieve an arbitrary Wikipedia page of \"Python\" and create a list of links on that page</a></span></li><li><span><a href=\"#Find-the-number-of-titles-that-have-changed-in-the-United-States-Code-since-its-last-release-point\" data-toc-modified-id=\"Find-the-number-of-titles-that-have-changed-in-the-United-States-Code-since-its-last-release-point-3\"><span class=\"toc-item-num\">3&nbsp;&nbsp;</span>Find the number of titles that have changed in the United States Code since its last release point</a></span></li><li><span><a href=\"#Create-a-Python-list-with-the-top-ten-FBI's-Most-Wanted-names\" data-toc-modified-id=\"Create-a-Python-list-with-the-top-ten-FBI's-Most-Wanted-names-4\"><span class=\"toc-item-num\">4&nbsp;&nbsp;</span>Create a Python list with the top ten FBI's Most Wanted names</a></span></li><li><span><a href=\"#Display-the-20-latest-earthquakes-info-(date,-time,-latitude,-longitude-and-region-name)-by-the-EMSC-as-a-pandas-dataframe\" data-toc-modified-id=\"Display-the-20-latest-earthquakes-info-(date,-time,-latitude,-longitude-and-region-name)-by-the-EMSC-as-a-pandas-dataframe-5\"><span class=\"toc-item-num\">5&nbsp;&nbsp;</span>Display the 20 latest earthquakes info (date, time, latitude, longitude and region name) by the EMSC as a pandas dataframe</a></span></li><li><span><a href=\"#List-all-language-names-and-number-of-related-articles-in-the-order-they-appear-in-wikipedia.org\" data-toc-modified-id=\"List-all-language-names-and-number-of-related-articles-in-the-order-they-appear-in-wikipedia.org-6\"><span class=\"toc-item-num\">6&nbsp;&nbsp;</span>List all language names and number of related articles in the order they appear in <a href=\"wikipedia.org\" target=\"_blank\">wikipedia.org</a></a></span></li><li><span><a href=\"#A-list-with-the-different-kind-of-datasets-available-in-data.gov.uk\" data-toc-modified-id=\"A-list-with-the-different-kind-of-datasets-available-in-data.gov.uk-7\"><span class=\"toc-item-num\">7&nbsp;&nbsp;</span>A list with the different kind of datasets available in <a href=\"data.gov.uk\" target=\"_blank\">data.gov.uk</a></a></span></li><li><span><a href=\"#Display-the-top-10-languages-by-number-of-native-speakers-stored-in-a-pandas-dataframe\" data-toc-modified-id=\"Display-the-top-10-languages-by-number-of-native-speakers-stored-in-a-pandas-dataframe-8\"><span class=\"toc-item-num\">8&nbsp;&nbsp;</span>Display the top 10 languages by number of native speakers stored in a pandas dataframe</a></span></li></ul></div>"
   ]
  },
  {
   "cell_type": "markdown",
   "metadata": {},
   "source": [
    "As you've seen, scraping the internet is a skill that can get you all sorts of information. Here are some little challenges to gain more experience in the field"
   ]
  },
  {
   "cell_type": "markdown",
   "metadata": {},
   "source": [
    "### Import Libraries"
   ]
  },
  {
   "cell_type": "code",
   "execution_count": 1,
   "metadata": {},
   "outputs": [],
   "source": [
    "from bs4 import BeautifulSoup\n",
    "import requests\n",
    "import pandas as pd\n",
    "import re\n",
    "import datetime\n",
    "from datetime import date\n",
    "import re"
   ]
  },
  {
   "cell_type": "markdown",
   "metadata": {},
   "source": [
    "### Retrieve an arbitrary Wikipedia page of \"Python\" and create a list of links on that page"
   ]
  },
  {
   "cell_type": "code",
   "execution_count": 2,
   "metadata": {},
   "outputs": [],
   "source": [
    "wiki_url ='https://en.wikipedia.org/wiki/Python'"
   ]
  },
  {
   "cell_type": "code",
   "execution_count": 3,
   "metadata": {},
   "outputs": [
    {
     "name": "stdout",
     "output_type": "stream",
     "text": [
      "wikipedia: status 200\n"
     ]
    }
   ],
   "source": [
    "wikipedia = requests.get(wiki_url)\n",
    "print(\"wikipedia: status\",wikipedia.status_code)"
   ]
  },
  {
   "cell_type": "code",
   "execution_count": 4,
   "metadata": {},
   "outputs": [],
   "source": [
    "soup = BeautifulSoup(wikipedia.content, 'html.parser')"
   ]
  },
  {
   "cell_type": "code",
   "execution_count": 5,
   "metadata": {
    "scrolled": false
   },
   "outputs": [],
   "source": [
    "# links on https://en.wikipedia.org/wiki/Python\n",
    "\n",
    "# create empty list\n",
    "links = []\n",
    "\n",
    "# append links\n",
    "for link in soup.find_all('a'):\n",
    "    links.append(link.get('href'))"
   ]
  },
  {
   "cell_type": "code",
   "execution_count": 6,
   "metadata": {
    "scrolled": false
   },
   "outputs": [
    {
     "data": {
      "text/plain": [
       "[None,\n",
       " '#mw-head',\n",
       " '#searchInput',\n",
       " 'https://en.wiktionary.org/wiki/Python',\n",
       " 'https://en.wiktionary.org/wiki/python',\n",
       " '/wiki/Pythonidae',\n",
       " '/wiki/Python_(genus)',\n",
       " '#Computing',\n",
       " '#People',\n",
       " '#Roller_coasters',\n",
       " '#Vehicles',\n",
       " '#Weaponry',\n",
       " '#Other_uses',\n",
       " '#See_also',\n",
       " '/w/index.php?title=Python&action=edit&section=1',\n",
       " '/wiki/Python_(programming_language)',\n",
       " '/wiki/CMU_Common_Lisp',\n",
       " '/wiki/PERQ#PERQ_3',\n",
       " '/w/index.php?title=Python&action=edit&section=2',\n",
       " '/wiki/Python_of_Aenus',\n",
       " '/wiki/Python_(painter)',\n",
       " '/wiki/Python_of_Byzantium',\n",
       " '/wiki/Python_of_Catana',\n",
       " '/wiki/Python_Anghelo',\n",
       " '/w/index.php?title=Python&action=edit&section=3',\n",
       " '/wiki/Python_(Efteling)',\n",
       " '/wiki/Python_(Busch_Gardens_Tampa_Bay)',\n",
       " '/wiki/Python_(Coney_Island,_Cincinnati,_Ohio)',\n",
       " '/w/index.php?title=Python&action=edit&section=4',\n",
       " '/wiki/Python_(automobile_maker)',\n",
       " '/wiki/Python_(Ford_prototype)',\n",
       " '/w/index.php?title=Python&action=edit&section=5',\n",
       " '/wiki/Python_(missile)',\n",
       " '/wiki/Python_(nuclear_primary)',\n",
       " '/wiki/Colt_Python',\n",
       " '/w/index.php?title=Python&action=edit&section=6',\n",
       " '/wiki/PYTHON',\n",
       " '/wiki/Python_(film)',\n",
       " '/wiki/Python_(mythology)',\n",
       " '/wiki/Monty_Python',\n",
       " '/wiki/Python_(Monty)_Pictures',\n",
       " '/w/index.php?title=Python&action=edit&section=7',\n",
       " '/wiki/Cython',\n",
       " '/wiki/Pyton',\n",
       " '/wiki/Pithon',\n",
       " '/wiki/File:Disambig_gray.svg',\n",
       " '/wiki/Help:Disambiguation',\n",
       " 'https://en.wikipedia.org/w/index.php?title=Special:WhatLinksHere/Python&namespace=0',\n",
       " 'https://en.wikipedia.org/w/index.php?title=Python&oldid=1048703433',\n",
       " '/wiki/Help:Category',\n",
       " '/wiki/Category:Disambiguation_pages',\n",
       " '/wiki/Category:Human_name_disambiguation_pages',\n",
       " '/wiki/Category:Disambiguation_pages_with_given-name-holder_lists',\n",
       " '/wiki/Category:Disambiguation_pages_with_short_descriptions',\n",
       " '/wiki/Category:Short_description_is_different_from_Wikidata',\n",
       " '/wiki/Category:All_article_disambiguation_pages',\n",
       " '/wiki/Category:All_disambiguation_pages',\n",
       " '/wiki/Category:Animal_common_name_disambiguation_pages',\n",
       " '/wiki/Special:MyTalk',\n",
       " '/wiki/Special:MyContributions',\n",
       " '/w/index.php?title=Special:CreateAccount&returnto=Python',\n",
       " '/w/index.php?title=Special:UserLogin&returnto=Python',\n",
       " '/wiki/Python',\n",
       " '/wiki/Talk:Python',\n",
       " '/wiki/Python',\n",
       " '/w/index.php?title=Python&action=edit',\n",
       " '/w/index.php?title=Python&action=history',\n",
       " '/wiki/Main_Page',\n",
       " '/wiki/Main_Page',\n",
       " '/wiki/Wikipedia:Contents',\n",
       " '/wiki/Portal:Current_events',\n",
       " '/wiki/Special:Random',\n",
       " '/wiki/Wikipedia:About',\n",
       " '//en.wikipedia.org/wiki/Wikipedia:Contact_us',\n",
       " 'https://donate.wikimedia.org/wiki/Special:FundraiserRedirector?utm_source=donate&utm_medium=sidebar&utm_campaign=C13_en.wikipedia.org&uselang=en',\n",
       " '/wiki/Help:Contents',\n",
       " '/wiki/Help:Introduction',\n",
       " '/wiki/Wikipedia:Community_portal',\n",
       " '/wiki/Special:RecentChanges',\n",
       " '/wiki/Wikipedia:File_Upload_Wizard',\n",
       " '/wiki/Special:WhatLinksHere/Python',\n",
       " '/wiki/Special:RecentChangesLinked/Python',\n",
       " '/wiki/Wikipedia:File_Upload_Wizard',\n",
       " '/wiki/Special:SpecialPages',\n",
       " '/w/index.php?title=Python&oldid=1048703433',\n",
       " '/w/index.php?title=Python&action=info',\n",
       " '/w/index.php?title=Special:CiteThisPage&page=Python&id=1048703433&wpFormIdentifier=titleform',\n",
       " 'https://www.wikidata.org/wiki/Special:EntityPage/Q747452',\n",
       " '/w/index.php?title=Special:DownloadAsPdf&page=Python&action=show-download-screen',\n",
       " '/w/index.php?title=Python&printable=yes',\n",
       " 'https://commons.wikimedia.org/wiki/Category:Python',\n",
       " 'https://af.wikipedia.org/wiki/Python',\n",
       " 'https://als.wikipedia.org/wiki/Python',\n",
       " 'https://ar.wikipedia.org/wiki/%D8%A8%D8%A7%D9%8A%D8%AB%D9%88%D9%86_(%D8%AA%D9%88%D8%B6%D9%8A%D8%AD)',\n",
       " 'https://az.wikipedia.org/wiki/Python',\n",
       " 'https://bn.wikipedia.org/wiki/%E0%A6%AA%E0%A6%BE%E0%A6%87%E0%A6%A5%E0%A6%A8_(%E0%A6%A6%E0%A7%8D%E0%A6%AC%E0%A7%8D%E0%A6%AF%E0%A6%B0%E0%A7%8D%E0%A6%A5%E0%A6%A4%E0%A6%BE_%E0%A6%A8%E0%A6%BF%E0%A6%B0%E0%A6%B8%E0%A6%A8)',\n",
       " 'https://be.wikipedia.org/wiki/Python',\n",
       " 'https://bg.wikipedia.org/wiki/%D0%9F%D0%B8%D1%82%D0%BE%D0%BD_(%D0%BF%D0%BE%D1%8F%D1%81%D0%BD%D0%B5%D0%BD%D0%B8%D0%B5)',\n",
       " 'https://cs.wikipedia.org/wiki/Python_(rozcestn%C3%ADk)',\n",
       " 'https://da.wikipedia.org/wiki/Python',\n",
       " 'https://de.wikipedia.org/wiki/Python',\n",
       " 'https://eo.wikipedia.org/wiki/Pitono_(apartigilo)',\n",
       " 'https://eu.wikipedia.org/wiki/Python_(argipena)',\n",
       " 'https://fa.wikipedia.org/wiki/%D9%BE%D8%A7%DB%8C%D8%AA%D9%88%D9%86',\n",
       " 'https://fr.wikipedia.org/wiki/Python',\n",
       " 'https://ko.wikipedia.org/wiki/%ED%8C%8C%EC%9D%B4%EC%84%A0',\n",
       " 'https://hr.wikipedia.org/wiki/Python_(razdvojba)',\n",
       " 'https://io.wikipedia.org/wiki/Pitono',\n",
       " 'https://id.wikipedia.org/wiki/Python',\n",
       " 'https://ia.wikipedia.org/wiki/Python_(disambiguation)',\n",
       " 'https://is.wikipedia.org/wiki/Python_(a%C3%B0greining)',\n",
       " 'https://it.wikipedia.org/wiki/Python_(disambigua)',\n",
       " 'https://he.wikipedia.org/wiki/%D7%A4%D7%99%D7%AA%D7%95%D7%9F',\n",
       " 'https://ka.wikipedia.org/wiki/%E1%83%9E%E1%83%98%E1%83%97%E1%83%9D%E1%83%9C%E1%83%98_(%E1%83%9B%E1%83%A0%E1%83%90%E1%83%95%E1%83%90%E1%83%9A%E1%83%9B%E1%83%9C%E1%83%98%E1%83%A8%E1%83%95%E1%83%9C%E1%83%94%E1%83%9A%E1%83%9D%E1%83%95%E1%83%90%E1%83%9C%E1%83%98)',\n",
       " 'https://kg.wikipedia.org/wiki/Mboma_(nyoka)',\n",
       " 'https://la.wikipedia.org/wiki/Python_(discretiva)',\n",
       " 'https://lb.wikipedia.org/wiki/Python',\n",
       " 'https://hu.wikipedia.org/wiki/Python_(egy%C3%A9rtelm%C5%B1s%C3%ADt%C5%91_lap)',\n",
       " 'https://mr.wikipedia.org/wiki/%E0%A4%AA%E0%A4%BE%E0%A4%AF%E0%A4%A5%E0%A5%89%E0%A4%A8_(%E0%A4%86%E0%A4%9C%E0%A5%8D%E0%A4%9E%E0%A4%BE%E0%A4%B5%E0%A4%B2%E0%A5%80_%E0%A4%AD%E0%A4%BE%E0%A4%B7%E0%A4%BE)',\n",
       " 'https://nl.wikipedia.org/wiki/Python',\n",
       " 'https://ja.wikipedia.org/wiki/%E3%83%91%E3%82%A4%E3%82%BD%E3%83%B3',\n",
       " 'https://no.wikipedia.org/wiki/Pyton',\n",
       " 'https://pl.wikipedia.org/wiki/Pyton',\n",
       " 'https://pt.wikipedia.org/wiki/Python_(desambigua%C3%A7%C3%A3o)',\n",
       " 'https://ru.wikipedia.org/wiki/Python_(%D0%B7%D0%BD%D0%B0%D1%87%D0%B5%D0%BD%D0%B8%D1%8F)',\n",
       " 'https://sk.wikipedia.org/wiki/Python',\n",
       " 'https://sr.wikipedia.org/wiki/%D0%9F%D0%B8%D1%82%D0%BE%D0%BD_(%D0%B2%D0%B8%D1%88%D0%B5%D0%B7%D0%BD%D0%B0%D1%87%D0%BD%D0%B0_%D0%BE%D0%B4%D1%80%D0%B5%D0%B4%D0%BD%D0%B8%D1%86%D0%B0)',\n",
       " 'https://sh.wikipedia.org/wiki/Python',\n",
       " 'https://fi.wikipedia.org/wiki/Python',\n",
       " 'https://sv.wikipedia.org/wiki/Pyton',\n",
       " 'https://th.wikipedia.org/wiki/%E0%B9%84%E0%B8%9E%E0%B8%97%E0%B8%AD%E0%B8%99',\n",
       " 'https://tr.wikipedia.org/wiki/Python',\n",
       " 'https://uk.wikipedia.org/wiki/%D0%9F%D1%96%D1%84%D0%BE%D0%BD',\n",
       " 'https://ur.wikipedia.org/wiki/%D9%BE%D8%A7%D8%A6%DB%8C%D8%AA%DA%BE%D9%88%D9%86',\n",
       " 'https://vi.wikipedia.org/wiki/Python',\n",
       " 'https://zh.wikipedia.org/wiki/Python_(%E6%B6%88%E6%AD%A7%E4%B9%89)',\n",
       " 'https://www.wikidata.org/wiki/Special:EntityPage/Q747452#sitelinks-wikipedia',\n",
       " '//en.wikipedia.org/wiki/Wikipedia:Text_of_Creative_Commons_Attribution-ShareAlike_3.0_Unported_License',\n",
       " '//creativecommons.org/licenses/by-sa/3.0/',\n",
       " '//foundation.wikimedia.org/wiki/Terms_of_Use',\n",
       " '//foundation.wikimedia.org/wiki/Privacy_policy',\n",
       " '//www.wikimediafoundation.org/',\n",
       " 'https://foundation.wikimedia.org/wiki/Privacy_policy',\n",
       " '/wiki/Wikipedia:About',\n",
       " '/wiki/Wikipedia:General_disclaimer',\n",
       " '//en.wikipedia.org/wiki/Wikipedia:Contact_us',\n",
       " '//en.m.wikipedia.org/w/index.php?title=Python&mobileaction=toggle_view_mobile',\n",
       " 'https://www.mediawiki.org/wiki/Special:MyLanguage/How_to_contribute',\n",
       " 'https://stats.wikimedia.org/#/en.wikipedia.org',\n",
       " 'https://foundation.wikimedia.org/wiki/Cookie_statement',\n",
       " 'https://wikimediafoundation.org/',\n",
       " 'https://www.mediawiki.org/']"
      ]
     },
     "execution_count": 6,
     "metadata": {},
     "output_type": "execute_result"
    }
   ],
   "source": [
    "# list to all links on above page inkl. general links like links within table of content\n",
    "\n",
    "links"
   ]
  },
  {
   "cell_type": "markdown",
   "metadata": {},
   "source": [
    "### Find the number of titles that have changed in the United States Code since its last release point"
   ]
  },
  {
   "cell_type": "code",
   "execution_count": 7,
   "metadata": {},
   "outputs": [],
   "source": [
    "uscode_url = 'http://uscode.house.gov/download/download.shtml'"
   ]
  },
  {
   "cell_type": "code",
   "execution_count": 8,
   "metadata": {},
   "outputs": [
    {
     "name": "stdout",
     "output_type": "stream",
     "text": [
      "uscode: status 200\n"
     ]
    }
   ],
   "source": [
    "uscode = requests.get(uscode_url)\n",
    "print(\"uscode: status\",uscode.status_code)"
   ]
  },
  {
   "cell_type": "code",
   "execution_count": 9,
   "metadata": {},
   "outputs": [],
   "source": [
    "soup = BeautifulSoup(uscode.content, 'html.parser')"
   ]
  },
  {
   "cell_type": "markdown",
   "metadata": {},
   "source": [
    "Titles in **bold** have been changed since the last release point."
   ]
  },
  {
   "cell_type": "markdown",
   "metadata": {},
   "source": [
    "class=\"usctitlechanged\" id=\"us/usc/t11\">"
   ]
  },
  {
   "cell_type": "code",
   "execution_count": 10,
   "metadata": {},
   "outputs": [],
   "source": [
    "changed = soup.find_all('div', attrs={'class': 'usctitlechanged'})"
   ]
  },
  {
   "cell_type": "code",
   "execution_count": 11,
   "metadata": {},
   "outputs": [
    {
     "data": {
      "text/plain": [
       "8"
      ]
     },
     "execution_count": 11,
     "metadata": {},
     "output_type": "execute_result"
    }
   ],
   "source": [
    "len(changed)"
   ]
  },
  {
   "cell_type": "markdown",
   "metadata": {},
   "source": [
    "### Create a Python list with the top ten FBI's Most Wanted names"
   ]
  },
  {
   "cell_type": "code",
   "execution_count": 12,
   "metadata": {},
   "outputs": [],
   "source": [
    "fbi_url = 'https://www.fbi.gov/wanted/topten'"
   ]
  },
  {
   "cell_type": "code",
   "execution_count": 13,
   "metadata": {},
   "outputs": [
    {
     "name": "stdout",
     "output_type": "stream",
     "text": [
      "fbi: status 200\n"
     ]
    }
   ],
   "source": [
    "fbi = requests.get(fbi_url)\n",
    "print(\"fbi: status\",fbi.status_code)"
   ]
  },
  {
   "cell_type": "code",
   "execution_count": 14,
   "metadata": {},
   "outputs": [],
   "source": [
    "soup = BeautifulSoup(fbi.content, 'html.parser')"
   ]
  },
  {
   "cell_type": "code",
   "execution_count": 15,
   "metadata": {},
   "outputs": [],
   "source": [
    "# create empty most_wanted list\n",
    "\n",
    "# create empty list\n",
    "most_wanted = []\n",
    "\n",
    "# append links\n",
    "for i in soup.find_all('a'):\n",
    "    i.get('href')\n",
    "    x = i.get_text().strip()\n",
    "    most_wanted.append(x)"
   ]
  },
  {
   "cell_type": "code",
   "execution_count": 16,
   "metadata": {
    "scrolled": false
   },
   "outputs": [
    {
     "data": {
      "text/plain": [
       "[\"An official website of the United States government. Here's\\xa0how\\xa0you\\xa0know\",\n",
       " 'Submit Search\\n\\n\\n\\nSearch',\n",
       " 'FBI',\n",
       " 'Most Wanted',\n",
       " 'News',\n",
       " 'What We Investigate',\n",
       " 'Services',\n",
       " 'Resources',\n",
       " 'Submit a Tip',\n",
       " 'About',\n",
       " 'Contact Us',\n",
       " 'Home',\n",
       " 'Most Wanted',\n",
       " 'Facebook Icon',\n",
       " 'Email Icon',\n",
       " 'Twitter Icon',\n",
       " 'Youtube Icon',\n",
       " 'Flickr Icon',\n",
       " 'LinkedIn Icon',\n",
       " 'Instagram Icon',\n",
       " 'FBIFederal Bureau of Investigation',\n",
       " 'Most Wanted',\n",
       " 'Ten Most Wanted Fugitives',\n",
       " 'Fugitives',\n",
       " 'Capitol Violence',\n",
       " 'Terrorism',\n",
       " 'Kidnappings/Missing Persons',\n",
       " 'Parental Kidnappings',\n",
       " 'Seeking Info',\n",
       " 'Indian Country',\n",
       " 'ECAP',\n",
       " 'ViCAP',\n",
       " 'Bank Robbers',\n",
       " 'Ten Most Wanted Fugitives FAQ',\n",
       " 'Ten Most Wanted History Pictures',\n",
       " '',\n",
       " 'JASON DEREK BROWN',\n",
       " '',\n",
       " 'ALEXIS FLORES',\n",
       " '',\n",
       " 'JOSE RODOLFO VILLARREAL-HERNANDEZ',\n",
       " '',\n",
       " 'OCTAVIANO JUAREZ-CORRO',\n",
       " '',\n",
       " 'EUGENE PALMER',\n",
       " '',\n",
       " 'RAFAEL CARO-QUINTERO',\n",
       " '',\n",
       " 'BHADRESHKUMAR CHETANBHAI PATEL',\n",
       " '',\n",
       " 'ALEJANDRO ROSALES CASTILLO',\n",
       " '',\n",
       " 'ROBERT WILLIAM FISHER',\n",
       " '',\n",
       " 'ARNOLDO JIMENEZ',\n",
       " 'Ten Most Wanted Fugitives FAQ',\n",
       " 'Historical Photos of Each Top Ten\\xa0Fugitive\\ufeff',\n",
       " '60th Anniversary Booklet',\n",
       " 'Most Wanted',\n",
       " 'Ten Most Wanted',\n",
       " 'Fugitives',\n",
       " 'Terrorism',\n",
       " 'Kidnappings / Missing Persons',\n",
       " 'Seeking Information',\n",
       " 'Bank Robbers',\n",
       " 'ECAP',\n",
       " 'ViCAP',\n",
       " 'About',\n",
       " 'Mission & Priorities',\n",
       " 'Leadership & Structure',\n",
       " 'Partnerships',\n",
       " 'Community Outreach',\n",
       " 'FAQs',\n",
       " 'News',\n",
       " 'Stories',\n",
       " 'Videos',\n",
       " 'Press Release',\n",
       " 'Speeches',\n",
       " 'Testimony',\n",
       " 'Podcasts and Radio',\n",
       " 'Photos',\n",
       " 'Español',\n",
       " 'Apps',\n",
       " 'Resources',\n",
       " 'Law Enforcement',\n",
       " 'Businesses',\n",
       " 'Victim Assistance',\n",
       " 'Reports & Publications',\n",
       " 'What We Investigate',\n",
       " 'Terrorism',\n",
       " 'Counterintelligence',\n",
       " 'Cyber Crime',\n",
       " 'Public Corruption',\n",
       " 'Civil Rights',\n",
       " 'Organized Crime',\n",
       " 'White-Collar Crime',\n",
       " 'Violent Crime',\n",
       " 'WMD',\n",
       " 'Contact Us',\n",
       " 'Field Offices',\n",
       " 'FBI Headquarters',\n",
       " 'Overseas Offices',\n",
       " 'Services',\n",
       " 'CJIS',\n",
       " 'CIRG',\n",
       " 'Laboratory Services',\n",
       " 'Training Academy',\n",
       " 'Operational Technology',\n",
       " 'Information Management',\n",
       " 'FBI Jobs',\n",
       " 'Submit a Tip',\n",
       " 'Crime Statistics',\n",
       " 'History',\n",
       " 'FOIPA',\n",
       " 'Scams & Safety',\n",
       " 'FBI Kids',\n",
       " 'FBI Tour',\n",
       " 'Accessibility',\n",
       " 'eRulemaking',\n",
       " 'Freedom of Information / Privacy Act',\n",
       " 'Legal Notices',\n",
       " 'Legal Policies & Disclaimers',\n",
       " 'Privacy Policy',\n",
       " 'USA.gov',\n",
       " 'White House',\n",
       " 'No FEAR Act',\n",
       " 'Equal Opportunity',\n",
       " '',\n",
       " '',\n",
       " '',\n",
       " '',\n",
       " '',\n",
       " '',\n",
       " '',\n",
       " 'Email updates',\n",
       " 'Accessibility',\n",
       " 'eRulemaking',\n",
       " 'Freedom of Information / Privacy Act',\n",
       " 'Legal Notices',\n",
       " 'Legal Policies & Disclaimers',\n",
       " 'Privacy Policy',\n",
       " 'USA.gov',\n",
       " 'White House',\n",
       " 'No FEAR Act',\n",
       " 'Equal Opportunity',\n",
       " 'FBI.gov is an official site of the U.S. Department of Justice\\n ©',\n",
       " 'Home',\n",
       " 'Most Wanted',\n",
       " 'News',\n",
       " 'What We Investigate',\n",
       " 'Services',\n",
       " 'Resources',\n",
       " 'Submit a Tip',\n",
       " 'About',\n",
       " 'Contact Us',\n",
       " 'Crime Statistics',\n",
       " 'Photos',\n",
       " 'Video',\n",
       " 'Outreach',\n",
       " 'History',\n",
       " 'FOIA',\n",
       " 'Scams & Safety',\n",
       " 'FBI Kids',\n",
       " 'FBI Jobs',\n",
       " 'Subscribe',\n",
       " 'No Thanks']"
      ]
     },
     "execution_count": 16,
     "metadata": {},
     "output_type": "execute_result"
    }
   ],
   "source": [
    "most_wanted"
   ]
  },
  {
   "cell_type": "markdown",
   "metadata": {},
   "source": [
    "I can't figure out how to only display the 10 most_wanted"
   ]
  },
  {
   "cell_type": "markdown",
   "metadata": {},
   "source": [
    "### Display the 20 latest earthquakes info (date, time, latitude, longitude and region name) by the EMSC as a pandas dataframe"
   ]
  },
  {
   "cell_type": "code",
   "execution_count": 147,
   "metadata": {},
   "outputs": [],
   "source": [
    "earthquake_url = 'https://www.emsc-csem.org/Earthquake/'"
   ]
  },
  {
   "cell_type": "code",
   "execution_count": 148,
   "metadata": {},
   "outputs": [
    {
     "name": "stdout",
     "output_type": "stream",
     "text": [
      "earthquake: status 200\n"
     ]
    }
   ],
   "source": [
    "earthquake = requests.get(earthquake_url)\n",
    "print(\"earthquake: status\",earthquake.status_code)"
   ]
  },
  {
   "cell_type": "code",
   "execution_count": 149,
   "metadata": {},
   "outputs": [],
   "source": [
    "soup = BeautifulSoup(earthquake.content, 'html.parser')"
   ]
  },
  {
   "cell_type": "code",
   "execution_count": 150,
   "metadata": {},
   "outputs": [],
   "source": [
    "# date\n",
    "\n",
    "date = []\n",
    "\n",
    "date_x = soup.find_all(\"b\")[0].get_text(strip=True)\n",
    "match = re.search(r'\\d{4}-\\d{2}-\\d{2}', date_x)\n",
    "date = datetime.datetime.strptime(match.group(), '%Y-%m-%d').date()"
   ]
  },
  {
   "cell_type": "code",
   "execution_count": 151,
   "metadata": {},
   "outputs": [
    {
     "data": {
      "text/plain": [
       "datetime.date(2021, 10, 9)"
      ]
     },
     "execution_count": 151,
     "metadata": {},
     "output_type": "execute_result"
    }
   ],
   "source": [
    "date"
   ]
  },
  {
   "cell_type": "code",
   "execution_count": 152,
   "metadata": {},
   "outputs": [],
   "source": [
    "# time\n",
    "\n",
    "time = []\n",
    "\n"
   ]
  },
  {
   "cell_type": "code",
   "execution_count": 153,
   "metadata": {},
   "outputs": [],
   "source": [
    "# latitude & longitude\n",
    "\n",
    "coordinates = []\n",
    "\n",
    "for i in soup.find_all('td', attrs={'class': 'tabev1'}):\n",
    "    x = i.get_text(strip=True)\n",
    "    coordinates.append(x)   "
   ]
  },
  {
   "cell_type": "code",
   "execution_count": 154,
   "metadata": {
    "scrolled": false
   },
   "outputs": [
    {
     "data": {
      "text/plain": [
       "['7.61',\n",
       " '107.72',\n",
       " '19.18',\n",
       " '155.50',\n",
       " '41.16',\n",
       " '20.05',\n",
       " '28.48',\n",
       " '17.79',\n",
       " '28.58',\n",
       " '17.85',\n",
       " '28.56',\n",
       " '17.81',\n",
       " '28.56',\n",
       " '17.84',\n",
       " '28.57',\n",
       " '17.83',\n",
       " '14.66',\n",
       " '93.30',\n",
       " '19.20',\n",
       " '155.48',\n",
       " '12.57',\n",
       " '76.88',\n",
       " '28.57',\n",
       " '17.83',\n",
       " '28.56',\n",
       " '17.83',\n",
       " '15.68',\n",
       " '71.87',\n",
       " '19.22',\n",
       " '155.40',\n",
       " '28.58',\n",
       " '17.85',\n",
       " '21.43',\n",
       " '68.43',\n",
       " '50.03',\n",
       " '149.84',\n",
       " '19.22',\n",
       " '155.41',\n",
       " '28.57',\n",
       " '17.77',\n",
       " '21.78',\n",
       " '68.86',\n",
       " '28.54',\n",
       " '17.80',\n",
       " '35.43',\n",
       " '3.69',\n",
       " '42.67',\n",
       " '0.79',\n",
       " '37.16',\n",
       " '37.18',\n",
       " '28.52',\n",
       " '17.84',\n",
       " '28.54',\n",
       " '17.85',\n",
       " '28.59',\n",
       " '17.88',\n",
       " '28.55',\n",
       " '17.84',\n",
       " '63.32',\n",
       " '158.40',\n",
       " '28.57',\n",
       " '17.86',\n",
       " '45.49',\n",
       " '26.57',\n",
       " '44.32',\n",
       " '115.08',\n",
       " '28.55',\n",
       " '17.84',\n",
       " '28.55',\n",
       " '17.86',\n",
       " '15.63',\n",
       " '71.93',\n",
       " '28.56',\n",
       " '17.85',\n",
       " '43.04',\n",
       " '0.17',\n",
       " '15.70',\n",
       " '71.99',\n",
       " '19.16',\n",
       " '155.48',\n",
       " '28.56',\n",
       " '17.86',\n",
       " '32.37',\n",
       " '49.76',\n",
       " '6.91',\n",
       " '130.07',\n",
       " '44.34',\n",
       " '115.12',\n",
       " '53.23',\n",
       " '166.76',\n",
       " '28.56',\n",
       " '17.84',\n",
       " '15.58',\n",
       " '71.69',\n",
       " '28.59',\n",
       " '17.82',\n",
       " '28.56',\n",
       " '17.85',\n",
       " '30.38',\n",
       " '94.81']"
      ]
     },
     "execution_count": 154,
     "metadata": {},
     "output_type": "execute_result"
    }
   ],
   "source": [
    "coordinates"
   ]
  },
  {
   "cell_type": "code",
   "execution_count": 174,
   "metadata": {},
   "outputs": [],
   "source": [
    "latitude = []\n",
    "longitude = []\n",
    "\n",
    "for i in coordinates:\n",
    "    if (len(latitude) + len(longitude)) %2 == 0:\n",
    "        latitude.append(i)\n",
    "    else:\n",
    "        longitude.append(i)       "
   ]
  },
  {
   "cell_type": "code",
   "execution_count": 175,
   "metadata": {},
   "outputs": [
    {
     "data": {
      "text/plain": [
       "['7.61',\n",
       " '19.18',\n",
       " '41.16',\n",
       " '28.48',\n",
       " '28.58',\n",
       " '28.56',\n",
       " '28.56',\n",
       " '28.57',\n",
       " '14.66',\n",
       " '19.20',\n",
       " '12.57',\n",
       " '28.57',\n",
       " '28.56',\n",
       " '15.68',\n",
       " '19.22',\n",
       " '28.58',\n",
       " '21.43',\n",
       " '50.03',\n",
       " '19.22',\n",
       " '28.57',\n",
       " '21.78',\n",
       " '28.54',\n",
       " '35.43',\n",
       " '42.67',\n",
       " '37.16',\n",
       " '28.52',\n",
       " '28.54',\n",
       " '28.59',\n",
       " '28.55',\n",
       " '63.32',\n",
       " '28.57',\n",
       " '45.49',\n",
       " '44.32',\n",
       " '28.55',\n",
       " '28.55',\n",
       " '15.63',\n",
       " '28.56',\n",
       " '43.04',\n",
       " '15.70',\n",
       " '19.16',\n",
       " '28.56',\n",
       " '32.37',\n",
       " '6.91',\n",
       " '44.34',\n",
       " '53.23',\n",
       " '28.56',\n",
       " '15.58',\n",
       " '28.59',\n",
       " '28.56',\n",
       " '30.38']"
      ]
     },
     "execution_count": 175,
     "metadata": {},
     "output_type": "execute_result"
    }
   ],
   "source": [
    "latitude"
   ]
  },
  {
   "cell_type": "code",
   "execution_count": 176,
   "metadata": {},
   "outputs": [
    {
     "data": {
      "text/plain": [
       "['107.72',\n",
       " '155.50',\n",
       " '20.05',\n",
       " '17.79',\n",
       " '17.85',\n",
       " '17.81',\n",
       " '17.84',\n",
       " '17.83',\n",
       " '93.30',\n",
       " '155.48',\n",
       " '76.88',\n",
       " '17.83',\n",
       " '17.83',\n",
       " '71.87',\n",
       " '155.40',\n",
       " '17.85',\n",
       " '68.43',\n",
       " '149.84',\n",
       " '155.41',\n",
       " '17.77',\n",
       " '68.86',\n",
       " '17.80',\n",
       " '3.69',\n",
       " '0.79',\n",
       " '37.18',\n",
       " '17.84',\n",
       " '17.85',\n",
       " '17.88',\n",
       " '17.84',\n",
       " '158.40',\n",
       " '17.86',\n",
       " '26.57',\n",
       " '115.08',\n",
       " '17.84',\n",
       " '17.86',\n",
       " '71.93',\n",
       " '17.85',\n",
       " '0.17',\n",
       " '71.99',\n",
       " '155.48',\n",
       " '17.86',\n",
       " '49.76',\n",
       " '130.07',\n",
       " '115.12',\n",
       " '166.76',\n",
       " '17.84',\n",
       " '71.69',\n",
       " '17.82',\n",
       " '17.85',\n",
       " '94.81']"
      ]
     },
     "execution_count": 176,
     "metadata": {},
     "output_type": "execute_result"
    }
   ],
   "source": [
    "longitude"
   ]
  },
  {
   "cell_type": "code",
   "execution_count": 177,
   "metadata": {},
   "outputs": [],
   "source": [
    "# region_name\n",
    "\n",
    "soup.find_all('td', attrs={'class': 'tb_region'})[0].get_text(strip=True)\n",
    "\n",
    "region_name = []\n",
    "\n",
    "for i in soup.find_all('td', attrs={'class': 'tb_region'}):\n",
    "    x = i.get_text(strip=True)\n",
    "    region_name.append(x)"
   ]
  },
  {
   "cell_type": "code",
   "execution_count": 178,
   "metadata": {},
   "outputs": [
    {
     "data": {
      "text/plain": [
       "['JAVA, INDONESIA',\n",
       " 'ISLAND OF HAWAII, HAWAII',\n",
       " 'ALBANIA',\n",
       " 'CANARY ISLANDS, SPAIN REGION',\n",
       " 'CANARY ISLANDS, SPAIN REGION',\n",
       " 'CANARY ISLANDS, SPAIN REGION',\n",
       " 'CANARY ISLANDS, SPAIN REGION',\n",
       " 'CANARY ISLANDS, SPAIN REGION',\n",
       " 'OFFSHORE CHIAPAS, MEXICO',\n",
       " 'ISLAND OF HAWAII, HAWAII',\n",
       " 'NEAR COAST OF CENTRAL PERU',\n",
       " 'CANARY ISLANDS, SPAIN REGION',\n",
       " 'CANARY ISLANDS, SPAIN REGION',\n",
       " 'SOUTHERN PERU',\n",
       " 'ISLAND OF HAWAII, HAWAII',\n",
       " 'CANARY ISLANDS, SPAIN REGION',\n",
       " 'ANTOFAGASTA, CHILE',\n",
       " 'SEA OF OKHOTSK',\n",
       " 'ISLAND OF HAWAII, HAWAII',\n",
       " 'CANARY ISLANDS, SPAIN REGION',\n",
       " 'ANTOFAGASTA, CHILE',\n",
       " 'CANARY ISLANDS, SPAIN REGION',\n",
       " 'STRAIT OF GIBRALTAR',\n",
       " 'PYRENEES',\n",
       " 'CENTRAL TURKEY',\n",
       " 'CANARY ISLANDS, SPAIN REGION',\n",
       " 'CANARY ISLANDS, SPAIN REGION',\n",
       " 'CANARY ISLANDS, SPAIN REGION',\n",
       " 'CANARY ISLANDS, SPAIN REGION',\n",
       " \"MAGADANSKAYA OBLAST', RUSSIA\",\n",
       " 'CANARY ISLANDS, SPAIN REGION',\n",
       " 'ROMANIA',\n",
       " 'SOUTHERN IDAHO',\n",
       " 'CANARY ISLANDS, SPAIN REGION',\n",
       " 'CANARY ISLANDS, SPAIN REGION',\n",
       " 'SOUTHERN PERU',\n",
       " 'CANARY ISLANDS, SPAIN REGION',\n",
       " 'PYRENEES',\n",
       " 'SOUTHERN PERU',\n",
       " 'ISLAND OF HAWAII, HAWAII',\n",
       " 'CANARY ISLANDS, SPAIN REGION',\n",
       " 'WESTERN IRAN',\n",
       " 'BANDA SEA',\n",
       " 'SOUTHERN IDAHO',\n",
       " 'FOX ISLANDS, ALEUTIAN ISLANDS',\n",
       " 'CANARY ISLANDS, SPAIN REGION',\n",
       " 'SOUTHERN PERU',\n",
       " 'CANARY ISLANDS, SPAIN REGION',\n",
       " 'CANARY ISLANDS, SPAIN REGION',\n",
       " 'EASTERN XIZANG']"
      ]
     },
     "execution_count": 178,
     "metadata": {},
     "output_type": "execute_result"
    }
   ],
   "source": [
    "region_name"
   ]
  },
  {
   "cell_type": "code",
   "execution_count": 180,
   "metadata": {},
   "outputs": [],
   "source": [
    "earthquakes_df = pd.DataFrame(\n",
    "    {\"region_name\": region_name,\n",
    "     \"latitude\": latitude,\n",
    "     \"longitude\": longitude\n",
    "    }\n",
    ")"
   ]
  },
  {
   "cell_type": "code",
   "execution_count": 182,
   "metadata": {},
   "outputs": [
    {
     "data": {
      "text/html": [
       "<div>\n",
       "<style scoped>\n",
       "    .dataframe tbody tr th:only-of-type {\n",
       "        vertical-align: middle;\n",
       "    }\n",
       "\n",
       "    .dataframe tbody tr th {\n",
       "        vertical-align: top;\n",
       "    }\n",
       "\n",
       "    .dataframe thead th {\n",
       "        text-align: right;\n",
       "    }\n",
       "</style>\n",
       "<table border=\"1\" class=\"dataframe\">\n",
       "  <thead>\n",
       "    <tr style=\"text-align: right;\">\n",
       "      <th></th>\n",
       "      <th>region_name</th>\n",
       "      <th>latitude</th>\n",
       "      <th>longitude</th>\n",
       "    </tr>\n",
       "  </thead>\n",
       "  <tbody>\n",
       "    <tr>\n",
       "      <th>0</th>\n",
       "      <td>JAVA, INDONESIA</td>\n",
       "      <td>7.61</td>\n",
       "      <td>107.72</td>\n",
       "    </tr>\n",
       "    <tr>\n",
       "      <th>1</th>\n",
       "      <td>ISLAND OF HAWAII, HAWAII</td>\n",
       "      <td>19.18</td>\n",
       "      <td>155.50</td>\n",
       "    </tr>\n",
       "    <tr>\n",
       "      <th>2</th>\n",
       "      <td>ALBANIA</td>\n",
       "      <td>41.16</td>\n",
       "      <td>20.05</td>\n",
       "    </tr>\n",
       "    <tr>\n",
       "      <th>3</th>\n",
       "      <td>CANARY ISLANDS, SPAIN REGION</td>\n",
       "      <td>28.48</td>\n",
       "      <td>17.79</td>\n",
       "    </tr>\n",
       "    <tr>\n",
       "      <th>4</th>\n",
       "      <td>CANARY ISLANDS, SPAIN REGION</td>\n",
       "      <td>28.58</td>\n",
       "      <td>17.85</td>\n",
       "    </tr>\n",
       "    <tr>\n",
       "      <th>5</th>\n",
       "      <td>CANARY ISLANDS, SPAIN REGION</td>\n",
       "      <td>28.56</td>\n",
       "      <td>17.81</td>\n",
       "    </tr>\n",
       "    <tr>\n",
       "      <th>6</th>\n",
       "      <td>CANARY ISLANDS, SPAIN REGION</td>\n",
       "      <td>28.56</td>\n",
       "      <td>17.84</td>\n",
       "    </tr>\n",
       "    <tr>\n",
       "      <th>7</th>\n",
       "      <td>CANARY ISLANDS, SPAIN REGION</td>\n",
       "      <td>28.57</td>\n",
       "      <td>17.83</td>\n",
       "    </tr>\n",
       "    <tr>\n",
       "      <th>8</th>\n",
       "      <td>OFFSHORE CHIAPAS, MEXICO</td>\n",
       "      <td>14.66</td>\n",
       "      <td>93.30</td>\n",
       "    </tr>\n",
       "    <tr>\n",
       "      <th>9</th>\n",
       "      <td>ISLAND OF HAWAII, HAWAII</td>\n",
       "      <td>19.20</td>\n",
       "      <td>155.48</td>\n",
       "    </tr>\n",
       "    <tr>\n",
       "      <th>10</th>\n",
       "      <td>NEAR COAST OF CENTRAL PERU</td>\n",
       "      <td>12.57</td>\n",
       "      <td>76.88</td>\n",
       "    </tr>\n",
       "    <tr>\n",
       "      <th>11</th>\n",
       "      <td>CANARY ISLANDS, SPAIN REGION</td>\n",
       "      <td>28.57</td>\n",
       "      <td>17.83</td>\n",
       "    </tr>\n",
       "    <tr>\n",
       "      <th>12</th>\n",
       "      <td>CANARY ISLANDS, SPAIN REGION</td>\n",
       "      <td>28.56</td>\n",
       "      <td>17.83</td>\n",
       "    </tr>\n",
       "    <tr>\n",
       "      <th>13</th>\n",
       "      <td>SOUTHERN PERU</td>\n",
       "      <td>15.68</td>\n",
       "      <td>71.87</td>\n",
       "    </tr>\n",
       "    <tr>\n",
       "      <th>14</th>\n",
       "      <td>ISLAND OF HAWAII, HAWAII</td>\n",
       "      <td>19.22</td>\n",
       "      <td>155.40</td>\n",
       "    </tr>\n",
       "    <tr>\n",
       "      <th>15</th>\n",
       "      <td>CANARY ISLANDS, SPAIN REGION</td>\n",
       "      <td>28.58</td>\n",
       "      <td>17.85</td>\n",
       "    </tr>\n",
       "    <tr>\n",
       "      <th>16</th>\n",
       "      <td>ANTOFAGASTA, CHILE</td>\n",
       "      <td>21.43</td>\n",
       "      <td>68.43</td>\n",
       "    </tr>\n",
       "    <tr>\n",
       "      <th>17</th>\n",
       "      <td>SEA OF OKHOTSK</td>\n",
       "      <td>50.03</td>\n",
       "      <td>149.84</td>\n",
       "    </tr>\n",
       "    <tr>\n",
       "      <th>18</th>\n",
       "      <td>ISLAND OF HAWAII, HAWAII</td>\n",
       "      <td>19.22</td>\n",
       "      <td>155.41</td>\n",
       "    </tr>\n",
       "    <tr>\n",
       "      <th>19</th>\n",
       "      <td>CANARY ISLANDS, SPAIN REGION</td>\n",
       "      <td>28.57</td>\n",
       "      <td>17.77</td>\n",
       "    </tr>\n",
       "  </tbody>\n",
       "</table>\n",
       "</div>"
      ],
      "text/plain": [
       "                     region_name latitude longitude\n",
       "0                JAVA, INDONESIA     7.61    107.72\n",
       "1       ISLAND OF HAWAII, HAWAII    19.18    155.50\n",
       "2                        ALBANIA    41.16     20.05\n",
       "3   CANARY ISLANDS, SPAIN REGION    28.48     17.79\n",
       "4   CANARY ISLANDS, SPAIN REGION    28.58     17.85\n",
       "5   CANARY ISLANDS, SPAIN REGION    28.56     17.81\n",
       "6   CANARY ISLANDS, SPAIN REGION    28.56     17.84\n",
       "7   CANARY ISLANDS, SPAIN REGION    28.57     17.83\n",
       "8       OFFSHORE CHIAPAS, MEXICO    14.66     93.30\n",
       "9       ISLAND OF HAWAII, HAWAII    19.20    155.48\n",
       "10    NEAR COAST OF CENTRAL PERU    12.57     76.88\n",
       "11  CANARY ISLANDS, SPAIN REGION    28.57     17.83\n",
       "12  CANARY ISLANDS, SPAIN REGION    28.56     17.83\n",
       "13                 SOUTHERN PERU    15.68     71.87\n",
       "14      ISLAND OF HAWAII, HAWAII    19.22    155.40\n",
       "15  CANARY ISLANDS, SPAIN REGION    28.58     17.85\n",
       "16            ANTOFAGASTA, CHILE    21.43     68.43\n",
       "17                SEA OF OKHOTSK    50.03    149.84\n",
       "18      ISLAND OF HAWAII, HAWAII    19.22    155.41\n",
       "19  CANARY ISLANDS, SPAIN REGION    28.57     17.77"
      ]
     },
     "execution_count": 182,
     "metadata": {},
     "output_type": "execute_result"
    }
   ],
   "source": [
    "earthquakes_df.head(20)"
   ]
  },
  {
   "cell_type": "markdown",
   "metadata": {},
   "source": [
    "### List all language names and number of related articles in the order they appear in [wikipedia.org](wikipedia.org)"
   ]
  },
  {
   "cell_type": "code",
   "execution_count": 25,
   "metadata": {},
   "outputs": [],
   "source": [
    "wiki_url = 'https://www.wikipedia.org/'"
   ]
  },
  {
   "cell_type": "code",
   "execution_count": 26,
   "metadata": {},
   "outputs": [
    {
     "name": "stdout",
     "output_type": "stream",
     "text": [
      "wikipedia: status 200\n"
     ]
    }
   ],
   "source": [
    "wikipedia = requests.get(wiki_url)\n",
    "print(\"wikipedia: status\",wikipedia.status_code)"
   ]
  },
  {
   "cell_type": "code",
   "execution_count": 47,
   "metadata": {},
   "outputs": [],
   "source": [
    "soup = BeautifulSoup(wikipedia.content, 'html.parser')"
   ]
  },
  {
   "cell_type": "code",
   "execution_count": 48,
   "metadata": {},
   "outputs": [],
   "source": [
    "languages = []\n",
    "\n",
    "for i in soup.find_all('strong'):\n",
    "    x = i.get_text()\n",
    "    languages.append(x)"
   ]
  },
  {
   "cell_type": "code",
   "execution_count": 67,
   "metadata": {},
   "outputs": [],
   "source": [
    "articles = []\n",
    "\n",
    "for i in soup.find_all('bdi', attrs={'dir': 'ltr'}):\n",
    "    x = i.get_text().strip()\n",
    "    articles.append(x)"
   ]
  },
  {
   "cell_type": "code",
   "execution_count": 68,
   "metadata": {},
   "outputs": [
    {
     "data": {
      "text/plain": [
       "['6\\xa0383\\xa0000+',\n",
       " '1\\xa0292\\xa0000+',\n",
       " '1\\xa0717\\xa0000+',\n",
       " '2\\xa0617\\xa0000+',\n",
       " '1\\xa0756\\xa0000+',\n",
       " '2\\xa0362\\xa0000+',\n",
       " '1\\xa0231\\xa0000+',\n",
       " '1\\xa0718\\xa0000+',\n",
       " '1\\xa0074\\xa0000+',\n",
       " '1\\xa0490\\xa0000+',\n",
       " '1\\xa0000\\xa0000+',\n",
       " '100\\xa0000+',\n",
       " '10\\xa0000+',\n",
       " '1\\xa0000+',\n",
       " '100+']"
      ]
     },
     "execution_count": 68,
     "metadata": {},
     "output_type": "execute_result"
    }
   ],
   "source": [
    "articles"
   ]
  },
  {
   "cell_type": "code",
   "execution_count": 69,
   "metadata": {},
   "outputs": [
    {
     "data": {
      "text/plain": [
       "(['The Free Encyclopedia',\n",
       "  'English',\n",
       "  '日本語',\n",
       "  'Español',\n",
       "  'Deutsch',\n",
       "  'Русский',\n",
       "  'Français',\n",
       "  '中文',\n",
       "  'Italiano',\n",
       "  'Português',\n",
       "  'Polski',\n",
       "  '\\n\\nDownload Wikipedia for Android or iOS\\n\\n'],\n",
       " ['6\\xa0383\\xa0000+',\n",
       "  '1\\xa0292\\xa0000+',\n",
       "  '1\\xa0717\\xa0000+',\n",
       "  '2\\xa0617\\xa0000+',\n",
       "  '1\\xa0756\\xa0000+',\n",
       "  '2\\xa0362\\xa0000+',\n",
       "  '1\\xa0231\\xa0000+',\n",
       "  '1\\xa0718\\xa0000+',\n",
       "  '1\\xa0074\\xa0000+',\n",
       "  '1\\xa0490\\xa0000+',\n",
       "  '1\\xa0000\\xa0000+',\n",
       "  '100\\xa0000+',\n",
       "  '10\\xa0000+',\n",
       "  '1\\xa0000+',\n",
       "  '100+'])"
      ]
     },
     "execution_count": 69,
     "metadata": {},
     "output_type": "execute_result"
    }
   ],
   "source": [
    "languages, articles"
   ]
  },
  {
   "cell_type": "markdown",
   "metadata": {},
   "source": [
    "### A list with the different kind of datasets available in [data.gov.uk](data.gov.uk)\n"
   ]
  },
  {
   "cell_type": "code",
   "execution_count": 72,
   "metadata": {},
   "outputs": [],
   "source": [
    "data_url = 'https://data.gov.uk/'"
   ]
  },
  {
   "cell_type": "code",
   "execution_count": 73,
   "metadata": {},
   "outputs": [
    {
     "name": "stdout",
     "output_type": "stream",
     "text": [
      "data: status 200\n"
     ]
    }
   ],
   "source": [
    "data = requests.get(data_url)\n",
    "print(\"data: status\",data.status_code)"
   ]
  },
  {
   "cell_type": "code",
   "execution_count": 83,
   "metadata": {},
   "outputs": [],
   "source": [
    "soup = BeautifulSoup(data.content, 'html.parser')"
   ]
  },
  {
   "cell_type": "code",
   "execution_count": 89,
   "metadata": {},
   "outputs": [],
   "source": [
    "data_gov = []\n",
    "\n",
    "for i in soup.find_all('a', attrs={'class': 'govuk-link'}):\n",
    "    x = i.get_text().strip()\n",
    "    data_gov.append(x)"
   ]
  },
  {
   "cell_type": "code",
   "execution_count": 90,
   "metadata": {},
   "outputs": [
    {
     "data": {
      "text/plain": [
       "['cookies to collect information',\n",
       " 'View cookies',\n",
       " 'change your cookie settings',\n",
       " 'feedback',\n",
       " 'Business and economy',\n",
       " 'Crime and justice',\n",
       " 'Defence',\n",
       " 'Education',\n",
       " 'Environment',\n",
       " 'Government',\n",
       " 'Government spending',\n",
       " 'Health',\n",
       " 'Mapping',\n",
       " 'Society',\n",
       " 'Towns and cities',\n",
       " 'Transport',\n",
       " 'Digital service performance',\n",
       " 'Government reference data']"
      ]
     },
     "execution_count": 90,
     "metadata": {},
     "output_type": "execute_result"
    }
   ],
   "source": [
    "data_gov"
   ]
  },
  {
   "cell_type": "markdown",
   "metadata": {},
   "source": [
    "### Display the top 10 languages by number of native speakers stored in a pandas dataframe"
   ]
  },
  {
   "cell_type": "code",
   "execution_count": 91,
   "metadata": {},
   "outputs": [],
   "source": [
    "native_url = 'https://en.wikipedia.org/wiki/List_of_languages_by_number_of_native_speakers'"
   ]
  },
  {
   "cell_type": "code",
   "execution_count": 92,
   "metadata": {},
   "outputs": [
    {
     "name": "stdout",
     "output_type": "stream",
     "text": [
      "native: status 200\n"
     ]
    }
   ],
   "source": [
    "native = requests.get(native_url)\n",
    "print(\"native: status\",native.status_code)"
   ]
  },
  {
   "cell_type": "code",
   "execution_count": 93,
   "metadata": {},
   "outputs": [],
   "source": [
    "soup = BeautifulSoup(native.content, 'html.parser')"
   ]
  },
  {
   "cell_type": "code",
   "execution_count": 96,
   "metadata": {},
   "outputs": [
    {
     "data": {
      "text/plain": [
       "[]"
      ]
     },
     "execution_count": 96,
     "metadata": {},
     "output_type": "execute_result"
    }
   ],
   "source": [
    "native_languages = []\n",
    "\n",
    "for i in soup.find_all('title', attrs={'class': 'govuk-link'}):\n",
    "    x = i.get_text().strip()\n",
    "    native_languages.append(x)"
   ]
  },
  {
   "cell_type": "code",
   "execution_count": null,
   "metadata": {},
   "outputs": [],
   "source": []
  }
 ],
 "metadata": {
  "kernelspec": {
   "display_name": "Python 3",
   "language": "python",
   "name": "python3"
  },
  "language_info": {
   "codemirror_mode": {
    "name": "ipython",
    "version": 3
   },
   "file_extension": ".py",
   "mimetype": "text/x-python",
   "name": "python",
   "nbconvert_exporter": "python",
   "pygments_lexer": "ipython3",
   "version": "3.8.5"
  },
  "toc": {
   "base_numbering": 1,
   "nav_menu": {},
   "number_sections": true,
   "sideBar": true,
   "skip_h1_title": false,
   "title_cell": "Table of Contents",
   "title_sidebar": "Contents",
   "toc_cell": true,
   "toc_position": {},
   "toc_section_display": true,
   "toc_window_display": false
  },
  "varInspector": {
   "cols": {
    "lenName": 16,
    "lenType": 16,
    "lenVar": 40
   },
   "kernels_config": {
    "python": {
     "delete_cmd_postfix": "",
     "delete_cmd_prefix": "del ",
     "library": "var_list.py",
     "varRefreshCmd": "print(var_dic_list())"
    },
    "r": {
     "delete_cmd_postfix": ") ",
     "delete_cmd_prefix": "rm(",
     "library": "var_list.r",
     "varRefreshCmd": "cat(var_dic_list()) "
    }
   },
   "types_to_exclude": [
    "module",
    "function",
    "builtin_function_or_method",
    "instance",
    "_Feature"
   ],
   "window_display": false
  }
 },
 "nbformat": 4,
 "nbformat_minor": 5
}
