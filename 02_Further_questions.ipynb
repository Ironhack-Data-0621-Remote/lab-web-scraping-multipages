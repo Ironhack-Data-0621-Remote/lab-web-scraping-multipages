{
 "cells": [
  {
   "cell_type": "markdown",
   "id": "classified-start",
   "metadata": {
    "toc": true
   },
   "source": [
    "<h1>Table of Contents<span class=\"tocSkip\"></span></h1>\n",
    "<div class=\"toc\"><ul class=\"toc-item\"><li><span><a href=\"#Retrieve-an-arbitrary-Wikipedia-page-of-&quot;Python&quot;-and-create-a-list-of-links-on-that-page\" data-toc-modified-id=\"Retrieve-an-arbitrary-Wikipedia-page-of-&quot;Python&quot;-and-create-a-list-of-links-on-that-page-1\"><span class=\"toc-item-num\">1&nbsp;&nbsp;</span>Retrieve an arbitrary Wikipedia page of \"Python\" and create a list of links on that page</a></span></li><li><span><a href=\"#Find-the-number-of-titles-that-have-changed-in-the-United-States-Code-since-its-last-release-point\" data-toc-modified-id=\"Find-the-number-of-titles-that-have-changed-in-the-United-States-Code-since-its-last-release-point-2\"><span class=\"toc-item-num\">2&nbsp;&nbsp;</span>Find the number of titles that have changed in the United States Code since its last release point</a></span></li><li><span><a href=\"#Create-a-Python-list-with-the-top-ten-FBI's-Most-Wanted-names\" data-toc-modified-id=\"Create-a-Python-list-with-the-top-ten-FBI's-Most-Wanted-names-3\"><span class=\"toc-item-num\">3&nbsp;&nbsp;</span>Create a Python list with the top ten FBI's Most Wanted names</a></span></li><li><span><a href=\"#Display-the-20-latest-earthquakes-info-(date,-time,-latitude,-longitude-and-region-name)-by-the-EMSC-as-a-pandas-dataframe\" data-toc-modified-id=\"Display-the-20-latest-earthquakes-info-(date,-time,-latitude,-longitude-and-region-name)-by-the-EMSC-as-a-pandas-dataframe-4\"><span class=\"toc-item-num\">4&nbsp;&nbsp;</span>Display the 20 latest earthquakes info (date, time, latitude, longitude and region name) by the EMSC as a pandas dataframe</a></span></li><li><span><a href=\"#List-all-language-names-and-number-of-related-articles-in-the-order-they-appear-in-wikipedia.org\" data-toc-modified-id=\"List-all-language-names-and-number-of-related-articles-in-the-order-they-appear-in-wikipedia.org-5\"><span class=\"toc-item-num\">5&nbsp;&nbsp;</span>List all language names and number of related articles in the order they appear in <a href=\"wikipedia.org\" target=\"_blank\">wikipedia.org</a></a></span></li><li><span><a href=\"#A-list-with-the-different-kind-of-datasets-available-in-data.gov.uk\" data-toc-modified-id=\"A-list-with-the-different-kind-of-datasets-available-in-data.gov.uk-6\"><span class=\"toc-item-num\">6&nbsp;&nbsp;</span>A list with the different kind of datasets available in <a href=\"data.gov.uk\" target=\"_blank\">data.gov.uk</a></a></span></li><li><span><a href=\"#Display-the-top-10-languages-by-number-of-native-speakers-stored-in-a-pandas-dataframe\" data-toc-modified-id=\"Display-the-top-10-languages-by-number-of-native-speakers-stored-in-a-pandas-dataframe-7\"><span class=\"toc-item-num\">7&nbsp;&nbsp;</span>Display the top 10 languages by number of native speakers stored in a pandas dataframe</a></span></li></ul></div>"
   ]
  },
  {
   "cell_type": "markdown",
   "id": "cellular-poster",
   "metadata": {},
   "source": [
    "As you've seen, scraping the internet is a skill that can get you all sorts of information. Here are some little challenges to gain more experience in the field"
   ]
  },
  {
   "cell_type": "code",
   "execution_count": 218,
   "id": "ebcadb1b",
   "metadata": {},
   "outputs": [],
   "source": [
    "from bs4 import BeautifulSoup\n",
    "import requests\n",
    "import pandas as pd\n",
    "import dateutil.parser as dparser"
   ]
  },
  {
   "cell_type": "markdown",
   "id": "express-introduction",
   "metadata": {},
   "source": [
    "### Retrieve an arbitrary Wikipedia page of \"Python\" and create a list of links on that page"
   ]
  },
  {
   "cell_type": "code",
   "execution_count": 2,
   "id": "appreciated-bubble",
   "metadata": {},
   "outputs": [],
   "source": [
    "url ='https://en.wikipedia.org/wiki/Python'"
   ]
  },
  {
   "cell_type": "code",
   "execution_count": 3,
   "id": "ed026649",
   "metadata": {},
   "outputs": [
    {
     "data": {
      "text/plain": [
       "200"
      ]
     },
     "execution_count": 3,
     "metadata": {},
     "output_type": "execute_result"
    }
   ],
   "source": [
    "response = requests.get(url)\n",
    "response.status_code"
   ]
  },
  {
   "cell_type": "code",
   "execution_count": 4,
   "id": "cf8b4107",
   "metadata": {},
   "outputs": [],
   "source": [
    "soup = BeautifulSoup(response.content, \"html.parser\")"
   ]
  },
  {
   "cell_type": "code",
   "execution_count": 37,
   "id": "318eca02",
   "metadata": {},
   "outputs": [
    {
     "data": {
      "text/plain": [
       "['Computing',\n",
       " 'People',\n",
       " 'Roller coasters',\n",
       " 'Vehicles',\n",
       " 'Weaponry',\n",
       " 'Other uses',\n",
       " 'See also']"
      ]
     },
     "execution_count": 37,
     "metadata": {},
     "output_type": "execute_result"
    }
   ],
   "source": [
    "contents = []\n",
    "pre = soup.find_all('span', attrs={'class': 'toctext'})\n",
    "for c in pre:\n",
    "    contents.append(c.get_text())\n",
    "contents"
   ]
  },
  {
   "cell_type": "code",
   "execution_count": 28,
   "id": "bc17895c",
   "metadata": {},
   "outputs": [
    {
     "data": {
      "text/plain": [
       "'https://en.wikipedia.org/wiki/Python#Computing'"
      ]
     },
     "execution_count": 28,
     "metadata": {},
     "output_type": "execute_result"
    }
   ],
   "source": [
    "links = 'https://en.wikipedia.org/wiki/Python' + soup.find('li', attrs={'class': 'toclevel-1 tocsection-1'}).find('a').get('href')\n",
    "links"
   ]
  },
  {
   "cell_type": "code",
   "execution_count": 54,
   "id": "854fb881",
   "metadata": {},
   "outputs": [],
   "source": [
    "contents = []\n",
    "links = []\n",
    "\n",
    "pre = soup.find_all('span', attrs={'class': 'toctext'})\n",
    "\n",
    "for i, c in enumerate(pre):\n",
    "    contents.append(c.get_text())\n",
    "    x = i+1\n",
    "    links.append('https://en.wikipedia.org/wiki/Python' + soup.find('li', attrs={'class': 'toclevel-1 tocsection-'+str(x)}).find('a').get('href'))\n"
   ]
  },
  {
   "cell_type": "code",
   "execution_count": 55,
   "id": "9204697d",
   "metadata": {},
   "outputs": [
    {
     "data": {
      "text/html": [
       "<div>\n",
       "<style scoped>\n",
       "    .dataframe tbody tr th:only-of-type {\n",
       "        vertical-align: middle;\n",
       "    }\n",
       "\n",
       "    .dataframe tbody tr th {\n",
       "        vertical-align: top;\n",
       "    }\n",
       "\n",
       "    .dataframe thead th {\n",
       "        text-align: right;\n",
       "    }\n",
       "</style>\n",
       "<table border=\"1\" class=\"dataframe\">\n",
       "  <thead>\n",
       "    <tr style=\"text-align: right;\">\n",
       "      <th></th>\n",
       "      <th>content</th>\n",
       "      <th>link</th>\n",
       "    </tr>\n",
       "  </thead>\n",
       "  <tbody>\n",
       "    <tr>\n",
       "      <th>0</th>\n",
       "      <td>Computing</td>\n",
       "      <td>https://en.wikipedia.org/wiki/Python#Computing</td>\n",
       "    </tr>\n",
       "    <tr>\n",
       "      <th>1</th>\n",
       "      <td>People</td>\n",
       "      <td>https://en.wikipedia.org/wiki/Python#People</td>\n",
       "    </tr>\n",
       "    <tr>\n",
       "      <th>2</th>\n",
       "      <td>Roller coasters</td>\n",
       "      <td>https://en.wikipedia.org/wiki/Python#Roller_co...</td>\n",
       "    </tr>\n",
       "    <tr>\n",
       "      <th>3</th>\n",
       "      <td>Vehicles</td>\n",
       "      <td>https://en.wikipedia.org/wiki/Python#Vehicles</td>\n",
       "    </tr>\n",
       "    <tr>\n",
       "      <th>4</th>\n",
       "      <td>Weaponry</td>\n",
       "      <td>https://en.wikipedia.org/wiki/Python#Weaponry</td>\n",
       "    </tr>\n",
       "    <tr>\n",
       "      <th>5</th>\n",
       "      <td>Other uses</td>\n",
       "      <td>https://en.wikipedia.org/wiki/Python#Other_uses</td>\n",
       "    </tr>\n",
       "    <tr>\n",
       "      <th>6</th>\n",
       "      <td>See also</td>\n",
       "      <td>https://en.wikipedia.org/wiki/Python#See_also</td>\n",
       "    </tr>\n",
       "  </tbody>\n",
       "</table>\n",
       "</div>"
      ],
      "text/plain": [
       "           content                                               link\n",
       "0        Computing     https://en.wikipedia.org/wiki/Python#Computing\n",
       "1           People        https://en.wikipedia.org/wiki/Python#People\n",
       "2  Roller coasters  https://en.wikipedia.org/wiki/Python#Roller_co...\n",
       "3         Vehicles      https://en.wikipedia.org/wiki/Python#Vehicles\n",
       "4         Weaponry      https://en.wikipedia.org/wiki/Python#Weaponry\n",
       "5       Other uses    https://en.wikipedia.org/wiki/Python#Other_uses\n",
       "6         See also      https://en.wikipedia.org/wiki/Python#See_also"
      ]
     },
     "execution_count": 55,
     "metadata": {},
     "output_type": "execute_result"
    }
   ],
   "source": [
    "dct = {'content': contents, 'link': links}\n",
    "\n",
    "df = pd.DataFrame.from_dict(dct)\n",
    "df"
   ]
  },
  {
   "cell_type": "markdown",
   "id": "relevant-performer",
   "metadata": {},
   "source": [
    "### Find the number of titles that have changed in the United States Code since its last release point"
   ]
  },
  {
   "cell_type": "code",
   "execution_count": 56,
   "id": "scenic-surgeon",
   "metadata": {},
   "outputs": [],
   "source": [
    "url = 'http://uscode.house.gov/download/download.shtml'"
   ]
  },
  {
   "cell_type": "code",
   "execution_count": 57,
   "id": "e8904fdc",
   "metadata": {},
   "outputs": [
    {
     "data": {
      "text/plain": [
       "200"
      ]
     },
     "execution_count": 57,
     "metadata": {},
     "output_type": "execute_result"
    }
   ],
   "source": [
    "response = requests.get(url)\n",
    "response.status_code"
   ]
  },
  {
   "cell_type": "code",
   "execution_count": 58,
   "id": "43e37d27",
   "metadata": {},
   "outputs": [],
   "source": [
    "soup = BeautifulSoup(response.content, \"html.parser\")"
   ]
  },
  {
   "cell_type": "code",
   "execution_count": 80,
   "id": "d65d5e18",
   "metadata": {},
   "outputs": [
    {
     "name": "stdout",
     "output_type": "stream",
     "text": [
      "Number of titles: 54\n"
     ]
    }
   ],
   "source": [
    "titles = []\n",
    "pre = soup.find_all('div', attrs={'class': 'usctitle'})\n",
    "for t in pre:\n",
    "    titles.append(t.get_text())\n",
    "print('Number of titles:', titles[-1].split()[1])"
   ]
  },
  {
   "cell_type": "markdown",
   "id": "acute-necessity",
   "metadata": {},
   "source": [
    "### Create a Python list with the top ten FBI's Most Wanted names"
   ]
  },
  {
   "cell_type": "code",
   "execution_count": 103,
   "id": "starting-blackberry",
   "metadata": {},
   "outputs": [],
   "source": [
    "url = 'https://www.fbi.gov/wanted/topten'"
   ]
  },
  {
   "cell_type": "code",
   "execution_count": 104,
   "id": "f5138323",
   "metadata": {},
   "outputs": [
    {
     "data": {
      "text/plain": [
       "200"
      ]
     },
     "execution_count": 104,
     "metadata": {},
     "output_type": "execute_result"
    }
   ],
   "source": [
    "response = requests.get(url)\n",
    "response.status_code"
   ]
  },
  {
   "cell_type": "code",
   "execution_count": 105,
   "id": "0c5ab86d",
   "metadata": {},
   "outputs": [],
   "source": [
    "soup = BeautifulSoup(response.content, \"html.parser\")"
   ]
  },
  {
   "cell_type": "code",
   "execution_count": 151,
   "id": "b29f2f4f",
   "metadata": {},
   "outputs": [
    {
     "data": {
      "text/plain": [
       "['arnoldo jimenez',\n",
       " 'jason derek brown',\n",
       " 'alexis flores',\n",
       " 'jose rodolfo villarreal hernandez',\n",
       " 'octaviano juarez corro',\n",
       " 'eugene palmer',\n",
       " 'rafael caro quintero',\n",
       " 'bhadreshkumar chetanbhai patel',\n",
       " 'alejandro castillo',\n",
       " 'robert william fisher']"
      ]
     },
     "execution_count": 151,
     "metadata": {},
     "output_type": "execute_result"
    }
   ],
   "source": [
    "wanted = []\n",
    "pre = soup.find_all('li', attrs={'class': 'portal-type-person castle-grid-block-item'})\n",
    "\n",
    "for i, c in enumerate(pre):\n",
    "    wanted.append(c.find('a').get('href').split('/')[-1].replace('-',' '))\n",
    "    x = i+1\n",
    "    \n",
    "wanted"
   ]
  },
  {
   "cell_type": "code",
   "execution_count": 149,
   "id": "8b14afed",
   "metadata": {},
   "outputs": [
    {
     "data": {
      "text/plain": [
       "['Arnoldo Jimenez',\n",
       " 'Jason Derek Brown',\n",
       " 'Alexis Flores',\n",
       " 'Jose Rodolfo Villarreal Hernandez',\n",
       " 'Octaviano Juarez Corro',\n",
       " 'Eugene Palmer',\n",
       " 'Rafael Caro Quintero',\n",
       " 'Bhadreshkumar Chetanbhai Patel',\n",
       " 'Alejandro Castillo',\n",
       " 'Robert William Fisher']"
      ]
     },
     "execution_count": 149,
     "metadata": {},
     "output_type": "execute_result"
    }
   ],
   "source": [
    "temp = []\n",
    "temp2 = []\n",
    "temp3 = []\n",
    "\n",
    "for w in wanted:\n",
    "    w = w.split(' ')\n",
    "    temp.append(w)\n",
    "\n",
    "for a in temp:\n",
    "    newa = []\n",
    "    for b in a:\n",
    "        b = b.capitalize()\n",
    "        newa.append(b)\n",
    "    temp2.append(newa)\n",
    "    \n",
    "for item in temp2:\n",
    "    t = ' '.join(item)\n",
    "    temp3.append(t)\n",
    "    \n",
    "temp3"
   ]
  },
  {
   "cell_type": "code",
   "execution_count": 161,
   "id": "dab0cd97",
   "metadata": {},
   "outputs": [
    {
     "data": {
      "text/html": [
       "<div>\n",
       "<style scoped>\n",
       "    .dataframe tbody tr th:only-of-type {\n",
       "        vertical-align: middle;\n",
       "    }\n",
       "\n",
       "    .dataframe tbody tr th {\n",
       "        vertical-align: top;\n",
       "    }\n",
       "\n",
       "    .dataframe thead th {\n",
       "        text-align: right;\n",
       "    }\n",
       "</style>\n",
       "<table border=\"1\" class=\"dataframe\">\n",
       "  <thead>\n",
       "    <tr style=\"text-align: right;\">\n",
       "      <th></th>\n",
       "      <th>Name</th>\n",
       "    </tr>\n",
       "  </thead>\n",
       "  <tbody>\n",
       "    <tr>\n",
       "      <th>1</th>\n",
       "      <td>Arnoldo Jimenez</td>\n",
       "    </tr>\n",
       "    <tr>\n",
       "      <th>2</th>\n",
       "      <td>Jason Derek Brown</td>\n",
       "    </tr>\n",
       "    <tr>\n",
       "      <th>3</th>\n",
       "      <td>Alexis Flores</td>\n",
       "    </tr>\n",
       "    <tr>\n",
       "      <th>4</th>\n",
       "      <td>Jose Rodolfo Villarreal Hernandez</td>\n",
       "    </tr>\n",
       "    <tr>\n",
       "      <th>5</th>\n",
       "      <td>Octaviano Juarez Corro</td>\n",
       "    </tr>\n",
       "    <tr>\n",
       "      <th>6</th>\n",
       "      <td>Eugene Palmer</td>\n",
       "    </tr>\n",
       "    <tr>\n",
       "      <th>7</th>\n",
       "      <td>Rafael Caro Quintero</td>\n",
       "    </tr>\n",
       "    <tr>\n",
       "      <th>8</th>\n",
       "      <td>Bhadreshkumar Chetanbhai Patel</td>\n",
       "    </tr>\n",
       "    <tr>\n",
       "      <th>9</th>\n",
       "      <td>Alejandro Castillo</td>\n",
       "    </tr>\n",
       "    <tr>\n",
       "      <th>10</th>\n",
       "      <td>Robert William Fisher</td>\n",
       "    </tr>\n",
       "  </tbody>\n",
       "</table>\n",
       "</div>"
      ],
      "text/plain": [
       "                                 Name\n",
       "1                     Arnoldo Jimenez\n",
       "2                   Jason Derek Brown\n",
       "3                       Alexis Flores\n",
       "4   Jose Rodolfo Villarreal Hernandez\n",
       "5              Octaviano Juarez Corro\n",
       "6                       Eugene Palmer\n",
       "7                Rafael Caro Quintero\n",
       "8      Bhadreshkumar Chetanbhai Patel\n",
       "9                  Alejandro Castillo\n",
       "10              Robert William Fisher"
      ]
     },
     "execution_count": 161,
     "metadata": {},
     "output_type": "execute_result"
    }
   ],
   "source": [
    "topwanted = pd.DataFrame(temp3, index = list(range(1,11)), columns = ['Name'])\n",
    "topwanted"
   ]
  },
  {
   "cell_type": "markdown",
   "id": "joined-induction",
   "metadata": {},
   "source": [
    "### Display the 20 latest earthquakes info (date, time, latitude, longitude and region name) by the EMSC as a pandas dataframe"
   ]
  },
  {
   "cell_type": "code",
   "execution_count": 162,
   "id": "copyrighted-taiwan",
   "metadata": {},
   "outputs": [],
   "source": [
    "url = 'https://www.emsc-csem.org/Earthquake/'"
   ]
  },
  {
   "cell_type": "code",
   "execution_count": 163,
   "id": "be4ff9bb",
   "metadata": {},
   "outputs": [
    {
     "data": {
      "text/plain": [
       "200"
      ]
     },
     "execution_count": 163,
     "metadata": {},
     "output_type": "execute_result"
    }
   ],
   "source": [
    "response = requests.get(url)\n",
    "response.status_code"
   ]
  },
  {
   "cell_type": "code",
   "execution_count": 164,
   "id": "cb40a40f",
   "metadata": {},
   "outputs": [],
   "source": [
    "soup = BeautifulSoup(response.content, \"html.parser\")"
   ]
  },
  {
   "cell_type": "code",
   "execution_count": 251,
   "id": "d4529b73",
   "metadata": {},
   "outputs": [
    {
     "data": {
      "text/plain": [
       "['Date', 'Time', 'Latitude degrees', 'Longitude degrees', 'Region name']"
      ]
     },
     "execution_count": 251,
     "metadata": {},
     "output_type": "execute_result"
    }
   ],
   "source": [
    "columns = []\n",
    "\n",
    "header = soup.find_all('th', attrs={'class': 'th2'})\n",
    "for d in header:\n",
    "    columns.append(d.get_text())\n",
    "\n",
    "columns = ['Date', 'Time', columns[2], columns[3], columns[6][:11]]\n",
    "\n",
    "columns"
   ]
  },
  {
   "cell_type": "code",
   "execution_count": 219,
   "id": "4cc71690",
   "metadata": {
    "scrolled": false
   },
   "outputs": [],
   "source": [
    "date_time = []\n",
    "\n",
    "dates = soup.find_all('td', attrs={'class': 'tabev6'})\n",
    "for d in dates:\n",
    "    date_time.append(d.get_text())\n",
    "\n",
    "date = []\n",
    "time = []\n",
    "marker = \"hr\"\n",
    "\n",
    "for d in date_time:\n",
    "    if marker not in d:\n",
    "        d2 = dparser.parse(d,fuzzy=True)\n",
    "        date.append(str(d2)[:10])\n",
    "        time.append(str(d2)[11:16])\n",
    "    else:        \n",
    "        d2 = dparser.parse(d.split(\"hr\")[0],fuzzy=True)\n",
    "        date.append(str(d2)[:10])\n",
    "        time.append(str(d2)[11:16])"
   ]
  },
  {
   "cell_type": "code",
   "execution_count": 237,
   "id": "838e55b0",
   "metadata": {
    "scrolled": true
   },
   "outputs": [],
   "source": [
    "latitude = []\n",
    "longitude = []\n",
    "\n",
    "temp4 = soup.find_all('td', attrs={'class': 'tabev1'})\n",
    "counter = 1\n",
    "for l in temp4:\n",
    "    if (counter%2 == 0) is True:\n",
    "        longitude.append(l.get_text()[:5])\n",
    "        counter += 1\n",
    "    else:\n",
    "        latitude.append(l.get_text()[:5])\n",
    "        counter += 1"
   ]
  },
  {
   "cell_type": "code",
   "execution_count": 241,
   "id": "08f5f323",
   "metadata": {},
   "outputs": [],
   "source": [
    "region = []\n",
    "\n",
    "temp5 = soup.find_all('td', attrs={'class': 'tb_region'})\n",
    "for r in temp5:\n",
    "    region.append(r.get_text().replace('\\xa0',''))"
   ]
  },
  {
   "cell_type": "code",
   "execution_count": 258,
   "id": "7b4f01f5",
   "metadata": {},
   "outputs": [
    {
     "data": {
      "text/html": [
       "<div>\n",
       "<style scoped>\n",
       "    .dataframe tbody tr th:only-of-type {\n",
       "        vertical-align: middle;\n",
       "    }\n",
       "\n",
       "    .dataframe tbody tr th {\n",
       "        vertical-align: top;\n",
       "    }\n",
       "\n",
       "    .dataframe thead th {\n",
       "        text-align: right;\n",
       "    }\n",
       "</style>\n",
       "<table border=\"1\" class=\"dataframe\">\n",
       "  <thead>\n",
       "    <tr style=\"text-align: right;\">\n",
       "      <th></th>\n",
       "      <th>Date</th>\n",
       "      <th>Time</th>\n",
       "      <th>Latitude degrees</th>\n",
       "      <th>Longitude degrees</th>\n",
       "      <th>Region name</th>\n",
       "    </tr>\n",
       "  </thead>\n",
       "  <tbody>\n",
       "    <tr>\n",
       "      <th>0</th>\n",
       "      <td>2021-10-20</td>\n",
       "      <td>10:00</td>\n",
       "      <td>28.59</td>\n",
       "      <td>17.85</td>\n",
       "      <td>CANARY ISLANDS, SPAIN REGION</td>\n",
       "    </tr>\n",
       "    <tr>\n",
       "      <th>1</th>\n",
       "      <td>2021-10-20</td>\n",
       "      <td>09:58</td>\n",
       "      <td>28.56</td>\n",
       "      <td>17.83</td>\n",
       "      <td>CANARY ISLANDS, SPAIN REGION</td>\n",
       "    </tr>\n",
       "    <tr>\n",
       "      <th>2</th>\n",
       "      <td>2021-10-20</td>\n",
       "      <td>09:55</td>\n",
       "      <td>28.55</td>\n",
       "      <td>17.85</td>\n",
       "      <td>CANARY ISLANDS, SPAIN REGION</td>\n",
       "    </tr>\n",
       "    <tr>\n",
       "      <th>3</th>\n",
       "      <td>2021-10-20</td>\n",
       "      <td>09:54</td>\n",
       "      <td>28.56</td>\n",
       "      <td>17.84</td>\n",
       "      <td>CANARY ISLANDS, SPAIN REGION</td>\n",
       "    </tr>\n",
       "    <tr>\n",
       "      <th>4</th>\n",
       "      <td>2021-10-20</td>\n",
       "      <td>09:46</td>\n",
       "      <td>40.63</td>\n",
       "      <td>122.4</td>\n",
       "      <td>NORTHERN CALIFORNIA</td>\n",
       "    </tr>\n",
       "    <tr>\n",
       "      <th>5</th>\n",
       "      <td>2021-10-20</td>\n",
       "      <td>09:44</td>\n",
       "      <td>28.56</td>\n",
       "      <td>17.83</td>\n",
       "      <td>CANARY ISLANDS, SPAIN REGION</td>\n",
       "    </tr>\n",
       "    <tr>\n",
       "      <th>6</th>\n",
       "      <td>2021-10-20</td>\n",
       "      <td>09:28</td>\n",
       "      <td>42.42</td>\n",
       "      <td>9.02</td>\n",
       "      <td>SPAIN</td>\n",
       "    </tr>\n",
       "    <tr>\n",
       "      <th>7</th>\n",
       "      <td>2021-10-20</td>\n",
       "      <td>09:26</td>\n",
       "      <td>40.46</td>\n",
       "      <td>175.8</td>\n",
       "      <td>NORTH ISLAND OF NEW ZEALAND</td>\n",
       "    </tr>\n",
       "    <tr>\n",
       "      <th>8</th>\n",
       "      <td>2021-10-20</td>\n",
       "      <td>09:26</td>\n",
       "      <td>28.58</td>\n",
       "      <td>17.84</td>\n",
       "      <td>CANARY ISLANDS, SPAIN REGION</td>\n",
       "    </tr>\n",
       "    <tr>\n",
       "      <th>9</th>\n",
       "      <td>2021-10-20</td>\n",
       "      <td>09:25</td>\n",
       "      <td>28.56</td>\n",
       "      <td>17.86</td>\n",
       "      <td>CANARY ISLANDS, SPAIN REGION</td>\n",
       "    </tr>\n",
       "    <tr>\n",
       "      <th>10</th>\n",
       "      <td>2021-10-20</td>\n",
       "      <td>09:23</td>\n",
       "      <td>28.56</td>\n",
       "      <td>17.87</td>\n",
       "      <td>CANARY ISLANDS, SPAIN REGION</td>\n",
       "    </tr>\n",
       "    <tr>\n",
       "      <th>11</th>\n",
       "      <td>2021-10-20</td>\n",
       "      <td>09:21</td>\n",
       "      <td>37.25</td>\n",
       "      <td>20.46</td>\n",
       "      <td>IONIAN SEA</td>\n",
       "    </tr>\n",
       "    <tr>\n",
       "      <th>12</th>\n",
       "      <td>2021-10-20</td>\n",
       "      <td>09:21</td>\n",
       "      <td>8.26</td>\n",
       "      <td>116.7</td>\n",
       "      <td>LOMBOK REGION, INDONESIA</td>\n",
       "    </tr>\n",
       "    <tr>\n",
       "      <th>13</th>\n",
       "      <td>2021-10-20</td>\n",
       "      <td>09:20</td>\n",
       "      <td>18.69</td>\n",
       "      <td>69.41</td>\n",
       "      <td>TARAPACA, CHILE</td>\n",
       "    </tr>\n",
       "    <tr>\n",
       "      <th>14</th>\n",
       "      <td>2021-10-20</td>\n",
       "      <td>09:18</td>\n",
       "      <td>28.57</td>\n",
       "      <td>17.83</td>\n",
       "      <td>CANARY ISLANDS, SPAIN REGION</td>\n",
       "    </tr>\n",
       "    <tr>\n",
       "      <th>15</th>\n",
       "      <td>2021-10-20</td>\n",
       "      <td>09:18</td>\n",
       "      <td>47.55</td>\n",
       "      <td>6.56</td>\n",
       "      <td>FRANCE</td>\n",
       "    </tr>\n",
       "    <tr>\n",
       "      <th>16</th>\n",
       "      <td>2021-10-20</td>\n",
       "      <td>09:09</td>\n",
       "      <td>28.55</td>\n",
       "      <td>17.84</td>\n",
       "      <td>CANARY ISLANDS, SPAIN REGION</td>\n",
       "    </tr>\n",
       "    <tr>\n",
       "      <th>17</th>\n",
       "      <td>2021-10-20</td>\n",
       "      <td>09:06</td>\n",
       "      <td>28.56</td>\n",
       "      <td>17.84</td>\n",
       "      <td>CANARY ISLANDS, SPAIN REGION</td>\n",
       "    </tr>\n",
       "    <tr>\n",
       "      <th>18</th>\n",
       "      <td>2021-10-20</td>\n",
       "      <td>08:58</td>\n",
       "      <td>28.57</td>\n",
       "      <td>17.83</td>\n",
       "      <td>CANARY ISLANDS, SPAIN REGION</td>\n",
       "    </tr>\n",
       "    <tr>\n",
       "      <th>19</th>\n",
       "      <td>2021-10-20</td>\n",
       "      <td>08:57</td>\n",
       "      <td>16.41</td>\n",
       "      <td>93.20</td>\n",
       "      <td>CHIAPAS, MEXICO</td>\n",
       "    </tr>\n",
       "  </tbody>\n",
       "</table>\n",
       "</div>"
      ],
      "text/plain": [
       "          Date   Time Latitude degrees Longitude degrees  \\\n",
       "0   2021-10-20  10:00            28.59             17.85   \n",
       "1   2021-10-20  09:58            28.56             17.83   \n",
       "2   2021-10-20  09:55            28.55             17.85   \n",
       "3   2021-10-20  09:54            28.56             17.84   \n",
       "4   2021-10-20  09:46            40.63             122.4   \n",
       "5   2021-10-20  09:44            28.56             17.83   \n",
       "6   2021-10-20  09:28            42.42             9.02    \n",
       "7   2021-10-20  09:26            40.46             175.8   \n",
       "8   2021-10-20  09:26            28.58             17.84   \n",
       "9   2021-10-20  09:25            28.56             17.86   \n",
       "10  2021-10-20  09:23            28.56             17.87   \n",
       "11  2021-10-20  09:21            37.25             20.46   \n",
       "12  2021-10-20  09:21            8.26              116.7   \n",
       "13  2021-10-20  09:20            18.69             69.41   \n",
       "14  2021-10-20  09:18            28.57             17.83   \n",
       "15  2021-10-20  09:18            47.55             6.56    \n",
       "16  2021-10-20  09:09            28.55             17.84   \n",
       "17  2021-10-20  09:06            28.56             17.84   \n",
       "18  2021-10-20  08:58            28.57             17.83   \n",
       "19  2021-10-20  08:57            16.41             93.20   \n",
       "\n",
       "                     Region name  \n",
       "0   CANARY ISLANDS, SPAIN REGION  \n",
       "1   CANARY ISLANDS, SPAIN REGION  \n",
       "2   CANARY ISLANDS, SPAIN REGION  \n",
       "3   CANARY ISLANDS, SPAIN REGION  \n",
       "4            NORTHERN CALIFORNIA  \n",
       "5   CANARY ISLANDS, SPAIN REGION  \n",
       "6                          SPAIN  \n",
       "7    NORTH ISLAND OF NEW ZEALAND  \n",
       "8   CANARY ISLANDS, SPAIN REGION  \n",
       "9   CANARY ISLANDS, SPAIN REGION  \n",
       "10  CANARY ISLANDS, SPAIN REGION  \n",
       "11                    IONIAN SEA  \n",
       "12      LOMBOK REGION, INDONESIA  \n",
       "13               TARAPACA, CHILE  \n",
       "14  CANARY ISLANDS, SPAIN REGION  \n",
       "15                        FRANCE  \n",
       "16  CANARY ISLANDS, SPAIN REGION  \n",
       "17  CANARY ISLANDS, SPAIN REGION  \n",
       "18  CANARY ISLANDS, SPAIN REGION  \n",
       "19               CHIAPAS, MEXICO  "
      ]
     },
     "execution_count": 258,
     "metadata": {},
     "output_type": "execute_result"
    }
   ],
   "source": [
    "dct = {'Date': date[:20], 'Time': time[:20], 'Latitude degrees': latitude[:20]\n",
    "       , 'Longitude degrees': longitude[:20], 'Region name': region[:20]}\n",
    "\n",
    "earthquakes_info = pd.DataFrame.from_dict(dct)\n",
    "earthquakes_info"
   ]
  },
  {
   "cell_type": "markdown",
   "id": "dominican-defeat",
   "metadata": {},
   "source": [
    "### List all language names and number of related articles in the order they appear in [wikipedia.org](wikipedia.org)"
   ]
  },
  {
   "cell_type": "markdown",
   "id": "b58e3972",
   "metadata": {},
   "source": [
    "- I couldn't find the place with the number of related articles"
   ]
  },
  {
   "cell_type": "code",
   "execution_count": 255,
   "id": "metric-vertex",
   "metadata": {},
   "outputs": [],
   "source": [
    "url = 'https://www.wikipedia.org/'"
   ]
  },
  {
   "cell_type": "code",
   "execution_count": 256,
   "id": "866e9676",
   "metadata": {
    "scrolled": true
   },
   "outputs": [
    {
     "data": {
      "text/plain": [
       "200"
      ]
     },
     "execution_count": 256,
     "metadata": {},
     "output_type": "execute_result"
    }
   ],
   "source": [
    "response = requests.get(url)\n",
    "response.status_code"
   ]
  },
  {
   "cell_type": "code",
   "execution_count": 259,
   "id": "101cf814",
   "metadata": {},
   "outputs": [],
   "source": [
    "soup = BeautifulSoup(response.content, \"html.parser\")"
   ]
  },
  {
   "cell_type": "code",
   "execution_count": 277,
   "id": "8d42443c",
   "metadata": {},
   "outputs": [],
   "source": [
    "langs = []\n",
    "temp6 = soup.find_all('select', attrs={'id': 'searchLanguage'})\n",
    "\n",
    "for r in temp6:\n",
    "    langs.append(r.get_text().replace('/','').split())\n",
    "    \n",
    "    "
   ]
  },
  {
   "cell_type": "code",
   "execution_count": 280,
   "id": "b229b82a",
   "metadata": {},
   "outputs": [
    {
     "name": "stdout",
     "output_type": "stream",
     "text": [
      "Number of languages on Wikipedia: 86\n"
     ]
    }
   ],
   "source": [
    "print('Number of languages on Wikipedia:', len(langs[0]))"
   ]
  },
  {
   "cell_type": "code",
   "execution_count": 289,
   "id": "c9bc8877",
   "metadata": {},
   "outputs": [
    {
     "data": {
      "text/html": [
       "<div>\n",
       "<style scoped>\n",
       "    .dataframe tbody tr th:only-of-type {\n",
       "        vertical-align: middle;\n",
       "    }\n",
       "\n",
       "    .dataframe tbody tr th {\n",
       "        vertical-align: top;\n",
       "    }\n",
       "\n",
       "    .dataframe thead th {\n",
       "        text-align: right;\n",
       "    }\n",
       "</style>\n",
       "<table border=\"1\" class=\"dataframe\">\n",
       "  <thead>\n",
       "    <tr style=\"text-align: right;\">\n",
       "      <th></th>\n",
       "      <th>Languages</th>\n",
       "    </tr>\n",
       "  </thead>\n",
       "  <tbody>\n",
       "    <tr>\n",
       "      <th>1</th>\n",
       "      <td>Afrikaans</td>\n",
       "    </tr>\n",
       "    <tr>\n",
       "      <th>2</th>\n",
       "      <td>Polski</td>\n",
       "    </tr>\n",
       "    <tr>\n",
       "      <th>3</th>\n",
       "      <td>Slovenčina</td>\n",
       "    </tr>\n",
       "    <tr>\n",
       "      <th>4</th>\n",
       "      <td>العربية</td>\n",
       "    </tr>\n",
       "    <tr>\n",
       "      <th>5</th>\n",
       "      <td>Asturianu</td>\n",
       "    </tr>\n",
       "    <tr>\n",
       "      <th>...</th>\n",
       "      <td>...</td>\n",
       "    </tr>\n",
       "    <tr>\n",
       "      <th>82</th>\n",
       "      <td>Winaray</td>\n",
       "    </tr>\n",
       "    <tr>\n",
       "      <th>83</th>\n",
       "      <td>粵語</td>\n",
       "    </tr>\n",
       "    <tr>\n",
       "      <th>84</th>\n",
       "      <td>中文</td>\n",
       "    </tr>\n",
       "    <tr>\n",
       "      <th>85</th>\n",
       "      <td>မြန်မာဘာသာ</td>\n",
       "    </tr>\n",
       "    <tr>\n",
       "      <th>86</th>\n",
       "      <td>한국어</td>\n",
       "    </tr>\n",
       "  </tbody>\n",
       "</table>\n",
       "<p>86 rows × 1 columns</p>\n",
       "</div>"
      ],
      "text/plain": [
       "     Languages\n",
       "1    Afrikaans\n",
       "2       Polski\n",
       "3   Slovenčina\n",
       "4      العربية\n",
       "5    Asturianu\n",
       "..         ...\n",
       "82     Winaray\n",
       "83          粵語\n",
       "84          中文\n",
       "85  မြန်မာဘာသာ\n",
       "86         한국어\n",
       "\n",
       "[86 rows x 1 columns]"
      ]
     },
     "execution_count": 289,
     "metadata": {},
     "output_type": "execute_result"
    }
   ],
   "source": [
    "num = len(langs[0])+1\n",
    "df = pd.DataFrame(langs[0], index = list(range(1,num)), columns = ['Languages'])\n",
    "df"
   ]
  },
  {
   "cell_type": "markdown",
   "id": "split-cartridge",
   "metadata": {},
   "source": [
    "### A list with the different kind of datasets available in [data.gov.uk](data.gov.uk)\n"
   ]
  },
  {
   "cell_type": "code",
   "execution_count": 292,
   "id": "actual-parallel",
   "metadata": {},
   "outputs": [],
   "source": [
    "url = 'https://data.gov.uk/'"
   ]
  },
  {
   "cell_type": "code",
   "execution_count": 293,
   "id": "69fa6622",
   "metadata": {},
   "outputs": [
    {
     "data": {
      "text/plain": [
       "200"
      ]
     },
     "execution_count": 293,
     "metadata": {},
     "output_type": "execute_result"
    }
   ],
   "source": [
    "response = requests.get(url)\n",
    "response.status_code"
   ]
  },
  {
   "cell_type": "code",
   "execution_count": 294,
   "id": "6f3df064",
   "metadata": {},
   "outputs": [],
   "source": [
    "soup = BeautifulSoup(response.content, \"html.parser\")"
   ]
  },
  {
   "cell_type": "code",
   "execution_count": 295,
   "id": "4aac849d",
   "metadata": {},
   "outputs": [],
   "source": [
    "datasets = []\n",
    "temp7 = soup.find_all('a', attrs={'class': 'govuk-link'})\n",
    "\n",
    "for d in temp7:\n",
    "    datasets.append(d.get_text())"
   ]
  },
  {
   "cell_type": "code",
   "execution_count": 301,
   "id": "0fa73b55",
   "metadata": {},
   "outputs": [
    {
     "data": {
      "text/plain": [
       "['Business and economy',\n",
       " 'Crime and justice',\n",
       " 'Defence',\n",
       " 'Education',\n",
       " 'Environment',\n",
       " 'Government',\n",
       " 'Government spending',\n",
       " 'Health',\n",
       " 'Mapping',\n",
       " 'Society',\n",
       " 'Towns and cities',\n",
       " 'Transport',\n",
       " 'Digital service performance',\n",
       " 'Government reference data']"
      ]
     },
     "execution_count": 301,
     "metadata": {},
     "output_type": "execute_result"
    }
   ],
   "source": [
    "datasets = datasets[4:]\n",
    "datasets"
   ]
  },
  {
   "cell_type": "code",
   "execution_count": 298,
   "id": "3b078678",
   "metadata": {},
   "outputs": [],
   "source": [
    "subdatasets = []\n",
    "temp8 = soup.find_all('p', attrs={'class': 'govuk-body'})\n",
    "\n",
    "for d in temp8:\n",
    "    subdatasets.append(d.get_text())"
   ]
  },
  {
   "cell_type": "code",
   "execution_count": 302,
   "id": "be374b22",
   "metadata": {},
   "outputs": [
    {
     "data": {
      "text/plain": [
       "['Small businesses, industry, imports, exports and trade',\n",
       " 'Courts, police, prison, offenders, borders and immigration',\n",
       " 'Armed forces, health and safety, search and rescue',\n",
       " 'Students, training, qualifications and the National Curriculum',\n",
       " 'Weather, flooding, rivers, air quality, geology and agriculture',\n",
       " 'Staff numbers and pay, local councillors and department business plans',\n",
       " 'Includes all payments by government departments over £25,000',\n",
       " 'Includes smoking, drugs, alcohol, medicine performance and hospitals',\n",
       " 'Addresses, boundaries, land ownership, aerial photographs, seabed and land terrain',\n",
       " 'Employment, benefits, household finances, poverty and population',\n",
       " 'Includes housing, urban planning, leisure, waste and energy, consumption',\n",
       " 'Airports, roads, freight, electric vehicles, parking, buses and footpaths',\n",
       " 'Cost, usage, completion rate, digital take-up, satisfaction',\n",
       " 'Trusted data that is referenced and shared across government departments']"
      ]
     },
     "execution_count": 302,
     "metadata": {},
     "output_type": "execute_result"
    }
   ],
   "source": [
    "subdatasets = subdatasets[1:]\n",
    "subdatasets"
   ]
  },
  {
   "cell_type": "code",
   "execution_count": 305,
   "id": "45b748d5",
   "metadata": {},
   "outputs": [
    {
     "data": {
      "text/plain": [
       "True"
      ]
     },
     "execution_count": 305,
     "metadata": {},
     "output_type": "execute_result"
    }
   ],
   "source": [
    "len(datasets) == len(subdatasets)"
   ]
  },
  {
   "cell_type": "code",
   "execution_count": 310,
   "id": "106b2812",
   "metadata": {},
   "outputs": [
    {
     "name": "stdout",
     "output_type": "stream",
     "text": [
      "{'Business and economy': 'Small businesses, industry, imports, exports and trade', 'Crime and justice': 'Courts, police, prison, offenders, borders and immigration', 'Defence': 'Armed forces, health and safety, search and rescue', 'Education': 'Students, training, qualifications and the National Curriculum', 'Environment': 'Weather, flooding, rivers, air quality, geology and agriculture', 'Government': 'Staff numbers and pay, local councillors and department business plans', 'Government spending': 'Includes all payments by government departments over £25,000', 'Health': 'Includes smoking, drugs, alcohol, medicine performance and hospitals', 'Mapping': 'Addresses, boundaries, land ownership, aerial photographs, seabed and land terrain', 'Society': 'Employment, benefits, household finances, poverty and population', 'Towns and cities': 'Includes housing, urban planning, leisure, waste and energy, consumption', 'Transport': 'Airports, roads, freight, electric vehicles, parking, buses and footpaths', 'Digital service performance': 'Cost, usage, completion rate, digital take-up, satisfaction', 'Government reference data': 'Trusted data that is referenced and shared across government departments'}\n"
     ]
    }
   ],
   "source": [
    "#Get pairs of elements\n",
    "zip_iterator = zip(datasets, subdatasets)\n",
    "\n",
    "#Convert to dictionary\n",
    "a_dictionary = dict(zip_iterator)\n",
    "\n",
    "print(a_dictionary)"
   ]
  },
  {
   "cell_type": "markdown",
   "id": "potential-malpractice",
   "metadata": {},
   "source": [
    "### Display the top 10 languages by number of native speakers stored in a pandas dataframe"
   ]
  },
  {
   "cell_type": "markdown",
   "id": "3cc62660",
   "metadata": {},
   "source": [
    "- On this question the outout I got from the parser was a nested list where I would have all the rows I need. But I couldn't make a script to read it bc in some point the spacement changes. That's why I have the error at the final line. As I'm late with other labs and I think I got the idea of this one I'm leaving it behind."
   ]
  },
  {
   "cell_type": "code",
   "execution_count": 311,
   "id": "adaptive-calculator",
   "metadata": {},
   "outputs": [],
   "source": [
    "url = 'https://en.wikipedia.org/wiki/List_of_languages_by_number_of_native_speakers'"
   ]
  },
  {
   "cell_type": "code",
   "execution_count": 312,
   "id": "cd25c104",
   "metadata": {},
   "outputs": [
    {
     "data": {
      "text/plain": [
       "200"
      ]
     },
     "execution_count": 312,
     "metadata": {},
     "output_type": "execute_result"
    }
   ],
   "source": [
    "response = requests.get(url)\n",
    "response.status_code"
   ]
  },
  {
   "cell_type": "code",
   "execution_count": 313,
   "id": "e999249f",
   "metadata": {},
   "outputs": [],
   "source": [
    "soup = BeautifulSoup(response.content, \"html.parser\")"
   ]
  },
  {
   "cell_type": "code",
   "execution_count": 320,
   "id": "3bfacc39",
   "metadata": {},
   "outputs": [],
   "source": [
    "rank = []\n",
    "language = []\n",
    "speakers = []\n",
    "\n",
    "ranktemp = soup.find_all('tr')\n",
    "\n",
    "for r in ranktemp:\n",
    "    rank.append(r.get_text().split('\\n'))"
   ]
  },
  {
   "cell_type": "code",
   "execution_count": 325,
   "id": "6e766257",
   "metadata": {},
   "outputs": [
    {
     "data": {
      "text/plain": [
       "['This section needs to be updated. Please help update this article to reflect recent events or newly available information. (December 2020)']"
      ]
     },
     "execution_count": 325,
     "metadata": {},
     "output_type": "execute_result"
    }
   ],
   "source": [
    "rank[0]"
   ]
  },
  {
   "cell_type": "code",
   "execution_count": 324,
   "id": "5647ed6f",
   "metadata": {},
   "outputs": [
    {
     "data": {
      "text/plain": [
       "['See also', 'Lists of languages', 'Category:Languages', '']"
      ]
     },
     "execution_count": 324,
     "metadata": {},
     "output_type": "execute_result"
    }
   ],
   "source": [
    "rank[-1]"
   ]
  },
  {
   "cell_type": "code",
   "execution_count": 326,
   "id": "e3ec0a86",
   "metadata": {},
   "outputs": [
    {
     "data": {
      "text/plain": [
       "214"
      ]
     },
     "execution_count": 326,
     "metadata": {},
     "output_type": "execute_result"
    }
   ],
   "source": [
    "len(rank)"
   ]
  },
  {
   "cell_type": "code",
   "execution_count": 335,
   "id": "1138fd89",
   "metadata": {},
   "outputs": [
    {
     "data": {
      "text/plain": [
       "['',\n",
       " '91',\n",
       " '',\n",
       " 'Sylheti',\n",
       " '',\n",
       " '10.3',\n",
       " '',\n",
       " '0.134%',\n",
       " '',\n",
       " 'Indo-European',\n",
       " '',\n",
       " 'Indo-Aryan',\n",
       " '']"
      ]
     },
     "execution_count": 335,
     "metadata": {},
     "output_type": "execute_result"
    }
   ],
   "source": [
    "rank[92]"
   ]
  },
  {
   "cell_type": "code",
   "execution_count": 336,
   "id": "d7a352f3",
   "metadata": {},
   "outputs": [
    {
     "ename": "ValueError",
     "evalue": "1 columns passed, passed data had 13 columns",
     "output_type": "error",
     "traceback": [
      "\u001b[1;31m---------------------------------------------------------------------------\u001b[0m",
      "\u001b[1;31mAssertionError\u001b[0m                            Traceback (most recent call last)",
      "\u001b[1;32m~\\anaconda3\\lib\\site-packages\\pandas\\core\\internals\\construction.py\u001b[0m in \u001b[0;36m_list_to_arrays\u001b[1;34m(data, columns, coerce_float, dtype)\u001b[0m\n\u001b[0;32m    567\u001b[0m     \u001b[1;32mtry\u001b[0m\u001b[1;33m:\u001b[0m\u001b[1;33m\u001b[0m\u001b[1;33m\u001b[0m\u001b[0m\n\u001b[1;32m--> 568\u001b[1;33m         \u001b[0mcolumns\u001b[0m \u001b[1;33m=\u001b[0m \u001b[0m_validate_or_indexify_columns\u001b[0m\u001b[1;33m(\u001b[0m\u001b[0mcontent\u001b[0m\u001b[1;33m,\u001b[0m \u001b[0mcolumns\u001b[0m\u001b[1;33m)\u001b[0m\u001b[1;33m\u001b[0m\u001b[1;33m\u001b[0m\u001b[0m\n\u001b[0m\u001b[0;32m    569\u001b[0m         \u001b[0mresult\u001b[0m \u001b[1;33m=\u001b[0m \u001b[0m_convert_object_array\u001b[0m\u001b[1;33m(\u001b[0m\u001b[0mcontent\u001b[0m\u001b[1;33m,\u001b[0m \u001b[0mdtype\u001b[0m\u001b[1;33m=\u001b[0m\u001b[0mdtype\u001b[0m\u001b[1;33m,\u001b[0m \u001b[0mcoerce_float\u001b[0m\u001b[1;33m=\u001b[0m\u001b[0mcoerce_float\u001b[0m\u001b[1;33m)\u001b[0m\u001b[1;33m\u001b[0m\u001b[1;33m\u001b[0m\u001b[0m\n",
      "\u001b[1;32m~\\anaconda3\\lib\\site-packages\\pandas\\core\\internals\\construction.py\u001b[0m in \u001b[0;36m_validate_or_indexify_columns\u001b[1;34m(content, columns)\u001b[0m\n\u001b[0;32m    691\u001b[0m             \u001b[1;31m# caller's responsibility to check for this...\u001b[0m\u001b[1;33m\u001b[0m\u001b[1;33m\u001b[0m\u001b[1;33m\u001b[0m\u001b[0m\n\u001b[1;32m--> 692\u001b[1;33m             raise AssertionError(\n\u001b[0m\u001b[0;32m    693\u001b[0m                 \u001b[1;34mf\"{len(columns)} columns passed, passed data had \"\u001b[0m\u001b[1;33m\u001b[0m\u001b[1;33m\u001b[0m\u001b[0m\n",
      "\u001b[1;31mAssertionError\u001b[0m: 1 columns passed, passed data had 13 columns",
      "\nThe above exception was the direct cause of the following exception:\n",
      "\u001b[1;31mValueError\u001b[0m                                Traceback (most recent call last)",
      "\u001b[1;32m<ipython-input-336-16a76901b9cc>\u001b[0m in \u001b[0;36m<module>\u001b[1;34m\u001b[0m\n\u001b[1;32m----> 1\u001b[1;33m \u001b[0mdf\u001b[0m \u001b[1;33m=\u001b[0m \u001b[0mpd\u001b[0m\u001b[1;33m.\u001b[0m\u001b[0mDataFrame\u001b[0m\u001b[1;33m(\u001b[0m\u001b[0mrank\u001b[0m\u001b[1;33m[\u001b[0m\u001b[1;36m1\u001b[0m\u001b[1;33m:\u001b[0m\u001b[1;36m92\u001b[0m\u001b[1;33m]\u001b[0m\u001b[1;33m,\u001b[0m\u001b[0mcolumns\u001b[0m\u001b[1;33m=\u001b[0m\u001b[0mrank\u001b[0m\u001b[1;33m[\u001b[0m\u001b[1;36m0\u001b[0m\u001b[1;33m]\u001b[0m\u001b[1;33m)\u001b[0m\u001b[1;33m\u001b[0m\u001b[1;33m\u001b[0m\u001b[0m\n\u001b[0m",
      "\u001b[1;32m~\\anaconda3\\lib\\site-packages\\pandas\\core\\frame.py\u001b[0m in \u001b[0;36m__init__\u001b[1;34m(self, data, index, columns, dtype, copy)\u001b[0m\n\u001b[0;32m    568\u001b[0m                     \u001b[1;32mif\u001b[0m \u001b[0mis_named_tuple\u001b[0m\u001b[1;33m(\u001b[0m\u001b[0mdata\u001b[0m\u001b[1;33m[\u001b[0m\u001b[1;36m0\u001b[0m\u001b[1;33m]\u001b[0m\u001b[1;33m)\u001b[0m \u001b[1;32mand\u001b[0m \u001b[0mcolumns\u001b[0m \u001b[1;32mis\u001b[0m \u001b[1;32mNone\u001b[0m\u001b[1;33m:\u001b[0m\u001b[1;33m\u001b[0m\u001b[1;33m\u001b[0m\u001b[0m\n\u001b[0;32m    569\u001b[0m                         \u001b[0mcolumns\u001b[0m \u001b[1;33m=\u001b[0m \u001b[0mdata\u001b[0m\u001b[1;33m[\u001b[0m\u001b[1;36m0\u001b[0m\u001b[1;33m]\u001b[0m\u001b[1;33m.\u001b[0m\u001b[0m_fields\u001b[0m\u001b[1;33m\u001b[0m\u001b[1;33m\u001b[0m\u001b[0m\n\u001b[1;32m--> 570\u001b[1;33m                     \u001b[0marrays\u001b[0m\u001b[1;33m,\u001b[0m \u001b[0mcolumns\u001b[0m \u001b[1;33m=\u001b[0m \u001b[0mto_arrays\u001b[0m\u001b[1;33m(\u001b[0m\u001b[0mdata\u001b[0m\u001b[1;33m,\u001b[0m \u001b[0mcolumns\u001b[0m\u001b[1;33m,\u001b[0m \u001b[0mdtype\u001b[0m\u001b[1;33m=\u001b[0m\u001b[0mdtype\u001b[0m\u001b[1;33m)\u001b[0m\u001b[1;33m\u001b[0m\u001b[1;33m\u001b[0m\u001b[0m\n\u001b[0m\u001b[0;32m    571\u001b[0m                     \u001b[0mcolumns\u001b[0m \u001b[1;33m=\u001b[0m \u001b[0mensure_index\u001b[0m\u001b[1;33m(\u001b[0m\u001b[0mcolumns\u001b[0m\u001b[1;33m)\u001b[0m\u001b[1;33m\u001b[0m\u001b[1;33m\u001b[0m\u001b[0m\n\u001b[0;32m    572\u001b[0m \u001b[1;33m\u001b[0m\u001b[0m\n",
      "\u001b[1;32m~\\anaconda3\\lib\\site-packages\\pandas\\core\\internals\\construction.py\u001b[0m in \u001b[0;36mto_arrays\u001b[1;34m(data, columns, coerce_float, dtype)\u001b[0m\n\u001b[0;32m    526\u001b[0m         \u001b[1;32mreturn\u001b[0m \u001b[1;33m[\u001b[0m\u001b[1;33m]\u001b[0m\u001b[1;33m,\u001b[0m \u001b[1;33m[\u001b[0m\u001b[1;33m]\u001b[0m  \u001b[1;31m# columns if columns is not None else []\u001b[0m\u001b[1;33m\u001b[0m\u001b[1;33m\u001b[0m\u001b[0m\n\u001b[0;32m    527\u001b[0m     \u001b[1;32mif\u001b[0m \u001b[0misinstance\u001b[0m\u001b[1;33m(\u001b[0m\u001b[0mdata\u001b[0m\u001b[1;33m[\u001b[0m\u001b[1;36m0\u001b[0m\u001b[1;33m]\u001b[0m\u001b[1;33m,\u001b[0m \u001b[1;33m(\u001b[0m\u001b[0mlist\u001b[0m\u001b[1;33m,\u001b[0m \u001b[0mtuple\u001b[0m\u001b[1;33m)\u001b[0m\u001b[1;33m)\u001b[0m\u001b[1;33m:\u001b[0m\u001b[1;33m\u001b[0m\u001b[1;33m\u001b[0m\u001b[0m\n\u001b[1;32m--> 528\u001b[1;33m         \u001b[1;32mreturn\u001b[0m \u001b[0m_list_to_arrays\u001b[0m\u001b[1;33m(\u001b[0m\u001b[0mdata\u001b[0m\u001b[1;33m,\u001b[0m \u001b[0mcolumns\u001b[0m\u001b[1;33m,\u001b[0m \u001b[0mcoerce_float\u001b[0m\u001b[1;33m=\u001b[0m\u001b[0mcoerce_float\u001b[0m\u001b[1;33m,\u001b[0m \u001b[0mdtype\u001b[0m\u001b[1;33m=\u001b[0m\u001b[0mdtype\u001b[0m\u001b[1;33m)\u001b[0m\u001b[1;33m\u001b[0m\u001b[1;33m\u001b[0m\u001b[0m\n\u001b[0m\u001b[0;32m    529\u001b[0m     \u001b[1;32melif\u001b[0m \u001b[0misinstance\u001b[0m\u001b[1;33m(\u001b[0m\u001b[0mdata\u001b[0m\u001b[1;33m[\u001b[0m\u001b[1;36m0\u001b[0m\u001b[1;33m]\u001b[0m\u001b[1;33m,\u001b[0m \u001b[0mabc\u001b[0m\u001b[1;33m.\u001b[0m\u001b[0mMapping\u001b[0m\u001b[1;33m)\u001b[0m\u001b[1;33m:\u001b[0m\u001b[1;33m\u001b[0m\u001b[1;33m\u001b[0m\u001b[0m\n\u001b[0;32m    530\u001b[0m         return _list_of_dict_to_arrays(\n",
      "\u001b[1;32m~\\anaconda3\\lib\\site-packages\\pandas\\core\\internals\\construction.py\u001b[0m in \u001b[0;36m_list_to_arrays\u001b[1;34m(data, columns, coerce_float, dtype)\u001b[0m\n\u001b[0;32m    569\u001b[0m         \u001b[0mresult\u001b[0m \u001b[1;33m=\u001b[0m \u001b[0m_convert_object_array\u001b[0m\u001b[1;33m(\u001b[0m\u001b[0mcontent\u001b[0m\u001b[1;33m,\u001b[0m \u001b[0mdtype\u001b[0m\u001b[1;33m=\u001b[0m\u001b[0mdtype\u001b[0m\u001b[1;33m,\u001b[0m \u001b[0mcoerce_float\u001b[0m\u001b[1;33m=\u001b[0m\u001b[0mcoerce_float\u001b[0m\u001b[1;33m)\u001b[0m\u001b[1;33m\u001b[0m\u001b[1;33m\u001b[0m\u001b[0m\n\u001b[0;32m    570\u001b[0m     \u001b[1;32mexcept\u001b[0m \u001b[0mAssertionError\u001b[0m \u001b[1;32mas\u001b[0m \u001b[0me\u001b[0m\u001b[1;33m:\u001b[0m\u001b[1;33m\u001b[0m\u001b[1;33m\u001b[0m\u001b[0m\n\u001b[1;32m--> 571\u001b[1;33m         \u001b[1;32mraise\u001b[0m \u001b[0mValueError\u001b[0m\u001b[1;33m(\u001b[0m\u001b[0me\u001b[0m\u001b[1;33m)\u001b[0m \u001b[1;32mfrom\u001b[0m \u001b[0me\u001b[0m\u001b[1;33m\u001b[0m\u001b[1;33m\u001b[0m\u001b[0m\n\u001b[0m\u001b[0;32m    572\u001b[0m     \u001b[1;32mreturn\u001b[0m \u001b[0mresult\u001b[0m\u001b[1;33m,\u001b[0m \u001b[0mcolumns\u001b[0m\u001b[1;33m\u001b[0m\u001b[1;33m\u001b[0m\u001b[0m\n\u001b[0;32m    573\u001b[0m \u001b[1;33m\u001b[0m\u001b[0m\n",
      "\u001b[1;31mValueError\u001b[0m: 1 columns passed, passed data had 13 columns"
     ]
    }
   ],
   "source": [
    "df = pd.DataFrame(rank[1:92],columns=rank[0])"
   ]
  }
 ],
 "metadata": {
  "kernelspec": {
   "display_name": "Python 3",
   "language": "python",
   "name": "python3"
  },
  "language_info": {
   "codemirror_mode": {
    "name": "ipython",
    "version": 3
   },
   "file_extension": ".py",
   "mimetype": "text/x-python",
   "name": "python",
   "nbconvert_exporter": "python",
   "pygments_lexer": "ipython3",
   "version": "3.8.8"
  },
  "toc": {
   "base_numbering": 1,
   "nav_menu": {},
   "number_sections": true,
   "sideBar": true,
   "skip_h1_title": false,
   "title_cell": "Table of Contents",
   "title_sidebar": "Contents",
   "toc_cell": true,
   "toc_position": {},
   "toc_section_display": true,
   "toc_window_display": false
  },
  "varInspector": {
   "cols": {
    "lenName": 16,
    "lenType": 16,
    "lenVar": 40
   },
   "kernels_config": {
    "python": {
     "delete_cmd_postfix": "",
     "delete_cmd_prefix": "del ",
     "library": "var_list.py",
     "varRefreshCmd": "print(var_dic_list())"
    },
    "r": {
     "delete_cmd_postfix": ") ",
     "delete_cmd_prefix": "rm(",
     "library": "var_list.r",
     "varRefreshCmd": "cat(var_dic_list()) "
    }
   },
   "types_to_exclude": [
    "module",
    "function",
    "builtin_function_or_method",
    "instance",
    "_Feature"
   ],
   "window_display": false
  }
 },
 "nbformat": 4,
 "nbformat_minor": 5
}
