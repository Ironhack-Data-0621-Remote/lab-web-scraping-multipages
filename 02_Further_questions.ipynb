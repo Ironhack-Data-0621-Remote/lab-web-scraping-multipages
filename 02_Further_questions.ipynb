{
 "cells": [
  {
   "cell_type": "markdown",
   "id": "classified-start",
   "metadata": {
    "toc": true
   },
   "source": [
    "<h1>Table of Contents<span class=\"tocSkip\"></span></h1>\n",
    "<div class=\"toc\"><ul class=\"toc-item\"><li><span><a href=\"#Retrieve-an-arbitrary-Wikipedia-page-of-&quot;Python&quot;-and-create-a-list-of-links-on-that-page\" data-toc-modified-id=\"Retrieve-an-arbitrary-Wikipedia-page-of-&quot;Python&quot;-and-create-a-list-of-links-on-that-page-1\"><span class=\"toc-item-num\">1&nbsp;&nbsp;</span>Retrieve an arbitrary Wikipedia page of \"Python\" and create a list of links on that page</a></span></li><li><span><a href=\"#Find-the-number-of-titles-that-have-changed-in-the-United-States-Code-since-its-last-release-point\" data-toc-modified-id=\"Find-the-number-of-titles-that-have-changed-in-the-United-States-Code-since-its-last-release-point-2\"><span class=\"toc-item-num\">2&nbsp;&nbsp;</span>Find the number of titles that have changed in the United States Code since its last release point</a></span></li><li><span><a href=\"#Create-a-Python-list-with-the-top-ten-FBI's-Most-Wanted-names\" data-toc-modified-id=\"Create-a-Python-list-with-the-top-ten-FBI's-Most-Wanted-names-3\"><span class=\"toc-item-num\">3&nbsp;&nbsp;</span>Create a Python list with the top ten FBI's Most Wanted names</a></span></li><li><span><a href=\"#Display-the-20-latest-earthquakes-info-(date,-time,-latitude,-longitude-and-region-name)-by-the-EMSC-as-a-pandas-dataframe\" data-toc-modified-id=\"Display-the-20-latest-earthquakes-info-(date,-time,-latitude,-longitude-and-region-name)-by-the-EMSC-as-a-pandas-dataframe-4\"><span class=\"toc-item-num\">4&nbsp;&nbsp;</span>Display the 20 latest earthquakes info (date, time, latitude, longitude and region name) by the EMSC as a pandas dataframe</a></span></li><li><span><a href=\"#List-all-language-names-and-number-of-related-articles-in-the-order-they-appear-in-wikipedia.org\" data-toc-modified-id=\"List-all-language-names-and-number-of-related-articles-in-the-order-they-appear-in-wikipedia.org-5\"><span class=\"toc-item-num\">5&nbsp;&nbsp;</span>List all language names and number of related articles in the order they appear in <a href=\"wikipedia.org\" target=\"_blank\">wikipedia.org</a></a></span></li><li><span><a href=\"#A-list-with-the-different-kind-of-datasets-available-in-data.gov.uk\" data-toc-modified-id=\"A-list-with-the-different-kind-of-datasets-available-in-data.gov.uk-6\"><span class=\"toc-item-num\">6&nbsp;&nbsp;</span>A list with the different kind of datasets available in <a href=\"data.gov.uk\" target=\"_blank\">data.gov.uk</a></a></span></li><li><span><a href=\"#Display-the-top-10-languages-by-number-of-native-speakers-stored-in-a-pandas-dataframe\" data-toc-modified-id=\"Display-the-top-10-languages-by-number-of-native-speakers-stored-in-a-pandas-dataframe-7\"><span class=\"toc-item-num\">7&nbsp;&nbsp;</span>Display the top 10 languages by number of native speakers stored in a pandas dataframe</a></span></li></ul></div>"
   ]
  },
  {
   "cell_type": "markdown",
   "id": "cellular-poster",
   "metadata": {},
   "source": [
    "As you've seen, scraping the internet is a skill that can get you all sorts of information. Here are some little challenges to gain more experience in the field"
   ]
  },
  {
   "cell_type": "code",
   "execution_count": 1,
   "id": "0c55e0ec",
   "metadata": {},
   "outputs": [],
   "source": [
    "# 1. import libraries\n",
    "from bs4 import BeautifulSoup\n",
    "import requests\n",
    "import pandas as pd"
   ]
  },
  {
   "cell_type": "markdown",
   "id": "express-introduction",
   "metadata": {},
   "source": [
    "### Retrieve an arbitrary Wikipedia page of \"Python\" and create a list of links on that page"
   ]
  },
  {
   "cell_type": "code",
   "execution_count": 52,
   "id": "appreciated-bubble",
   "metadata": {},
   "outputs": [],
   "source": [
    "url ='https://en.wikipedia.org/wiki/Python'"
   ]
  },
  {
   "cell_type": "code",
   "execution_count": 54,
   "id": "0eeed4bf",
   "metadata": {},
   "outputs": [],
   "source": [
    " #get the url\n",
    "response = requests.get(url)\n",
    "response.status_code\n",
    "#create the soup\n",
    "soup = BeautifulSoup(response.content, \"html.parser\")"
   ]
  },
  {
   "cell_type": "code",
   "execution_count": 55,
   "id": "a564c796",
   "metadata": {
    "scrolled": false
   },
   "outputs": [
    {
     "data": {
      "text/plain": [
       "[<a class=\"extiw\" href=\"https://en.wiktionary.org/wiki/Python\" title=\"wiktionary:Python\">Python</a>,\n",
       " <a class=\"extiw\" href=\"https://en.wiktionary.org/wiki/python\" title=\"wiktionary:python\">python</a>,\n",
       " <a href=\"/wiki/Pythonidae\" title=\"Pythonidae\">Pythonidae</a>,\n",
       " <a href=\"/wiki/Python_(genus)\" title=\"Python (genus)\"><i>Python</i> (genus)</a>,\n",
       " <a href=\"/w/index.php?title=Python&amp;action=edit&amp;section=1\" title=\"Edit section: Computing\">edit</a>,\n",
       " <a href=\"/wiki/Python_(programming_language)\" title=\"Python (programming language)\">Python (programming language)</a>,\n",
       " <a href=\"/wiki/CMU_Common_Lisp\" title=\"CMU Common Lisp\">CMU Common Lisp</a>,\n",
       " <a href=\"/wiki/PERQ#PERQ_3\" title=\"PERQ\">PERQ 3</a>,\n",
       " <a href=\"/w/index.php?title=Python&amp;action=edit&amp;section=2\" title=\"Edit section: People\">edit</a>,\n",
       " <a href=\"/wiki/Python_of_Aenus\" title=\"Python of Aenus\">Python of Aenus</a>,\n",
       " <a href=\"/wiki/Python_(painter)\" title=\"Python (painter)\">Python (painter)</a>,\n",
       " <a href=\"/wiki/Python_of_Byzantium\" title=\"Python of Byzantium\">Python of Byzantium</a>,\n",
       " <a href=\"/wiki/Python_of_Catana\" title=\"Python of Catana\">Python of Catana</a>,\n",
       " <a href=\"/wiki/Python_Anghelo\" title=\"Python Anghelo\">Python Anghelo</a>,\n",
       " <a href=\"/w/index.php?title=Python&amp;action=edit&amp;section=3\" title=\"Edit section: Roller coasters\">edit</a>,\n",
       " <a href=\"/wiki/Python_(Efteling)\" title=\"Python (Efteling)\">Python (Efteling)</a>,\n",
       " <a href=\"/wiki/Python_(Busch_Gardens_Tampa_Bay)\" title=\"Python (Busch Gardens Tampa Bay)\">Python (Busch Gardens Tampa Bay)</a>,\n",
       " <a href=\"/wiki/Python_(Coney_Island,_Cincinnati,_Ohio)\" title=\"Python (Coney Island, Cincinnati, Ohio)\">Python (Coney Island, Cincinnati, Ohio)</a>,\n",
       " <a href=\"/w/index.php?title=Python&amp;action=edit&amp;section=4\" title=\"Edit section: Vehicles\">edit</a>,\n",
       " <a href=\"/wiki/Python_(automobile_maker)\" title=\"Python (automobile maker)\">Python (automobile maker)</a>,\n",
       " <a href=\"/wiki/Python_(Ford_prototype)\" title=\"Python (Ford prototype)\">Python (Ford prototype)</a>,\n",
       " <a href=\"/w/index.php?title=Python&amp;action=edit&amp;section=5\" title=\"Edit section: Weaponry\">edit</a>,\n",
       " <a href=\"/wiki/Python_(missile)\" title=\"Python (missile)\">Python (missile)</a>,\n",
       " <a href=\"/wiki/Python_(nuclear_primary)\" title=\"Python (nuclear primary)\">Python (nuclear primary)</a>,\n",
       " <a href=\"/wiki/Colt_Python\" title=\"Colt Python\">Colt Python</a>,\n",
       " <a href=\"/w/index.php?title=Python&amp;action=edit&amp;section=6\" title=\"Edit section: Other uses\">edit</a>,\n",
       " <a href=\"/wiki/PYTHON\" title=\"PYTHON\">PYTHON</a>,\n",
       " <a href=\"/wiki/Python_(film)\" title=\"Python (film)\"><i>Python</i> (film)</a>,\n",
       " <a href=\"/wiki/Python_(mythology)\" title=\"Python (mythology)\">Python (mythology)</a>,\n",
       " <a href=\"/wiki/Monty_Python\" title=\"Monty Python\">Monty Python</a>,\n",
       " <a href=\"/wiki/Python_(Monty)_Pictures\" title=\"Python (Monty) Pictures\">Python (Monty) Pictures</a>,\n",
       " <a href=\"/w/index.php?title=Python&amp;action=edit&amp;section=7\" title=\"Edit section: See also\">edit</a>,\n",
       " <a href=\"/wiki/Cython\" title=\"Cython\">Cython</a>,\n",
       " <a href=\"/wiki/Pyton\" title=\"Pyton\">Pyton</a>,\n",
       " <a href=\"/wiki/Pithon\" title=\"Pithon\">Pithon</a>,\n",
       " <a href=\"/wiki/Help:Disambiguation\" title=\"Help:Disambiguation\">disambiguation</a>,\n",
       " <a href=\"/wiki/Help:Category\" title=\"Help:Category\">Categories</a>,\n",
       " <a href=\"/wiki/Category:Disambiguation_pages\" title=\"Category:Disambiguation pages\">Disambiguation pages</a>,\n",
       " <a href=\"/wiki/Category:Human_name_disambiguation_pages\" title=\"Category:Human name disambiguation pages\">Human name disambiguation pages</a>,\n",
       " <a href=\"/wiki/Category:Disambiguation_pages_with_given-name-holder_lists\" title=\"Category:Disambiguation pages with given-name-holder lists\">Disambiguation pages with given-name-holder lists</a>,\n",
       " <a href=\"/wiki/Category:Disambiguation_pages_with_short_descriptions\" title=\"Category:Disambiguation pages with short descriptions\">Disambiguation pages with short descriptions</a>,\n",
       " <a href=\"/wiki/Category:Short_description_is_different_from_Wikidata\" title=\"Category:Short description is different from Wikidata\">Short description is different from Wikidata</a>,\n",
       " <a href=\"/wiki/Category:All_article_disambiguation_pages\" title=\"Category:All article disambiguation pages\">All article disambiguation pages</a>,\n",
       " <a href=\"/wiki/Category:All_disambiguation_pages\" title=\"Category:All disambiguation pages\">All disambiguation pages</a>,\n",
       " <a href=\"/wiki/Category:Animal_common_name_disambiguation_pages\" title=\"Category:Animal common name disambiguation pages\">Animal common name disambiguation pages</a>,\n",
       " <a accesskey=\"n\" href=\"/wiki/Special:MyTalk\" title=\"Discussion about edits from this IP address [n]\"><span>Talk</span></a>,\n",
       " <a accesskey=\"y\" href=\"/wiki/Special:MyContributions\" title=\"A list of edits made from this IP address [y]\"><span>Contributions</span></a>,\n",
       " <a href=\"/w/index.php?title=Special:CreateAccount&amp;returnto=Python\" title=\"You are encouraged to create an account and log in; however, it is not mandatory\"><span>Create account</span></a>,\n",
       " <a accesskey=\"o\" href=\"/w/index.php?title=Special:UserLogin&amp;returnto=Python\" title=\"You're encouraged to log in; however, it's not mandatory. [o]\"><span>Log in</span></a>,\n",
       " <a accesskey=\"c\" href=\"/wiki/Python\" title=\"View the content page [c]\"><span>Article</span></a>,\n",
       " <a accesskey=\"t\" href=\"/wiki/Talk:Python\" rel=\"discussion\" title=\"Discuss improvements to the content page [t]\"><span>Talk</span></a>,\n",
       " <a accesskey=\"e\" href=\"/w/index.php?title=Python&amp;action=edit\" title=\"Edit this page [e]\"><span>Edit</span></a>,\n",
       " <a accesskey=\"h\" href=\"/w/index.php?title=Python&amp;action=history\" title=\"Past revisions of this page [h]\"><span>View history</span></a>,\n",
       " <a class=\"mw-wiki-logo\" href=\"/wiki/Main_Page\" title=\"Visit the main page\"></a>,\n",
       " <a accesskey=\"z\" href=\"/wiki/Main_Page\" title=\"Visit the main page [z]\"><span>Main page</span></a>,\n",
       " <a href=\"/wiki/Wikipedia:Contents\" title=\"Guides to browsing Wikipedia\"><span>Contents</span></a>,\n",
       " <a href=\"/wiki/Portal:Current_events\" title=\"Articles related to current events\"><span>Current events</span></a>,\n",
       " <a accesskey=\"x\" href=\"/wiki/Special:Random\" title=\"Visit a randomly selected article [x]\"><span>Random article</span></a>,\n",
       " <a href=\"/wiki/Wikipedia:About\" title=\"Learn about Wikipedia and how it works\"><span>About Wikipedia</span></a>,\n",
       " <a href=\"//en.wikipedia.org/wiki/Wikipedia:Contact_us\" title=\"How to contact Wikipedia\"><span>Contact us</span></a>,\n",
       " <a href=\"https://donate.wikimedia.org/wiki/Special:FundraiserRedirector?utm_source=donate&amp;utm_medium=sidebar&amp;utm_campaign=C13_en.wikipedia.org&amp;uselang=en\" title=\"Support us by donating to the Wikimedia Foundation\"><span>Donate</span></a>,\n",
       " <a href=\"/wiki/Help:Contents\" title=\"Guidance on how to use and edit Wikipedia\"><span>Help</span></a>,\n",
       " <a href=\"/wiki/Help:Introduction\" title=\"Learn how to edit Wikipedia\"><span>Learn to edit</span></a>,\n",
       " <a href=\"/wiki/Wikipedia:Community_portal\" title=\"The hub for editors\"><span>Community portal</span></a>,\n",
       " <a accesskey=\"r\" href=\"/wiki/Special:RecentChanges\" title=\"A list of recent changes to Wikipedia [r]\"><span>Recent changes</span></a>,\n",
       " <a href=\"/wiki/Wikipedia:File_Upload_Wizard\" title=\"Add images or other media for use on Wikipedia\"><span>Upload file</span></a>,\n",
       " <a accesskey=\"j\" href=\"/wiki/Special:WhatLinksHere/Python\" title=\"List of all English Wikipedia pages containing links to this page [j]\"><span>What links here</span></a>,\n",
       " <a accesskey=\"k\" href=\"/wiki/Special:RecentChangesLinked/Python\" rel=\"nofollow\" title=\"Recent changes in pages linked from this page [k]\"><span>Related changes</span></a>,\n",
       " <a accesskey=\"u\" href=\"/wiki/Wikipedia:File_Upload_Wizard\" title=\"Upload files [u]\"><span>Upload file</span></a>,\n",
       " <a accesskey=\"q\" href=\"/wiki/Special:SpecialPages\" title=\"A list of all special pages [q]\"><span>Special pages</span></a>,\n",
       " <a href=\"/w/index.php?title=Python&amp;oldid=1048703433\" title=\"Permanent link to this revision of this page\"><span>Permanent link</span></a>,\n",
       " <a href=\"/w/index.php?title=Python&amp;action=info\" title=\"More information about this page\"><span>Page information</span></a>,\n",
       " <a href=\"/w/index.php?title=Special:CiteThisPage&amp;page=Python&amp;id=1048703433&amp;wpFormIdentifier=titleform\" title=\"Information on how to cite this page\"><span>Cite this page</span></a>,\n",
       " <a accesskey=\"g\" href=\"https://www.wikidata.org/wiki/Special:EntityPage/Q747452\" title=\"Structured data on this page hosted by Wikidata [g]\"><span>Wikidata item</span></a>,\n",
       " <a href=\"/w/index.php?title=Special:DownloadAsPdf&amp;page=Python&amp;action=show-download-screen\" title=\"Download this page as a PDF file\"><span>Download as PDF</span></a>,\n",
       " <a accesskey=\"p\" href=\"/w/index.php?title=Python&amp;printable=yes\" title=\"Printable version of this page [p]\"><span>Printable version</span></a>,\n",
       " <a class=\"interlanguage-link-target\" href=\"https://af.wikipedia.org/wiki/Python\" hreflang=\"af\" lang=\"af\" title=\"Python – Afrikaans\"><span>Afrikaans</span></a>,\n",
       " <a class=\"interlanguage-link-target\" href=\"https://als.wikipedia.org/wiki/Python\" hreflang=\"gsw\" lang=\"gsw\" title=\"Python – Alemannisch\"><span>Alemannisch</span></a>,\n",
       " <a class=\"interlanguage-link-target\" href=\"https://ar.wikipedia.org/wiki/%D8%A8%D8%A7%D9%8A%D8%AB%D9%88%D9%86_(%D8%AA%D9%88%D8%B6%D9%8A%D8%AD)\" hreflang=\"ar\" lang=\"ar\" title=\"بايثون (توضيح) – Arabic\"><span>العربية</span></a>,\n",
       " <a class=\"interlanguage-link-target\" href=\"https://az.wikipedia.org/wiki/Python\" hreflang=\"az\" lang=\"az\" title=\"Python – Azerbaijani\"><span>Azərbaycanca</span></a>,\n",
       " <a class=\"interlanguage-link-target\" href=\"https://bn.wikipedia.org/wiki/%E0%A6%AA%E0%A6%BE%E0%A6%87%E0%A6%A5%E0%A6%A8_(%E0%A6%A6%E0%A7%8D%E0%A6%AC%E0%A7%8D%E0%A6%AF%E0%A6%B0%E0%A7%8D%E0%A6%A5%E0%A6%A4%E0%A6%BE_%E0%A6%A8%E0%A6%BF%E0%A6%B0%E0%A6%B8%E0%A6%A8)\" hreflang=\"bn\" lang=\"bn\" title=\"পাইথন (দ্ব্যর্থতা নিরসন) – Bangla\"><span>বাংলা</span></a>,\n",
       " <a class=\"interlanguage-link-target\" href=\"https://be.wikipedia.org/wiki/Python\" hreflang=\"be\" lang=\"be\" title=\"Python – Belarusian\"><span>Беларуская</span></a>,\n",
       " <a class=\"interlanguage-link-target\" href=\"https://bg.wikipedia.org/wiki/%D0%9F%D0%B8%D1%82%D0%BE%D0%BD_(%D0%BF%D0%BE%D1%8F%D1%81%D0%BD%D0%B5%D0%BD%D0%B8%D0%B5)\" hreflang=\"bg\" lang=\"bg\" title=\"Питон (пояснение) – Bulgarian\"><span>Български</span></a>,\n",
       " <a class=\"interlanguage-link-target\" href=\"https://cs.wikipedia.org/wiki/Python_(rozcestn%C3%ADk)\" hreflang=\"cs\" lang=\"cs\" title=\"Python (rozcestník) – Czech\"><span>Čeština</span></a>,\n",
       " <a class=\"interlanguage-link-target\" href=\"https://da.wikipedia.org/wiki/Python\" hreflang=\"da\" lang=\"da\" title=\"Python – Danish\"><span>Dansk</span></a>,\n",
       " <a class=\"interlanguage-link-target\" href=\"https://de.wikipedia.org/wiki/Python\" hreflang=\"de\" lang=\"de\" title=\"Python – German\"><span>Deutsch</span></a>,\n",
       " <a class=\"interlanguage-link-target\" href=\"https://eo.wikipedia.org/wiki/Pitono_(apartigilo)\" hreflang=\"eo\" lang=\"eo\" title=\"Pitono (apartigilo) – Esperanto\"><span>Esperanto</span></a>,\n",
       " <a class=\"interlanguage-link-target\" href=\"https://eu.wikipedia.org/wiki/Python_(argipena)\" hreflang=\"eu\" lang=\"eu\" title=\"Python (argipena) – Basque\"><span>Euskara</span></a>,\n",
       " <a class=\"interlanguage-link-target\" href=\"https://fa.wikipedia.org/wiki/%D9%BE%D8%A7%DB%8C%D8%AA%D9%88%D9%86\" hreflang=\"fa\" lang=\"fa\" title=\"پایتون – Persian\"><span>فارسی</span></a>,\n",
       " <a class=\"interlanguage-link-target\" href=\"https://fr.wikipedia.org/wiki/Python\" hreflang=\"fr\" lang=\"fr\" title=\"Python – French\"><span>Français</span></a>,\n",
       " <a class=\"interlanguage-link-target\" href=\"https://ko.wikipedia.org/wiki/%ED%8C%8C%EC%9D%B4%EC%84%A0\" hreflang=\"ko\" lang=\"ko\" title=\"파이선 – Korean\"><span>한국어</span></a>,\n",
       " <a class=\"interlanguage-link-target\" href=\"https://hr.wikipedia.org/wiki/Python_(razdvojba)\" hreflang=\"hr\" lang=\"hr\" title=\"Python (razdvojba) – Croatian\"><span>Hrvatski</span></a>,\n",
       " <a class=\"interlanguage-link-target\" href=\"https://io.wikipedia.org/wiki/Pitono\" hreflang=\"io\" lang=\"io\" title=\"Pitono – Ido\"><span>Ido</span></a>,\n",
       " <a class=\"interlanguage-link-target\" href=\"https://id.wikipedia.org/wiki/Python\" hreflang=\"id\" lang=\"id\" title=\"Python – Indonesian\"><span>Bahasa Indonesia</span></a>,\n",
       " <a class=\"interlanguage-link-target\" href=\"https://ia.wikipedia.org/wiki/Python_(disambiguation)\" hreflang=\"ia\" lang=\"ia\" title=\"Python (disambiguation) – Interlingua\"><span>Interlingua</span></a>,\n",
       " <a class=\"interlanguage-link-target\" href=\"https://is.wikipedia.org/wiki/Python_(a%C3%B0greining)\" hreflang=\"is\" lang=\"is\" title=\"Python (aðgreining) – Icelandic\"><span>Íslenska</span></a>,\n",
       " <a class=\"interlanguage-link-target\" href=\"https://it.wikipedia.org/wiki/Python_(disambigua)\" hreflang=\"it\" lang=\"it\" title=\"Python (disambigua) – Italian\"><span>Italiano</span></a>,\n",
       " <a class=\"interlanguage-link-target\" href=\"https://he.wikipedia.org/wiki/%D7%A4%D7%99%D7%AA%D7%95%D7%9F\" hreflang=\"he\" lang=\"he\" title=\"פיתון – Hebrew\"><span>עברית</span></a>,\n",
       " <a class=\"interlanguage-link-target\" href=\"https://ka.wikipedia.org/wiki/%E1%83%9E%E1%83%98%E1%83%97%E1%83%9D%E1%83%9C%E1%83%98_(%E1%83%9B%E1%83%A0%E1%83%90%E1%83%95%E1%83%90%E1%83%9A%E1%83%9B%E1%83%9C%E1%83%98%E1%83%A8%E1%83%95%E1%83%9C%E1%83%94%E1%83%9A%E1%83%9D%E1%83%95%E1%83%90%E1%83%9C%E1%83%98)\" hreflang=\"ka\" lang=\"ka\" title=\"პითონი (მრავალმნიშვნელოვანი) – Georgian\"><span>ქართული</span></a>,\n",
       " <a class=\"interlanguage-link-target\" href=\"https://kg.wikipedia.org/wiki/Mboma_(nyoka)\" hreflang=\"kg\" lang=\"kg\" title=\"Mboma (nyoka) – Kongo\"><span>Kongo</span></a>,\n",
       " <a class=\"interlanguage-link-target\" href=\"https://la.wikipedia.org/wiki/Python_(discretiva)\" hreflang=\"la\" lang=\"la\" title=\"Python (discretiva) – Latin\"><span>Latina</span></a>,\n",
       " <a class=\"interlanguage-link-target\" href=\"https://lb.wikipedia.org/wiki/Python\" hreflang=\"lb\" lang=\"lb\" title=\"Python – Luxembourgish\"><span>Lëtzebuergesch</span></a>,\n",
       " <a class=\"interlanguage-link-target\" href=\"https://hu.wikipedia.org/wiki/Python_(egy%C3%A9rtelm%C5%B1s%C3%ADt%C5%91_lap)\" hreflang=\"hu\" lang=\"hu\" title=\"Python (egyértelműsítő lap) – Hungarian\"><span>Magyar</span></a>,\n",
       " <a class=\"interlanguage-link-target\" href=\"https://mr.wikipedia.org/wiki/%E0%A4%AA%E0%A4%BE%E0%A4%AF%E0%A4%A5%E0%A5%89%E0%A4%A8_(%E0%A4%86%E0%A4%9C%E0%A5%8D%E0%A4%9E%E0%A4%BE%E0%A4%B5%E0%A4%B2%E0%A5%80_%E0%A4%AD%E0%A4%BE%E0%A4%B7%E0%A4%BE)\" hreflang=\"mr\" lang=\"mr\" title=\"पायथॉन (आज्ञावली भाषा) – Marathi\"><span>मराठी</span></a>,\n",
       " <a class=\"interlanguage-link-target\" href=\"https://nl.wikipedia.org/wiki/Python\" hreflang=\"nl\" lang=\"nl\" title=\"Python – Dutch\"><span>Nederlands</span></a>,\n",
       " <a class=\"interlanguage-link-target\" href=\"https://ja.wikipedia.org/wiki/%E3%83%91%E3%82%A4%E3%82%BD%E3%83%B3\" hreflang=\"ja\" lang=\"ja\" title=\"パイソン – Japanese\"><span>日本語</span></a>,\n",
       " <a class=\"interlanguage-link-target\" href=\"https://no.wikipedia.org/wiki/Pyton\" hreflang=\"nb\" lang=\"nb\" title=\"Pyton – Norwegian Bokmål\"><span>Norsk bokmål</span></a>,\n",
       " <a class=\"interlanguage-link-target\" href=\"https://pl.wikipedia.org/wiki/Pyton\" hreflang=\"pl\" lang=\"pl\" title=\"Pyton – Polish\"><span>Polski</span></a>,\n",
       " <a class=\"interlanguage-link-target\" href=\"https://pt.wikipedia.org/wiki/Python_(desambigua%C3%A7%C3%A3o)\" hreflang=\"pt\" lang=\"pt\" title=\"Python (desambiguação) – Portuguese\"><span>Português</span></a>,\n",
       " <a class=\"interlanguage-link-target\" href=\"https://ru.wikipedia.org/wiki/Python_(%D0%B7%D0%BD%D0%B0%D1%87%D0%B5%D0%BD%D0%B8%D1%8F)\" hreflang=\"ru\" lang=\"ru\" title=\"Python (значения) – Russian\"><span>Русский</span></a>,\n",
       " <a class=\"interlanguage-link-target\" href=\"https://sk.wikipedia.org/wiki/Python\" hreflang=\"sk\" lang=\"sk\" title=\"Python – Slovak\"><span>Slovenčina</span></a>,\n",
       " <a class=\"interlanguage-link-target\" href=\"https://sr.wikipedia.org/wiki/%D0%9F%D0%B8%D1%82%D0%BE%D0%BD_(%D0%B2%D0%B8%D1%88%D0%B5%D0%B7%D0%BD%D0%B0%D1%87%D0%BD%D0%B0_%D0%BE%D0%B4%D1%80%D0%B5%D0%B4%D0%BD%D0%B8%D1%86%D0%B0)\" hreflang=\"sr\" lang=\"sr\" title=\"Питон (вишезначна одредница) – Serbian\"><span>Српски / srpski</span></a>,\n",
       " <a class=\"interlanguage-link-target\" href=\"https://sh.wikipedia.org/wiki/Python\" hreflang=\"sh\" lang=\"sh\" title=\"Python – Serbo-Croatian\"><span>Srpskohrvatski / српскохрватски</span></a>,\n",
       " <a class=\"interlanguage-link-target\" href=\"https://fi.wikipedia.org/wiki/Python\" hreflang=\"fi\" lang=\"fi\" title=\"Python – Finnish\"><span>Suomi</span></a>,\n",
       " <a class=\"interlanguage-link-target\" href=\"https://sv.wikipedia.org/wiki/Pyton\" hreflang=\"sv\" lang=\"sv\" title=\"Pyton – Swedish\"><span>Svenska</span></a>,\n",
       " <a class=\"interlanguage-link-target\" href=\"https://th.wikipedia.org/wiki/%E0%B9%84%E0%B8%9E%E0%B8%97%E0%B8%AD%E0%B8%99\" hreflang=\"th\" lang=\"th\" title=\"ไพทอน – Thai\"><span>ไทย</span></a>,\n",
       " <a class=\"interlanguage-link-target\" href=\"https://tr.wikipedia.org/wiki/Python\" hreflang=\"tr\" lang=\"tr\" title=\"Python – Turkish\"><span>Türkçe</span></a>,\n",
       " <a class=\"interlanguage-link-target\" href=\"https://uk.wikipedia.org/wiki/%D0%9F%D1%96%D1%84%D0%BE%D0%BD\" hreflang=\"uk\" lang=\"uk\" title=\"Піфон – Ukrainian\"><span>Українська</span></a>,\n",
       " <a class=\"interlanguage-link-target\" href=\"https://ur.wikipedia.org/wiki/%D9%BE%D8%A7%D8%A6%DB%8C%D8%AA%DA%BE%D9%88%D9%86\" hreflang=\"ur\" lang=\"ur\" title=\"پائیتھون – Urdu\"><span>اردو</span></a>,\n",
       " <a class=\"interlanguage-link-target\" href=\"https://vi.wikipedia.org/wiki/Python\" hreflang=\"vi\" lang=\"vi\" title=\"Python – Vietnamese\"><span>Tiếng Việt</span></a>,\n",
       " <a class=\"interlanguage-link-target\" href=\"https://zh.wikipedia.org/wiki/Python_(%E6%B6%88%E6%AD%A7%E4%B9%89)\" hreflang=\"zh\" lang=\"zh\" title=\"Python (消歧义) – Chinese\"><span>中文</span></a>,\n",
       " <a class=\"wbc-editpage\" href=\"https://www.wikidata.org/wiki/Special:EntityPage/Q747452#sitelinks-wikipedia\" title=\"Edit interlanguage links\">Edit links</a>,\n",
       " <a class=\"extiw\" href=\"https://foundation.wikimedia.org/wiki/Privacy_policy\" title=\"wmf:Privacy policy\">Privacy policy</a>,\n",
       " <a href=\"/wiki/Wikipedia:About\" title=\"Wikipedia:About\">About Wikipedia</a>,\n",
       " <a href=\"/wiki/Wikipedia:General_disclaimer\" title=\"Wikipedia:General disclaimer\">Disclaimers</a>]"
      ]
     },
     "execution_count": 55,
     "metadata": {},
     "output_type": "execute_result"
    }
   ],
   "source": [
    "links = soup.find_all(\"a\", href=True, title=True)\n",
    "links"
   ]
  },
  {
   "cell_type": "markdown",
   "id": "relevant-performer",
   "metadata": {},
   "source": [
    "### Find the number of titles that have changed in the United States Code since its last release point"
   ]
  },
  {
   "cell_type": "code",
   "execution_count": 25,
   "id": "scenic-surgeon",
   "metadata": {},
   "outputs": [],
   "source": [
    "url1 = 'http://uscode.house.gov/download/download.shtml'"
   ]
  },
  {
   "cell_type": "code",
   "execution_count": 56,
   "id": "1772ac82",
   "metadata": {},
   "outputs": [],
   "source": [
    " #get the url\n",
    "response = requests.get(url1)\n",
    "response.status_code\n",
    "#create the soup\n",
    "soup = BeautifulSoup(response.content, \"html.parser\")"
   ]
  },
  {
   "cell_type": "code",
   "execution_count": 57,
   "id": "df3f7f30",
   "metadata": {},
   "outputs": [
    {
     "data": {
      "text/plain": [
       "[<div class=\"usctitlechanged\" id=\"us/usc/t18\">\n",
       " \n",
       "           Title 18 - Crimes and Criminal Procedure <span class=\"footnote\"><a class=\"fn\" href=\"#fn\">٭</a></span>\n",
       " </div>,\n",
       " <div class=\"usctitlechanged\" id=\"us/usc/t34\">\n",
       " \n",
       "           Title 34 - Crime Control and Law Enforcement\n",
       " \n",
       "         </div>]"
      ]
     },
     "execution_count": 57,
     "metadata": {},
     "output_type": "execute_result"
    }
   ],
   "source": [
    "titles= soup.find_all(\"div\", class_=\"usctitlechanged\")\n",
    "titles"
   ]
  },
  {
   "cell_type": "markdown",
   "id": "acute-necessity",
   "metadata": {},
   "source": [
    "### Create a Python list with the top ten FBI's Most Wanted names"
   ]
  },
  {
   "cell_type": "code",
   "execution_count": 42,
   "id": "starting-blackberry",
   "metadata": {},
   "outputs": [],
   "source": [
    "url2 = 'https://www.fbi.gov/wanted/topten'"
   ]
  },
  {
   "cell_type": "code",
   "execution_count": 43,
   "id": "254c3e64",
   "metadata": {},
   "outputs": [],
   "source": [
    " #get the url\n",
    "response = requests.get(url2)\n",
    "response.status_code\n",
    "#create the soup\n",
    "soup = BeautifulSoup(response.content, \"html.parser\")\n",
    "    "
   ]
  },
  {
   "cell_type": "code",
   "execution_count": 44,
   "id": "1b8b7a4f",
   "metadata": {},
   "outputs": [
    {
     "data": {
      "text/plain": [
       "[<h3 class=\"title\">\n",
       " <a href=\"https://www.fbi.gov/wanted/topten/octaviano-juarez-corro\">OCTAVIANO JUAREZ-CORRO</a>\n",
       " </h3>,\n",
       " <h3 class=\"title\">\n",
       " <a href=\"https://www.fbi.gov/wanted/topten/rafael-caro-quintero\">RAFAEL CARO-QUINTERO</a>\n",
       " </h3>,\n",
       " <h3 class=\"title\">\n",
       " <a href=\"https://www.fbi.gov/wanted/topten/yulan-adonay-archaga-carias\">YULAN ADONAY ARCHAGA CARIAS</a>\n",
       " </h3>,\n",
       " <h3 class=\"title\">\n",
       " <a href=\"https://www.fbi.gov/wanted/topten/eugene-palmer\">EUGENE PALMER</a>\n",
       " </h3>,\n",
       " <h3 class=\"title\">\n",
       " <a href=\"https://www.fbi.gov/wanted/topten/bhadreshkumar-chetanbhai-patel\">BHADRESHKUMAR CHETANBHAI PATEL</a>\n",
       " </h3>,\n",
       " <h3 class=\"title\">\n",
       " <a href=\"https://www.fbi.gov/wanted/topten/alejandro-castillo\">ALEJANDRO ROSALES CASTILLO</a>\n",
       " </h3>,\n",
       " <h3 class=\"title\">\n",
       " <a href=\"https://www.fbi.gov/wanted/topten/arnoldo-jimenez\">ARNOLDO JIMENEZ</a>\n",
       " </h3>,\n",
       " <h3 class=\"title\">\n",
       " <a href=\"https://www.fbi.gov/wanted/topten/jason-derek-brown\">JASON DEREK BROWN</a>\n",
       " </h3>,\n",
       " <h3 class=\"title\">\n",
       " <a href=\"https://www.fbi.gov/wanted/topten/alexis-flores\">ALEXIS FLORES</a>\n",
       " </h3>,\n",
       " <h3 class=\"title\">\n",
       " <a href=\"https://www.fbi.gov/wanted/topten/jose-rodolfo-villarreal-hernandez\">JOSE RODOLFO VILLARREAL-HERNANDEZ</a>\n",
       " </h3>]"
      ]
     },
     "execution_count": 44,
     "metadata": {},
     "output_type": "execute_result"
    }
   ],
   "source": [
    "wanted = soup.find_all(\"h3\", class_=\"title\")\n",
    "wanted"
   ]
  },
  {
   "cell_type": "markdown",
   "id": "joined-induction",
   "metadata": {},
   "source": [
    "### Display the 20 latest earthquakes info (date, time, latitude, longitude and region name) by the EMSC as a pandas dataframe"
   ]
  },
  {
   "cell_type": "code",
   "execution_count": 47,
   "id": "copyrighted-taiwan",
   "metadata": {},
   "outputs": [],
   "source": [
    "url3 = 'https://www.emsc-csem.org/Earthquake/'"
   ]
  },
  {
   "cell_type": "code",
   "execution_count": 58,
   "id": "30b5a886",
   "metadata": {},
   "outputs": [],
   "source": [
    " #get the url\n",
    "response = requests.get(url3)\n",
    "response.status_code\n",
    "#create the soup\n",
    "soup = BeautifulSoup(response.content, \"html.parser\")"
   ]
  },
  {
   "cell_type": "code",
   "execution_count": 59,
   "id": "bc44288a",
   "metadata": {},
   "outputs": [
    {
     "data": {
      "text/plain": [
       "([<td class=\"tabev6\"><b><i style=\"display:none;\">earthquake</i><a href=\"/Earthquake/earthquake.php?id=1066656\">2021-11-26   13:24:45.7</a></b><i class=\"ago\" id=\"ago0\">17min ago</i></td>,\n",
       "  <td class=\"tabev6\"><b><i style=\"display:none;\">earthquake</i><a href=\"/Earthquake/earthquake.php?id=1066655\">2021-11-26   13:21:48.0</a></b><i class=\"ago\" id=\"ago1\">20min ago</i></td>,\n",
       "  <td class=\"tabev6\"><b><i style=\"display:none;\">earthquake</i><a href=\"/Earthquake/earthquake.php?id=1066654\">2021-11-26   13:17:53.4</a></b><i class=\"ago\" id=\"ago2\">24min ago</i></td>,\n",
       "  <td class=\"tabev6\"><b><i style=\"display:none;\">earthquake</i><a href=\"/Earthquake/earthquake.php?id=1066648\">2021-11-26   13:07:15.3</a></b><i class=\"ago\" id=\"ago3\">34min ago</i></td>,\n",
       "  <td class=\"tabev6\"><b><i style=\"display:none;\">earthquake</i><a href=\"/Earthquake/earthquake.php?id=1066649\">2021-11-26   13:06:41.0</a></b><i class=\"ago\" id=\"ago4\">35min ago</i></td>,\n",
       "  <td class=\"tabev6\"><b><i style=\"display:none;\">earthquake</i><a href=\"/Earthquake/earthquake.php?id=1066653\">2021-11-26   13:04:59.3</a></b><i class=\"ago\" id=\"ago5\">37min ago</i></td>,\n",
       "  <td class=\"tabev6\"><b><i style=\"display:none;\">earthquake</i><a href=\"/Earthquake/earthquake.php?id=1066650\">2021-11-26   13:03:22.2</a></b><i class=\"ago\" id=\"ago6\">38min ago</i></td>,\n",
       "  <td class=\"tabev6\"><b><i style=\"display:none;\">earthquake</i><a href=\"/Earthquake/earthquake.php?id=1066646\">2021-11-26   12:55:12.0</a></b><i class=\"ago\" id=\"ago7\">47min ago</i></td>,\n",
       "  <td class=\"tabev6\"><b><i style=\"display:none;\">earthquake</i><a href=\"/Earthquake/earthquake.php?id=1066651\">2021-11-26   12:54:59.3</a></b><i class=\"ago\" id=\"ago8\">47min ago</i></td>,\n",
       "  <td class=\"tabev6\"><b><i style=\"display:none;\">earthquake</i><a href=\"/Earthquake/earthquake.php?id=1066647\">2021-11-26   12:54:25.8</a></b><i class=\"ago\" id=\"ago9\">47min ago</i></td>,\n",
       "  <td class=\"tabev6\"><b><i style=\"display:none;\">earthquake</i><a href=\"/Earthquake/earthquake.php?id=1066645\">2021-11-26   12:46:38.6</a></b><i class=\"ago\" id=\"ago10\">55min ago</i></td>,\n",
       "  <td class=\"tabev6\"><b><i style=\"display:none;\">earthquake</i><a href=\"/Earthquake/earthquake.php?id=1066644\">2021-11-26   12:39:59.2</a></b><i class=\"ago\" id=\"ago11\">1hr 02min ago</i></td>,\n",
       "  <td class=\"tabev6\"><b><i style=\"display:none;\">earthquake</i><a href=\"/Earthquake/earthquake.php?id=1066642\">2021-11-26   12:24:29.0</a></b><i class=\"ago\" id=\"ago12\">1hr 17min ago</i></td>,\n",
       "  <td class=\"tabev6\"><b><i style=\"display:none;\">earthquake</i><a href=\"/Earthquake/earthquake.php?id=1066641\">2021-11-26   12:12:05.8</a></b><i class=\"ago\" id=\"ago13\">1hr 30min ago</i></td>,\n",
       "  <td class=\"tabev6\"><b><i style=\"display:none;\">earthquake</i><a href=\"/Earthquake/earthquake.php?id=1066637\">2021-11-26   12:03:32.1</a></b><i class=\"ago\" id=\"ago14\">1hr 38min ago</i></td>,\n",
       "  <td class=\"tabev6\"><b><i style=\"display:none;\">earthquake</i><a href=\"/Earthquake/earthquake.php?id=1066636\">2021-11-26   12:01:29.8</a></b><i class=\"ago\" id=\"ago15\">1hr 40min ago</i></td>,\n",
       "  <td class=\"tabev6\"><b><i style=\"display:none;\">earthquake</i><a href=\"/Earthquake/earthquake.php?id=1066638\">2021-11-26   11:43:34.9</a></b><i class=\"ago\" id=\"ago16\">1hr 58min ago</i></td>,\n",
       "  <td class=\"tabev6\"><b><i style=\"display:none;\">earthquake</i><a href=\"/Earthquake/earthquake.php?id=1066628\">2021-11-26   11:27:23.7</a></b><i class=\"ago\" id=\"ago17\">2hr 14min ago</i></td>,\n",
       "  <td class=\"tabev6\"><b><i style=\"display:none;\">earthquake</i><a href=\"/Earthquake/earthquake.php?id=1066631\">2021-11-26   11:22:14.5</a></b><i class=\"ago\" id=\"ago18\">2hr 19min ago</i></td>,\n",
       "  <td class=\"tabev6\"><b><i style=\"display:none;\">earthquake</i><a href=\"/Earthquake/earthquake.php?id=1066627\">2021-11-26   11:17:52.5</a></b><i class=\"ago\" id=\"ago19\">2hr 24min ago</i></td>,\n",
       "  <td class=\"tabev6\"><b><i style=\"display:none;\">earthquake</i><a href=\"/Earthquake/earthquake.php?id=1066629\">2021-11-26   11:16:46.7</a></b><i class=\"ago\" id=\"ago20\">2hr 25min ago</i></td>,\n",
       "  <td class=\"tabev6\"><b><i style=\"display:none;\">earthquake</i><a href=\"/Earthquake/earthquake.php?id=1066632\">2021-11-26   11:13:47.7</a></b><i class=\"ago\" id=\"ago21\">2hr 28min ago</i></td>,\n",
       "  <td class=\"tabev6\"><b><i style=\"display:none;\">earthquake</i><a href=\"/Earthquake/earthquake.php?id=1066626\">2021-11-26   11:12:31.2</a></b><i class=\"ago\" id=\"ago22\">2hr 29min ago</i></td>,\n",
       "  <td class=\"tabev6\"><b><i style=\"display:none;\">earthquake</i><a href=\"/Earthquake/earthquake.php?id=1066643\">2021-11-26   10:34:35.6</a></b><i class=\"ago\" id=\"ago23\">3hr 07min ago</i></td>,\n",
       "  <td class=\"tabev6\"><b><i style=\"display:none;\">earthquake</i><a href=\"/Earthquake/earthquake.php?id=1066620\">2021-11-26   10:30:44.0</a></b><i class=\"ago\" id=\"ago24\">3hr 11min ago</i></td>,\n",
       "  <td class=\"tabev6\"><b><i style=\"display:none;\">earthquake</i><a href=\"/Earthquake/earthquake.php?id=1066615\">2021-11-26   10:28:33.0</a></b><i class=\"ago\" id=\"ago25\">3hr 13min ago</i></td>,\n",
       "  <td class=\"tabev6\"><b><i style=\"display:none;\">earthquake</i><a href=\"/Earthquake/earthquake.php?id=1066614\">2021-11-26   10:21:13.1</a></b><i class=\"ago\" id=\"ago26\">3hr 20min ago</i></td>,\n",
       "  <td class=\"tabev6\"><b><i style=\"display:none;\">earthquake</i><a href=\"/Earthquake/earthquake.php?id=1066618\">2021-11-26   10:20:44.0</a></b><i class=\"ago\" id=\"ago27\">3hr 21min ago</i></td>,\n",
       "  <td class=\"tabev6\"><b><i style=\"display:none;\">earthquake</i><a href=\"/Earthquake/earthquake.php?id=1066610\">2021-11-26   10:12:39.6</a></b><i class=\"ago\" id=\"ago28\">3hr 29min ago</i></td>,\n",
       "  <td class=\"tabev6\"><b><i style=\"display:none;\">earthquake</i><a href=\"/Earthquake/earthquake.php?id=1066609\">2021-11-26   09:58:08.0</a></b><i class=\"ago\" id=\"ago29\">3hr 44min ago</i></td>,\n",
       "  <td class=\"tabev6\"><b><i style=\"display:none;\">earthquake</i><a href=\"/Earthquake/earthquake.php?id=1066608\">2021-11-26   09:56:45.0</a></b><i class=\"ago\" id=\"ago30\">3hr 45min ago</i></td>,\n",
       "  <td class=\"tabev6\"><b><i style=\"display:none;\">earthquake</i><a href=\"/Earthquake/earthquake.php?id=1066607\">2021-11-26   09:46:39.0</a></b><i class=\"ago\" id=\"ago31\">3hr 55min ago</i></td>,\n",
       "  <td class=\"tabev6\"><b><i style=\"display:none;\">earthquake</i><a href=\"/Earthquake/earthquake.php?id=1066605\">2021-11-26   09:28:32.0</a></b><i class=\"ago\" id=\"ago32\">4hr 13min ago</i></td>,\n",
       "  <td class=\"tabev6\"><b><i style=\"display:none;\">earthquake</i><a href=\"/Earthquake/earthquake.php?id=1066606\">2021-11-26   09:20:00.6</a></b><i class=\"ago\" id=\"ago33\">4hr 22min ago</i></td>,\n",
       "  <td class=\"tabev6\"><b><i style=\"display:none;\">earthquake</i><a href=\"/Earthquake/earthquake.php?id=1066603\">2021-11-26   09:17:07.5</a></b><i class=\"ago\" id=\"ago34\">4hr 25min ago</i></td>,\n",
       "  <td class=\"tabev6\"><b><i style=\"display:none;\">earthquake</i><a href=\"/Earthquake/earthquake.php?id=1066604\">2021-11-26   09:16:26.0</a></b><i class=\"ago\" id=\"ago35\">4hr 25min ago</i></td>,\n",
       "  <td class=\"tabev6\"><b><i style=\"display:none;\">earthquake</i><a href=\"/Earthquake/earthquake.php?id=1066602\">2021-11-26   09:12:41.1</a></b><i class=\"ago\" id=\"ago36\">4hr 29min ago</i></td>,\n",
       "  <td class=\"tabev6\"><b><i style=\"display:none;\">earthquake</i><a href=\"/Earthquake/earthquake.php?id=1066601\">2021-11-26   09:12:04.6</a></b><i class=\"ago\" id=\"ago37\">4hr 30min ago</i></td>,\n",
       "  <td class=\"tabev6\"><b><i style=\"display:none;\">earthquake</i><a href=\"/Earthquake/earthquake.php?id=1066599\">2021-11-26   08:59:17.8</a></b><i class=\"ago\" id=\"ago38\">4hr 42min ago</i></td>,\n",
       "  <td class=\"tabev6\"><b><i style=\"display:none;\">earthquake</i><a href=\"/Earthquake/earthquake.php?id=1066600\">2021-11-26   08:57:40.0</a></b><i class=\"ago\" id=\"ago39\">4hr 44min ago</i></td>,\n",
       "  <td class=\"tabev6\"><b><i style=\"display:none;\">earthquake</i><a href=\"/Earthquake/earthquake.php?id=1066594\">2021-11-26   08:38:11.8</a></b><i class=\"ago\" id=\"ago40\">5hr 04min ago</i></td>,\n",
       "  <td class=\"tabev6\"><b><i style=\"display:none;\">earthquake</i><a href=\"/Earthquake/earthquake.php?id=1066595\">2021-11-26   08:37:12.9</a></b><i class=\"ago\" id=\"ago41\">5hr 05min ago</i></td>,\n",
       "  <td class=\"tabev6\"><b><i style=\"display:none;\">earthquake</i><a href=\"/Earthquake/earthquake.php?id=1066597\">2021-11-26   08:37:09.0</a></b><i class=\"ago\" id=\"ago42\">5hr 05min ago</i></td>,\n",
       "  <td class=\"tabev6\"><b><i style=\"display:none;\">earthquake</i><a href=\"/Earthquake/earthquake.php?id=1066596\">2021-11-26   08:36:44.4</a></b><i class=\"ago\" id=\"ago43\">5hr 05min ago</i></td>,\n",
       "  <td class=\"tabev6\"><b><i style=\"display:none;\">earthquake</i><a href=\"/Earthquake/earthquake.php?id=1066591\">2021-11-26   08:09:54.3</a></b><i class=\"ago\" id=\"ago44\">5hr 32min ago</i></td>,\n",
       "  <td class=\"tabev6\"><b><i style=\"display:none;\">earthquake</i><a href=\"/Earthquake/earthquake.php?id=1066592\">2021-11-26   08:07:36.0</a></b><i class=\"ago\" id=\"ago45\">5hr 34min ago</i></td>,\n",
       "  <td class=\"tabev6\"><b><i style=\"display:none;\">earthquake</i><a href=\"/Earthquake/earthquake.php?id=1066589\">2021-11-26   08:05:53.3</a></b><i class=\"ago\" id=\"ago46\">5hr 36min ago</i></td>,\n",
       "  <td class=\"tabev6\"><b><i style=\"display:none;\">earthquake</i><a href=\"/Earthquake/earthquake.php?id=1066593\">2021-11-26   08:02:08.1</a></b><i class=\"ago\" id=\"ago47\">5hr 40min ago</i></td>,\n",
       "  <td class=\"tabev6\"><b><i style=\"display:none;\">earthquake</i><a href=\"/Earthquake/earthquake.php?id=1066590\">2021-11-26   08:01:23.0</a></b><i class=\"ago\" id=\"ago48\">5hr 40min ago</i></td>,\n",
       "  <td class=\"tabev6\"><b><i style=\"display:none;\">earthquake</i><a href=\"/Earthquake/earthquake.php?id=1066586\">2021-11-26   07:36:42.2</a></b><i class=\"ago\" id=\"ago49\">6hr 05min ago</i></td>],\n",
       " [<td class=\"tabev2\">N  </td>,\n",
       "  <td class=\"tabev2\">W  </td>,\n",
       "  <td class=\"tabev2\">3.4</td>,\n",
       "  <td class=\"tabev2\">N  </td>,\n",
       "  <td class=\"tabev2\">E  </td>,\n",
       "  <td class=\"tabev2\">3.0</td>,\n",
       "  <td class=\"tabev2\">N  </td>,\n",
       "  <td class=\"tabev2\">W  </td>,\n",
       "  <td class=\"tabev2\">2.1</td>,\n",
       "  <td class=\"tabev2\">N  </td>,\n",
       "  <td class=\"tabev2\">W  </td>,\n",
       "  <td class=\"tabev2\">3.3</td>,\n",
       "  <td class=\"tabev2\">N  </td>,\n",
       "  <td class=\"tabev2\">E  </td>,\n",
       "  <td class=\"tabev2\">1.3</td>,\n",
       "  <td class=\"tabev2\">N  </td>,\n",
       "  <td class=\"tabev2\">E  </td>,\n",
       "  <td class=\"tabev2\">2.2</td>,\n",
       "  <td class=\"tabev2\">N  </td>,\n",
       "  <td class=\"tabev2\">E  </td>,\n",
       "  <td class=\"tabev2\">3.6</td>,\n",
       "  <td class=\"tabev2\">N  </td>,\n",
       "  <td class=\"tabev2\">W  </td>,\n",
       "  <td class=\"tabev2\">2.2</td>,\n",
       "  <td class=\"tabev2\">N  </td>,\n",
       "  <td class=\"tabev2\">W  </td>,\n",
       "  <td class=\"tabev2\">2.6</td>,\n",
       "  <td class=\"tabev2\">N  </td>,\n",
       "  <td class=\"tabev2\">E  </td>,\n",
       "  <td class=\"tabev2\">2.6</td>,\n",
       "  <td class=\"tabev2\">N  </td>,\n",
       "  <td class=\"tabev2\">W  </td>,\n",
       "  <td class=\"tabev2\">2.8</td>,\n",
       "  <td class=\"tabev2\">N  </td>,\n",
       "  <td class=\"tabev2\">W  </td>,\n",
       "  <td class=\"tabev2\">3.0</td>,\n",
       "  <td class=\"tabev2\">N  </td>,\n",
       "  <td class=\"tabev2\">E  </td>,\n",
       "  <td class=\"tabev2\">3.9</td>,\n",
       "  <td class=\"tabev2\">N  </td>,\n",
       "  <td class=\"tabev2\">W  </td>,\n",
       "  <td class=\"tabev2\">4.3</td>,\n",
       "  <td class=\"tabev2\">N  </td>,\n",
       "  <td class=\"tabev2\">W  </td>,\n",
       "  <td class=\"tabev2\">2.6</td>,\n",
       "  <td class=\"tabev2\">N  </td>,\n",
       "  <td class=\"tabev2\">E  </td>,\n",
       "  <td class=\"tabev2\">2.9</td>,\n",
       "  <td class=\"tabev2\">N  </td>,\n",
       "  <td class=\"tabev2\">W  </td>,\n",
       "  <td class=\"tabev2\">2.8</td>,\n",
       "  <td class=\"tabev2\">N  </td>,\n",
       "  <td class=\"tabev2\">E  </td>,\n",
       "  <td class=\"tabev2\">3.2</td>,\n",
       "  <td class=\"tabev2\">N  </td>,\n",
       "  <td class=\"tabev2\">E  </td>,\n",
       "  <td class=\"tabev2\">2.3</td>,\n",
       "  <td class=\"tabev2\">N  </td>,\n",
       "  <td class=\"tabev2\">W  </td>,\n",
       "  <td class=\"tabev2\">2.5</td>,\n",
       "  <td class=\"tabev2\">N  </td>,\n",
       "  <td class=\"tabev2\">W  </td>,\n",
       "  <td class=\"tabev2\">2.8</td>,\n",
       "  <td class=\"tabev2\">N  </td>,\n",
       "  <td class=\"tabev2\">W  </td>,\n",
       "  <td class=\"tabev2\">2.4</td>,\n",
       "  <td class=\"tabev2\">N  </td>,\n",
       "  <td class=\"tabev2\">W  </td>,\n",
       "  <td class=\"tabev2\">2.9</td>,\n",
       "  <td class=\"tabev2\">N  </td>,\n",
       "  <td class=\"tabev2\">E  </td>,\n",
       "  <td class=\"tabev2\">2.5</td>,\n",
       "  <td class=\"tabev2\">N  </td>,\n",
       "  <td class=\"tabev2\">E  </td>,\n",
       "  <td class=\"tabev2\">2.0</td>,\n",
       "  <td class=\"tabev2\">N  </td>,\n",
       "  <td class=\"tabev2\">W  </td>,\n",
       "  <td class=\"tabev2\">3.2</td>,\n",
       "  <td class=\"tabev2\">N  </td>,\n",
       "  <td class=\"tabev2\">W  </td>,\n",
       "  <td class=\"tabev2\">2.8</td>,\n",
       "  <td class=\"tabev2\">N  </td>,\n",
       "  <td class=\"tabev2\">E  </td>,\n",
       "  <td class=\"tabev2\">2.7</td>,\n",
       "  <td class=\"tabev2\">N  </td>,\n",
       "  <td class=\"tabev2\">W  </td>,\n",
       "  <td class=\"tabev2\">2.0</td>,\n",
       "  <td class=\"tabev2\">S  </td>,\n",
       "  <td class=\"tabev2\">W  </td>,\n",
       "  <td class=\"tabev2\">3.6</td>,\n",
       "  <td class=\"tabev2\">S  </td>,\n",
       "  <td class=\"tabev2\">E  </td>,\n",
       "  <td class=\"tabev2\">2.7</td>,\n",
       "  <td class=\"tabev2\">N  </td>,\n",
       "  <td class=\"tabev2\">W  </td>,\n",
       "  <td class=\"tabev2\">2.0</td>,\n",
       "  <td class=\"tabev2\">S  </td>,\n",
       "  <td class=\"tabev2\">W  </td>,\n",
       "  <td class=\"tabev2\">2.8</td>,\n",
       "  <td class=\"tabev2\">N  </td>,\n",
       "  <td class=\"tabev2\">W  </td>,\n",
       "  <td class=\"tabev2\">3.2</td>,\n",
       "  <td class=\"tabev2\">N  </td>,\n",
       "  <td class=\"tabev2\">W  </td>,\n",
       "  <td class=\"tabev2\">2.3</td>,\n",
       "  <td class=\"tabev2\">S  </td>,\n",
       "  <td class=\"tabev2\">E  </td>,\n",
       "  <td class=\"tabev2\">3.4</td>,\n",
       "  <td class=\"tabev2\">N  </td>,\n",
       "  <td class=\"tabev2\">W  </td>,\n",
       "  <td class=\"tabev2\">2.9</td>,\n",
       "  <td class=\"tabev2\">N  </td>,\n",
       "  <td class=\"tabev2\">W  </td>,\n",
       "  <td class=\"tabev2\">2.4</td>,\n",
       "  <td class=\"tabev2\">N  </td>,\n",
       "  <td class=\"tabev2\">W  </td>,\n",
       "  <td class=\"tabev2\">2.1</td>,\n",
       "  <td class=\"tabev2\">S  </td>,\n",
       "  <td class=\"tabev2\">E  </td>,\n",
       "  <td class=\"tabev2\">3.9</td>,\n",
       "  <td class=\"tabev2\">N  </td>,\n",
       "  <td class=\"tabev2\">W  </td>,\n",
       "  <td class=\"tabev2\">2.0</td>,\n",
       "  <td class=\"tabev2\">N  </td>,\n",
       "  <td class=\"tabev2\">E  </td>,\n",
       "  <td class=\"tabev2\">3.9</td>,\n",
       "  <td class=\"tabev2\">S  </td>,\n",
       "  <td class=\"tabev2\">E  </td>,\n",
       "  <td class=\"tabev2\">2.7</td>,\n",
       "  <td class=\"tabev2\">N  </td>,\n",
       "  <td class=\"tabev2\">E  </td>,\n",
       "  <td class=\"tabev2\">2.0</td>,\n",
       "  <td class=\"tabev2\">N  </td>,\n",
       "  <td class=\"tabev2\">E  </td>,\n",
       "  <td class=\"tabev2\">3.4</td>,\n",
       "  <td class=\"tabev2\">S  </td>,\n",
       "  <td class=\"tabev2\">W  </td>,\n",
       "  <td class=\"tabev2\">3.2</td>,\n",
       "  <td class=\"tabev2\">S  </td>,\n",
       "  <td class=\"tabev2\">E  </td>,\n",
       "  <td class=\"tabev2\">3.4</td>,\n",
       "  <td class=\"tabev2\">N  </td>,\n",
       "  <td class=\"tabev2\">W  </td>,\n",
       "  <td class=\"tabev2\">3.4</td>,\n",
       "  <td class=\"tabev2\">S  </td>,\n",
       "  <td class=\"tabev2\">E  </td>,\n",
       "  <td class=\"tabev2\">4.0</td>,\n",
       "  <td class=\"tabev2\">S  </td>,\n",
       "  <td class=\"tabev2\">W  </td>,\n",
       "  <td class=\"tabev2\">4.4</td>],\n",
       " [])"
      ]
     },
     "execution_count": 59,
     "metadata": {},
     "output_type": "execute_result"
    }
   ],
   "source": [
    "#date&time\n",
    "date = soup.find_all(\"td\", class_=\"tabev6\")\n",
    "\n",
    "#latitude\n",
    "#latitude = soup_eq.find_all(\"td\", class_=\"tabev1\")\n",
    "\n",
    "#latitude&longitude\n",
    "ll = soup.find_all(\"td\", class_=\"tabev2\")\n",
    "\n",
    "#region\n",
    "region = soup.find_all(\"td\", class_=\"td_region\")\n",
    "\n",
    "date, ll, region"
   ]
  },
  {
   "cell_type": "markdown",
   "id": "dominican-defeat",
   "metadata": {},
   "source": [
    "### List all language names and number of related articles in the order they appear in [wikipedia.org](wikipedia.org)"
   ]
  },
  {
   "cell_type": "code",
   "execution_count": 38,
   "id": "metric-vertex",
   "metadata": {},
   "outputs": [],
   "source": [
    "url4 = 'https://www.wikipedia.org/'"
   ]
  },
  {
   "cell_type": "code",
   "execution_count": 60,
   "id": "e6883401",
   "metadata": {},
   "outputs": [],
   "source": [
    " #get the url\n",
    "response = requests.get(url4)\n",
    "response.status_code\n",
    "#create the soup\n",
    "soup = BeautifulSoup(response.content, \"html.parser\")"
   ]
  },
  {
   "cell_type": "code",
   "execution_count": 61,
   "id": "0b00f63d",
   "metadata": {},
   "outputs": [
    {
     "data": {
      "text/plain": [
       "([<strong>English</strong>,\n",
       "  <strong>日本語</strong>,\n",
       "  <strong>Русский</strong>,\n",
       "  <strong>Deutsch</strong>,\n",
       "  <strong>Español</strong>,\n",
       "  <strong>Français</strong>,\n",
       "  <strong>中文</strong>,\n",
       "  <strong>Italiano</strong>,\n",
       "  <strong>Português</strong>,\n",
       "  <strong>Polski</strong>],\n",
       " [<small><bdi dir=\"ltr\">6 383 000+</bdi> <span>articles</span></small>,\n",
       "  <small><bdi dir=\"ltr\">1 292 000+</bdi> <span>記事</span></small>,\n",
       "  <small><bdi dir=\"ltr\">1 756 000+</bdi> <span>статей</span></small>,\n",
       "  <small><bdi dir=\"ltr\">2 617 000+</bdi> <span>Artikel</span></small>,\n",
       "  <small><bdi dir=\"ltr\">1 717 000+</bdi> <span>artículos</span></small>,\n",
       "  <small><bdi dir=\"ltr\">2 362 000+</bdi> <span>articles</span></small>,\n",
       "  <small><bdi dir=\"ltr\">1 231 000+</bdi> <span data-convert-hans=\"条目\" id=\"zh_art\">條目</span></small>,\n",
       "  <small><bdi dir=\"ltr\">1 718 000+</bdi> <span>voci</span></small>,\n",
       "  <small><bdi dir=\"ltr\">1 074 000+</bdi> <span>artigos</span></small>,\n",
       "  <small><bdi dir=\"ltr\">1 490 000+</bdi> <span>haseł</span></small>])"
      ]
     },
     "execution_count": 61,
     "metadata": {},
     "output_type": "execute_result"
    }
   ],
   "source": [
    "languages = soup.find_all(\"strong\", class_=False)\n",
    "articles = soup.find_all(\"small\", class_=False)\n",
    "languages, articles"
   ]
  },
  {
   "cell_type": "markdown",
   "id": "split-cartridge",
   "metadata": {},
   "source": [
    "### A list with the different kind of datasets available in [data.gov.uk](data.gov.uk)\n"
   ]
  },
  {
   "cell_type": "code",
   "execution_count": null,
   "id": "actual-parallel",
   "metadata": {},
   "outputs": [],
   "source": [
    "url = 'https://data.gov.uk/"
   ]
  },
  {
   "cell_type": "markdown",
   "id": "potential-malpractice",
   "metadata": {},
   "source": [
    "### Display the top 10 languages by number of native speakers stored in a pandas dataframe"
   ]
  },
  {
   "cell_type": "code",
   "execution_count": null,
   "id": "adaptive-calculator",
   "metadata": {},
   "outputs": [],
   "source": [
    "url = 'https://en.wikipedia.org/wiki/List_of_languages_by_number_of_native_speakers'"
   ]
  }
 ],
 "metadata": {
  "kernelspec": {
   "display_name": "Python 3",
   "language": "python",
   "name": "python3"
  },
  "language_info": {
   "codemirror_mode": {
    "name": "ipython",
    "version": 3
   },
   "file_extension": ".py",
   "mimetype": "text/x-python",
   "name": "python",
   "nbconvert_exporter": "python",
   "pygments_lexer": "ipython3",
   "version": "3.9.5"
  },
  "toc": {
   "base_numbering": 1,
   "nav_menu": {},
   "number_sections": true,
   "sideBar": true,
   "skip_h1_title": false,
   "title_cell": "Table of Contents",
   "title_sidebar": "Contents",
   "toc_cell": true,
   "toc_position": {},
   "toc_section_display": true,
   "toc_window_display": false
  },
  "varInspector": {
   "cols": {
    "lenName": 16,
    "lenType": 16,
    "lenVar": 40
   },
   "kernels_config": {
    "python": {
     "delete_cmd_postfix": "",
     "delete_cmd_prefix": "del ",
     "library": "var_list.py",
     "varRefreshCmd": "print(var_dic_list())"
    },
    "r": {
     "delete_cmd_postfix": ") ",
     "delete_cmd_prefix": "rm(",
     "library": "var_list.r",
     "varRefreshCmd": "cat(var_dic_list()) "
    }
   },
   "types_to_exclude": [
    "module",
    "function",
    "builtin_function_or_method",
    "instance",
    "_Feature"
   ],
   "window_display": false
  }
 },
 "nbformat": 4,
 "nbformat_minor": 5
}
