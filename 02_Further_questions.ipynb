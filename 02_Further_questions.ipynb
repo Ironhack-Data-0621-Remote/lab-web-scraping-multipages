{
 "cells": [
  {
   "cell_type": "markdown",
   "metadata": {
    "toc": true
   },
   "source": [
    "<h1>Table of Contents<span class=\"tocSkip\"></span></h1>\n",
    "<div class=\"toc\"><ul class=\"toc-item\"><li><span><a href=\"#Import-Libraries\" data-toc-modified-id=\"Import-Libraries-1\"><span class=\"toc-item-num\">1&nbsp;&nbsp;</span>Import Libraries</a></span></li><li><span><a href=\"#Retrieve-an-arbitrary-Wikipedia-page-of-&quot;Python&quot;-and-create-a-list-of-links-on-that-page\" data-toc-modified-id=\"Retrieve-an-arbitrary-Wikipedia-page-of-&quot;Python&quot;-and-create-a-list-of-links-on-that-page-2\"><span class=\"toc-item-num\">2&nbsp;&nbsp;</span>Retrieve an arbitrary Wikipedia page of \"Python\" and create a list of links on that page</a></span></li><li><span><a href=\"#Find-the-number-of-titles-that-have-changed-in-the-United-States-Code-since-its-last-release-point\" data-toc-modified-id=\"Find-the-number-of-titles-that-have-changed-in-the-United-States-Code-since-its-last-release-point-3\"><span class=\"toc-item-num\">3&nbsp;&nbsp;</span>Find the number of titles that have changed in the United States Code since its last release point</a></span></li><li><span><a href=\"#Create-a-Python-list-with-the-top-ten-FBI's-Most-Wanted-names\" data-toc-modified-id=\"Create-a-Python-list-with-the-top-ten-FBI's-Most-Wanted-names-4\"><span class=\"toc-item-num\">4&nbsp;&nbsp;</span>Create a Python list with the top ten FBI's Most Wanted names</a></span></li><li><span><a href=\"#Display-the-20-latest-earthquakes-info-(date,-time,-latitude,-longitude-and-region-name)-by-the-EMSC-as-a-pandas-dataframe\" data-toc-modified-id=\"Display-the-20-latest-earthquakes-info-(date,-time,-latitude,-longitude-and-region-name)-by-the-EMSC-as-a-pandas-dataframe-5\"><span class=\"toc-item-num\">5&nbsp;&nbsp;</span>Display the 20 latest earthquakes info (date, time, latitude, longitude and region name) by the EMSC as a pandas dataframe</a></span></li><li><span><a href=\"#List-all-language-names-and-number-of-related-articles-in-the-order-they-appear-in-wikipedia.org\" data-toc-modified-id=\"List-all-language-names-and-number-of-related-articles-in-the-order-they-appear-in-wikipedia.org-6\"><span class=\"toc-item-num\">6&nbsp;&nbsp;</span>List all language names and number of related articles in the order they appear in <a href=\"wikipedia.org\" target=\"_blank\">wikipedia.org</a></a></span></li><li><span><a href=\"#A-list-with-the-different-kind-of-datasets-available-in-data.gov.uk\" data-toc-modified-id=\"A-list-with-the-different-kind-of-datasets-available-in-data.gov.uk-7\"><span class=\"toc-item-num\">7&nbsp;&nbsp;</span>A list with the different kind of datasets available in <a href=\"data.gov.uk\" target=\"_blank\">data.gov.uk</a></a></span></li><li><span><a href=\"#Display-the-top-10-languages-by-number-of-native-speakers-stored-in-a-pandas-dataframe\" data-toc-modified-id=\"Display-the-top-10-languages-by-number-of-native-speakers-stored-in-a-pandas-dataframe-8\"><span class=\"toc-item-num\">8&nbsp;&nbsp;</span>Display the top 10 languages by number of native speakers stored in a pandas dataframe</a></span></li></ul></div>"
   ]
  },
  {
   "cell_type": "markdown",
   "metadata": {},
   "source": [
    "As you've seen, scraping the internet is a skill that can get you all sorts of information. Here are some little challenges to gain more experience in the field"
   ]
  },
  {
   "cell_type": "markdown",
   "metadata": {},
   "source": [
    "### Import Libraries"
   ]
  },
  {
   "cell_type": "code",
   "execution_count": 160,
   "metadata": {},
   "outputs": [],
   "source": [
    "from bs4 import BeautifulSoup\n",
    "import requests\n",
    "import pandas as pd\n",
    "import re\n",
    "import datetime\n",
    "from datetime import date\n",
    "import re"
   ]
  },
  {
   "cell_type": "markdown",
   "metadata": {},
   "source": [
    "### Retrieve an arbitrary Wikipedia page of \"Python\" and create a list of links on that page"
   ]
  },
  {
   "cell_type": "code",
   "execution_count": 6,
   "metadata": {},
   "outputs": [],
   "source": [
    "wiki_url ='https://en.wikipedia.org/wiki/Python'"
   ]
  },
  {
   "cell_type": "code",
   "execution_count": 7,
   "metadata": {},
   "outputs": [
    {
     "name": "stdout",
     "output_type": "stream",
     "text": [
      "wikipedia: status 200\n"
     ]
    }
   ],
   "source": [
    "wikipedia = requests.get(wiki_url)\n",
    "print(\"wikipedia: status\",wikipedia.status_code)"
   ]
  },
  {
   "cell_type": "code",
   "execution_count": 8,
   "metadata": {},
   "outputs": [],
   "source": [
    "soup = BeautifulSoup(wikipedia.content, 'html.parser')"
   ]
  },
  {
   "cell_type": "code",
   "execution_count": 27,
   "metadata": {
    "scrolled": false
   },
   "outputs": [],
   "source": [
    "# links on https://en.wikipedia.org/wiki/Python\n",
    "\n",
    "# create empty list\n",
    "links = []\n",
    "\n",
    "# append links\n",
    "for link in soup.find_all('a'):\n",
    "    links.append(link.get('href'))"
   ]
  },
  {
   "cell_type": "code",
   "execution_count": 30,
   "metadata": {
    "scrolled": false
   },
   "outputs": [
    {
     "data": {
      "text/plain": [
       "[None,\n",
       " '#mw-head',\n",
       " '#searchInput',\n",
       " 'https://en.wiktionary.org/wiki/Python',\n",
       " 'https://en.wiktionary.org/wiki/python',\n",
       " '/wiki/Pythonidae',\n",
       " '/wiki/Python_(genus)',\n",
       " '#Computing',\n",
       " '#People',\n",
       " '#Roller_coasters',\n",
       " '#Vehicles',\n",
       " '#Weaponry',\n",
       " '#Other_uses',\n",
       " '#See_also',\n",
       " '/w/index.php?title=Python&action=edit&section=1',\n",
       " '/wiki/Python_(programming_language)',\n",
       " '/wiki/CMU_Common_Lisp',\n",
       " '/wiki/PERQ#PERQ_3',\n",
       " '/w/index.php?title=Python&action=edit&section=2',\n",
       " '/wiki/Python_of_Aenus',\n",
       " '/wiki/Python_(painter)',\n",
       " '/wiki/Python_of_Byzantium',\n",
       " '/wiki/Python_of_Catana',\n",
       " '/wiki/Python_Anghelo',\n",
       " '/w/index.php?title=Python&action=edit&section=3',\n",
       " '/wiki/Python_(Efteling)',\n",
       " '/wiki/Python_(Busch_Gardens_Tampa_Bay)',\n",
       " '/wiki/Python_(Coney_Island,_Cincinnati,_Ohio)',\n",
       " '/w/index.php?title=Python&action=edit&section=4',\n",
       " '/wiki/Python_(automobile_maker)',\n",
       " '/wiki/Python_(Ford_prototype)',\n",
       " '/w/index.php?title=Python&action=edit&section=5',\n",
       " '/wiki/Python_(missile)',\n",
       " '/wiki/Python_(nuclear_primary)',\n",
       " '/wiki/Colt_Python',\n",
       " '/w/index.php?title=Python&action=edit&section=6',\n",
       " '/wiki/PYTHON',\n",
       " '/wiki/Python_(film)',\n",
       " '/wiki/Python_(mythology)',\n",
       " '/wiki/Monty_Python',\n",
       " '/wiki/Python_(Monty)_Pictures',\n",
       " '/w/index.php?title=Python&action=edit&section=7',\n",
       " '/wiki/Cython',\n",
       " '/wiki/Pyton',\n",
       " '/wiki/Pithon',\n",
       " '/wiki/File:Disambig_gray.svg',\n",
       " '/wiki/Help:Disambiguation',\n",
       " 'https://en.wikipedia.org/w/index.php?title=Special:WhatLinksHere/Python&namespace=0',\n",
       " 'https://en.wikipedia.org/w/index.php?title=Python&oldid=1048703433',\n",
       " '/wiki/Help:Category',\n",
       " '/wiki/Category:Disambiguation_pages',\n",
       " '/wiki/Category:Human_name_disambiguation_pages',\n",
       " '/wiki/Category:Disambiguation_pages_with_given-name-holder_lists',\n",
       " '/wiki/Category:Disambiguation_pages_with_short_descriptions',\n",
       " '/wiki/Category:Short_description_is_different_from_Wikidata',\n",
       " '/wiki/Category:All_article_disambiguation_pages',\n",
       " '/wiki/Category:All_disambiguation_pages',\n",
       " '/wiki/Category:Animal_common_name_disambiguation_pages',\n",
       " '/wiki/Special:MyTalk',\n",
       " '/wiki/Special:MyContributions',\n",
       " '/w/index.php?title=Special:CreateAccount&returnto=Python',\n",
       " '/w/index.php?title=Special:UserLogin&returnto=Python',\n",
       " '/wiki/Python',\n",
       " '/wiki/Talk:Python',\n",
       " '/wiki/Python',\n",
       " '/w/index.php?title=Python&action=edit',\n",
       " '/w/index.php?title=Python&action=history',\n",
       " '/wiki/Main_Page',\n",
       " '/wiki/Main_Page',\n",
       " '/wiki/Wikipedia:Contents',\n",
       " '/wiki/Portal:Current_events',\n",
       " '/wiki/Special:Random',\n",
       " '/wiki/Wikipedia:About',\n",
       " '//en.wikipedia.org/wiki/Wikipedia:Contact_us',\n",
       " 'https://donate.wikimedia.org/wiki/Special:FundraiserRedirector?utm_source=donate&utm_medium=sidebar&utm_campaign=C13_en.wikipedia.org&uselang=en',\n",
       " '/wiki/Help:Contents',\n",
       " '/wiki/Help:Introduction',\n",
       " '/wiki/Wikipedia:Community_portal',\n",
       " '/wiki/Special:RecentChanges',\n",
       " '/wiki/Wikipedia:File_Upload_Wizard',\n",
       " '/wiki/Special:WhatLinksHere/Python',\n",
       " '/wiki/Special:RecentChangesLinked/Python',\n",
       " '/wiki/Wikipedia:File_Upload_Wizard',\n",
       " '/wiki/Special:SpecialPages',\n",
       " '/w/index.php?title=Python&oldid=1048703433',\n",
       " '/w/index.php?title=Python&action=info',\n",
       " '/w/index.php?title=Special:CiteThisPage&page=Python&id=1048703433&wpFormIdentifier=titleform',\n",
       " 'https://www.wikidata.org/wiki/Special:EntityPage/Q747452',\n",
       " '/w/index.php?title=Special:DownloadAsPdf&page=Python&action=show-download-screen',\n",
       " '/w/index.php?title=Python&printable=yes',\n",
       " 'https://commons.wikimedia.org/wiki/Category:Python',\n",
       " 'https://af.wikipedia.org/wiki/Python',\n",
       " 'https://als.wikipedia.org/wiki/Python',\n",
       " 'https://ar.wikipedia.org/wiki/%D8%A8%D8%A7%D9%8A%D8%AB%D9%88%D9%86_(%D8%AA%D9%88%D8%B6%D9%8A%D8%AD)',\n",
       " 'https://az.wikipedia.org/wiki/Python',\n",
       " 'https://bn.wikipedia.org/wiki/%E0%A6%AA%E0%A6%BE%E0%A6%87%E0%A6%A5%E0%A6%A8_(%E0%A6%A6%E0%A7%8D%E0%A6%AC%E0%A7%8D%E0%A6%AF%E0%A6%B0%E0%A7%8D%E0%A6%A5%E0%A6%A4%E0%A6%BE_%E0%A6%A8%E0%A6%BF%E0%A6%B0%E0%A6%B8%E0%A6%A8)',\n",
       " 'https://be.wikipedia.org/wiki/Python',\n",
       " 'https://bg.wikipedia.org/wiki/%D0%9F%D0%B8%D1%82%D0%BE%D0%BD_(%D0%BF%D0%BE%D1%8F%D1%81%D0%BD%D0%B5%D0%BD%D0%B8%D0%B5)',\n",
       " 'https://cs.wikipedia.org/wiki/Python_(rozcestn%C3%ADk)',\n",
       " 'https://da.wikipedia.org/wiki/Python',\n",
       " 'https://de.wikipedia.org/wiki/Python',\n",
       " 'https://eo.wikipedia.org/wiki/Pitono_(apartigilo)',\n",
       " 'https://eu.wikipedia.org/wiki/Python_(argipena)',\n",
       " 'https://fa.wikipedia.org/wiki/%D9%BE%D8%A7%DB%8C%D8%AA%D9%88%D9%86',\n",
       " 'https://fr.wikipedia.org/wiki/Python',\n",
       " 'https://ko.wikipedia.org/wiki/%ED%8C%8C%EC%9D%B4%EC%84%A0',\n",
       " 'https://hr.wikipedia.org/wiki/Python_(razdvojba)',\n",
       " 'https://io.wikipedia.org/wiki/Pitono',\n",
       " 'https://id.wikipedia.org/wiki/Python',\n",
       " 'https://ia.wikipedia.org/wiki/Python_(disambiguation)',\n",
       " 'https://is.wikipedia.org/wiki/Python_(a%C3%B0greining)',\n",
       " 'https://it.wikipedia.org/wiki/Python_(disambigua)',\n",
       " 'https://he.wikipedia.org/wiki/%D7%A4%D7%99%D7%AA%D7%95%D7%9F',\n",
       " 'https://ka.wikipedia.org/wiki/%E1%83%9E%E1%83%98%E1%83%97%E1%83%9D%E1%83%9C%E1%83%98_(%E1%83%9B%E1%83%A0%E1%83%90%E1%83%95%E1%83%90%E1%83%9A%E1%83%9B%E1%83%9C%E1%83%98%E1%83%A8%E1%83%95%E1%83%9C%E1%83%94%E1%83%9A%E1%83%9D%E1%83%95%E1%83%90%E1%83%9C%E1%83%98)',\n",
       " 'https://kg.wikipedia.org/wiki/Mboma_(nyoka)',\n",
       " 'https://la.wikipedia.org/wiki/Python_(discretiva)',\n",
       " 'https://lb.wikipedia.org/wiki/Python',\n",
       " 'https://hu.wikipedia.org/wiki/Python_(egy%C3%A9rtelm%C5%B1s%C3%ADt%C5%91_lap)',\n",
       " 'https://mr.wikipedia.org/wiki/%E0%A4%AA%E0%A4%BE%E0%A4%AF%E0%A4%A5%E0%A5%89%E0%A4%A8_(%E0%A4%86%E0%A4%9C%E0%A5%8D%E0%A4%9E%E0%A4%BE%E0%A4%B5%E0%A4%B2%E0%A5%80_%E0%A4%AD%E0%A4%BE%E0%A4%B7%E0%A4%BE)',\n",
       " 'https://nl.wikipedia.org/wiki/Python',\n",
       " 'https://ja.wikipedia.org/wiki/%E3%83%91%E3%82%A4%E3%82%BD%E3%83%B3',\n",
       " 'https://no.wikipedia.org/wiki/Pyton',\n",
       " 'https://pl.wikipedia.org/wiki/Pyton',\n",
       " 'https://pt.wikipedia.org/wiki/Python_(desambigua%C3%A7%C3%A3o)',\n",
       " 'https://ru.wikipedia.org/wiki/Python_(%D0%B7%D0%BD%D0%B0%D1%87%D0%B5%D0%BD%D0%B8%D1%8F)',\n",
       " 'https://sk.wikipedia.org/wiki/Python',\n",
       " 'https://sr.wikipedia.org/wiki/%D0%9F%D0%B8%D1%82%D0%BE%D0%BD_(%D0%B2%D0%B8%D1%88%D0%B5%D0%B7%D0%BD%D0%B0%D1%87%D0%BD%D0%B0_%D0%BE%D0%B4%D1%80%D0%B5%D0%B4%D0%BD%D0%B8%D1%86%D0%B0)',\n",
       " 'https://sh.wikipedia.org/wiki/Python',\n",
       " 'https://fi.wikipedia.org/wiki/Python',\n",
       " 'https://sv.wikipedia.org/wiki/Pyton',\n",
       " 'https://th.wikipedia.org/wiki/%E0%B9%84%E0%B8%9E%E0%B8%97%E0%B8%AD%E0%B8%99',\n",
       " 'https://tr.wikipedia.org/wiki/Python',\n",
       " 'https://uk.wikipedia.org/wiki/%D0%9F%D1%96%D1%84%D0%BE%D0%BD',\n",
       " 'https://ur.wikipedia.org/wiki/%D9%BE%D8%A7%D8%A6%DB%8C%D8%AA%DA%BE%D9%88%D9%86',\n",
       " 'https://vi.wikipedia.org/wiki/Python',\n",
       " 'https://zh.wikipedia.org/wiki/Python_(%E6%B6%88%E6%AD%A7%E4%B9%89)',\n",
       " 'https://www.wikidata.org/wiki/Special:EntityPage/Q747452#sitelinks-wikipedia',\n",
       " '//en.wikipedia.org/wiki/Wikipedia:Text_of_Creative_Commons_Attribution-ShareAlike_3.0_Unported_License',\n",
       " '//creativecommons.org/licenses/by-sa/3.0/',\n",
       " '//foundation.wikimedia.org/wiki/Terms_of_Use',\n",
       " '//foundation.wikimedia.org/wiki/Privacy_policy',\n",
       " '//www.wikimediafoundation.org/',\n",
       " 'https://foundation.wikimedia.org/wiki/Privacy_policy',\n",
       " '/wiki/Wikipedia:About',\n",
       " '/wiki/Wikipedia:General_disclaimer',\n",
       " '//en.wikipedia.org/wiki/Wikipedia:Contact_us',\n",
       " '//en.m.wikipedia.org/w/index.php?title=Python&mobileaction=toggle_view_mobile',\n",
       " 'https://www.mediawiki.org/wiki/Special:MyLanguage/How_to_contribute',\n",
       " 'https://stats.wikimedia.org/#/en.wikipedia.org',\n",
       " 'https://foundation.wikimedia.org/wiki/Cookie_statement',\n",
       " 'https://wikimediafoundation.org/',\n",
       " 'https://www.mediawiki.org/']"
      ]
     },
     "execution_count": 30,
     "metadata": {},
     "output_type": "execute_result"
    }
   ],
   "source": [
    "# list to all links on above page inkl. general links like links within table of content\n",
    "\n",
    "links"
   ]
  },
  {
   "cell_type": "markdown",
   "metadata": {},
   "source": [
    "### Find the number of titles that have changed in the United States Code since its last release point"
   ]
  },
  {
   "cell_type": "code",
   "execution_count": 42,
   "metadata": {},
   "outputs": [],
   "source": [
    "uscode_url = 'http://uscode.house.gov/download/download.shtml'"
   ]
  },
  {
   "cell_type": "code",
   "execution_count": 43,
   "metadata": {},
   "outputs": [
    {
     "name": "stdout",
     "output_type": "stream",
     "text": [
      "uscode: status 200\n"
     ]
    }
   ],
   "source": [
    "uscode = requests.get(uscode_url)\n",
    "print(\"uscode: status\",uscode.status_code)"
   ]
  },
  {
   "cell_type": "code",
   "execution_count": 44,
   "metadata": {},
   "outputs": [],
   "source": [
    "soup = BeautifulSoup(uscode.content, 'html.parser')"
   ]
  },
  {
   "cell_type": "markdown",
   "metadata": {},
   "source": [
    "Titles in **bold** have been changed since the last release point."
   ]
  },
  {
   "cell_type": "markdown",
   "metadata": {},
   "source": [
    "class=\"usctitlechanged\" id=\"us/usc/t11\">"
   ]
  },
  {
   "cell_type": "code",
   "execution_count": 45,
   "metadata": {},
   "outputs": [],
   "source": [
    "changed = soup.find_all('div', attrs={'class': 'usctitlechanged'})"
   ]
  },
  {
   "cell_type": "code",
   "execution_count": 46,
   "metadata": {},
   "outputs": [
    {
     "data": {
      "text/plain": [
       "8"
      ]
     },
     "execution_count": 46,
     "metadata": {},
     "output_type": "execute_result"
    }
   ],
   "source": [
    "len(changed)"
   ]
  },
  {
   "cell_type": "markdown",
   "metadata": {},
   "source": [
    "### Create a Python list with the top ten FBI's Most Wanted names"
   ]
  },
  {
   "cell_type": "code",
   "execution_count": 50,
   "metadata": {},
   "outputs": [],
   "source": [
    "fbi_url = 'https://www.fbi.gov/wanted/topten'"
   ]
  },
  {
   "cell_type": "code",
   "execution_count": 51,
   "metadata": {},
   "outputs": [
    {
     "name": "stdout",
     "output_type": "stream",
     "text": [
      "fbi: status 200\n"
     ]
    }
   ],
   "source": [
    "fbi = requests.get(fbi_url)\n",
    "print(\"fbi: status\",fbi.status_code)"
   ]
  },
  {
   "cell_type": "code",
   "execution_count": 52,
   "metadata": {},
   "outputs": [],
   "source": [
    "soup = BeautifulSoup(fbi.content, 'html.parser')"
   ]
  },
  {
   "cell_type": "code",
   "execution_count": 97,
   "metadata": {},
   "outputs": [],
   "source": [
    "# create empty most_wanted list\n",
    "\n",
    "# create empty list\n",
    "most_wanted = []\n",
    "\n",
    "# append links\n",
    "for link in soup.find_all('a'):\n",
    "    most_wanted.append(link.get('href'))"
   ]
  },
  {
   "cell_type": "code",
   "execution_count": 98,
   "metadata": {},
   "outputs": [
    {
     "data": {
      "text/plain": [
       "['#',\n",
       " 'https://www.fbi.gov/@@search',\n",
       " 'https://www.fbi.gov/',\n",
       " 'https://www.fbi.gov/wanted',\n",
       " 'https://www.fbi.gov/news',\n",
       " 'https://www.fbi.gov/investigate',\n",
       " 'https://www.fbi.gov/services',\n",
       " 'https://www.fbi.gov/resources',\n",
       " 'https://www.fbi.gov/tips',\n",
       " 'https://www.fbi.gov/about',\n",
       " 'https://www.fbi.gov/contact-us',\n",
       " 'https://www.fbi.gov',\n",
       " 'https://www.fbi.gov/wanted',\n",
       " 'https://www.facebook.com/FBI',\n",
       " \"https://delivery.fbi.gov/subscribe?utm_source=Email%20Icon%20-%20fbi.gov&utm_medium=Email%20Icon%20-%20fbi.gov&utm_campaign=Email%20Alerts%20Campaign&utm_term=email-alerts&utm_content=Email%20icon%20that's%20in%20the%20header%20toolbar%20on%20the%20fbi.gov%20website\",\n",
       " 'https://twitter.com/FBI',\n",
       " 'https://www.youtube.com/user/fbi',\n",
       " 'https://www.fbi.gov/flickr',\n",
       " 'https://www.linkedin.com/company/fbi',\n",
       " 'https://www.instagram.com/fbi/',\n",
       " 'https://www.fbi.gov/',\n",
       " 'https://www.fbi.gov/wanted',\n",
       " 'https://www.fbi.gov/wanted/topten',\n",
       " 'https://www.fbi.gov/wanted/fugitives',\n",
       " 'https://www.fbi.gov/wanted/capitol-violence',\n",
       " 'https://www.fbi.gov/wanted/terrorism',\n",
       " 'https://www.fbi.gov/wanted/kidnap',\n",
       " 'https://www.fbi.gov/wanted/parental-kidnappings',\n",
       " 'https://www.fbi.gov/wanted/seeking-information',\n",
       " 'https://www.fbi.gov/wanted/indian-country',\n",
       " 'https://www.fbi.gov/wanted/ecap',\n",
       " 'https://www.fbi.gov/wanted/vicap',\n",
       " 'https://www.fbi.gov/wanted/bank-robbers',\n",
       " 'https://www.fbi.gov/wanted/topten/ten-most-wanted-fugitives-faq',\n",
       " 'https://www.fbi.gov/wanted/topten/topten-history',\n",
       " 'https://www.fbi.gov/wanted/topten/jason-derek-brown',\n",
       " 'https://www.fbi.gov/wanted/topten/jason-derek-brown',\n",
       " 'https://www.fbi.gov/wanted/topten/alexis-flores',\n",
       " 'https://www.fbi.gov/wanted/topten/alexis-flores',\n",
       " 'https://www.fbi.gov/wanted/topten/jose-rodolfo-villarreal-hernandez',\n",
       " 'https://www.fbi.gov/wanted/topten/jose-rodolfo-villarreal-hernandez',\n",
       " 'https://www.fbi.gov/wanted/topten/octaviano-juarez-corro',\n",
       " 'https://www.fbi.gov/wanted/topten/octaviano-juarez-corro',\n",
       " 'https://www.fbi.gov/wanted/topten/eugene-palmer',\n",
       " 'https://www.fbi.gov/wanted/topten/eugene-palmer',\n",
       " 'https://www.fbi.gov/wanted/topten/rafael-caro-quintero',\n",
       " 'https://www.fbi.gov/wanted/topten/rafael-caro-quintero',\n",
       " 'https://www.fbi.gov/wanted/topten/bhadreshkumar-chetanbhai-patel',\n",
       " 'https://www.fbi.gov/wanted/topten/bhadreshkumar-chetanbhai-patel',\n",
       " 'https://www.fbi.gov/wanted/topten/alejandro-castillo',\n",
       " 'https://www.fbi.gov/wanted/topten/alejandro-castillo',\n",
       " 'https://www.fbi.gov/wanted/topten/robert-william-fisher',\n",
       " 'https://www.fbi.gov/wanted/topten/robert-william-fisher',\n",
       " 'https://www.fbi.gov/wanted/topten/arnoldo-jimenez',\n",
       " 'https://www.fbi.gov/wanted/topten/arnoldo-jimenez',\n",
       " 'https://www.fbi.gov/wanted/topten/ten-most-wanted-fugitives-faq',\n",
       " 'https://www.fbi.gov/wanted/topten/topten-history',\n",
       " 'https://www.fbi.gov/file-repository/ten_most_wanted_60th_anniversary.pdf/view',\n",
       " 'https://www.fbi.gov/wanted',\n",
       " 'https://www.fbi.gov/wanted/topten',\n",
       " 'https://www.fbi.gov/wanted/fugitives',\n",
       " 'https://www.fbi.gov/wanted/terrorism',\n",
       " 'https://www.fbi.gov/wanted/kidnap',\n",
       " 'https://www.fbi.gov/wanted/seeking-information',\n",
       " 'https://www.fbi.gov/wanted/bank-robbers',\n",
       " 'https://www.fbi.gov/wanted/ecap',\n",
       " 'https://www.fbi.gov/wanted/vicap',\n",
       " 'https://www.fbi.gov/about',\n",
       " 'https://www.fbi.gov/about/mission',\n",
       " 'https://www.fbi.gov/about/leadership-and-structure',\n",
       " 'https://www.fbi.gov/about/partnerships',\n",
       " 'https://www.fbi.gov/about/community-outreach',\n",
       " 'https://www.fbi.gov/about/faqs',\n",
       " 'https://www.fbi.gov/news',\n",
       " 'https://www.fbi.gov/news/stories',\n",
       " 'https://www.fbi.gov/news/videos',\n",
       " 'https://www.fbi.gov/news/pressrel',\n",
       " 'https://www.fbi.gov/news/speeches',\n",
       " 'https://www.fbi.gov/news/testimony',\n",
       " 'https://www.fbi.gov/news/podcasts',\n",
       " 'https://www.fbi.gov/news/photos',\n",
       " 'https://fbigov.gov/news/espanol',\n",
       " 'https://www.fbi.gov/news/apps',\n",
       " 'https://www.fbi.gov/resources',\n",
       " 'https://www.fbi.gov/resources/law-enforcement',\n",
       " 'https://www.fbi.gov/resources/businesses',\n",
       " 'https://www.fbi.gov/resources/victim-assistance',\n",
       " 'https://www.fbi.gov/resources/library',\n",
       " 'https://www.fbi.gov/investigate',\n",
       " 'https://www.fbi.gov/investigate/terrorism',\n",
       " 'https://www.fbi.gov/investigate/counterintelligence',\n",
       " 'https://www.fbi.gov/investigate/cyber',\n",
       " 'https://www.fbi.gov/investigate/public-corruption',\n",
       " 'https://www.fbi.gov/investigate/civil-rights',\n",
       " 'https://www.fbi.gov/investigate/organized-crime',\n",
       " 'https://www.fbi.gov/investigate/white-collar-crime',\n",
       " 'https://www.fbi.gov/investigate/violent-crime',\n",
       " 'https://www.fbi.gov/investigate/wmd',\n",
       " 'https://www.fbi.gov/contact-us',\n",
       " 'https://www.fbi.gov/contact-us/field-offices',\n",
       " 'https://www.fbi.gov/contact-us/fbi-headquarters',\n",
       " 'https://www.fbi.gov/contact-us/legal-attache-offices',\n",
       " 'https://www.fbi.gov/services',\n",
       " 'https://www.fbi.gov/services/cjis',\n",
       " 'https://www.fbi.gov/services/cirg',\n",
       " 'https://www.fbi.gov/services/laboratory',\n",
       " 'https://www.fbi.gov/services/training-academy',\n",
       " 'https://www.fbi.gov/services/operational-technology',\n",
       " 'https://www.fbi.gov/services/information-management',\n",
       " 'https://www.fbijobs.gov/',\n",
       " 'https://www.fbi.gov/tips',\n",
       " 'https://ucr.fbi.gov',\n",
       " 'https://www.fbi.gov/history',\n",
       " 'https://www.fbi.gov/services/information-management/foipa',\n",
       " 'https://www.fbi.gov/scams-and-safety',\n",
       " 'https://www.fbi.gov/fbi-kids',\n",
       " 'https//www.fbi.gov/contact-us/fbi-headquarters/the-fbi-experience',\n",
       " 'https://www.fbi.gov/accessibility',\n",
       " 'https://www.regulations.gov/',\n",
       " 'https://www.fbi.gov/services/information-management/foipa',\n",
       " 'https://www.fbi.gov/legalnotices',\n",
       " 'https://www.justice.gov/legalpolicies',\n",
       " 'https://www.fbi.gov/privacy-policy',\n",
       " 'https://www.usa.gov/',\n",
       " 'https://www.whitehouse.gov/',\n",
       " 'https://www.justice.gov/jmd/eeo-program-status-report',\n",
       " 'https://www.fbijobs.gov/equal-opportunity',\n",
       " '../',\n",
       " 'https://www.facebook.com/FBI',\n",
       " 'https://twitter.com/FBI',\n",
       " 'https://www.youtube.com/user/fbi',\n",
       " 'https://www.fbi.gov/flickr',\n",
       " 'https://www.linkedin.com/company/fbi',\n",
       " 'https://www.instagram.com/fbi/',\n",
       " 'https://delivery.fbi.gov/subscribe',\n",
       " 'https://www.fbi.gov/accessibility',\n",
       " 'https://www.regulations.gov/',\n",
       " 'https://www.fbi.gov/services/information-management/foipa',\n",
       " 'https://www.fbi.gov/legalnotices',\n",
       " 'https://www.justice.gov/legalpolicies',\n",
       " 'https://www.fbi.gov/privacy-policy',\n",
       " 'https://www.usa.gov/',\n",
       " 'https://www.whitehouse.gov/',\n",
       " 'https://www.justice.gov/jmd/eeo-program-status-report',\n",
       " 'https://www.fbijobs.gov/equal-opportunity',\n",
       " 'https://fbi.gov/',\n",
       " 'https://www.fbi.gov',\n",
       " 'https://www.fbi.gov/wanted',\n",
       " 'https://www.fbi.gov/news',\n",
       " 'https://www.fbi.gov/investigate',\n",
       " 'https://www.fbi.gov/services',\n",
       " 'https://www.fbi.gov/resources',\n",
       " 'https://www.fbi.gov/tips',\n",
       " 'https://www.fbi.gov/about',\n",
       " 'https://www.fbi.gov/contact-us',\n",
       " 'https://ucr.fbi.gov',\n",
       " 'https://images.fbi.gov',\n",
       " 'https://www.fbi.gov/news/videos',\n",
       " 'https://www.fbi.gov/about/community-outreach',\n",
       " 'https://www.fbi.gov/history',\n",
       " 'https://www.fbi.gov/services/information-management/foia',\n",
       " 'https://www.fbi.gov/scams-and-safety',\n",
       " 'https://www.fbi.gov/fbi-kids',\n",
       " 'https://www.fbijobs.gov/',\n",
       " 'https://delivery.fbi.gov/subscribe?utm_source=Most%20Wanted&utm_medium=Sticky%20Footer&utm_campaign=Email%20Alerts%20Campaign&utm_term=email-alerts&utm_content=sticky-footer',\n",
       " '#']"
      ]
     },
     "execution_count": 98,
     "metadata": {},
     "output_type": "execute_result"
    }
   ],
   "source": [
    "most_wanted"
   ]
  },
  {
   "cell_type": "markdown",
   "metadata": {},
   "source": [
    "I think I could only get the names with this part of the link, before the name of the most_wanted. <br>\n",
    "But I have no clue how to do this. <br>\n",
    "\n",
    "href=\"https://www.fbi.gov/wanted/topten/\""
   ]
  },
  {
   "cell_type": "code",
   "execution_count": null,
   "metadata": {},
   "outputs": [],
   "source": [
    "soup.find_all(\"a\")[0].get(\"href\")"
   ]
  },
  {
   "cell_type": "markdown",
   "metadata": {},
   "source": [
    "### Display the 20 latest earthquakes info (date, time, latitude, longitude and region name) by the EMSC as a pandas dataframe"
   ]
  },
  {
   "cell_type": "code",
   "execution_count": 103,
   "metadata": {},
   "outputs": [],
   "source": [
    "earthquake_url = 'https://www.emsc-csem.org/Earthquake/'"
   ]
  },
  {
   "cell_type": "code",
   "execution_count": 105,
   "metadata": {},
   "outputs": [
    {
     "name": "stdout",
     "output_type": "stream",
     "text": [
      "earthquake: status 200\n"
     ]
    }
   ],
   "source": [
    "earthquake = requests.get(earthquake_url)\n",
    "print(\"earthquake: status\",earthquake.status_code)"
   ]
  },
  {
   "cell_type": "code",
   "execution_count": 144,
   "metadata": {},
   "outputs": [],
   "source": [
    "soup = BeautifulSoup(earthquake.content, 'html.parser')"
   ]
  },
  {
   "cell_type": "code",
   "execution_count": 180,
   "metadata": {},
   "outputs": [],
   "source": [
    "test = soup.find_all(\"b\")[0].get_text()"
   ]
  },
  {
   "cell_type": "code",
   "execution_count": 183,
   "metadata": {},
   "outputs": [],
   "source": [
    "# date\n",
    "\n",
    "test = soup.find_all(\"b\")[0].get_text().strip()"
   ]
  },
  {
   "cell_type": "code",
   "execution_count": 184,
   "metadata": {},
   "outputs": [],
   "source": [
    "def get_date(df):\n",
    "    match = re.search(r'\\d{4}-\\d{2}-\\d{2}', df)\n",
    "    date = datetime.datetime.strptime(match.group(), '%Y-%m-%d').date()"
   ]
  },
  {
   "cell_type": "code",
   "execution_count": 185,
   "metadata": {},
   "outputs": [
    {
     "ename": "AttributeError",
     "evalue": "'str' object has no attribute 'apply'",
     "output_type": "error",
     "traceback": [
      "\u001b[1;31m---------------------------------------------------------------------------\u001b[0m",
      "\u001b[1;31mAttributeError\u001b[0m                            Traceback (most recent call last)",
      "\u001b[1;32m<ipython-input-185-4c0085658eb4>\u001b[0m in \u001b[0;36m<module>\u001b[1;34m\u001b[0m\n\u001b[1;32m----> 1\u001b[1;33m \u001b[0mtest\u001b[0m\u001b[1;33m.\u001b[0m\u001b[0mapply\u001b[0m\u001b[1;33m(\u001b[0m\u001b[0mget_date\u001b[0m\u001b[1;33m)\u001b[0m\u001b[1;33m\u001b[0m\u001b[1;33m\u001b[0m\u001b[0m\n\u001b[0m",
      "\u001b[1;31mAttributeError\u001b[0m: 'str' object has no attribute 'apply'"
     ]
    }
   ],
   "source": [
    "test.apply(get_date)"
   ]
  },
  {
   "cell_type": "code",
   "execution_count": null,
   "metadata": {},
   "outputs": [],
   "source": []
  },
  {
   "cell_type": "code",
   "execution_count": null,
   "metadata": {},
   "outputs": [],
   "source": [
    "# time\n",
    "\n"
   ]
  },
  {
   "cell_type": "code",
   "execution_count": null,
   "metadata": {},
   "outputs": [],
   "source": [
    "# latitude\n",
    "\n"
   ]
  },
  {
   "cell_type": "code",
   "execution_count": null,
   "metadata": {},
   "outputs": [],
   "source": [
    "# longitude\n",
    "\n"
   ]
  },
  {
   "cell_type": "code",
   "execution_count": null,
   "metadata": {},
   "outputs": [],
   "source": [
    "# region_name\n",
    "\n"
   ]
  },
  {
   "cell_type": "code",
   "execution_count": null,
   "metadata": {},
   "outputs": [],
   "source": []
  },
  {
   "cell_type": "markdown",
   "metadata": {},
   "source": [
    "### List all language names and number of related articles in the order they appear in [wikipedia.org](wikipedia.org)"
   ]
  },
  {
   "cell_type": "code",
   "execution_count": 186,
   "metadata": {},
   "outputs": [],
   "source": [
    "wiki_url = 'https://www.wikipedia.org/'"
   ]
  },
  {
   "cell_type": "code",
   "execution_count": 187,
   "metadata": {},
   "outputs": [
    {
     "name": "stdout",
     "output_type": "stream",
     "text": [
      "wikipedia: status 200\n"
     ]
    }
   ],
   "source": [
    "wikipedia = requests.get(wiki_url)\n",
    "print(\"wikipedia: status\",wikipedia.status_code)"
   ]
  },
  {
   "cell_type": "code",
   "execution_count": 188,
   "metadata": {},
   "outputs": [],
   "source": [
    "soup = BeautifulSoup(wikipedia.content, 'html.parser')"
   ]
  },
  {
   "cell_type": "code",
   "execution_count": 197,
   "metadata": {},
   "outputs": [],
   "source": [
    "languages = soup.find_all('strong', attrs={'dir': 'ltr'})"
   ]
  },
  {
   "cell_type": "code",
   "execution_count": 198,
   "metadata": {},
   "outputs": [
    {
     "data": {
      "text/plain": [
       "[]"
      ]
     },
     "execution_count": 198,
     "metadata": {},
     "output_type": "execute_result"
    }
   ],
   "source": [
    "languages"
   ]
  },
  {
   "cell_type": "markdown",
   "metadata": {},
   "source": [
    "### A list with the different kind of datasets available in [data.gov.uk](data.gov.uk)\n"
   ]
  },
  {
   "cell_type": "code",
   "execution_count": null,
   "metadata": {},
   "outputs": [],
   "source": [
    "url = 'https://data.gov.uk/"
   ]
  },
  {
   "cell_type": "markdown",
   "metadata": {},
   "source": [
    "### Display the top 10 languages by number of native speakers stored in a pandas dataframe"
   ]
  },
  {
   "cell_type": "code",
   "execution_count": null,
   "metadata": {},
   "outputs": [],
   "source": [
    "url = 'https://en.wikipedia.org/wiki/List_of_languages_by_number_of_native_speakers'"
   ]
  }
 ],
 "metadata": {
  "kernelspec": {
   "display_name": "Python 3",
   "language": "python",
   "name": "python3"
  },
  "language_info": {
   "codemirror_mode": {
    "name": "ipython",
    "version": 3
   },
   "file_extension": ".py",
   "mimetype": "text/x-python",
   "name": "python",
   "nbconvert_exporter": "python",
   "pygments_lexer": "ipython3",
   "version": "3.8.5"
  },
  "toc": {
   "base_numbering": 1,
   "nav_menu": {},
   "number_sections": true,
   "sideBar": true,
   "skip_h1_title": false,
   "title_cell": "Table of Contents",
   "title_sidebar": "Contents",
   "toc_cell": true,
   "toc_position": {},
   "toc_section_display": true,
   "toc_window_display": false
  },
  "varInspector": {
   "cols": {
    "lenName": 16,
    "lenType": 16,
    "lenVar": 40
   },
   "kernels_config": {
    "python": {
     "delete_cmd_postfix": "",
     "delete_cmd_prefix": "del ",
     "library": "var_list.py",
     "varRefreshCmd": "print(var_dic_list())"
    },
    "r": {
     "delete_cmd_postfix": ") ",
     "delete_cmd_prefix": "rm(",
     "library": "var_list.r",
     "varRefreshCmd": "cat(var_dic_list()) "
    }
   },
   "types_to_exclude": [
    "module",
    "function",
    "builtin_function_or_method",
    "instance",
    "_Feature"
   ],
   "window_display": false
  }
 },
 "nbformat": 4,
 "nbformat_minor": 5
}
