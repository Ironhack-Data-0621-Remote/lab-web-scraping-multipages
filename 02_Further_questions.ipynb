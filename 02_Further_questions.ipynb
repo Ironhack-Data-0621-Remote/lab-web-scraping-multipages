{
 "cells": [
  {
   "cell_type": "markdown",
   "id": "classified-start",
   "metadata": {
    "toc": true
   },
   "source": [
    "<h1>Table of Contents<span class=\"tocSkip\"></span></h1>\n",
    "<div class=\"toc\"><ul class=\"toc-item\"><li><span><a href=\"#Retrieve-an-arbitrary-Wikipedia-page-of-&quot;Python&quot;-and-create-a-list-of-links-on-that-page\" data-toc-modified-id=\"Retrieve-an-arbitrary-Wikipedia-page-of-&quot;Python&quot;-and-create-a-list-of-links-on-that-page-1\"><span class=\"toc-item-num\">1&nbsp;&nbsp;</span>Retrieve an arbitrary Wikipedia page of \"Python\" and create a list of links on that page</a></span></li><li><span><a href=\"#Find-the-number-of-titles-that-have-changed-in-the-United-States-Code-since-its-last-release-point\" data-toc-modified-id=\"Find-the-number-of-titles-that-have-changed-in-the-United-States-Code-since-its-last-release-point-2\"><span class=\"toc-item-num\">2&nbsp;&nbsp;</span>Find the number of titles that have changed in the United States Code since its last release point</a></span></li><li><span><a href=\"#Create-a-Python-list-with-the-top-ten-FBI's-Most-Wanted-names\" data-toc-modified-id=\"Create-a-Python-list-with-the-top-ten-FBI's-Most-Wanted-names-3\"><span class=\"toc-item-num\">3&nbsp;&nbsp;</span>Create a Python list with the top ten FBI's Most Wanted names</a></span></li><li><span><a href=\"#Display-the-20-latest-earthquakes-info-(date,-time,-latitude,-longitude-and-region-name)-by-the-EMSC-as-a-pandas-dataframe\" data-toc-modified-id=\"Display-the-20-latest-earthquakes-info-(date,-time,-latitude,-longitude-and-region-name)-by-the-EMSC-as-a-pandas-dataframe-4\"><span class=\"toc-item-num\">4&nbsp;&nbsp;</span>Display the 20 latest earthquakes info (date, time, latitude, longitude and region name) by the EMSC as a pandas dataframe</a></span></li><li><span><a href=\"#List-all-language-names-and-number-of-related-articles-in-the-order-they-appear-in-wikipedia.org\" data-toc-modified-id=\"List-all-language-names-and-number-of-related-articles-in-the-order-they-appear-in-wikipedia.org-5\"><span class=\"toc-item-num\">5&nbsp;&nbsp;</span>List all language names and number of related articles in the order they appear in <a href=\"wikipedia.org\" target=\"_blank\">wikipedia.org</a></a></span></li><li><span><a href=\"#A-list-with-the-different-kind-of-datasets-available-in-data.gov.uk\" data-toc-modified-id=\"A-list-with-the-different-kind-of-datasets-available-in-data.gov.uk-6\"><span class=\"toc-item-num\">6&nbsp;&nbsp;</span>A list with the different kind of datasets available in <a href=\"data.gov.uk\" target=\"_blank\">data.gov.uk</a></a></span></li><li><span><a href=\"#Display-the-top-10-languages-by-number-of-native-speakers-stored-in-a-pandas-dataframe\" data-toc-modified-id=\"Display-the-top-10-languages-by-number-of-native-speakers-stored-in-a-pandas-dataframe-7\"><span class=\"toc-item-num\">7&nbsp;&nbsp;</span>Display the top 10 languages by number of native speakers stored in a pandas dataframe</a></span></li></ul></div>"
   ]
  },
  {
   "cell_type": "markdown",
   "id": "cellular-poster",
   "metadata": {},
   "source": [
    "As you've seen, scraping the internet is a skill that can get you all sorts of information. Here are some little challenges to gain more experience in the field"
   ]
  },
  {
   "cell_type": "code",
   "execution_count": 1,
   "id": "3d4d2375-1271-40f8-a89b-88ef41258a10",
   "metadata": {},
   "outputs": [],
   "source": [
    "from bs4 import BeautifulSoup\n",
    "import requests\n",
    "import pandas as pd"
   ]
  },
  {
   "cell_type": "markdown",
   "id": "express-introduction",
   "metadata": {},
   "source": [
    "### Retrieve an arbitrary Wikipedia page of \"Python\" and create a list of links on that page"
   ]
  },
  {
   "cell_type": "code",
   "execution_count": 125,
   "id": "appreciated-bubble",
   "metadata": {},
   "outputs": [],
   "source": [
    "url_python ='https://en.wikipedia.org/wiki/Python'"
   ]
  },
  {
   "cell_type": "code",
   "execution_count": 126,
   "id": "43399097-38d1-46d0-a1ec-7128fafa9f76",
   "metadata": {},
   "outputs": [
    {
     "data": {
      "text/plain": [
       "200"
      ]
     },
     "execution_count": 126,
     "metadata": {},
     "output_type": "execute_result"
    }
   ],
   "source": [
    "response = requests.get(url_python)\n",
    "response.status_code"
   ]
  },
  {
   "cell_type": "code",
   "execution_count": 127,
   "id": "47e40808-d59e-4522-8aa6-a5a0299d2810",
   "metadata": {},
   "outputs": [],
   "source": [
    "soup_python = BeautifulSoup(response.content, \"html.parser\")\n"
   ]
  },
  {
   "cell_type": "code",
   "execution_count": 134,
   "id": "5bdb774e-5cc0-48f0-beed-ed791eb8238d",
   "metadata": {},
   "outputs": [],
   "source": [
    "list_a = soup_python.find('div', attrs={'class': 'mw-parser-output'}).find_all('a')"
   ]
  },
  {
   "cell_type": "code",
   "execution_count": 138,
   "id": "5514936f-f51d-446f-ad3f-067d7d9a1c6e",
   "metadata": {},
   "outputs": [],
   "source": [
    "links = []\n",
    "targets = []\n",
    "\n",
    "for lnk in list_a:\n",
    "    links.append(lnk.get_text())\n",
    "    targets.append(lnk.get('href'))\n"
   ]
  },
  {
   "cell_type": "code",
   "execution_count": 139,
   "id": "900eb55c-e17b-416d-910c-abcd0d9a6d85",
   "metadata": {},
   "outputs": [
    {
     "data": {
      "text/html": [
       "<div>\n",
       "<style scoped>\n",
       "    .dataframe tbody tr th:only-of-type {\n",
       "        vertical-align: middle;\n",
       "    }\n",
       "\n",
       "    .dataframe tbody tr th {\n",
       "        vertical-align: top;\n",
       "    }\n",
       "\n",
       "    .dataframe thead th {\n",
       "        text-align: right;\n",
       "    }\n",
       "</style>\n",
       "<table border=\"1\" class=\"dataframe\">\n",
       "  <thead>\n",
       "    <tr style=\"text-align: right;\">\n",
       "      <th></th>\n",
       "      <th>link</th>\n",
       "      <th>url</th>\n",
       "    </tr>\n",
       "  </thead>\n",
       "  <tbody>\n",
       "    <tr>\n",
       "      <th>0</th>\n",
       "      <td>Python</td>\n",
       "      <td>https://en.wiktionary.org/wiki/Python</td>\n",
       "    </tr>\n",
       "    <tr>\n",
       "      <th>1</th>\n",
       "      <td>python</td>\n",
       "      <td>https://en.wiktionary.org/wiki/python</td>\n",
       "    </tr>\n",
       "    <tr>\n",
       "      <th>2</th>\n",
       "      <td>Pythonidae</td>\n",
       "      <td>/wiki/Pythonidae</td>\n",
       "    </tr>\n",
       "    <tr>\n",
       "      <th>3</th>\n",
       "      <td>Python (genus)</td>\n",
       "      <td>/wiki/Python_(genus)</td>\n",
       "    </tr>\n",
       "    <tr>\n",
       "      <th>4</th>\n",
       "      <td>1 Computing</td>\n",
       "      <td>#Computing</td>\n",
       "    </tr>\n",
       "  </tbody>\n",
       "</table>\n",
       "</div>"
      ],
      "text/plain": [
       "             link                                    url\n",
       "0          Python  https://en.wiktionary.org/wiki/Python\n",
       "1          python  https://en.wiktionary.org/wiki/python\n",
       "2      Pythonidae                       /wiki/Pythonidae\n",
       "3  Python (genus)                   /wiki/Python_(genus)\n",
       "4     1 Computing                             #Computing"
      ]
     },
     "execution_count": 139,
     "metadata": {},
     "output_type": "execute_result"
    }
   ],
   "source": [
    "data_wiki_python = pd.DataFrame({'link': links, 'url': targets})\n",
    "data_wiki_python.head()"
   ]
  },
  {
   "cell_type": "code",
   "execution_count": null,
   "id": "6ccc9d62-19ec-4ad2-b1da-981d0f0fdf7b",
   "metadata": {},
   "outputs": [],
   "source": []
  },
  {
   "cell_type": "markdown",
   "id": "relevant-performer",
   "metadata": {},
   "source": [
    "### Find the number of titles that have changed in the United States Code since its last release point"
   ]
  },
  {
   "cell_type": "code",
   "execution_count": 17,
   "id": "scenic-surgeon",
   "metadata": {},
   "outputs": [],
   "source": [
    "url_uscode = 'http://uscode.house.gov/download/download.shtml'"
   ]
  },
  {
   "cell_type": "code",
   "execution_count": 18,
   "id": "6940b792-2507-416f-ab48-aea37b47d6e6",
   "metadata": {},
   "outputs": [
    {
     "data": {
      "text/plain": [
       "200"
      ]
     },
     "execution_count": 18,
     "metadata": {},
     "output_type": "execute_result"
    }
   ],
   "source": [
    "response = requests.get(url_uscode)\n",
    "response.status_code"
   ]
  },
  {
   "cell_type": "code",
   "execution_count": 19,
   "id": "cfb36744-6efa-4dd5-a824-b8548d2290eb",
   "metadata": {},
   "outputs": [],
   "source": [
    "soup_uscode = BeautifulSoup(response.content, \"html.parser\")"
   ]
  },
  {
   "cell_type": "code",
   "execution_count": 33,
   "id": "95bd1b45-1a12-4190-9015-ea928ca3b72b",
   "metadata": {},
   "outputs": [],
   "source": [
    "usctitleschanged = soup_uscode.find_all('div', attrs={'class': 'usctitlechanged'})"
   ]
  },
  {
   "cell_type": "code",
   "execution_count": 39,
   "id": "a5f6cdb4-2166-43d3-b239-0d6a6cbc8fa9",
   "metadata": {},
   "outputs": [
    {
     "data": {
      "text/plain": [
       "['Title 1 - General Provisions٭',\n",
       " 'Title 5 - Government Organization and Employees٭',\n",
       " 'Title 8 - Aliens and Nationality',\n",
       " 'Title 11 - Bankruptcy٭',\n",
       " 'Title 18 - Crimes and Criminal Procedure٭',\n",
       " 'Title 23 - Highways٭',\n",
       " 'Title 26 - Internal Revenue Code',\n",
       " 'Title 42 - The Public Health and Welfare']"
      ]
     },
     "execution_count": 39,
     "metadata": {},
     "output_type": "execute_result"
    }
   ],
   "source": [
    "lst_usctitleschanged =[]\n",
    "\n",
    "for title in usctitleschanged:\n",
    "    lst_usctitleschanged.append(title.get_text(strip=True))\n",
    "    \n",
    "lst_usctitleschanged"
   ]
  },
  {
   "cell_type": "code",
   "execution_count": 41,
   "id": "26c69d06-5bc8-429c-8b95-2b162b1bcaaa",
   "metadata": {},
   "outputs": [
    {
     "data": {
      "text/html": [
       "<div>\n",
       "<style scoped>\n",
       "    .dataframe tbody tr th:only-of-type {\n",
       "        vertical-align: middle;\n",
       "    }\n",
       "\n",
       "    .dataframe tbody tr th {\n",
       "        vertical-align: top;\n",
       "    }\n",
       "\n",
       "    .dataframe thead th {\n",
       "        text-align: right;\n",
       "    }\n",
       "</style>\n",
       "<table border=\"1\" class=\"dataframe\">\n",
       "  <thead>\n",
       "    <tr style=\"text-align: right;\">\n",
       "      <th></th>\n",
       "      <th>usc_titles_changed</th>\n",
       "    </tr>\n",
       "  </thead>\n",
       "  <tbody>\n",
       "    <tr>\n",
       "      <th>0</th>\n",
       "      <td>Title 1 - General Provisions٭</td>\n",
       "    </tr>\n",
       "    <tr>\n",
       "      <th>1</th>\n",
       "      <td>Title 5 - Government Organization and Employees٭</td>\n",
       "    </tr>\n",
       "    <tr>\n",
       "      <th>2</th>\n",
       "      <td>Title 8 - Aliens and Nationality</td>\n",
       "    </tr>\n",
       "    <tr>\n",
       "      <th>3</th>\n",
       "      <td>Title 11 - Bankruptcy٭</td>\n",
       "    </tr>\n",
       "    <tr>\n",
       "      <th>4</th>\n",
       "      <td>Title 18 - Crimes and Criminal Procedure٭</td>\n",
       "    </tr>\n",
       "    <tr>\n",
       "      <th>5</th>\n",
       "      <td>Title 23 - Highways٭</td>\n",
       "    </tr>\n",
       "    <tr>\n",
       "      <th>6</th>\n",
       "      <td>Title 26 - Internal Revenue Code</td>\n",
       "    </tr>\n",
       "    <tr>\n",
       "      <th>7</th>\n",
       "      <td>Title 42 - The Public Health and Welfare</td>\n",
       "    </tr>\n",
       "  </tbody>\n",
       "</table>\n",
       "</div>"
      ],
      "text/plain": [
       "                                 usc_titles_changed\n",
       "0                     Title 1 - General Provisions٭\n",
       "1  Title 5 - Government Organization and Employees٭\n",
       "2                  Title 8 - Aliens and Nationality\n",
       "3                            Title 11 - Bankruptcy٭\n",
       "4         Title 18 - Crimes and Criminal Procedure٭\n",
       "5                              Title 23 - Highways٭\n",
       "6                  Title 26 - Internal Revenue Code\n",
       "7          Title 42 - The Public Health and Welfare"
      ]
     },
     "execution_count": 41,
     "metadata": {},
     "output_type": "execute_result"
    }
   ],
   "source": [
    "data_usctitleschanged = pd.DataFrame({'usc_titles_changed': lst_usctitleschanged})\n",
    "data_usctitleschanged"
   ]
  },
  {
   "cell_type": "code",
   "execution_count": null,
   "id": "42df7659-6b37-4ed7-b177-e863479c5d6d",
   "metadata": {},
   "outputs": [],
   "source": []
  },
  {
   "cell_type": "markdown",
   "id": "acute-necessity",
   "metadata": {},
   "source": [
    "### Create a Python list with the top ten FBI's Most Wanted names"
   ]
  },
  {
   "cell_type": "code",
   "execution_count": 43,
   "id": "starting-blackberry",
   "metadata": {},
   "outputs": [],
   "source": [
    "url_fbi = 'https://www.fbi.gov/wanted/topten'"
   ]
  },
  {
   "cell_type": "code",
   "execution_count": 53,
   "id": "fe79d5bd-3d71-4085-b61b-489237fd8b8c",
   "metadata": {},
   "outputs": [
    {
     "data": {
      "text/plain": [
       "200"
      ]
     },
     "execution_count": 53,
     "metadata": {},
     "output_type": "execute_result"
    }
   ],
   "source": [
    "response = requests.get(url_fbi)\n",
    "response.status_code"
   ]
  },
  {
   "cell_type": "code",
   "execution_count": 54,
   "id": "82a925d4-7e1a-44aa-9db3-a6b26965613c",
   "metadata": {},
   "outputs": [],
   "source": [
    "soup_fbi = BeautifulSoup(response.content, \"html.parser\")"
   ]
  },
  {
   "cell_type": "code",
   "execution_count": 55,
   "id": "e50600b0-122e-4b50-8695-9572c2bfd4b1",
   "metadata": {},
   "outputs": [],
   "source": [
    "most_wanted = soup_fbi.find_all('li', attrs={'class': 'portal-type-person castle-grid-block-item'})"
   ]
  },
  {
   "cell_type": "code",
   "execution_count": 61,
   "id": "98f7c8a6-3e6c-4f76-9bdf-9da6c925cc66",
   "metadata": {},
   "outputs": [
    {
     "data": {
      "text/plain": [
       "['JASON DEREK BROWN',\n",
       " 'ALEXIS FLORES',\n",
       " 'JOSE RODOLFO VILLARREAL-HERNANDEZ',\n",
       " 'OCTAVIANO JUAREZ-CORRO',\n",
       " 'EUGENE PALMER',\n",
       " 'RAFAEL CARO-QUINTERO',\n",
       " 'BHADRESHKUMAR CHETANBHAI PATEL',\n",
       " 'ALEJANDRO ROSALES CASTILLO',\n",
       " 'ROBERT WILLIAM FISHER',\n",
       " 'ARNOLDO JIMENEZ']"
      ]
     },
     "execution_count": 61,
     "metadata": {},
     "output_type": "execute_result"
    }
   ],
   "source": [
    "top10_mw =[]\n",
    "\n",
    "for element in most_wanted:\n",
    "    top10_mw.append(element.find('h3').find('a').get_text())\n",
    "\n",
    "top10_mw"
   ]
  },
  {
   "cell_type": "code",
   "execution_count": null,
   "id": "52bfb0ac-62df-4b9f-8405-3e0b0fa77903",
   "metadata": {},
   "outputs": [],
   "source": []
  },
  {
   "cell_type": "markdown",
   "id": "joined-induction",
   "metadata": {},
   "source": [
    "### Display the 20 latest earthquakes info (date, time, latitude, longitude and region name) by the EMSC as a pandas dataframe"
   ]
  },
  {
   "cell_type": "code",
   "execution_count": 62,
   "id": "copyrighted-taiwan",
   "metadata": {},
   "outputs": [],
   "source": [
    "url_earthquake = 'https://www.emsc-csem.org/Earthquake/'"
   ]
  },
  {
   "cell_type": "code",
   "execution_count": 63,
   "id": "fc71ef66-e048-4597-a19a-cfdf39166f5c",
   "metadata": {},
   "outputs": [
    {
     "data": {
      "text/plain": [
       "200"
      ]
     },
     "execution_count": 63,
     "metadata": {},
     "output_type": "execute_result"
    }
   ],
   "source": [
    "response = requests.get(url_earthquake)\n",
    "response.status_code"
   ]
  },
  {
   "cell_type": "code",
   "execution_count": 64,
   "id": "20b3e987-62f6-4bc5-83df-00d0c446e4f4",
   "metadata": {},
   "outputs": [],
   "source": [
    "soup_earthquake = BeautifulSoup(response.content, \"html.parser\")"
   ]
  },
  {
   "cell_type": "code",
   "execution_count": 65,
   "id": "1588e325-90e5-4b56-8e66-3e06ada4b572",
   "metadata": {},
   "outputs": [],
   "source": [
    "eq_recent1 = soup_earthquake.find_all('tr', attrs={'class': 'ligne1 normal'})\n",
    "eq_recent2 = soup_earthquake.find_all('tr', attrs={'class': 'ligne2 normal'})\n",
    "eq_recent = []\n",
    "\n",
    "for i in range(len(eq_recent1)):\n",
    "    eq_recent.append(eq_recent1[i])\n",
    "    eq_recent.append(eq_recent2[i])\n",
    "\n",
    "eq_recent = eq_recent[:20]"
   ]
  },
  {
   "cell_type": "code",
   "execution_count": 92,
   "id": "5c5aa41a-9801-4614-8fa3-d21faa111897",
   "metadata": {},
   "outputs": [],
   "source": [
    "eq_datetime = []\n",
    "eq_lat = []\n",
    "eq_lon = []\n",
    "eq_region = []\n",
    "\n",
    "for eq in eq_recent:\n",
    "    eq_datetime.append(eq.find('td', attrs={'class': 'tabev6'}).find('a').get_text().replace('\\xa0\\xa0\\xa0', ' '))\n",
    "    lat_value = eq.find_all('td', attrs={'class': 'tabev1'})[0].get_text(strip=True)\n",
    "    lat_ns = eq.find_all('td', attrs={'class': 'tabev2'})[0].get_text(strip=True)\n",
    "    eq_lat.append(lat_value + lat_ns)\n",
    "    lon_value = eq.find_all('td', attrs={'class': 'tabev1'})[1].get_text(strip=True)\n",
    "    lon_ns = eq.find_all('td', attrs={'class': 'tabev2'})[1].get_text(strip=True)\n",
    "    eq_lon.append(lon_value + lon_ns)\n",
    "    eq_region.append(eq.find('td', attrs={'class': 'tb_region'}).get_text(strip=True))\n",
    "    "
   ]
  },
  {
   "cell_type": "code",
   "execution_count": 93,
   "id": "a5eb49d9-dd26-4f23-9e34-fcb869154b4e",
   "metadata": {},
   "outputs": [
    {
     "data": {
      "text/html": [
       "<div>\n",
       "<style scoped>\n",
       "    .dataframe tbody tr th:only-of-type {\n",
       "        vertical-align: middle;\n",
       "    }\n",
       "\n",
       "    .dataframe tbody tr th {\n",
       "        vertical-align: top;\n",
       "    }\n",
       "\n",
       "    .dataframe thead th {\n",
       "        text-align: right;\n",
       "    }\n",
       "</style>\n",
       "<table border=\"1\" class=\"dataframe\">\n",
       "  <thead>\n",
       "    <tr style=\"text-align: right;\">\n",
       "      <th></th>\n",
       "      <th>date_time</th>\n",
       "      <th>latitude</th>\n",
       "      <th>longitude</th>\n",
       "      <th>region</th>\n",
       "    </tr>\n",
       "  </thead>\n",
       "  <tbody>\n",
       "    <tr>\n",
       "      <th>0</th>\n",
       "      <td>2021-10-08 18:59:57.5</td>\n",
       "      <td>28.56N</td>\n",
       "      <td>17.83W</td>\n",
       "      <td>CANARY ISLANDS, SPAIN REGION</td>\n",
       "    </tr>\n",
       "    <tr>\n",
       "      <th>1</th>\n",
       "      <td>2021-10-08 18:28:23.1</td>\n",
       "      <td>18.01N</td>\n",
       "      <td>65.41W</td>\n",
       "      <td>PUERTO RICO REGION</td>\n",
       "    </tr>\n",
       "    <tr>\n",
       "      <th>2</th>\n",
       "      <td>2021-10-08 18:23:03.0</td>\n",
       "      <td>45.63N</td>\n",
       "      <td>16.02E</td>\n",
       "      <td>CROATIA</td>\n",
       "    </tr>\n",
       "    <tr>\n",
       "      <th>3</th>\n",
       "      <td>2021-10-08 18:23:01.0</td>\n",
       "      <td>6.42N</td>\n",
       "      <td>126.97E</td>\n",
       "      <td>MINDANAO, PHILIPPINES</td>\n",
       "    </tr>\n",
       "    <tr>\n",
       "      <th>4</th>\n",
       "      <td>2021-10-08 18:16:20.6</td>\n",
       "      <td>35.49N</td>\n",
       "      <td>3.75W</td>\n",
       "      <td>STRAIT OF GIBRALTAR</td>\n",
       "    </tr>\n",
       "    <tr>\n",
       "      <th>5</th>\n",
       "      <td>2021-10-08 18:12:08.7</td>\n",
       "      <td>35.37S</td>\n",
       "      <td>141.12E</td>\n",
       "      <td>VICTORIA, AUSTRALIA</td>\n",
       "    </tr>\n",
       "    <tr>\n",
       "      <th>6</th>\n",
       "      <td>2021-10-08 18:12:01.9</td>\n",
       "      <td>36.95N</td>\n",
       "      <td>97.67W</td>\n",
       "      <td>OKLAHOMA</td>\n",
       "    </tr>\n",
       "    <tr>\n",
       "      <th>7</th>\n",
       "      <td>2021-10-08 18:08:15.0</td>\n",
       "      <td>22.01S</td>\n",
       "      <td>68.61W</td>\n",
       "      <td>ANTOFAGASTA, CHILE</td>\n",
       "    </tr>\n",
       "    <tr>\n",
       "      <th>8</th>\n",
       "      <td>2021-10-08 18:06:13.9</td>\n",
       "      <td>56.58S</td>\n",
       "      <td>69.33W</td>\n",
       "      <td>DRAKE PASSAGE</td>\n",
       "    </tr>\n",
       "    <tr>\n",
       "      <th>9</th>\n",
       "      <td>2021-10-08 18:03:26.0</td>\n",
       "      <td>19.76S</td>\n",
       "      <td>69.50W</td>\n",
       "      <td>TARAPACA, CHILE</td>\n",
       "    </tr>\n",
       "    <tr>\n",
       "      <th>10</th>\n",
       "      <td>2021-10-08 18:01:49.6</td>\n",
       "      <td>35.47S</td>\n",
       "      <td>141.07E</td>\n",
       "      <td>VICTORIA, AUSTRALIA</td>\n",
       "    </tr>\n",
       "    <tr>\n",
       "      <th>11</th>\n",
       "      <td>2021-10-08 17:58:49.0</td>\n",
       "      <td>15.42N</td>\n",
       "      <td>121.72E</td>\n",
       "      <td>LUZON, PHILIPPINES</td>\n",
       "    </tr>\n",
       "    <tr>\n",
       "      <th>12</th>\n",
       "      <td>2021-10-08 17:54:56.5</td>\n",
       "      <td>35.48N</td>\n",
       "      <td>3.59W</td>\n",
       "      <td>STRAIT OF GIBRALTAR</td>\n",
       "    </tr>\n",
       "    <tr>\n",
       "      <th>13</th>\n",
       "      <td>2021-10-08 17:32:04.0</td>\n",
       "      <td>34.28N</td>\n",
       "      <td>78.17E</td>\n",
       "      <td>KASHMIR-XINJIANG BORDER REGION</td>\n",
       "    </tr>\n",
       "    <tr>\n",
       "      <th>14</th>\n",
       "      <td>2021-10-08 17:30:02.8</td>\n",
       "      <td>28.56N</td>\n",
       "      <td>17.84W</td>\n",
       "      <td>CANARY ISLANDS, SPAIN REGION</td>\n",
       "    </tr>\n",
       "    <tr>\n",
       "      <th>15</th>\n",
       "      <td>2021-10-08 17:20:40.7</td>\n",
       "      <td>35.53S</td>\n",
       "      <td>141.02E</td>\n",
       "      <td>VICTORIA, AUSTRALIA</td>\n",
       "    </tr>\n",
       "    <tr>\n",
       "      <th>16</th>\n",
       "      <td>2021-10-08 17:19:14.1</td>\n",
       "      <td>35.10N</td>\n",
       "      <td>25.23E</td>\n",
       "      <td>CRETE, GREECE</td>\n",
       "    </tr>\n",
       "    <tr>\n",
       "      <th>17</th>\n",
       "      <td>2021-10-08 17:02:25.1</td>\n",
       "      <td>35.43S</td>\n",
       "      <td>141.13E</td>\n",
       "      <td>VICTORIA, AUSTRALIA</td>\n",
       "    </tr>\n",
       "    <tr>\n",
       "      <th>18</th>\n",
       "      <td>2021-10-08 16:56:13.1</td>\n",
       "      <td>19.22N</td>\n",
       "      <td>155.41W</td>\n",
       "      <td>ISLAND OF HAWAII, HAWAII</td>\n",
       "    </tr>\n",
       "    <tr>\n",
       "      <th>19</th>\n",
       "      <td>2021-10-08 16:47:27.0</td>\n",
       "      <td>35.43S</td>\n",
       "      <td>141.03E</td>\n",
       "      <td>VICTORIA, AUSTRALIA</td>\n",
       "    </tr>\n",
       "  </tbody>\n",
       "</table>\n",
       "</div>"
      ],
      "text/plain": [
       "                date_time latitude longitude                          region\n",
       "0   2021-10-08 18:59:57.5   28.56N    17.83W    CANARY ISLANDS, SPAIN REGION\n",
       "1   2021-10-08 18:28:23.1   18.01N    65.41W              PUERTO RICO REGION\n",
       "2   2021-10-08 18:23:03.0   45.63N    16.02E                         CROATIA\n",
       "3   2021-10-08 18:23:01.0    6.42N   126.97E           MINDANAO, PHILIPPINES\n",
       "4   2021-10-08 18:16:20.6   35.49N     3.75W             STRAIT OF GIBRALTAR\n",
       "5   2021-10-08 18:12:08.7   35.37S   141.12E             VICTORIA, AUSTRALIA\n",
       "6   2021-10-08 18:12:01.9   36.95N    97.67W                        OKLAHOMA\n",
       "7   2021-10-08 18:08:15.0   22.01S    68.61W              ANTOFAGASTA, CHILE\n",
       "8   2021-10-08 18:06:13.9   56.58S    69.33W                   DRAKE PASSAGE\n",
       "9   2021-10-08 18:03:26.0   19.76S    69.50W                 TARAPACA, CHILE\n",
       "10  2021-10-08 18:01:49.6   35.47S   141.07E             VICTORIA, AUSTRALIA\n",
       "11  2021-10-08 17:58:49.0   15.42N   121.72E              LUZON, PHILIPPINES\n",
       "12  2021-10-08 17:54:56.5   35.48N     3.59W             STRAIT OF GIBRALTAR\n",
       "13  2021-10-08 17:32:04.0   34.28N    78.17E  KASHMIR-XINJIANG BORDER REGION\n",
       "14  2021-10-08 17:30:02.8   28.56N    17.84W    CANARY ISLANDS, SPAIN REGION\n",
       "15  2021-10-08 17:20:40.7   35.53S   141.02E             VICTORIA, AUSTRALIA\n",
       "16  2021-10-08 17:19:14.1   35.10N    25.23E                   CRETE, GREECE\n",
       "17  2021-10-08 17:02:25.1   35.43S   141.13E             VICTORIA, AUSTRALIA\n",
       "18  2021-10-08 16:56:13.1   19.22N   155.41W        ISLAND OF HAWAII, HAWAII\n",
       "19  2021-10-08 16:47:27.0   35.43S   141.03E             VICTORIA, AUSTRALIA"
      ]
     },
     "execution_count": 93,
     "metadata": {},
     "output_type": "execute_result"
    }
   ],
   "source": [
    "data_eq_recent = pd.DataFrame({'date_time': eq_datetime, 'latitude': eq_lat, 'longitude': eq_lon, 'region': eq_region})\n",
    "data_eq_recent"
   ]
  },
  {
   "cell_type": "code",
   "execution_count": null,
   "id": "82bcc933-b3cc-4a13-8eda-9e088ec757fd",
   "metadata": {},
   "outputs": [],
   "source": []
  },
  {
   "cell_type": "markdown",
   "id": "dominican-defeat",
   "metadata": {},
   "source": [
    "### List all language names and number of related articles in the order they appear in [wikipedia.org](wikipedia.org)"
   ]
  },
  {
   "cell_type": "code",
   "execution_count": 94,
   "id": "metric-vertex",
   "metadata": {},
   "outputs": [],
   "source": [
    "url_wiki = 'https://www.wikipedia.org/'"
   ]
  },
  {
   "cell_type": "code",
   "execution_count": 95,
   "id": "8f788a39-efd3-4c55-b8ac-4731ec6b990c",
   "metadata": {},
   "outputs": [
    {
     "data": {
      "text/plain": [
       "200"
      ]
     },
     "execution_count": 95,
     "metadata": {},
     "output_type": "execute_result"
    }
   ],
   "source": [
    "response = requests.get(url_wiki)\n",
    "response.status_code"
   ]
  },
  {
   "cell_type": "code",
   "execution_count": 96,
   "id": "1ac5922d-81c2-419b-a8ba-bcca700bb3f6",
   "metadata": {},
   "outputs": [],
   "source": [
    "soup_wiki = BeautifulSoup(response.content, \"html.parser\")"
   ]
  },
  {
   "cell_type": "code",
   "execution_count": 99,
   "id": "9f80b3e2-a493-4eb6-bcfc-317e5ada7164",
   "metadata": {},
   "outputs": [],
   "source": [
    "wiki_lang_box = soup_wiki.find('div', attrs={'class': 'lang-list-content'}).find_all('a')"
   ]
  },
  {
   "cell_type": "code",
   "execution_count": 106,
   "id": "5951d2f9-fb70-4de7-94f0-3ba5e0ab8d80",
   "metadata": {},
   "outputs": [],
   "source": [
    "languages = []\n",
    "links = []\n",
    "\n",
    "for lang in wiki_lang_box:\n",
    "    languages.append(lang.get_text())\n",
    "    links.append(lang.get('href'))\n"
   ]
  },
  {
   "cell_type": "code",
   "execution_count": 107,
   "id": "f6a14b5f-7d49-4c11-9ae2-b053d4e4727d",
   "metadata": {},
   "outputs": [
    {
     "name": "stdout",
     "output_type": "stream",
     "text": [
      "283\n",
      "283\n"
     ]
    }
   ],
   "source": [
    "languages.pop()\n",
    "links.pop()\n",
    "\n",
    "print(len(languages))\n",
    "print(len(links))"
   ]
  },
  {
   "cell_type": "code",
   "execution_count": 123,
   "id": "bfece3c1-f482-4459-a098-25a174a42aff",
   "metadata": {
    "tags": []
   },
   "outputs": [
    {
     "data": {
      "text/plain": [
       "['1492364',\n",
       " '1139345',\n",
       " '2621137',\n",
       " '6390612',\n",
       " '1720717',\n",
       " '2365476',\n",
       " '1720285',\n",
       " '1344762',\n",
       " '2068443',\n",
       " '1293875',\n",
       " '1074970',\n",
       " '1759782',\n",
       " '5978282',\n",
       " '2910327',\n",
       " '1117249',\n",
       " '1269206',\n",
       " '1265517',\n",
       " '1234298',\n",
       " '100472',\n",
       " '237732',\n",
       " '128117',\n",
       " '178974',\n",
       " '275428',\n",
       " '430925',\n",
       " '১১৩৮৭২',\n",
       " '209479',\n",
       " '688960',\n",
       " '489527',\n",
       " '133678',\n",
       " '269980',\n",
       " '222423',\n",
       " '198025',\n",
       " '304417',\n",
       " '381061',\n",
       " '۸۳۸۷۲۸',\n",
       " '176793',\n",
       " '288319',\n",
       " '149800',\n",
       " '209873',\n",
       " '598814',\n",
       " '304081',\n",
       " '156854',\n",
       " '136103',\n",
       " '109097',\n",
       " '199845',\n",
       " '492878',\n",
       " '117310',\n",
       " '354093',\n",
       " '224799',\n",
       " '566042',\n",
       " '159794',\n",
       " '434648',\n",
       " '139838',\n",
       " '229202',\n",
       " '423443',\n",
       " '196952',\n",
       " '173744',\n",
       " '650052',\n",
       " '455681',\n",
       " '517514',\n",
       " '141338',\n",
       " '319993',\n",
       " '141081',\n",
       " '104330',\n",
       " '۲۴۰۸۳۷',\n",
       " '429527',\n",
       " '165280',\n",
       " '127007',\n",
       " '119954',\n",
       " '၁၀၂၁၁၆',\n",
       " '554763',\n",
       " '12520',\n",
       " '27992',\n",
       " '14987',\n",
       " '40520',\n",
       " '13707',\n",
       " '58630',\n",
       " '76165',\n",
       " '11404',\n",
       " '২৫০৮৮',\n",
       " '31700',\n",
       " '87628',\n",
       " '70062',\n",
       " '46817',\n",
       " '17119',\n",
       " '12923',\n",
       " '13630',\n",
       " '46598',\n",
       " '55670',\n",
       " '15534',\n",
       " '૨૯૬૮૯',\n",
       " '12531',\n",
       " '13762',\n",
       " '30493',\n",
       " '15349',\n",
       " '23234',\n",
       " '14158',\n",
       " '53279',\n",
       " '64405',\n",
       " '೨೭೩೦೩',\n",
       " '63375',\n",
       " '50172',\n",
       " '٣٤٨٩٣',\n",
       " '80859',\n",
       " '10291',\n",
       " '60253',\n",
       " '13490',\n",
       " '49362',\n",
       " '10776',\n",
       " '१३६८६',\n",
       " '94205',\n",
       " '75780',\n",
       " '一一〇〇五',\n",
       " '८०७३०',\n",
       " '16607',\n",
       " '۱۳۳۶۲',\n",
       " '15504',\n",
       " '20828',\n",
       " '७२३४८',\n",
       " '३२१६८',\n",
       " '14686',\n",
       " '14203',\n",
       " '86906',\n",
       " '10242',\n",
       " '୧୫୮୬୦',\n",
       " '36361',\n",
       " '۶۳۹۶۶',\n",
       " '۱۲۴۵۰',\n",
       " '65857',\n",
       " '82741',\n",
       " '12006',\n",
       " '22937',\n",
       " '११५२९',\n",
       " '13417',\n",
       " '40452',\n",
       " '83983',\n",
       " '26180',\n",
       " '17445',\n",
       " '١٤٧١٦',\n",
       " '54364',\n",
       " '60964',\n",
       " '67336',\n",
       " '43438',\n",
       " '73138',\n",
       " '14144',\n",
       " '68650',\n",
       " '11281',\n",
       " '42673',\n",
       " '15284',\n",
       " '33480',\n",
       " '40045',\n",
       " '16914',\n",
       " '10129',\n",
       " '1592',\n",
       " '3369',\n",
       " '1429',\n",
       " '5807',\n",
       " '9065',\n",
       " '1264',\n",
       " '5165',\n",
       " '2347',\n",
       " '1779',\n",
       " '4400',\n",
       " '2544',\n",
       " '4960',\n",
       " '9659',\n",
       " '4404',\n",
       " '7559',\n",
       " '1386',\n",
       " '༥༩༦༣',\n",
       " '2737',\n",
       " '3150',\n",
       " '6068',\n",
       " '1974',\n",
       " '7770',\n",
       " '1926',\n",
       " '3303',\n",
       " '6582',\n",
       " '3299',\n",
       " '10076',\n",
       " '3450',\n",
       " '5048',\n",
       " '2794',\n",
       " '1501',\n",
       " '۶۳۴۲',\n",
       " '6454',\n",
       " '9422',\n",
       " '2094',\n",
       " '2391',\n",
       " '8411',\n",
       " '8864',\n",
       " '5394',\n",
       " '4732',\n",
       " '៨៣៥៨',\n",
       " '2271',\n",
       " '5461',\n",
       " '1229',\n",
       " '3543',\n",
       " '1046',\n",
       " '໓໘໖໔',\n",
       " '3605',\n",
       " '1234',\n",
       " '1010',\n",
       " '4213',\n",
       " '3234',\n",
       " '1273',\n",
       " '1362',\n",
       " '4271',\n",
       " '1214',\n",
       " '7235',\n",
       " '3862',\n",
       " '1491',\n",
       " '1218',\n",
       " '7016',\n",
       " '1652',\n",
       " '7374',\n",
       " '4581',\n",
       " '1519',\n",
       " '1078',\n",
       " '9684',\n",
       " '२५६२',\n",
       " '2563',\n",
       " '2222',\n",
       " '3445',\n",
       " '2732',\n",
       " '5252',\n",
       " '2046',\n",
       " '1906',\n",
       " '2911',\n",
       " '3’720',\n",
       " '8186',\n",
       " '1017',\n",
       " '7094',\n",
       " '4048',\n",
       " '8441',\n",
       " '7352',\n",
       " '6610',\n",
       " '1089',\n",
       " '6208',\n",
       " '9305',\n",
       " '1490',\n",
       " '1633',\n",
       " '1769',\n",
       " '6178',\n",
       " '3282',\n",
       " '5114',\n",
       " '5087',\n",
       " '6676',\n",
       " '5877',\n",
       " '7477',\n",
       " '1649',\n",
       " '1211',\n",
       " '4761',\n",
       " '3009',\n",
       " '߁߀߄߈',\n",
       " '720',\n",
       " '530',\n",
       " '826',\n",
       " '382',\n",
       " '360',\n",
       " '848',\n",
       " '574',\n",
       " '399',\n",
       " '810',\n",
       " '۸۶۸',\n",
       " '157',\n",
       " '879',\n",
       " '485',\n",
       " '༢༢༢',\n",
       " '703',\n",
       " '620',\n",
       " '278',\n",
       " '819',\n",
       " '722',\n",
       " '798',\n",
       " '542',\n",
       " '977',\n",
       " '621',\n",
       " '634',\n",
       " '709',\n",
       " '598',\n",
       " '950',\n",
       " '215']"
      ]
     },
     "execution_count": 123,
     "metadata": {},
     "output_type": "execute_result"
    }
   ],
   "source": [
    "no_of_articles = []\n",
    "\n",
    "for lnk in links:\n",
    "    stats_page = 'https:' + lnk + 'wiki/Special:Statistics'\n",
    "    response = requests.get(stats_page)\n",
    "    soup_stats = BeautifulSoup(response.content, \"html.parser\")\n",
    "    no_of_articles.append(soup_stats.find('tr', attrs={'class': 'mw-statistics-articles'}).find('td', attrs={'class': 'mw-statistics-numbers'}).get_text().replace('\\xa0', '').replace(',', '').replace('.', '').replace('٬', ''))\n",
    "\n",
    "no_of_articles\n",
    "    "
   ]
  },
  {
   "cell_type": "code",
   "execution_count": 124,
   "id": "44908453-1082-440b-82dc-4e625b6b48b5",
   "metadata": {},
   "outputs": [
    {
     "data": {
      "text/html": [
       "<div>\n",
       "<style scoped>\n",
       "    .dataframe tbody tr th:only-of-type {\n",
       "        vertical-align: middle;\n",
       "    }\n",
       "\n",
       "    .dataframe tbody tr th {\n",
       "        vertical-align: top;\n",
       "    }\n",
       "\n",
       "    .dataframe thead th {\n",
       "        text-align: right;\n",
       "    }\n",
       "</style>\n",
       "<table border=\"1\" class=\"dataframe\">\n",
       "  <thead>\n",
       "    <tr style=\"text-align: right;\">\n",
       "      <th></th>\n",
       "      <th>language</th>\n",
       "      <th>no_of_articles</th>\n",
       "    </tr>\n",
       "  </thead>\n",
       "  <tbody>\n",
       "    <tr>\n",
       "      <th>0</th>\n",
       "      <td>Polski</td>\n",
       "      <td>1492364</td>\n",
       "    </tr>\n",
       "    <tr>\n",
       "      <th>1</th>\n",
       "      <td>العربية</td>\n",
       "      <td>1139345</td>\n",
       "    </tr>\n",
       "    <tr>\n",
       "      <th>2</th>\n",
       "      <td>Deutsch</td>\n",
       "      <td>2621137</td>\n",
       "    </tr>\n",
       "    <tr>\n",
       "      <th>3</th>\n",
       "      <td>English</td>\n",
       "      <td>6390612</td>\n",
       "    </tr>\n",
       "    <tr>\n",
       "      <th>4</th>\n",
       "      <td>Español</td>\n",
       "      <td>1720717</td>\n",
       "    </tr>\n",
       "  </tbody>\n",
       "</table>\n",
       "</div>"
      ],
      "text/plain": [
       "  language no_of_articles\n",
       "0   Polski        1492364\n",
       "1  العربية        1139345\n",
       "2  Deutsch        2621137\n",
       "3  English        6390612\n",
       "4  Español        1720717"
      ]
     },
     "execution_count": 124,
     "metadata": {},
     "output_type": "execute_result"
    }
   ],
   "source": [
    "data_wiki_languages = pd.DataFrame({'language': languages, 'no_of_articles': no_of_articles})\n",
    "data_wiki_languages.head()"
   ]
  },
  {
   "cell_type": "code",
   "execution_count": null,
   "id": "aaf83e5f-e7b1-404a-b896-641984179b69",
   "metadata": {},
   "outputs": [],
   "source": []
  },
  {
   "cell_type": "markdown",
   "id": "split-cartridge",
   "metadata": {},
   "source": [
    "### A list with the different kind of datasets available in [data.gov.uk](data.gov.uk)\n"
   ]
  },
  {
   "cell_type": "code",
   "execution_count": 141,
   "id": "actual-parallel",
   "metadata": {},
   "outputs": [
    {
     "data": {
      "text/plain": [
       "200"
      ]
     },
     "execution_count": 141,
     "metadata": {},
     "output_type": "execute_result"
    }
   ],
   "source": [
    "url_govuk = 'https://data.gov.uk/'\n",
    "\n",
    "response = requests.get(url_govuk)\n",
    "response.status_code"
   ]
  },
  {
   "cell_type": "code",
   "execution_count": 146,
   "id": "0b4dedc2-ec17-4bbe-a777-de162fd04fa4",
   "metadata": {},
   "outputs": [],
   "source": [
    "soup_govuk = BeautifulSoup(response.content, \"html.parser\")\n",
    "\n",
    "datasets_categories = soup_govuk.find('ul', attrs={'class': 'govuk-list dgu-topics__list'}).find_all('a', attrs={'class': 'govuk-link'})\n",
    "datasets_info = soup_govuk.find('ul', attrs={'class': 'govuk-list dgu-topics__list'}).find_all('p', attrs={'class': 'govuk-body'})"
   ]
  },
  {
   "cell_type": "code",
   "execution_count": 149,
   "id": "fb56c735-430b-4e77-98d6-d407876b64e5",
   "metadata": {},
   "outputs": [],
   "source": [
    "for i in range(len(datasets_categories)):\n",
    "    datasets_categories[i] = datasets_categories[i].get_text()\n",
    "    datasets_info[i] = datasets_info[i].get_text()"
   ]
  },
  {
   "cell_type": "code",
   "execution_count": 151,
   "id": "b13a430d-2767-46cc-9800-d10e72ecbd05",
   "metadata": {},
   "outputs": [
    {
     "data": {
      "text/html": [
       "<div>\n",
       "<style scoped>\n",
       "    .dataframe tbody tr th:only-of-type {\n",
       "        vertical-align: middle;\n",
       "    }\n",
       "\n",
       "    .dataframe tbody tr th {\n",
       "        vertical-align: top;\n",
       "    }\n",
       "\n",
       "    .dataframe thead th {\n",
       "        text-align: right;\n",
       "    }\n",
       "</style>\n",
       "<table border=\"1\" class=\"dataframe\">\n",
       "  <thead>\n",
       "    <tr style=\"text-align: right;\">\n",
       "      <th></th>\n",
       "      <th>datasets</th>\n",
       "      <th>description</th>\n",
       "    </tr>\n",
       "  </thead>\n",
       "  <tbody>\n",
       "    <tr>\n",
       "      <th>0</th>\n",
       "      <td>Business and economy</td>\n",
       "      <td>Small businesses, industry, imports, exports a...</td>\n",
       "    </tr>\n",
       "    <tr>\n",
       "      <th>1</th>\n",
       "      <td>Crime and justice</td>\n",
       "      <td>Courts, police, prison, offenders, borders and...</td>\n",
       "    </tr>\n",
       "    <tr>\n",
       "      <th>2</th>\n",
       "      <td>Defence</td>\n",
       "      <td>Armed forces, health and safety, search and re...</td>\n",
       "    </tr>\n",
       "    <tr>\n",
       "      <th>3</th>\n",
       "      <td>Education</td>\n",
       "      <td>Students, training, qualifications and the Nat...</td>\n",
       "    </tr>\n",
       "    <tr>\n",
       "      <th>4</th>\n",
       "      <td>Environment</td>\n",
       "      <td>Weather, flooding, rivers, air quality, geolog...</td>\n",
       "    </tr>\n",
       "    <tr>\n",
       "      <th>5</th>\n",
       "      <td>Government</td>\n",
       "      <td>Staff numbers and pay, local councillors and d...</td>\n",
       "    </tr>\n",
       "    <tr>\n",
       "      <th>6</th>\n",
       "      <td>Government spending</td>\n",
       "      <td>Includes all payments by government department...</td>\n",
       "    </tr>\n",
       "    <tr>\n",
       "      <th>7</th>\n",
       "      <td>Health</td>\n",
       "      <td>Includes smoking, drugs, alcohol, medicine per...</td>\n",
       "    </tr>\n",
       "    <tr>\n",
       "      <th>8</th>\n",
       "      <td>Mapping</td>\n",
       "      <td>Addresses, boundaries, land ownership, aerial ...</td>\n",
       "    </tr>\n",
       "    <tr>\n",
       "      <th>9</th>\n",
       "      <td>Society</td>\n",
       "      <td>Employment, benefits, household finances, pove...</td>\n",
       "    </tr>\n",
       "    <tr>\n",
       "      <th>10</th>\n",
       "      <td>Towns and cities</td>\n",
       "      <td>Includes housing, urban planning, leisure, was...</td>\n",
       "    </tr>\n",
       "    <tr>\n",
       "      <th>11</th>\n",
       "      <td>Transport</td>\n",
       "      <td>Airports, roads, freight, electric vehicles, p...</td>\n",
       "    </tr>\n",
       "    <tr>\n",
       "      <th>12</th>\n",
       "      <td>Digital service performance</td>\n",
       "      <td>Cost, usage, completion rate, digital take-up,...</td>\n",
       "    </tr>\n",
       "    <tr>\n",
       "      <th>13</th>\n",
       "      <td>Government reference data</td>\n",
       "      <td>Trusted data that is referenced and shared acr...</td>\n",
       "    </tr>\n",
       "  </tbody>\n",
       "</table>\n",
       "</div>"
      ],
      "text/plain": [
       "                       datasets  \\\n",
       "0          Business and economy   \n",
       "1             Crime and justice   \n",
       "2                       Defence   \n",
       "3                     Education   \n",
       "4                   Environment   \n",
       "5                    Government   \n",
       "6           Government spending   \n",
       "7                        Health   \n",
       "8                       Mapping   \n",
       "9                       Society   \n",
       "10             Towns and cities   \n",
       "11                    Transport   \n",
       "12  Digital service performance   \n",
       "13    Government reference data   \n",
       "\n",
       "                                          description  \n",
       "0   Small businesses, industry, imports, exports a...  \n",
       "1   Courts, police, prison, offenders, borders and...  \n",
       "2   Armed forces, health and safety, search and re...  \n",
       "3   Students, training, qualifications and the Nat...  \n",
       "4   Weather, flooding, rivers, air quality, geolog...  \n",
       "5   Staff numbers and pay, local councillors and d...  \n",
       "6   Includes all payments by government department...  \n",
       "7   Includes smoking, drugs, alcohol, medicine per...  \n",
       "8   Addresses, boundaries, land ownership, aerial ...  \n",
       "9   Employment, benefits, household finances, pove...  \n",
       "10  Includes housing, urban planning, leisure, was...  \n",
       "11  Airports, roads, freight, electric vehicles, p...  \n",
       "12  Cost, usage, completion rate, digital take-up,...  \n",
       "13  Trusted data that is referenced and shared acr...  "
      ]
     },
     "execution_count": 151,
     "metadata": {},
     "output_type": "execute_result"
    }
   ],
   "source": [
    "data_govuk = pd.DataFrame({'datasets': datasets_categories, 'description': datasets_info})\n",
    "data_govuk"
   ]
  },
  {
   "cell_type": "code",
   "execution_count": null,
   "id": "deea2a38-fb76-48d1-9f21-b8b9b6db841a",
   "metadata": {},
   "outputs": [],
   "source": []
  },
  {
   "cell_type": "markdown",
   "id": "potential-malpractice",
   "metadata": {},
   "source": [
    "### Display the top 10 languages by number of native speakers stored in a pandas dataframe"
   ]
  },
  {
   "cell_type": "code",
   "execution_count": null,
   "id": "adaptive-calculator",
   "metadata": {},
   "outputs": [],
   "source": [
    "url = 'https://en.wikipedia.org/wiki/List_of_languages_by_number_of_native_speakers'"
   ]
  }
 ],
 "metadata": {
  "kernelspec": {
   "display_name": "Python 3",
   "language": "python",
   "name": "python3"
  },
  "language_info": {
   "codemirror_mode": {
    "name": "ipython",
    "version": 3
   },
   "file_extension": ".py",
   "mimetype": "text/x-python",
   "name": "python",
   "nbconvert_exporter": "python",
   "pygments_lexer": "ipython3",
   "version": "3.9.4"
  },
  "toc": {
   "base_numbering": 1,
   "nav_menu": {},
   "number_sections": true,
   "sideBar": true,
   "skip_h1_title": false,
   "title_cell": "Table of Contents",
   "title_sidebar": "Contents",
   "toc_cell": true,
   "toc_position": {},
   "toc_section_display": true,
   "toc_window_display": false
  },
  "varInspector": {
   "cols": {
    "lenName": 16,
    "lenType": 16,
    "lenVar": 40
   },
   "kernels_config": {
    "python": {
     "delete_cmd_postfix": "",
     "delete_cmd_prefix": "del ",
     "library": "var_list.py",
     "varRefreshCmd": "print(var_dic_list())"
    },
    "r": {
     "delete_cmd_postfix": ") ",
     "delete_cmd_prefix": "rm(",
     "library": "var_list.r",
     "varRefreshCmd": "cat(var_dic_list()) "
    }
   },
   "types_to_exclude": [
    "module",
    "function",
    "builtin_function_or_method",
    "instance",
    "_Feature"
   ],
   "window_display": false
  }
 },
 "nbformat": 4,
 "nbformat_minor": 5
}
