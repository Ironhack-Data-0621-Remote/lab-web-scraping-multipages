{
 "cells": [
  {
   "cell_type": "markdown",
   "id": "adequate-aurora",
   "metadata": {
    "toc": true
   },
   "source": [
    "<h1>Table of Contents<span class=\"tocSkip\"></span></h1>\n",
    "<div class=\"toc\"><ul class=\"toc-item\"><li><span><a href=\"#Import-libraries\" data-toc-modified-id=\"Import-libraries-1\"><span class=\"toc-item-num\">1&nbsp;&nbsp;</span>Import libraries</a></span></li><li><span><a href=\"#Store-the-hot-100-songs-list-from-billboard-url-in-a-variable\" data-toc-modified-id=\"Store-the-hot-100-songs-list-from-billboard-url-in-a-variable-2\"><span class=\"toc-item-num\">2&nbsp;&nbsp;</span>Store the hot-100 songs list from billboard url in a variable</a></span></li><li><span><a href=\"#Download-html-with-a-get-request\" data-toc-modified-id=\"Download-html-with-a-get-request-3\"><span class=\"toc-item-num\">3&nbsp;&nbsp;</span>Download html with a get request</a></span></li><li><span><a href=\"#Parse-html-(create-the-'soup')\" data-toc-modified-id=\"Parse-html-(create-the-'soup')-4\"><span class=\"toc-item-num\">4&nbsp;&nbsp;</span>Parse html (create the 'soup')</a></span></li><li><span><a href=\"#Retrieve/extract-the-desired-info\" data-toc-modified-id=\"Retrieve/extract-the-desired-info-5\"><span class=\"toc-item-num\">5&nbsp;&nbsp;</span>Retrieve/extract the desired info</a></span></li><li><span><a href=\"#Get-the-text\" data-toc-modified-id=\"Get-the-text-6\"><span class=\"toc-item-num\">6&nbsp;&nbsp;</span>Get the text</a></span></li><li><span><a href=\"#Build-a-dataframe\" data-toc-modified-id=\"Build-a-dataframe-7\"><span class=\"toc-item-num\">7&nbsp;&nbsp;</span>Build a dataframe</a></span></li></ul></div>"
   ]
  },
  {
   "cell_type": "markdown",
   "id": "together-terminology",
   "metadata": {},
   "source": [
    "## Import libraries"
   ]
  },
  {
   "cell_type": "code",
   "execution_count": 1,
   "id": "little-prophet",
   "metadata": {},
   "outputs": [],
   "source": [
    "from bs4 import BeautifulSoup\n",
    "import requests\n",
    "import pandas as pd"
   ]
  },
  {
   "cell_type": "markdown",
   "id": "political-wright",
   "metadata": {},
   "source": [
    "## Store the hot-100 songs list from billboard url in a variable"
   ]
  },
  {
   "cell_type": "code",
   "execution_count": 2,
   "id": "promotional-algorithm",
   "metadata": {},
   "outputs": [],
   "source": [
    "url = \"https://www.billboard.com/charts/hot-100\""
   ]
  },
  {
   "cell_type": "markdown",
   "id": "indian-fossil",
   "metadata": {},
   "source": [
    "## Download html with a get request"
   ]
  },
  {
   "cell_type": "code",
   "execution_count": 3,
   "id": "civic-broad",
   "metadata": {},
   "outputs": [
    {
     "data": {
      "text/plain": [
       "200"
      ]
     },
     "execution_count": 3,
     "metadata": {},
     "output_type": "execute_result"
    }
   ],
   "source": [
    "# 200 status code means OK\n",
    "billboard = requests.get(url)\n",
    "billboard.status_code"
   ]
  },
  {
   "cell_type": "markdown",
   "id": "arbitrary-patrick",
   "metadata": {},
   "source": [
    "## Parse html (create the 'soup')"
   ]
  },
  {
   "cell_type": "code",
   "execution_count": 4,
   "id": "revised-digest",
   "metadata": {},
   "outputs": [],
   "source": [
    "soup = BeautifulSoup(billboard.content, \"html.parser\")"
   ]
  },
  {
   "cell_type": "markdown",
   "id": "damaged-watts",
   "metadata": {},
   "source": [
    "## Retrieve/extract the desired info"
   ]
  },
  {
   "cell_type": "code",
   "execution_count": 5,
   "id": "falling-chambers",
   "metadata": {},
   "outputs": [],
   "source": [
    "# song titles\n",
    "songs = soup.find_all(\"span\", class_ =\"chart-element__information__song text--truncate color--primary\")\n",
    "\n",
    "# artists\n",
    "artists = soup.find_all(\"span\", class_ =\"chart-element__information__artist text--truncate color--secondary\")\n",
    "\n",
    "# last week\n",
    "last_week_ranks = soup.find_all(\"span\", class_= \"chart-element__meta text--center color--secondary text--last\")\n",
    "\n",
    "# peak rank\n",
    "peak_ranks = soup.find_all(\"span\", class_= \"chart-element__meta text--center color--secondary text--peak\")\n",
    "\n",
    "# weeks on chart\n",
    "weeks_on_chart = soup.find_all(\"span\", class_= \"chart-element__meta text--center color--secondary text--week\")"
   ]
  },
  {
   "cell_type": "markdown",
   "id": "employed-chemistry",
   "metadata": {},
   "source": [
    "## Get the text"
   ]
  },
  {
   "cell_type": "code",
   "execution_count": 6,
   "id": "amateur-protocol",
   "metadata": {},
   "outputs": [],
   "source": [
    "for i in [songs, artists, last_week_ranks, peak_ranks, weeks_on_chart]:\n",
    "    for j in range(len(i)):\n",
    "        i[j] = i[j].getText()"
   ]
  },
  {
   "cell_type": "markdown",
   "id": "every-degree",
   "metadata": {},
   "source": [
    "## Build a dataframe"
   ]
  },
  {
   "cell_type": "code",
   "execution_count": 7,
   "id": "external-instrumentation",
   "metadata": {
    "scrolled": true
   },
   "outputs": [
    {
     "data": {
      "text/html": [
       "<div>\n",
       "<style scoped>\n",
       "    .dataframe tbody tr th:only-of-type {\n",
       "        vertical-align: middle;\n",
       "    }\n",
       "\n",
       "    .dataframe tbody tr th {\n",
       "        vertical-align: top;\n",
       "    }\n",
       "\n",
       "    .dataframe thead th {\n",
       "        text-align: right;\n",
       "    }\n",
       "</style>\n",
       "<table border=\"1\" class=\"dataframe\">\n",
       "  <thead>\n",
       "    <tr style=\"text-align: right;\">\n",
       "      <th></th>\n",
       "      <th>songs</th>\n",
       "      <th>artists</th>\n",
       "      <th>last_week_rank</th>\n",
       "      <th>peak_rank</th>\n",
       "      <th>weeks_on_chart</th>\n",
       "    </tr>\n",
       "  </thead>\n",
       "  <tbody>\n",
       "    <tr>\n",
       "      <th>0</th>\n",
       "      <td>My Universe</td>\n",
       "      <td>Coldplay x BTS</td>\n",
       "      <td>-</td>\n",
       "      <td>1</td>\n",
       "      <td>1</td>\n",
       "    </tr>\n",
       "    <tr>\n",
       "      <th>1</th>\n",
       "      <td>Stay</td>\n",
       "      <td>The Kid LAROI &amp; Justin Bieber</td>\n",
       "      <td>1</td>\n",
       "      <td>1</td>\n",
       "      <td>12</td>\n",
       "    </tr>\n",
       "    <tr>\n",
       "      <th>2</th>\n",
       "      <td>Industry Baby</td>\n",
       "      <td>Lil Nas X &amp; Jack Harlow</td>\n",
       "      <td>2</td>\n",
       "      <td>2</td>\n",
       "      <td>10</td>\n",
       "    </tr>\n",
       "    <tr>\n",
       "      <th>3</th>\n",
       "      <td>Way 2 Sexy</td>\n",
       "      <td>Drake Featuring Future &amp; Young Thug</td>\n",
       "      <td>3</td>\n",
       "      <td>1</td>\n",
       "      <td>4</td>\n",
       "    </tr>\n",
       "    <tr>\n",
       "      <th>4</th>\n",
       "      <td>Fancy Like</td>\n",
       "      <td>Walker Hayes</td>\n",
       "      <td>5</td>\n",
       "      <td>5</td>\n",
       "      <td>15</td>\n",
       "    </tr>\n",
       "    <tr>\n",
       "      <th>...</th>\n",
       "      <td>...</td>\n",
       "      <td>...</td>\n",
       "      <td>...</td>\n",
       "      <td>...</td>\n",
       "      <td>...</td>\n",
       "    </tr>\n",
       "    <tr>\n",
       "      <th>95</th>\n",
       "      <td>Pipe Down</td>\n",
       "      <td>Drake</td>\n",
       "      <td>68</td>\n",
       "      <td>14</td>\n",
       "      <td>4</td>\n",
       "    </tr>\n",
       "    <tr>\n",
       "      <th>96</th>\n",
       "      <td>Papi's Home</td>\n",
       "      <td>Drake</td>\n",
       "      <td>66</td>\n",
       "      <td>8</td>\n",
       "      <td>4</td>\n",
       "    </tr>\n",
       "    <tr>\n",
       "      <th>97</th>\n",
       "      <td>Chosen</td>\n",
       "      <td>Blxst &amp; Tyga Featuring Ty Dolla $ign</td>\n",
       "      <td>-</td>\n",
       "      <td>98</td>\n",
       "      <td>1</td>\n",
       "    </tr>\n",
       "    <tr>\n",
       "      <th>98</th>\n",
       "      <td>Toxic Punk</td>\n",
       "      <td>YoungBoy Never Broke Again</td>\n",
       "      <td>-</td>\n",
       "      <td>99</td>\n",
       "      <td>1</td>\n",
       "    </tr>\n",
       "    <tr>\n",
       "      <th>99</th>\n",
       "      <td>Moon</td>\n",
       "      <td>Kanye West</td>\n",
       "      <td>76</td>\n",
       "      <td>17</td>\n",
       "      <td>5</td>\n",
       "    </tr>\n",
       "  </tbody>\n",
       "</table>\n",
       "<p>100 rows × 5 columns</p>\n",
       "</div>"
      ],
      "text/plain": [
       "            songs                               artists last_week_rank  \\\n",
       "0     My Universe                        Coldplay x BTS              -   \n",
       "1            Stay         The Kid LAROI & Justin Bieber              1   \n",
       "2   Industry Baby               Lil Nas X & Jack Harlow              2   \n",
       "3      Way 2 Sexy   Drake Featuring Future & Young Thug              3   \n",
       "4      Fancy Like                          Walker Hayes              5   \n",
       "..            ...                                   ...            ...   \n",
       "95      Pipe Down                                 Drake             68   \n",
       "96    Papi's Home                                 Drake             66   \n",
       "97         Chosen  Blxst & Tyga Featuring Ty Dolla $ign              -   \n",
       "98     Toxic Punk            YoungBoy Never Broke Again              -   \n",
       "99           Moon                            Kanye West             76   \n",
       "\n",
       "   peak_rank weeks_on_chart  \n",
       "0          1              1  \n",
       "1          1             12  \n",
       "2          2             10  \n",
       "3          1              4  \n",
       "4          5             15  \n",
       "..       ...            ...  \n",
       "95        14              4  \n",
       "96         8              4  \n",
       "97        98              1  \n",
       "98        99              1  \n",
       "99        17              5  \n",
       "\n",
       "[100 rows x 5 columns]"
      ]
     },
     "execution_count": 7,
     "metadata": {},
     "output_type": "execute_result"
    }
   ],
   "source": [
    "df = pd.DataFrame(\n",
    "{\"songs\": songs,\n",
    "\"artists\": artists,\n",
    "\"last_week_rank\": last_week_ranks,\n",
    "\"peak_rank\" : peak_ranks,\n",
    "\"weeks_on_chart\": weeks_on_chart}\n",
    ")\n",
    "\n",
    "df"
   ]
  },
  {
   "cell_type": "code",
   "execution_count": 10,
   "id": "f5b9068c",
   "metadata": {},
   "outputs": [],
   "source": [
    "def create_df_webscrap(url):\n",
    "    \n",
    "        billboard = requests.get(url)\n",
    "        billboard.status_code\n",
    "        \n",
    "        soup = BeautifulSoup(billboard.content, \"html.parser\")\n",
    "        \n",
    "        # song titles\n",
    "        songs = soup.find_all(\"span\", class_ =\"chart-element__information__song text--truncate color--primary\")\n",
    "        # artists\n",
    "        artists = soup.find_all(\"span\", class_ =\"chart-element__information__artist text--truncate color--secondary\")\n",
    "        # last week\n",
    "        last_week_ranks = soup.find_all(\"span\", class_= \"chart-element__meta text--center color--secondary text--last\")\n",
    "        # peak rank\n",
    "        peak_ranks = soup.find_all(\"span\", class_= \"chart-element__meta text--center color--secondary text--peak\")\n",
    "        # weeks on chart\n",
    "        weeks_on_chart = soup.find_all(\"span\", class_= \"chart-element__meta text--center color--secondary text--week\")\n",
    "        \n",
    "        \n",
    "        for i in [songs, artists, last_week_ranks, peak_ranks, weeks_on_chart]:\n",
    "            for j in range(len(i)):\n",
    "                i[j] = i[j].getText()\n",
    "                \n",
    "        df = pd.DataFrame(\n",
    "            {\"songs\": songs,\n",
    "             \"artists\": artists,\n",
    "             \"last_week_rank\": last_week_ranks,\n",
    "             \"peak_rank\" : peak_ranks,\n",
    "             \"weeks_on_chart\": weeks_on_chart}\n",
    "        )\n",
    "        \n",
    "        return df"
   ]
  },
  {
   "cell_type": "code",
   "execution_count": 12,
   "id": "d792e0c4",
   "metadata": {},
   "outputs": [
    {
     "data": {
      "text/html": [
       "<div>\n",
       "<style scoped>\n",
       "    .dataframe tbody tr th:only-of-type {\n",
       "        vertical-align: middle;\n",
       "    }\n",
       "\n",
       "    .dataframe tbody tr th {\n",
       "        vertical-align: top;\n",
       "    }\n",
       "\n",
       "    .dataframe thead th {\n",
       "        text-align: right;\n",
       "    }\n",
       "</style>\n",
       "<table border=\"1\" class=\"dataframe\">\n",
       "  <thead>\n",
       "    <tr style=\"text-align: right;\">\n",
       "      <th></th>\n",
       "      <th>songs</th>\n",
       "      <th>artists</th>\n",
       "      <th>last_week_rank</th>\n",
       "      <th>peak_rank</th>\n",
       "      <th>weeks_on_chart</th>\n",
       "    </tr>\n",
       "  </thead>\n",
       "  <tbody>\n",
       "    <tr>\n",
       "      <th>0</th>\n",
       "      <td>My Universe</td>\n",
       "      <td>Coldplay x BTS</td>\n",
       "      <td>-</td>\n",
       "      <td>1</td>\n",
       "      <td>1</td>\n",
       "    </tr>\n",
       "    <tr>\n",
       "      <th>1</th>\n",
       "      <td>Stay</td>\n",
       "      <td>The Kid LAROI &amp; Justin Bieber</td>\n",
       "      <td>1</td>\n",
       "      <td>1</td>\n",
       "      <td>12</td>\n",
       "    </tr>\n",
       "    <tr>\n",
       "      <th>2</th>\n",
       "      <td>Industry Baby</td>\n",
       "      <td>Lil Nas X &amp; Jack Harlow</td>\n",
       "      <td>2</td>\n",
       "      <td>2</td>\n",
       "      <td>10</td>\n",
       "    </tr>\n",
       "    <tr>\n",
       "      <th>3</th>\n",
       "      <td>Way 2 Sexy</td>\n",
       "      <td>Drake Featuring Future &amp; Young Thug</td>\n",
       "      <td>3</td>\n",
       "      <td>1</td>\n",
       "      <td>4</td>\n",
       "    </tr>\n",
       "    <tr>\n",
       "      <th>4</th>\n",
       "      <td>Fancy Like</td>\n",
       "      <td>Walker Hayes</td>\n",
       "      <td>5</td>\n",
       "      <td>5</td>\n",
       "      <td>15</td>\n",
       "    </tr>\n",
       "    <tr>\n",
       "      <th>...</th>\n",
       "      <td>...</td>\n",
       "      <td>...</td>\n",
       "      <td>...</td>\n",
       "      <td>...</td>\n",
       "      <td>...</td>\n",
       "    </tr>\n",
       "    <tr>\n",
       "      <th>95</th>\n",
       "      <td>Pipe Down</td>\n",
       "      <td>Drake</td>\n",
       "      <td>68</td>\n",
       "      <td>14</td>\n",
       "      <td>4</td>\n",
       "    </tr>\n",
       "    <tr>\n",
       "      <th>96</th>\n",
       "      <td>Papi's Home</td>\n",
       "      <td>Drake</td>\n",
       "      <td>66</td>\n",
       "      <td>8</td>\n",
       "      <td>4</td>\n",
       "    </tr>\n",
       "    <tr>\n",
       "      <th>97</th>\n",
       "      <td>Chosen</td>\n",
       "      <td>Blxst &amp; Tyga Featuring Ty Dolla $ign</td>\n",
       "      <td>-</td>\n",
       "      <td>98</td>\n",
       "      <td>1</td>\n",
       "    </tr>\n",
       "    <tr>\n",
       "      <th>98</th>\n",
       "      <td>Toxic Punk</td>\n",
       "      <td>YoungBoy Never Broke Again</td>\n",
       "      <td>-</td>\n",
       "      <td>99</td>\n",
       "      <td>1</td>\n",
       "    </tr>\n",
       "    <tr>\n",
       "      <th>99</th>\n",
       "      <td>Moon</td>\n",
       "      <td>Kanye West</td>\n",
       "      <td>76</td>\n",
       "      <td>17</td>\n",
       "      <td>5</td>\n",
       "    </tr>\n",
       "  </tbody>\n",
       "</table>\n",
       "<p>100 rows × 5 columns</p>\n",
       "</div>"
      ],
      "text/plain": [
       "            songs                               artists last_week_rank  \\\n",
       "0     My Universe                        Coldplay x BTS              -   \n",
       "1            Stay         The Kid LAROI & Justin Bieber              1   \n",
       "2   Industry Baby               Lil Nas X & Jack Harlow              2   \n",
       "3      Way 2 Sexy   Drake Featuring Future & Young Thug              3   \n",
       "4      Fancy Like                          Walker Hayes              5   \n",
       "..            ...                                   ...            ...   \n",
       "95      Pipe Down                                 Drake             68   \n",
       "96    Papi's Home                                 Drake             66   \n",
       "97         Chosen  Blxst & Tyga Featuring Ty Dolla $ign              -   \n",
       "98     Toxic Punk            YoungBoy Never Broke Again              -   \n",
       "99           Moon                            Kanye West             76   \n",
       "\n",
       "   peak_rank weeks_on_chart  \n",
       "0          1              1  \n",
       "1          1             12  \n",
       "2          2             10  \n",
       "3          1              4  \n",
       "4          5             15  \n",
       "..       ...            ...  \n",
       "95        14              4  \n",
       "96         8              4  \n",
       "97        98              1  \n",
       "98        99              1  \n",
       "99        17              5  \n",
       "\n",
       "[100 rows x 5 columns]"
      ]
     },
     "execution_count": 12,
     "metadata": {},
     "output_type": "execute_result"
    }
   ],
   "source": [
    "create_df_webscrap('https://www.billboard.com/charts/hot-100')"
   ]
  },
  {
   "cell_type": "code",
   "execution_count": 52,
   "id": "cd22cd28",
   "metadata": {},
   "outputs": [
    {
     "name": "stdout",
     "output_type": "stream",
     "text": [
      "What song do you like? Chosen\n"
     ]
    }
   ],
   "source": [
    "input_song = input(\"What song do you like? \")"
   ]
  },
  {
   "cell_type": "code",
   "execution_count": 18,
   "id": "d505e1c7",
   "metadata": {},
   "outputs": [],
   "source": [
    "#def check_song(input_song):\n",
    "    \n",
    " #   for song in songs:\n",
    "       \n",
    "  #      if input_song == song:\n",
    "            \n",
    "   #         return 'It is a Hot song' #'It is a Hot song!'#next song of the list\n",
    "    #    else:\n",
    "     #       return 'It is not a Hot song'\n",
    "    "
   ]
  },
  {
   "cell_type": "code",
   "execution_count": 19,
   "id": "1b1c0263",
   "metadata": {},
   "outputs": [
    {
     "data": {
      "text/plain": [
       "'It is not a Hot song'"
      ]
     },
     "execution_count": 19,
     "metadata": {},
     "output_type": "execute_result"
    }
   ],
   "source": [
    "#check_song(input_song)"
   ]
  },
  {
   "cell_type": "code",
   "execution_count": 53,
   "id": "7b5347b4",
   "metadata": {},
   "outputs": [],
   "source": [
    "def song_checker(input_song):\n",
    "    \n",
    "    pos = -1\n",
    "    for index, song in enumerate(df['songs'].tolist()):\n",
    "        if song == input_song:\n",
    "            pos = index\n",
    "            \n",
    "    if pos >=0:\n",
    "        if pos == len(df)-1:\n",
    "            print('No next song in the list')\n",
    "        else:\n",
    "            print(df['songs'].iloc[pos+1])\n",
    "    \n",
    "    else:\n",
    "        print('no match found')"
   ]
  },
  {
   "cell_type": "code",
   "execution_count": 54,
   "id": "3f8b241a",
   "metadata": {},
   "outputs": [
    {
     "name": "stdout",
     "output_type": "stream",
     "text": [
      "Toxic Punk\n"
     ]
    }
   ],
   "source": [
    "song_checker(input_song)"
   ]
  },
  {
   "cell_type": "code",
   "execution_count": 46,
   "id": "558580de",
   "metadata": {},
   "outputs": [],
   "source": []
  },
  {
   "cell_type": "code",
   "execution_count": 58,
   "id": "215bada8",
   "metadata": {},
   "outputs": [
    {
     "name": "stdout",
     "output_type": "stream",
     "text": [
      "{\n",
      "  \"Places\" : [ {\n",
      "    \"PlaceId\" : \"STOC-sky\",\n",
      "    \"PlaceName\" : \"Stockholm\",\n",
      "    \"CountryId\" : \"SE-sky\",\n",
      "    \"RegionId\" : \"\",\n",
      "    \"CityId\" : \"STOC-sky\",\n",
      "    \"CountryName\" : \"Sweden\"\n",
      "  }, {\n",
      "    \"PlaceId\" : \"ARN-sky\",\n",
      "    \"PlaceName\" : \"Stockholm Arlanda\",\n",
      "    \"CountryId\" : \"SE-sky\",\n",
      "    \"RegionId\" : \"\",\n",
      "    \"CityId\" : \"STOC-sky\",\n",
      "    \"CountryName\" : \"Sweden\"\n",
      "  }, {\n",
      "    \"PlaceId\" : \"NYO-sky\",\n",
      "    \"PlaceName\" : \"Stockholm Skavsta\",\n",
      "    \"CountryId\" : \"SE-sky\",\n",
      "    \"RegionId\" : \"\",\n",
      "    \"CityId\" : \"STOC-sky\",\n",
      "    \"CountryName\" : \"Sweden\"\n",
      "  }, {\n",
      "    \"PlaceId\" : \"BMA-sky\",\n",
      "    \"PlaceName\" : \"Stockholm Bromma\",\n",
      "    \"CountryId\" : \"SE-sky\",\n",
      "    \"RegionId\" : \"\",\n",
      "    \"CityId\" : \"STOC-sky\",\n",
      "    \"CountryName\" : \"Sweden\"\n",
      "  }, {\n",
      "    \"PlaceId\" : \"VST-sky\",\n",
      "    \"PlaceName\" : \"Stockholm Vasteras\",\n",
      "    \"CountryId\" : \"SE-sky\",\n",
      "    \"RegionId\" : \"\",\n",
      "    \"CityId\" : \"STOC-sky\",\n",
      "    \"CountryName\" : \"Sweden\"\n",
      "  } ]\n",
      "}\n"
     ]
    }
   ],
   "source": [
    "url = \"https://skyscanner-skyscanner-flight-search-v1.p.rapidapi.com/apiservices/autosuggest/v1.0/UK/GBP/en-GB/\"\n",
    "\n",
    "querystring = {\"query\":\"Stockholm\"}\n",
    "\n",
    "headers = {\n",
    "    'x-rapidapi-host': \"skyscanner-skyscanner-flight-search-v1.p.rapidapi.com\",\n",
    "    'x-rapidapi-key': \"65ac367414mshca9278aae631978p1965d3jsn38a1bf02ce82\"\n",
    "    }\n",
    "\n",
    "response = requests.request(\"GET\", url, headers=headers, params=querystring)\n",
    "\n",
    "print(response.text)"
   ]
  },
  {
   "cell_type": "code",
   "execution_count": 63,
   "id": "05c4033a",
   "metadata": {},
   "outputs": [
    {
     "name": "stdout",
     "output_type": "stream",
     "text": [
      "{\n",
      "  \"Places\" : [ {\n",
      "    \"PlaceId\" : \"TYOA-sky\",\n",
      "    \"PlaceName\" : \"Tokyo\",\n",
      "    \"CountryId\" : \"JP-sky\",\n",
      "    \"RegionId\" : \"\",\n",
      "    \"CityId\" : \"TYOA-sky\",\n",
      "    \"CountryName\" : \"Japan\"\n",
      "  }, {\n",
      "    \"PlaceId\" : \"NRT-sky\",\n",
      "    \"PlaceName\" : \"Tokyo Narita\",\n",
      "    \"CountryId\" : \"JP-sky\",\n",
      "    \"RegionId\" : \"\",\n",
      "    \"CityId\" : \"TYOA-sky\",\n",
      "    \"CountryName\" : \"Japan\"\n",
      "  }, {\n",
      "    \"PlaceId\" : \"HND-sky\",\n",
      "    \"PlaceName\" : \"Tokyo Haneda\",\n",
      "    \"CountryId\" : \"JP-sky\",\n",
      "    \"RegionId\" : \"\",\n",
      "    \"CityId\" : \"TYOA-sky\",\n",
      "    \"CountryName\" : \"Japan\"\n",
      "  }, {\n",
      "    \"PlaceId\" : \"TJH-sky\",\n",
      "    \"PlaceName\" : \"Toyooka\",\n",
      "    \"CountryId\" : \"JP-sky\",\n",
      "    \"RegionId\" : \"\",\n",
      "    \"CityId\" : \"JTJH-sky\",\n",
      "    \"CountryName\" : \"Japan\"\n",
      "  }, {\n",
      "    \"PlaceId\" : \"OOK-sky\",\n",
      "    \"PlaceName\" : \"Toksook Bay\",\n",
      "    \"CountryId\" : \"US-sky\",\n",
      "    \"RegionId\" : \"AK\",\n",
      "    \"CityId\" : \"OOKA-sky\",\n",
      "    \"CountryName\" : \"United States\"\n",
      "  } ]\n",
      "}\n"
     ]
    }
   ],
   "source": [
    "## Subscribe the \n",
    "import requests\n",
    "\n",
    "url = \"https://skyscanner-skyscanner-flight-search-v1.p.rapidapi.com/apiservices/autosuggest/v1.0/UK/GBP/en-GB/\"\n",
    "\n",
    "querystring = {\"query\":\"Tokyo\"}\n",
    "\n",
    "headers = {\n",
    "    'x-rapidapi-host': \"skyscanner-skyscanner-flight-search-v1.p.rapidapi.com\",\n",
    "    'x-rapidapi-key': \"eb3d56dfafmsh83222c7fd64aaecp15b345jsn6d9cbb52893c\"\n",
    "    }\n",
    "\n",
    "response = requests.request(\"GET\", url, headers=headers, params=querystring)\n",
    "\n",
    "print(response.text)"
   ]
  }
 ],
 "metadata": {
  "kernelspec": {
   "display_name": "Python 3",
   "language": "python",
   "name": "python3"
  },
  "language_info": {
   "codemirror_mode": {
    "name": "ipython",
    "version": 3
   },
   "file_extension": ".py",
   "mimetype": "text/x-python",
   "name": "python",
   "nbconvert_exporter": "python",
   "pygments_lexer": "ipython3",
   "version": "3.8.8"
  },
  "toc": {
   "base_numbering": 1,
   "nav_menu": {},
   "number_sections": true,
   "sideBar": true,
   "skip_h1_title": false,
   "title_cell": "Table of Contents",
   "title_sidebar": "Contents",
   "toc_cell": true,
   "toc_position": {},
   "toc_section_display": true,
   "toc_window_display": false
  },
  "varInspector": {
   "cols": {
    "lenName": 16,
    "lenType": 16,
    "lenVar": 40
   },
   "kernels_config": {
    "python": {
     "delete_cmd_postfix": "",
     "delete_cmd_prefix": "del ",
     "library": "var_list.py",
     "varRefreshCmd": "print(var_dic_list())"
    },
    "r": {
     "delete_cmd_postfix": ") ",
     "delete_cmd_prefix": "rm(",
     "library": "var_list.r",
     "varRefreshCmd": "cat(var_dic_list()) "
    }
   },
   "types_to_exclude": [
    "module",
    "function",
    "builtin_function_or_method",
    "instance",
    "_Feature"
   ],
   "window_display": false
  }
 },
 "nbformat": 4,
 "nbformat_minor": 5
}
