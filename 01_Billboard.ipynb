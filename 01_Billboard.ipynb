{
 "cells": [
  {
   "cell_type": "markdown",
   "id": "adequate-aurora",
   "metadata": {
    "toc": true
   },
   "source": [
    "<h1>Table of Contents<span class=\"tocSkip\"></span></h1>\n",
    "<div class=\"toc\"><ul class=\"toc-item\"><li><span><a href=\"#Import-libraries\" data-toc-modified-id=\"Import-libraries-1\"><span class=\"toc-item-num\">1&nbsp;&nbsp;</span>Import libraries</a></span></li><li><span><a href=\"#Store-the-hot-100-songs-list-from-billboard-url-in-a-variable\" data-toc-modified-id=\"Store-the-hot-100-songs-list-from-billboard-url-in-a-variable-2\"><span class=\"toc-item-num\">2&nbsp;&nbsp;</span>Store the hot-100 songs list from billboard url in a variable</a></span></li><li><span><a href=\"#Download-html-with-a-get-request\" data-toc-modified-id=\"Download-html-with-a-get-request-3\"><span class=\"toc-item-num\">3&nbsp;&nbsp;</span>Download html with a get request</a></span></li><li><span><a href=\"#Parse-html-(create-the-'soup')\" data-toc-modified-id=\"Parse-html-(create-the-'soup')-4\"><span class=\"toc-item-num\">4&nbsp;&nbsp;</span>Parse html (create the 'soup')</a></span></li><li><span><a href=\"#Retrieve/extract-the-desired-info\" data-toc-modified-id=\"Retrieve/extract-the-desired-info-5\"><span class=\"toc-item-num\">5&nbsp;&nbsp;</span>Retrieve/extract the desired info</a></span></li><li><span><a href=\"#Get-the-text\" data-toc-modified-id=\"Get-the-text-6\"><span class=\"toc-item-num\">6&nbsp;&nbsp;</span>Get the text</a></span></li><li><span><a href=\"#Build-a-dataframe\" data-toc-modified-id=\"Build-a-dataframe-7\"><span class=\"toc-item-num\">7&nbsp;&nbsp;</span>Build a dataframe</a></span></li><li><span><a href=\"#Extra-questions\" data-toc-modified-id=\"Extra-questions-8\"><span class=\"toc-item-num\">8&nbsp;&nbsp;</span>Extra questions</a></span></li></ul></div>"
   ]
  },
  {
   "cell_type": "markdown",
   "id": "together-terminology",
   "metadata": {},
   "source": [
    "## Import libraries"
   ]
  },
  {
   "cell_type": "code",
   "execution_count": 1,
   "id": "little-prophet",
   "metadata": {},
   "outputs": [],
   "source": [
    "from bs4 import BeautifulSoup\n",
    "import requests\n",
    "import pandas as pd"
   ]
  },
  {
   "cell_type": "markdown",
   "id": "political-wright",
   "metadata": {},
   "source": [
    "## Store the hot-100 songs list from billboard url in a variable"
   ]
  },
  {
   "cell_type": "code",
   "execution_count": 2,
   "id": "promotional-algorithm",
   "metadata": {},
   "outputs": [],
   "source": [
    "url = \"https://www.billboard.com/charts/hot-100\""
   ]
  },
  {
   "cell_type": "markdown",
   "id": "indian-fossil",
   "metadata": {},
   "source": [
    "## Download html with a get request"
   ]
  },
  {
   "cell_type": "code",
   "execution_count": 4,
   "id": "civic-broad",
   "metadata": {},
   "outputs": [
    {
     "data": {
      "text/plain": [
       "200"
      ]
     },
     "execution_count": 4,
     "metadata": {},
     "output_type": "execute_result"
    }
   ],
   "source": [
    "response = requests.get(url)\n",
    "response.status_code\n",
    "# 200 status code means OK!"
   ]
  },
  {
   "cell_type": "markdown",
   "id": "arbitrary-patrick",
   "metadata": {},
   "source": [
    "## Parse html (create the 'soup')"
   ]
  },
  {
   "cell_type": "code",
   "execution_count": 5,
   "id": "revised-digest",
   "metadata": {},
   "outputs": [],
   "source": [
    "soup = BeautifulSoup(response.content, \"html.parser\")"
   ]
  },
  {
   "cell_type": "markdown",
   "id": "damaged-watts",
   "metadata": {},
   "source": [
    "## Retrieve/extract the desired info"
   ]
  },
  {
   "cell_type": "code",
   "execution_count": 22,
   "id": "falling-chambers",
   "metadata": {},
   "outputs": [],
   "source": [
    "# song titles\n",
    "songs = soup.find_all(\"span\", class_=\"chart-element__information__song text--truncate color--primary\")\n",
    "\n",
    "# artists\n",
    "artists = soup.find_all(\"span\", class_=\"chart-element__information__artist text--truncate color--secondary\")\n",
    "\n",
    "# this week\n",
    "this_week_ranks = soup.find_all(\"span\", class_=\"chart-element__rank__number\")\n",
    "\n",
    "# last week\n",
    "last_week_ranks = soup.find_all(\"span\", class_= \"chart-element__meta text--center color--secondary text--last\")\n",
    "\n",
    "# peak rank\n",
    "peak_ranks = soup.find_all(\"span\", class_= \"chart-element__meta text--center color--secondary text--peak\")\n",
    "\n",
    "# weeks on chart\n",
    "weeks_on_chart = soup.find_all(\"span\", class_= \"chart-element__meta text--center color--secondary text--week\")"
   ]
  },
  {
   "cell_type": "markdown",
   "id": "employed-chemistry",
   "metadata": {},
   "source": [
    "## Get the text"
   ]
  },
  {
   "cell_type": "code",
   "execution_count": 24,
   "id": "020cc006",
   "metadata": {},
   "outputs": [
    {
     "data": {
      "text/plain": [
       "'Industry Baby'"
      ]
     },
     "execution_count": 24,
     "metadata": {},
     "output_type": "execute_result"
    }
   ],
   "source": [
    "songs[2].getText()"
   ]
  },
  {
   "cell_type": "code",
   "execution_count": 17,
   "id": "amateur-protocol",
   "metadata": {},
   "outputs": [],
   "source": [
    "for i in [songs, artists, this_week_ranks, last_week_ranks, peak_ranks, weeks_on_chart]:\n",
    "    for j in range(len(i)):\n",
    "        i[j] = i[j].getText()"
   ]
  },
  {
   "cell_type": "markdown",
   "id": "every-degree",
   "metadata": {},
   "source": [
    "## Build a dataframe"
   ]
  },
  {
   "cell_type": "code",
   "execution_count": 18,
   "id": "external-instrumentation",
   "metadata": {},
   "outputs": [],
   "source": [
    "billboard = pd.DataFrame(\n",
    "    {\"song\": songs,\n",
    "     \"artist\": artists,\n",
    "     \"current_rank\": this_week_ranks,\n",
    "     \"last_week_rank\": last_week_ranks,\n",
    "     \"peak_rank\": peak_ranks,\n",
    "     \"weeks_on_chart\": weeks_on_chart}\n",
    ")"
   ]
  },
  {
   "cell_type": "code",
   "execution_count": 19,
   "id": "7755df6d",
   "metadata": {},
   "outputs": [
    {
     "data": {
      "text/html": [
       "<div>\n",
       "<style scoped>\n",
       "    .dataframe tbody tr th:only-of-type {\n",
       "        vertical-align: middle;\n",
       "    }\n",
       "\n",
       "    .dataframe tbody tr th {\n",
       "        vertical-align: top;\n",
       "    }\n",
       "\n",
       "    .dataframe thead th {\n",
       "        text-align: right;\n",
       "    }\n",
       "</style>\n",
       "<table border=\"1\" class=\"dataframe\">\n",
       "  <thead>\n",
       "    <tr style=\"text-align: right;\">\n",
       "      <th></th>\n",
       "      <th>song</th>\n",
       "      <th>artist</th>\n",
       "      <th>current_rank</th>\n",
       "      <th>last_week_rank</th>\n",
       "      <th>peak_rank</th>\n",
       "      <th>weeks_on_chart</th>\n",
       "    </tr>\n",
       "  </thead>\n",
       "  <tbody>\n",
       "    <tr>\n",
       "      <th>0</th>\n",
       "      <td>My Universe</td>\n",
       "      <td>Coldplay x BTS</td>\n",
       "      <td>1</td>\n",
       "      <td>-</td>\n",
       "      <td>1</td>\n",
       "      <td>1</td>\n",
       "    </tr>\n",
       "    <tr>\n",
       "      <th>1</th>\n",
       "      <td>Stay</td>\n",
       "      <td>The Kid LAROI &amp; Justin Bieber</td>\n",
       "      <td>2</td>\n",
       "      <td>1</td>\n",
       "      <td>1</td>\n",
       "      <td>12</td>\n",
       "    </tr>\n",
       "    <tr>\n",
       "      <th>2</th>\n",
       "      <td>Industry Baby</td>\n",
       "      <td>Lil Nas X &amp; Jack Harlow</td>\n",
       "      <td>3</td>\n",
       "      <td>2</td>\n",
       "      <td>2</td>\n",
       "      <td>10</td>\n",
       "    </tr>\n",
       "    <tr>\n",
       "      <th>3</th>\n",
       "      <td>Way 2 Sexy</td>\n",
       "      <td>Drake Featuring Future &amp; Young Thug</td>\n",
       "      <td>4</td>\n",
       "      <td>3</td>\n",
       "      <td>1</td>\n",
       "      <td>4</td>\n",
       "    </tr>\n",
       "    <tr>\n",
       "      <th>4</th>\n",
       "      <td>Fancy Like</td>\n",
       "      <td>Walker Hayes</td>\n",
       "      <td>5</td>\n",
       "      <td>5</td>\n",
       "      <td>5</td>\n",
       "      <td>15</td>\n",
       "    </tr>\n",
       "    <tr>\n",
       "      <th>...</th>\n",
       "      <td>...</td>\n",
       "      <td>...</td>\n",
       "      <td>...</td>\n",
       "      <td>...</td>\n",
       "      <td>...</td>\n",
       "      <td>...</td>\n",
       "    </tr>\n",
       "    <tr>\n",
       "      <th>95</th>\n",
       "      <td>Pipe Down</td>\n",
       "      <td>Drake</td>\n",
       "      <td>96</td>\n",
       "      <td>68</td>\n",
       "      <td>14</td>\n",
       "      <td>4</td>\n",
       "    </tr>\n",
       "    <tr>\n",
       "      <th>96</th>\n",
       "      <td>Papi's Home</td>\n",
       "      <td>Drake</td>\n",
       "      <td>97</td>\n",
       "      <td>66</td>\n",
       "      <td>8</td>\n",
       "      <td>4</td>\n",
       "    </tr>\n",
       "    <tr>\n",
       "      <th>97</th>\n",
       "      <td>Chosen</td>\n",
       "      <td>Blxst &amp; Tyga Featuring Ty Dolla $ign</td>\n",
       "      <td>98</td>\n",
       "      <td>-</td>\n",
       "      <td>98</td>\n",
       "      <td>1</td>\n",
       "    </tr>\n",
       "    <tr>\n",
       "      <th>98</th>\n",
       "      <td>Toxic Punk</td>\n",
       "      <td>YoungBoy Never Broke Again</td>\n",
       "      <td>99</td>\n",
       "      <td>-</td>\n",
       "      <td>99</td>\n",
       "      <td>1</td>\n",
       "    </tr>\n",
       "    <tr>\n",
       "      <th>99</th>\n",
       "      <td>Moon</td>\n",
       "      <td>Kanye West</td>\n",
       "      <td>100</td>\n",
       "      <td>76</td>\n",
       "      <td>17</td>\n",
       "      <td>5</td>\n",
       "    </tr>\n",
       "  </tbody>\n",
       "</table>\n",
       "<p>100 rows × 6 columns</p>\n",
       "</div>"
      ],
      "text/plain": [
       "             song                                artist current_rank  \\\n",
       "0     My Universe                        Coldplay x BTS            1   \n",
       "1            Stay         The Kid LAROI & Justin Bieber            2   \n",
       "2   Industry Baby               Lil Nas X & Jack Harlow            3   \n",
       "3      Way 2 Sexy   Drake Featuring Future & Young Thug            4   \n",
       "4      Fancy Like                          Walker Hayes            5   \n",
       "..            ...                                   ...          ...   \n",
       "95      Pipe Down                                 Drake           96   \n",
       "96    Papi's Home                                 Drake           97   \n",
       "97         Chosen  Blxst & Tyga Featuring Ty Dolla $ign           98   \n",
       "98     Toxic Punk            YoungBoy Never Broke Again           99   \n",
       "99           Moon                            Kanye West          100   \n",
       "\n",
       "   last_week_rank peak_rank weeks_on_chart  \n",
       "0               -         1              1  \n",
       "1               1         1             12  \n",
       "2               2         2             10  \n",
       "3               3         1              4  \n",
       "4               5         5             15  \n",
       "..            ...       ...            ...  \n",
       "95             68        14              4  \n",
       "96             66         8              4  \n",
       "97              -        98              1  \n",
       "98              -        99              1  \n",
       "99             76        17              5  \n",
       "\n",
       "[100 rows x 6 columns]"
      ]
     },
     "execution_count": 19,
     "metadata": {},
     "output_type": "execute_result"
    }
   ],
   "source": [
    "billboard"
   ]
  },
  {
   "cell_type": "code",
   "execution_count": null,
   "id": "1bdcea94",
   "metadata": {},
   "outputs": [],
   "source": []
  }
 ],
 "metadata": {
  "kernelspec": {
   "display_name": "Python 3",
   "language": "python",
   "name": "python3"
  },
  "language_info": {
   "codemirror_mode": {
    "name": "ipython",
    "version": 3
   },
   "file_extension": ".py",
   "mimetype": "text/x-python",
   "name": "python",
   "nbconvert_exporter": "python",
   "pygments_lexer": "ipython3",
   "version": "3.8.8"
  },
  "toc": {
   "base_numbering": 1,
   "nav_menu": {},
   "number_sections": true,
   "sideBar": true,
   "skip_h1_title": false,
   "title_cell": "Table of Contents",
   "title_sidebar": "Contents",
   "toc_cell": true,
   "toc_position": {},
   "toc_section_display": true,
   "toc_window_display": false
  },
  "varInspector": {
   "cols": {
    "lenName": 16,
    "lenType": 16,
    "lenVar": 40
   },
   "kernels_config": {
    "python": {
     "delete_cmd_postfix": "",
     "delete_cmd_prefix": "del ",
     "library": "var_list.py",
     "varRefreshCmd": "print(var_dic_list())"
    },
    "r": {
     "delete_cmd_postfix": ") ",
     "delete_cmd_prefix": "rm(",
     "library": "var_list.r",
     "varRefreshCmd": "cat(var_dic_list()) "
    }
   },
   "types_to_exclude": [
    "module",
    "function",
    "builtin_function_or_method",
    "instance",
    "_Feature"
   ],
   "window_display": false
  }
 },
 "nbformat": 4,
 "nbformat_minor": 5
}
