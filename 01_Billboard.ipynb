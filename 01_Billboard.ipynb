{
 "cells": [
  {
   "cell_type": "markdown",
   "id": "adequate-aurora",
   "metadata": {
    "toc": true
   },
   "source": [
    "<h1>Table of Contents<span class=\"tocSkip\"></span></h1>\n",
    "<div class=\"toc\"><ul class=\"toc-item\"><li><span><a href=\"#Import-libraries\" data-toc-modified-id=\"Import-libraries-1\"><span class=\"toc-item-num\">1&nbsp;&nbsp;</span>Import libraries</a></span></li><li><span><a href=\"#Store-the-hot-100-songs-list-from-billboard-url-in-a-variable\" data-toc-modified-id=\"Store-the-hot-100-songs-list-from-billboard-url-in-a-variable-2\"><span class=\"toc-item-num\">2&nbsp;&nbsp;</span>Store the hot-100 songs list from billboard url in a variable</a></span></li><li><span><a href=\"#Download-html-with-a-get-request\" data-toc-modified-id=\"Download-html-with-a-get-request-3\"><span class=\"toc-item-num\">3&nbsp;&nbsp;</span>Download html with a get request</a></span></li><li><span><a href=\"#Parse-html-(create-the-'soup')\" data-toc-modified-id=\"Parse-html-(create-the-'soup')-4\"><span class=\"toc-item-num\">4&nbsp;&nbsp;</span>Parse html (create the 'soup')</a></span></li><li><span><a href=\"#Retrieve/extract-the-desired-info\" data-toc-modified-id=\"Retrieve/extract-the-desired-info-5\"><span class=\"toc-item-num\">5&nbsp;&nbsp;</span>Retrieve/extract the desired info</a></span></li><li><span><a href=\"#Get-the-text\" data-toc-modified-id=\"Get-the-text-6\"><span class=\"toc-item-num\">6&nbsp;&nbsp;</span>Get the text</a></span></li><li><span><a href=\"#Build-a-dataframe\" data-toc-modified-id=\"Build-a-dataframe-7\"><span class=\"toc-item-num\">7&nbsp;&nbsp;</span>Build a dataframe</a></span></li><li><span><a href=\"#Extra-questions\" data-toc-modified-id=\"Extra-questions-8\"><span class=\"toc-item-num\">8&nbsp;&nbsp;</span>Extra questions</a></span></li></ul></div>"
   ]
  },
  {
   "cell_type": "markdown",
   "id": "together-terminology",
   "metadata": {},
   "source": [
    "## Import libraries"
   ]
  },
  {
   "cell_type": "code",
   "execution_count": 1,
   "id": "little-prophet",
   "metadata": {},
   "outputs": [],
   "source": [
    "from bs4 import BeautifulSoup\n",
    "import requests\n",
    "import pandas as pd"
   ]
  },
  {
   "cell_type": "code",
   "execution_count": null,
   "id": "a52ad9ba-5f3c-4760-995d-3e57933d0a52",
   "metadata": {},
   "outputs": [],
   "source": []
  },
  {
   "cell_type": "markdown",
   "id": "political-wright",
   "metadata": {},
   "source": [
    "# Billboard Hot 100 data\n",
    "\n",
    "## Store the hot-100 songs list from billboard url in a variable"
   ]
  },
  {
   "cell_type": "code",
   "execution_count": 2,
   "id": "promotional-algorithm",
   "metadata": {},
   "outputs": [],
   "source": [
    "url = \"https://www.billboard.com/charts/hot-100\""
   ]
  },
  {
   "cell_type": "markdown",
   "id": "indian-fossil",
   "metadata": {},
   "source": [
    "## Download html with a get request"
   ]
  },
  {
   "cell_type": "code",
   "execution_count": 3,
   "id": "civic-broad",
   "metadata": {},
   "outputs": [
    {
     "data": {
      "text/plain": [
       "200"
      ]
     },
     "execution_count": 3,
     "metadata": {},
     "output_type": "execute_result"
    }
   ],
   "source": [
    "response = requests.get(url)\n",
    "response.status_code\n",
    "# 200 status code means OK!"
   ]
  },
  {
   "cell_type": "markdown",
   "id": "arbitrary-patrick",
   "metadata": {},
   "source": [
    "## Parse html (create the 'soup')"
   ]
  },
  {
   "cell_type": "code",
   "execution_count": 4,
   "id": "revised-digest",
   "metadata": {},
   "outputs": [],
   "source": [
    "soup = BeautifulSoup(response.content, \"html.parser\")"
   ]
  },
  {
   "cell_type": "markdown",
   "id": "damaged-watts",
   "metadata": {},
   "source": [
    "## Retrieve/extract the desired info"
   ]
  },
  {
   "cell_type": "code",
   "execution_count": 5,
   "id": "falling-chambers",
   "metadata": {},
   "outputs": [],
   "source": [
    "# songs\n",
    "songs = soup.find_all(\"span\", class_=\"chart-element__information__song text--truncate color--primary\")\n",
    "\n",
    "# artists\n",
    "artists = soup.find_all(\"span\", class_=\"chart-element__information__artist text--truncate color--secondary\")\n",
    "\n",
    "# last week\n",
    "last_week_ranks = soup.find_all(\"span\", class_= \"chart-element__meta text--center color--secondary text--last\")\n",
    "\n",
    "# peak rank\n",
    "peak_ranks = soup.find_all(\"span\", class_= \"chart-element__meta text--center color--secondary text--peak\")\n",
    "\n",
    "# weeks on chart\n",
    "weeks_on_chart = soup.find_all(\"span\", class_= \"chart-element__meta text--center color--secondary text--week\")\n"
   ]
  },
  {
   "cell_type": "code",
   "execution_count": 6,
   "id": "f2ecd39f-81da-4386-8e8d-bef7e9b4ceaf",
   "metadata": {},
   "outputs": [
    {
     "data": {
      "text/plain": [
       "[<span class=\"chart-element__information__song text--truncate color--primary\">My Universe</span>,\n",
       " <span class=\"chart-element__information__song text--truncate color--primary\">Stay</span>,\n",
       " <span class=\"chart-element__information__song text--truncate color--primary\">Industry Baby</span>,\n",
       " <span class=\"chart-element__information__song text--truncate color--primary\">Way 2 Sexy</span>,\n",
       " <span class=\"chart-element__information__song text--truncate color--primary\">Fancy Like</span>,\n",
       " <span class=\"chart-element__information__song text--truncate color--primary\">Bad Habits</span>,\n",
       " <span class=\"chart-element__information__song text--truncate color--primary\">Good 4 U</span>,\n",
       " <span class=\"chart-element__information__song text--truncate color--primary\">Kiss Me More</span>,\n",
       " <span class=\"chart-element__information__song text--truncate color--primary\">Knife Talk</span>,\n",
       " <span class=\"chart-element__information__song text--truncate color--primary\">Levitating</span>,\n",
       " <span class=\"chart-element__information__song text--truncate color--primary\">Essence</span>,\n",
       " <span class=\"chart-element__information__song text--truncate color--primary\">Save Your Tears</span>,\n",
       " <span class=\"chart-element__information__song text--truncate color--primary\">Montero (Call Me By Your Name)</span>,\n",
       " <span class=\"chart-element__information__song text--truncate color--primary\">Shivers</span>,\n",
       " <span class=\"chart-element__information__song text--truncate color--primary\">Heat Waves</span>,\n",
       " <span class=\"chart-element__information__song text--truncate color--primary\">Need To Know</span>,\n",
       " <span class=\"chart-element__information__song text--truncate color--primary\">Girls Want Girls</span>,\n",
       " <span class=\"chart-element__information__song text--truncate color--primary\">You Right</span>,\n",
       " <span class=\"chart-element__information__song text--truncate color--primary\">Beggin'</span>,\n",
       " <span class=\"chart-element__information__song text--truncate color--primary\">Wockesha</span>,\n",
       " <span class=\"chart-element__information__song text--truncate color--primary\">If I Didn't Love You</span>,\n",
       " <span class=\"chart-element__information__song text--truncate color--primary\">Take My Breath</span>,\n",
       " <span class=\"chart-element__information__song text--truncate color--primary\">Fair Trade</span>,\n",
       " <span class=\"chart-element__information__song text--truncate color--primary\">Thats What I Want</span>,\n",
       " <span class=\"chart-element__information__song text--truncate color--primary\">Traitor</span>,\n",
       " <span class=\"chart-element__information__song text--truncate color--primary\">Cold Beer Calling My Name</span>,\n",
       " <span class=\"chart-element__information__song text--truncate color--primary\">Chasing After You</span>,\n",
       " <span class=\"chart-element__information__song text--truncate color--primary\">Bad Morning</span>,\n",
       " <span class=\"chart-element__information__song text--truncate color--primary\">Pepas</span>,\n",
       " <span class=\"chart-element__information__song text--truncate color--primary\">Deja Vu</span>,\n",
       " <span class=\"chart-element__information__song text--truncate color--primary\">Happier Than Ever</span>,\n",
       " <span class=\"chart-element__information__song text--truncate color--primary\">Your Heart</span>,\n",
       " <span class=\"chart-element__information__song text--truncate color--primary\">Leave The Door Open</span>,\n",
       " <span class=\"chart-element__information__song text--truncate color--primary\">Hurricane</span>,\n",
       " <span class=\"chart-element__information__song text--truncate color--primary\">A-O-K</span>,\n",
       " <span class=\"chart-element__information__song text--truncate color--primary\">Butter</span>,\n",
       " <span class=\"chart-element__information__song text--truncate color--primary\">On My Side</span>,\n",
       " <span class=\"chart-element__information__song text--truncate color--primary\">Too Easy</span>,\n",
       " <span class=\"chart-element__information__song text--truncate color--primary\">Leave Before You Love Me</span>,\n",
       " <span class=\"chart-element__information__song text--truncate color--primary\">No Where</span>,\n",
       " <span class=\"chart-element__information__song text--truncate color--primary\">Peaches</span>,\n",
       " <span class=\"chart-element__information__song text--truncate color--primary\">Family Ties</span>,\n",
       " <span class=\"chart-element__information__song text--truncate color--primary\">Memory I Don't Mess With</span>,\n",
       " <span class=\"chart-element__information__song text--truncate color--primary\">Late At Night</span>,\n",
       " <span class=\"chart-element__information__song text--truncate color--primary\">Things A Man Oughta Know</span>,\n",
       " <span class=\"chart-element__information__song text--truncate color--primary\">Cold Heart (PNAU Remix)</span>,\n",
       " <span class=\"chart-element__information__song text--truncate color--primary\">Meet Me At Our Spot</span>,\n",
       " <span class=\"chart-element__information__song text--truncate color--primary\">Life Support</span>,\n",
       " <span class=\"chart-element__information__song text--truncate color--primary\">I Was On A Boat That Day</span>,\n",
       " <span class=\"chart-element__information__song text--truncate color--primary\">Love Nwantiti (Ah Ah Ah)</span>,\n",
       " <span class=\"chart-element__information__song text--truncate color--primary\">Wild Side</span>,\n",
       " <span class=\"chart-element__information__song text--truncate color--primary\">Whole Lotta Money</span>,\n",
       " <span class=\"chart-element__information__song text--truncate color--primary\">Hold Me Down</span>,\n",
       " <span class=\"chart-element__information__song text--truncate color--primary\">Champagne Poetry</span>,\n",
       " <span class=\"chart-element__information__song text--truncate color--primary\">Buy Dirt</span>,\n",
       " <span class=\"chart-element__information__song text--truncate color--primary\">Have Mercy</span>,\n",
       " <span class=\"chart-element__information__song text--truncate color--primary\">Love Again</span>,\n",
       " <span class=\"chart-element__information__song text--truncate color--primary\">Nevada</span>,\n",
       " <span class=\"chart-element__information__song text--truncate color--primary\">50 Shots</span>,\n",
       " <span class=\"chart-element__information__song text--truncate color--primary\">No Friends In The Industry</span>,\n",
       " <span class=\"chart-element__information__song text--truncate color--primary\">Smoke Strong</span>,\n",
       " <span class=\"chart-element__information__song text--truncate color--primary\">Break Or Make Me</span>,\n",
       " <span class=\"chart-element__information__song text--truncate color--primary\">You Time</span>,\n",
       " <span class=\"chart-element__information__song text--truncate color--primary\">Gyalis</span>,\n",
       " <span class=\"chart-element__information__song text--truncate color--primary\">Cold As You</span>,\n",
       " <span class=\"chart-element__information__song text--truncate color--primary\">My Boy</span>,\n",
       " <span class=\"chart-element__information__song text--truncate color--primary\">Sincerely</span>,\n",
       " <span class=\"chart-element__information__song text--truncate color--primary\">Drunk (And I Don't Wanna Go Home)</span>,\n",
       " <span class=\"chart-element__information__song text--truncate color--primary\">I Can't Take It Back</span>,\n",
       " <span class=\"chart-element__information__song text--truncate color--primary\">Waves</span>,\n",
       " <span class=\"chart-element__information__song text--truncate color--primary\">Sharing Locations</span>,\n",
       " <span class=\"chart-element__information__song text--truncate color--primary\">In The Bible</span>,\n",
       " <span class=\"chart-element__information__song text--truncate color--primary\">Thot Shit</span>,\n",
       " <span class=\"chart-element__information__song text--truncate color--primary\">Rumors</span>,\n",
       " <span class=\"chart-element__information__song text--truncate color--primary\">Woman</span>,\n",
       " <span class=\"chart-element__information__song text--truncate color--primary\">Thinking 'Bout You</span>,\n",
       " <span class=\"chart-element__information__song text--truncate color--primary\">Baddest</span>,\n",
       " <span class=\"chart-element__information__song text--truncate color--primary\">2055</span>,\n",
       " <span class=\"chart-element__information__song text--truncate color--primary\">Memory</span>,\n",
       " <span class=\"chart-element__information__song text--truncate color--primary\">Forgiato</span>,\n",
       " <span class=\"chart-element__information__song text--truncate color--primary\">You Should Probably Leave</span>,\n",
       " <span class=\"chart-element__information__song text--truncate color--primary\">Drinkin' Beer. Talkin' God. Amen.</span>,\n",
       " <span class=\"chart-element__information__song text--truncate color--primary\">Rich Shit</span>,\n",
       " <span class=\"chart-element__information__song text--truncate color--primary\">TSU</span>,\n",
       " <span class=\"chart-element__information__song text--truncate color--primary\">Volvi</span>,\n",
       " <span class=\"chart-element__information__song text--truncate color--primary\">Todo de Ti</span>,\n",
       " <span class=\"chart-element__information__song text--truncate color--primary\">Love All</span>,\n",
       " <span class=\"chart-element__information__song text--truncate color--primary\">N 2 Deep</span>,\n",
       " <span class=\"chart-element__information__song text--truncate color--primary\">Yonaguni</span>,\n",
       " <span class=\"chart-element__information__song text--truncate color--primary\">Knowing You</span>,\n",
       " <span class=\"chart-element__information__song text--truncate color--primary\">For Tonight</span>,\n",
       " <span class=\"chart-element__information__song text--truncate color--primary\">Baddest Thing</span>,\n",
       " <span class=\"chart-element__information__song text--truncate color--primary\">Summer Of Love</span>,\n",
       " <span class=\"chart-element__information__song text--truncate color--primary\">Get Into It (Yuh)</span>,\n",
       " <span class=\"chart-element__information__song text--truncate color--primary\">Same Boat</span>,\n",
       " <span class=\"chart-element__information__song text--truncate color--primary\">Pipe Down</span>,\n",
       " <span class=\"chart-element__information__song text--truncate color--primary\">Papi's Home</span>,\n",
       " <span class=\"chart-element__information__song text--truncate color--primary\">Chosen</span>,\n",
       " <span class=\"chart-element__information__song text--truncate color--primary\">Toxic Punk</span>,\n",
       " <span class=\"chart-element__information__song text--truncate color--primary\">Moon</span>]"
      ]
     },
     "execution_count": 6,
     "metadata": {},
     "output_type": "execute_result"
    }
   ],
   "source": [
    "songs"
   ]
  },
  {
   "cell_type": "markdown",
   "id": "employed-chemistry",
   "metadata": {},
   "source": [
    "## Get the text"
   ]
  },
  {
   "cell_type": "code",
   "execution_count": 7,
   "id": "amateur-protocol",
   "metadata": {},
   "outputs": [],
   "source": [
    "for item in [songs, artists, last_week_ranks, peak_ranks, weeks_on_chart]:\n",
    "    for txt in range(len(item)):\n",
    "        item[txt] = item[txt].getText()"
   ]
  },
  {
   "cell_type": "code",
   "execution_count": 8,
   "id": "b63b1793-e70d-40ab-af97-00a0fa8ca7d1",
   "metadata": {},
   "outputs": [
    {
     "data": {
      "text/plain": [
       "['My Universe',\n",
       " 'Stay',\n",
       " 'Industry Baby',\n",
       " 'Way 2 Sexy',\n",
       " 'Fancy Like',\n",
       " 'Bad Habits',\n",
       " 'Good 4 U',\n",
       " 'Kiss Me More',\n",
       " 'Knife Talk',\n",
       " 'Levitating',\n",
       " 'Essence',\n",
       " 'Save Your Tears',\n",
       " 'Montero (Call Me By Your Name)',\n",
       " 'Shivers',\n",
       " 'Heat Waves',\n",
       " 'Need To Know',\n",
       " 'Girls Want Girls',\n",
       " 'You Right',\n",
       " \"Beggin'\",\n",
       " 'Wockesha',\n",
       " \"If I Didn't Love You\",\n",
       " 'Take My Breath',\n",
       " 'Fair Trade',\n",
       " 'Thats What I Want',\n",
       " 'Traitor',\n",
       " 'Cold Beer Calling My Name',\n",
       " 'Chasing After You',\n",
       " 'Bad Morning',\n",
       " 'Pepas',\n",
       " 'Deja Vu',\n",
       " 'Happier Than Ever',\n",
       " 'Your Heart',\n",
       " 'Leave The Door Open',\n",
       " 'Hurricane',\n",
       " 'A-O-K',\n",
       " 'Butter',\n",
       " 'On My Side',\n",
       " 'Too Easy',\n",
       " 'Leave Before You Love Me',\n",
       " 'No Where',\n",
       " 'Peaches',\n",
       " 'Family Ties',\n",
       " \"Memory I Don't Mess With\",\n",
       " 'Late At Night',\n",
       " 'Things A Man Oughta Know',\n",
       " 'Cold Heart (PNAU Remix)',\n",
       " 'Meet Me At Our Spot',\n",
       " 'Life Support',\n",
       " 'I Was On A Boat That Day',\n",
       " 'Love Nwantiti (Ah Ah Ah)',\n",
       " 'Wild Side',\n",
       " 'Whole Lotta Money',\n",
       " 'Hold Me Down',\n",
       " 'Champagne Poetry',\n",
       " 'Buy Dirt',\n",
       " 'Have Mercy',\n",
       " 'Love Again',\n",
       " 'Nevada',\n",
       " '50 Shots',\n",
       " 'No Friends In The Industry',\n",
       " 'Smoke Strong',\n",
       " 'Break Or Make Me',\n",
       " 'You Time',\n",
       " 'Gyalis',\n",
       " 'Cold As You',\n",
       " 'My Boy',\n",
       " 'Sincerely',\n",
       " \"Drunk (And I Don't Wanna Go Home)\",\n",
       " \"I Can't Take It Back\",\n",
       " 'Waves',\n",
       " 'Sharing Locations',\n",
       " 'In The Bible',\n",
       " 'Thot Shit',\n",
       " 'Rumors',\n",
       " 'Woman',\n",
       " \"Thinking 'Bout You\",\n",
       " 'Baddest',\n",
       " '2055',\n",
       " 'Memory',\n",
       " 'Forgiato',\n",
       " 'You Should Probably Leave',\n",
       " \"Drinkin' Beer. Talkin' God. Amen.\",\n",
       " 'Rich Shit',\n",
       " 'TSU',\n",
       " 'Volvi',\n",
       " 'Todo de Ti',\n",
       " 'Love All',\n",
       " 'N 2 Deep',\n",
       " 'Yonaguni',\n",
       " 'Knowing You',\n",
       " 'For Tonight',\n",
       " 'Baddest Thing',\n",
       " 'Summer Of Love',\n",
       " 'Get Into It (Yuh)',\n",
       " 'Same Boat',\n",
       " 'Pipe Down',\n",
       " \"Papi's Home\",\n",
       " 'Chosen',\n",
       " 'Toxic Punk',\n",
       " 'Moon']"
      ]
     },
     "execution_count": 8,
     "metadata": {},
     "output_type": "execute_result"
    }
   ],
   "source": [
    "songs"
   ]
  },
  {
   "cell_type": "markdown",
   "id": "every-degree",
   "metadata": {},
   "source": [
    "## Build a dataframe"
   ]
  },
  {
   "cell_type": "code",
   "execution_count": 9,
   "id": "external-instrumentation",
   "metadata": {},
   "outputs": [],
   "source": [
    "hot100 = pd.DataFrame(\n",
    "    {\"song\": songs,\n",
    "     \"artist\": artists,\n",
    "     \"last_week_rank\": last_week_ranks,\n",
    "     \"peak_rank\": peak_ranks,\n",
    "     \"weeks_on_chart\": weeks_on_chart})"
   ]
  },
  {
   "cell_type": "code",
   "execution_count": 10,
   "id": "dbc8fbe3-e422-47ba-982c-5cb9fa8beea9",
   "metadata": {},
   "outputs": [
    {
     "data": {
      "text/html": [
       "<div>\n",
       "<style scoped>\n",
       "    .dataframe tbody tr th:only-of-type {\n",
       "        vertical-align: middle;\n",
       "    }\n",
       "\n",
       "    .dataframe tbody tr th {\n",
       "        vertical-align: top;\n",
       "    }\n",
       "\n",
       "    .dataframe thead th {\n",
       "        text-align: right;\n",
       "    }\n",
       "</style>\n",
       "<table border=\"1\" class=\"dataframe\">\n",
       "  <thead>\n",
       "    <tr style=\"text-align: right;\">\n",
       "      <th></th>\n",
       "      <th>song</th>\n",
       "      <th>artist</th>\n",
       "      <th>last_week_rank</th>\n",
       "      <th>peak_rank</th>\n",
       "      <th>weeks_on_chart</th>\n",
       "    </tr>\n",
       "  </thead>\n",
       "  <tbody>\n",
       "    <tr>\n",
       "      <th>0</th>\n",
       "      <td>My Universe</td>\n",
       "      <td>Coldplay x BTS</td>\n",
       "      <td>-</td>\n",
       "      <td>1</td>\n",
       "      <td>1</td>\n",
       "    </tr>\n",
       "    <tr>\n",
       "      <th>1</th>\n",
       "      <td>Stay</td>\n",
       "      <td>The Kid LAROI &amp; Justin Bieber</td>\n",
       "      <td>1</td>\n",
       "      <td>1</td>\n",
       "      <td>12</td>\n",
       "    </tr>\n",
       "    <tr>\n",
       "      <th>2</th>\n",
       "      <td>Industry Baby</td>\n",
       "      <td>Lil Nas X &amp; Jack Harlow</td>\n",
       "      <td>2</td>\n",
       "      <td>2</td>\n",
       "      <td>10</td>\n",
       "    </tr>\n",
       "    <tr>\n",
       "      <th>3</th>\n",
       "      <td>Way 2 Sexy</td>\n",
       "      <td>Drake Featuring Future &amp; Young Thug</td>\n",
       "      <td>3</td>\n",
       "      <td>1</td>\n",
       "      <td>4</td>\n",
       "    </tr>\n",
       "    <tr>\n",
       "      <th>4</th>\n",
       "      <td>Fancy Like</td>\n",
       "      <td>Walker Hayes</td>\n",
       "      <td>5</td>\n",
       "      <td>5</td>\n",
       "      <td>15</td>\n",
       "    </tr>\n",
       "  </tbody>\n",
       "</table>\n",
       "</div>"
      ],
      "text/plain": [
       "            song                               artist last_week_rank  \\\n",
       "0    My Universe                       Coldplay x BTS              -   \n",
       "1           Stay        The Kid LAROI & Justin Bieber              1   \n",
       "2  Industry Baby              Lil Nas X & Jack Harlow              2   \n",
       "3     Way 2 Sexy  Drake Featuring Future & Young Thug              3   \n",
       "4     Fancy Like                         Walker Hayes              5   \n",
       "\n",
       "  peak_rank weeks_on_chart  \n",
       "0         1              1  \n",
       "1         1             12  \n",
       "2         2             10  \n",
       "3         1              4  \n",
       "4         5             15  "
      ]
     },
     "execution_count": 10,
     "metadata": {},
     "output_type": "execute_result"
    }
   ],
   "source": [
    "hot100.head()"
   ]
  },
  {
   "cell_type": "code",
   "execution_count": null,
   "id": "df961efa-93a5-453f-a47d-e1d9e83d51c8",
   "metadata": {},
   "outputs": [],
   "source": []
  },
  {
   "cell_type": "markdown",
   "id": "2b8de2bc-ed0b-43c0-848e-d4b344d6cd92",
   "metadata": {},
   "source": [
    "# World Singles Top 100 data"
   ]
  },
  {
   "cell_type": "code",
   "execution_count": 11,
   "id": "55049c18-398c-4b7a-8e10-1e47dcb0b3ec",
   "metadata": {},
   "outputs": [],
   "source": [
    "url_ws100 = \"https://top40-charts.com/chart.php?cid=35\""
   ]
  },
  {
   "cell_type": "code",
   "execution_count": 12,
   "id": "f40b44b4-b68e-4622-b55a-ec3f5a518671",
   "metadata": {},
   "outputs": [
    {
     "data": {
      "text/plain": [
       "200"
      ]
     },
     "execution_count": 12,
     "metadata": {},
     "output_type": "execute_result"
    }
   ],
   "source": [
    "response = requests.get(url_ws100)\n",
    "response.status_code"
   ]
  },
  {
   "cell_type": "code",
   "execution_count": 53,
   "id": "f80755c2-09b7-4706-8f69-7d2b616ce83c",
   "metadata": {},
   "outputs": [],
   "source": [
    "soup_ws100 = BeautifulSoup(response.content, \"html.parser\")\n",
    "\n",
    "ws100_page = soup_ws100.find_all('tr', attrs={'class': 'latc_song'})"
   ]
  },
  {
   "cell_type": "code",
   "execution_count": 54,
   "id": "0e0855af-1e10-4542-83a4-67a0f922fa31",
   "metadata": {},
   "outputs": [],
   "source": [
    "ws100_songs, ws100_artists, ws100_last_week_ranks, ws100_peak_ranks, ws100_weeks_on_chart = [], [], [], [], []\n",
    "\n",
    "for song in ws100_page:\n",
    "    ws100_songs.append(song.find_all('a')[2].get_text())\n",
    "    ws100_artists.append(song.find_all('a')[3].get_text())\n",
    "    ws100_last_week_ranks.append(song.find_all('td', attrs={'class': 'text-nowrap text-center'})[2].get_text())\n",
    "    ws100_peak_ranks.append(song.find_all('td', attrs={'align': 'right'})[3].find('font').get_text())\n",
    "    ws100_weeks_on_chart.append(song.find_all('td', attrs={'align': 'right'})[4].find('font').get_text())\n",
    "    "
   ]
  },
  {
   "cell_type": "code",
   "execution_count": 56,
   "id": "bf1db00b-b7a4-46ce-b6ad-9b171c1d1cff",
   "metadata": {},
   "outputs": [],
   "source": [
    "ws100 = pd.DataFrame(\n",
    "    {\"song\": ws100_songs,\n",
    "     \"artist\": ws100_artists,\n",
    "     \"last_week_rank\": ws100_last_week_ranks,\n",
    "     \"peak_rank\": ws100_peak_ranks,\n",
    "     \"weeks_on_chart\": ws100_weeks_on_chart})"
   ]
  },
  {
   "cell_type": "code",
   "execution_count": 57,
   "id": "f8f8a5fa-d42b-4cb8-bebd-6c8ebff138d7",
   "metadata": {},
   "outputs": [
    {
     "data": {
      "text/html": [
       "<div>\n",
       "<style scoped>\n",
       "    .dataframe tbody tr th:only-of-type {\n",
       "        vertical-align: middle;\n",
       "    }\n",
       "\n",
       "    .dataframe tbody tr th {\n",
       "        vertical-align: top;\n",
       "    }\n",
       "\n",
       "    .dataframe thead th {\n",
       "        text-align: right;\n",
       "    }\n",
       "</style>\n",
       "<table border=\"1\" class=\"dataframe\">\n",
       "  <thead>\n",
       "    <tr style=\"text-align: right;\">\n",
       "      <th></th>\n",
       "      <th>song</th>\n",
       "      <th>artist</th>\n",
       "      <th>last_week_rank</th>\n",
       "      <th>peak_rank</th>\n",
       "      <th>weeks_on_chart</th>\n",
       "    </tr>\n",
       "  </thead>\n",
       "  <tbody>\n",
       "    <tr>\n",
       "      <th>0</th>\n",
       "      <td>Stay</td>\n",
       "      <td>Kid Laroi &amp; Justin Bieber</td>\n",
       "      <td>1</td>\n",
       "      <td>1</td>\n",
       "      <td>12</td>\n",
       "    </tr>\n",
       "    <tr>\n",
       "      <th>1</th>\n",
       "      <td>Bad Habits</td>\n",
       "      <td>Ed Sheeran</td>\n",
       "      <td>6</td>\n",
       "      <td>1</td>\n",
       "      <td>14</td>\n",
       "    </tr>\n",
       "    <tr>\n",
       "      <th>2</th>\n",
       "      <td>Industry Baby</td>\n",
       "      <td>Lil Nas X &amp; Jack Harlow</td>\n",
       "      <td>5</td>\n",
       "      <td>2</td>\n",
       "      <td>10</td>\n",
       "    </tr>\n",
       "    <tr>\n",
       "      <th>3</th>\n",
       "      <td>Shivers</td>\n",
       "      <td>Ed Sheeran</td>\n",
       "      <td>2</td>\n",
       "      <td>2</td>\n",
       "      <td>3</td>\n",
       "    </tr>\n",
       "    <tr>\n",
       "      <th>4</th>\n",
       "      <td>Thats What I Want</td>\n",
       "      <td>Lil Nas X</td>\n",
       "      <td>3</td>\n",
       "      <td>3</td>\n",
       "      <td>2</td>\n",
       "    </tr>\n",
       "    <tr>\n",
       "      <th>...</th>\n",
       "      <td>...</td>\n",
       "      <td>...</td>\n",
       "      <td>...</td>\n",
       "      <td>...</td>\n",
       "      <td>...</td>\n",
       "    </tr>\n",
       "    <tr>\n",
       "      <th>95</th>\n",
       "      <td>Remote Control</td>\n",
       "      <td>Kanye West</td>\n",
       "      <td>62</td>\n",
       "      <td>62</td>\n",
       "      <td>2</td>\n",
       "    </tr>\n",
       "    <tr>\n",
       "      <th>96</th>\n",
       "      <td>Tu Mi Hai Capito</td>\n",
       "      <td>Madame &amp; Sfera Ebbasta</td>\n",
       "      <td>RE</td>\n",
       "      <td>2</td>\n",
       "      <td>14</td>\n",
       "    </tr>\n",
       "    <tr>\n",
       "      <th>97</th>\n",
       "      <td>Todo De Ti</td>\n",
       "      <td>Rauw Alejandro</td>\n",
       "      <td>100</td>\n",
       "      <td>57</td>\n",
       "      <td>7</td>\n",
       "    </tr>\n",
       "    <tr>\n",
       "      <th>98</th>\n",
       "      <td>Ik Ga Zwemmen</td>\n",
       "      <td>Mart Hoogkamer</td>\n",
       "      <td>RE</td>\n",
       "      <td>6</td>\n",
       "      <td>24</td>\n",
       "    </tr>\n",
       "    <tr>\n",
       "      <th>99</th>\n",
       "      <td>Lucciole</td>\n",
       "      <td>Blanco</td>\n",
       "      <td>RE</td>\n",
       "      <td>2</td>\n",
       "      <td>13</td>\n",
       "    </tr>\n",
       "  </tbody>\n",
       "</table>\n",
       "<p>100 rows × 5 columns</p>\n",
       "</div>"
      ],
      "text/plain": [
       "                 song                     artist last_week_rank peak_rank  \\\n",
       "0                Stay  Kid Laroi & Justin Bieber              1         1   \n",
       "1          Bad Habits                 Ed Sheeran              6         1   \n",
       "2       Industry Baby    Lil Nas X & Jack Harlow              5         2   \n",
       "3             Shivers                 Ed Sheeran              2         2   \n",
       "4   Thats What I Want                  Lil Nas X              3         3   \n",
       "..                ...                        ...            ...       ...   \n",
       "95     Remote Control                 Kanye West             62        62   \n",
       "96   Tu Mi Hai Capito     Madame & Sfera Ebbasta             RE         2   \n",
       "97         Todo De Ti             Rauw Alejandro            100        57   \n",
       "98      Ik Ga Zwemmen             Mart Hoogkamer             RE         6   \n",
       "99           Lucciole                     Blanco             RE         2   \n",
       "\n",
       "   weeks_on_chart  \n",
       "0              12  \n",
       "1              14  \n",
       "2              10  \n",
       "3               3  \n",
       "4               2  \n",
       "..            ...  \n",
       "95              2  \n",
       "96             14  \n",
       "97              7  \n",
       "98             24  \n",
       "99             13  \n",
       "\n",
       "[100 rows x 5 columns]"
      ]
     },
     "execution_count": 57,
     "metadata": {},
     "output_type": "execute_result"
    }
   ],
   "source": [
    "ws100"
   ]
  },
  {
   "cell_type": "code",
   "execution_count": null,
   "id": "889ddf71-76c6-44f9-a5e4-0abccd3113f3",
   "metadata": {},
   "outputs": [],
   "source": []
  }
 ],
 "metadata": {
  "kernelspec": {
   "display_name": "Python 3",
   "language": "python",
   "name": "python3"
  },
  "language_info": {
   "codemirror_mode": {
    "name": "ipython",
    "version": 3
   },
   "file_extension": ".py",
   "mimetype": "text/x-python",
   "name": "python",
   "nbconvert_exporter": "python",
   "pygments_lexer": "ipython3",
   "version": "3.9.4"
  },
  "toc": {
   "base_numbering": 1,
   "nav_menu": {},
   "number_sections": true,
   "sideBar": true,
   "skip_h1_title": false,
   "title_cell": "Table of Contents",
   "title_sidebar": "Contents",
   "toc_cell": true,
   "toc_position": {},
   "toc_section_display": true,
   "toc_window_display": false
  },
  "varInspector": {
   "cols": {
    "lenName": 16,
    "lenType": 16,
    "lenVar": 40
   },
   "kernels_config": {
    "python": {
     "delete_cmd_postfix": "",
     "delete_cmd_prefix": "del ",
     "library": "var_list.py",
     "varRefreshCmd": "print(var_dic_list())"
    },
    "r": {
     "delete_cmd_postfix": ") ",
     "delete_cmd_prefix": "rm(",
     "library": "var_list.r",
     "varRefreshCmd": "cat(var_dic_list()) "
    }
   },
   "types_to_exclude": [
    "module",
    "function",
    "builtin_function_or_method",
    "instance",
    "_Feature"
   ],
   "window_display": false
  }
 },
 "nbformat": 4,
 "nbformat_minor": 5
}
