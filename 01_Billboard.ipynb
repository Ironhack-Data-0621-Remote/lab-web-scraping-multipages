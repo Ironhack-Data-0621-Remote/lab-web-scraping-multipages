{
 "cells": [
  {
   "cell_type": "markdown",
   "id": "adequate-aurora",
   "metadata": {
    "toc": true
   },
   "source": [
    "<h1>Table of Contents<span class=\"tocSkip\"></span></h1>\n",
    "<div class=\"toc\"><ul class=\"toc-item\"><li><span><a href=\"#Import-libraries\" data-toc-modified-id=\"Import-libraries-1\"><span class=\"toc-item-num\">1&nbsp;&nbsp;</span>Import libraries</a></span></li><li><span><a href=\"#Store-the-hot-100-songs-list-from-billboard-url-in-a-variable\" data-toc-modified-id=\"Store-the-hot-100-songs-list-from-billboard-url-in-a-variable-2\"><span class=\"toc-item-num\">2&nbsp;&nbsp;</span>Store the hot-100 songs list from billboard url in a variable</a></span></li><li><span><a href=\"#Download-html-with-a-get-request\" data-toc-modified-id=\"Download-html-with-a-get-request-3\"><span class=\"toc-item-num\">3&nbsp;&nbsp;</span>Download html with a get request</a></span></li><li><span><a href=\"#Parse-html-(create-the-'soup')\" data-toc-modified-id=\"Parse-html-(create-the-'soup')-4\"><span class=\"toc-item-num\">4&nbsp;&nbsp;</span>Parse html (create the 'soup')</a></span></li><li><span><a href=\"#Retrieve/extract-the-desired-info\" data-toc-modified-id=\"Retrieve/extract-the-desired-info-5\"><span class=\"toc-item-num\">5&nbsp;&nbsp;</span>Retrieve/extract the desired info</a></span></li><li><span><a href=\"#Get-the-text\" data-toc-modified-id=\"Get-the-text-6\"><span class=\"toc-item-num\">6&nbsp;&nbsp;</span>Get the text</a></span></li><li><span><a href=\"#Build-a-dataframe\" data-toc-modified-id=\"Build-a-dataframe-7\"><span class=\"toc-item-num\">7&nbsp;&nbsp;</span>Build a dataframe</a></span></li><li><span><a href=\"#Extra-questions\" data-toc-modified-id=\"Extra-questions-8\"><span class=\"toc-item-num\">8&nbsp;&nbsp;</span>Extra questions</a></span></li></ul></div>"
   ]
  },
  {
   "cell_type": "markdown",
   "id": "together-terminology",
   "metadata": {},
   "source": [
    "## Import libraries"
   ]
  },
  {
   "cell_type": "code",
   "execution_count": 1,
   "id": "little-prophet",
   "metadata": {},
   "outputs": [],
   "source": [
    "from bs4 import BeautifulSoup\n",
    "import requests\n",
    "import pandas as pd"
   ]
  },
  {
   "cell_type": "markdown",
   "id": "political-wright",
   "metadata": {},
   "source": [
    "## Store the hot-100 songs list from billboard url in a variable"
   ]
  },
  {
   "cell_type": "code",
   "execution_count": 11,
   "id": "promotional-algorithm",
   "metadata": {},
   "outputs": [],
   "source": [
    "url_billboard = \"https://www.billboard.com/charts/hot-100\""
   ]
  },
  {
   "cell_type": "markdown",
   "id": "indian-fossil",
   "metadata": {},
   "source": [
    "## Download html with a get request"
   ]
  },
  {
   "cell_type": "code",
   "execution_count": 13,
   "id": "civic-broad",
   "metadata": {},
   "outputs": [
    {
     "data": {
      "text/plain": [
       "200"
      ]
     },
     "execution_count": 13,
     "metadata": {},
     "output_type": "execute_result"
    }
   ],
   "source": [
    "# 200 status code means OK!\n",
    "response = requests.get(url_billboard)\n",
    "response.status_code"
   ]
  },
  {
   "cell_type": "markdown",
   "id": "arbitrary-patrick",
   "metadata": {},
   "source": [
    "## Parse html (create the 'soup')"
   ]
  },
  {
   "cell_type": "code",
   "execution_count": 14,
   "id": "revised-digest",
   "metadata": {},
   "outputs": [],
   "source": [
    "soup = BeautifulSoup(response.content, \"html.parser\")"
   ]
  },
  {
   "cell_type": "markdown",
   "id": "damaged-watts",
   "metadata": {},
   "source": [
    "## Retrieve/extract the desired info"
   ]
  },
  {
   "cell_type": "code",
   "execution_count": 15,
   "id": "falling-chambers",
   "metadata": {},
   "outputs": [],
   "source": [
    "# song titles\n",
    "songs = soup.find_all(\"span\", class_=\"chart-element__information__song text--truncate color--primary\")\n",
    "# artists\n",
    "artists = soup.find_all(\"span\", class_=\"chart-element__information__artist text--truncate color--secondary\")\n",
    "# last week\n",
    "last_week_ranks = soup.find_all(\"span\", class_= \"chart-element__meta text--center color--secondary text--last\")\n",
    "# peak rank\n",
    "peak_ranks = soup.find_all(\"span\", class_= \"chart-element__meta text--center color--secondary text--peak\")\n",
    "# weeks on chart\n",
    "weeks_on_chart = soup.find_all(\"span\", class_= \"chart-element__meta text--center color--secondary text--week\")"
   ]
  },
  {
   "cell_type": "markdown",
   "id": "employed-chemistry",
   "metadata": {},
   "source": [
    "## Get the text"
   ]
  },
  {
   "cell_type": "code",
   "execution_count": 16,
   "id": "amateur-protocol",
   "metadata": {},
   "outputs": [],
   "source": [
    "for i in [songs, artists, last_week_ranks, peak_ranks, weeks_on_chart]:\n",
    "    for j in range(len(i)):\n",
    "        i[j] = i[j].getText()"
   ]
  },
  {
   "cell_type": "markdown",
   "id": "every-degree",
   "metadata": {},
   "source": [
    "## Build a dataframe"
   ]
  },
  {
   "cell_type": "code",
   "execution_count": 17,
   "id": "external-instrumentation",
   "metadata": {},
   "outputs": [],
   "source": [
    "billboard = pd.DataFrame(\n",
    "    {\"song\": songs,\n",
    "     \"artist\": artists,\n",
    "     \"last_week_rank\": last_week_ranks,\n",
    "     \"peak_rank\": peak_ranks,\n",
    "     \"weeks_on_chart\": weeks_on_chart}\n",
    ")"
   ]
  },
  {
   "cell_type": "code",
   "execution_count": 18,
   "id": "df4ba93b-4469-46b4-b10b-28f24fd48d21",
   "metadata": {},
   "outputs": [
    {
     "data": {
      "text/html": [
       "<div>\n",
       "<style scoped>\n",
       "    .dataframe tbody tr th:only-of-type {\n",
       "        vertical-align: middle;\n",
       "    }\n",
       "\n",
       "    .dataframe tbody tr th {\n",
       "        vertical-align: top;\n",
       "    }\n",
       "\n",
       "    .dataframe thead th {\n",
       "        text-align: right;\n",
       "    }\n",
       "</style>\n",
       "<table border=\"1\" class=\"dataframe\">\n",
       "  <thead>\n",
       "    <tr style=\"text-align: right;\">\n",
       "      <th></th>\n",
       "      <th>song</th>\n",
       "      <th>artist</th>\n",
       "      <th>last_week_rank</th>\n",
       "      <th>peak_rank</th>\n",
       "      <th>weeks_on_chart</th>\n",
       "    </tr>\n",
       "  </thead>\n",
       "  <tbody>\n",
       "    <tr>\n",
       "      <th>0</th>\n",
       "      <td>My Universe</td>\n",
       "      <td>Coldplay x BTS</td>\n",
       "      <td>-</td>\n",
       "      <td>1</td>\n",
       "      <td>1</td>\n",
       "    </tr>\n",
       "    <tr>\n",
       "      <th>1</th>\n",
       "      <td>Stay</td>\n",
       "      <td>The Kid LAROI &amp; Justin Bieber</td>\n",
       "      <td>1</td>\n",
       "      <td>1</td>\n",
       "      <td>12</td>\n",
       "    </tr>\n",
       "    <tr>\n",
       "      <th>2</th>\n",
       "      <td>Industry Baby</td>\n",
       "      <td>Lil Nas X &amp; Jack Harlow</td>\n",
       "      <td>2</td>\n",
       "      <td>2</td>\n",
       "      <td>10</td>\n",
       "    </tr>\n",
       "    <tr>\n",
       "      <th>3</th>\n",
       "      <td>Way 2 Sexy</td>\n",
       "      <td>Drake Featuring Future &amp; Young Thug</td>\n",
       "      <td>3</td>\n",
       "      <td>1</td>\n",
       "      <td>4</td>\n",
       "    </tr>\n",
       "    <tr>\n",
       "      <th>4</th>\n",
       "      <td>Fancy Like</td>\n",
       "      <td>Walker Hayes</td>\n",
       "      <td>5</td>\n",
       "      <td>5</td>\n",
       "      <td>15</td>\n",
       "    </tr>\n",
       "  </tbody>\n",
       "</table>\n",
       "</div>"
      ],
      "text/plain": [
       "            song                               artist last_week_rank  \\\n",
       "0    My Universe                       Coldplay x BTS              -   \n",
       "1           Stay        The Kid LAROI & Justin Bieber              1   \n",
       "2  Industry Baby              Lil Nas X & Jack Harlow              2   \n",
       "3     Way 2 Sexy  Drake Featuring Future & Young Thug              3   \n",
       "4     Fancy Like                         Walker Hayes              5   \n",
       "\n",
       "  peak_rank weeks_on_chart  \n",
       "0         1              1  \n",
       "1         1             12  \n",
       "2         2             10  \n",
       "3         1              4  \n",
       "4         5             15  "
      ]
     },
     "execution_count": 18,
     "metadata": {},
     "output_type": "execute_result"
    }
   ],
   "source": [
    "billboard.head()"
   ]
  },
  {
   "cell_type": "code",
   "execution_count": null,
   "id": "a5a981dd-828d-40cf-8b63-10e8ffb80e4e",
   "metadata": {},
   "outputs": [],
   "source": [
    "## Store the list of number-one hits (Germany) songs list from Wiki url in a variable"
   ]
  },
  {
   "cell_type": "code",
   "execution_count": 9,
   "id": "21362277-667e-4e8e-b7f5-658b54b2ff68",
   "metadata": {},
   "outputs": [],
   "source": [
    "url_wiki = \"https://en.wikipedia.org/wiki/List_of_number-one_hits_(Germany)\""
   ]
  },
  {
   "cell_type": "code",
   "execution_count": 10,
   "id": "eab9d30c-f6a7-49e8-986c-000f046f0381",
   "metadata": {},
   "outputs": [
    {
     "data": {
      "text/plain": [
       "200"
      ]
     },
     "execution_count": 10,
     "metadata": {},
     "output_type": "execute_result"
    }
   ],
   "source": [
    "response_wiki = requests.get(url_wiki)\n",
    "response_wiki.status_code"
   ]
  },
  {
   "cell_type": "code",
   "execution_count": 19,
   "id": "4659aeeb-aeb0-49c9-9b8e-8770034caa40",
   "metadata": {},
   "outputs": [],
   "source": [
    "soup_two = BeautifulSoup(response.content, \"html.parser\")"
   ]
  }
 ],
 "metadata": {
  "kernelspec": {
   "display_name": "Python 3",
   "language": "python",
   "name": "python3"
  },
  "language_info": {
   "codemirror_mode": {
    "name": "ipython",
    "version": 3
   },
   "file_extension": ".py",
   "mimetype": "text/x-python",
   "name": "python",
   "nbconvert_exporter": "python",
   "pygments_lexer": "ipython3",
   "version": "3.8.8"
  },
  "toc": {
   "base_numbering": 1,
   "nav_menu": {},
   "number_sections": true,
   "sideBar": true,
   "skip_h1_title": false,
   "title_cell": "Table of Contents",
   "title_sidebar": "Contents",
   "toc_cell": true,
   "toc_position": {},
   "toc_section_display": true,
   "toc_window_display": false
  },
  "varInspector": {
   "cols": {
    "lenName": 16,
    "lenType": 16,
    "lenVar": 40
   },
   "kernels_config": {
    "python": {
     "delete_cmd_postfix": "",
     "delete_cmd_prefix": "del ",
     "library": "var_list.py",
     "varRefreshCmd": "print(var_dic_list())"
    },
    "r": {
     "delete_cmd_postfix": ") ",
     "delete_cmd_prefix": "rm(",
     "library": "var_list.r",
     "varRefreshCmd": "cat(var_dic_list()) "
    }
   },
   "types_to_exclude": [
    "module",
    "function",
    "builtin_function_or_method",
    "instance",
    "_Feature"
   ],
   "window_display": false
  }
 },
 "nbformat": 4,
 "nbformat_minor": 5
}
